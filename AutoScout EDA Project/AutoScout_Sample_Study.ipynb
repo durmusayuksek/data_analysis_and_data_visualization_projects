{
 "cells": [
  {
   "cell_type": "markdown",
   "metadata": {},
   "source": [
    "___\n",
    "\n",
    "<p style=\"text-align: center;\"><img src=\"https://docs.google.com/uc?id=1lY0Uj5R04yMY3-ZppPWxqCr5pvBLYPnV\" class=\"img-fluid\" alt=\"CLRSWY\"></p>\n",
    "\n",
    "___"
   ]
  },
  {
   "cell_type": "markdown",
   "metadata": {},
   "source": [
    "# WELCOME!"
   ]
  },
  {
   "cell_type": "markdown",
   "metadata": {},
   "source": [
    "## Introduction\n",
    "Welcome to \"***AutoScout Data Analysis Project***\". This is the capstone project of ***Data Analysis*** Module. **Auto Scout** data which is used for this project, scraped from the on-line car trading company in 2019, contains many features of 9 different car models. In this project, you will have the opportunity to apply many commonly used algorithms for Data Cleaning and Exploratory Data Analysis by using several Python libraries such as Numpy, Pandas, Matplotlib, Seaborn, and Scipy. You will first clean and analyze the dataset.\n",
    "\n",
    "The project consists of 3 parts:\n",
    "* First part is related with 'data cleaning'. It deals with Incorrect Headers, Incorrect Format, Anomalies, Dropping useless columns.\n",
    "* Second part is related with 'filling data'. It deals with Missing Values. Categorical to numeric transformation is done.\n",
    "* Third part is related with 'handling outliers of data' via Visualisation libraries. Some insights are extracted."
   ]
  },
  {
   "cell_type": "markdown",
   "metadata": {},
   "source": [
    "# PART- 1 `( Data Cleaning )`"
   ]
  },
  {
   "cell_type": "code",
   "execution_count": 1,
   "metadata": {},
   "outputs": [],
   "source": [
    "# importing the relevant python libraries\n",
    "import numpy as np\n",
    "import pandas as pd\n",
    "import matplotlib.pyplot as plt\n",
    "import seaborn as sns\n",
    "import re\n",
    "from scipy import stats\n",
    "from scipy.stats.mstats import winsorize\n",
    "\n",
    "import warnings\n",
    "warnings.filterwarnings('ignore')\n",
    "\n",
    "%matplotlib inline\n",
    "\n",
    "pd.set_option('display.max_rows', 100)\n",
    "pd.set_option('display.max_columns', 100)\n",
    "# pd.set_option('display.width', 1000)"
   ]
  },
  {
   "cell_type": "code",
   "execution_count": 2,
   "metadata": {},
   "outputs": [],
   "source": [
    "df = pd.read_json('scout_car.json', lines=True)"
   ]
  },
  {
   "cell_type": "code",
   "execution_count": 3,
   "metadata": {},
   "outputs": [
    {
     "data": {
      "text/html": [
       "<div>\n",
       "<style scoped>\n",
       "    .dataframe tbody tr th:only-of-type {\n",
       "        vertical-align: middle;\n",
       "    }\n",
       "\n",
       "    .dataframe tbody tr th {\n",
       "        vertical-align: top;\n",
       "    }\n",
       "\n",
       "    .dataframe thead th {\n",
       "        text-align: right;\n",
       "    }\n",
       "</style>\n",
       "<table border=\"1\" class=\"dataframe\">\n",
       "  <thead>\n",
       "    <tr style=\"text-align: right;\">\n",
       "      <th></th>\n",
       "      <th>0</th>\n",
       "      <th>1</th>\n",
       "      <th>2</th>\n",
       "      <th>3</th>\n",
       "      <th>4</th>\n",
       "    </tr>\n",
       "  </thead>\n",
       "  <tbody>\n",
       "    <tr>\n",
       "      <th>url</th>\n",
       "      <td>https://www.autoscout24.com//offers/audi-a1-sp...</td>\n",
       "      <td>https://www.autoscout24.com//offers/audi-a1-1-...</td>\n",
       "      <td>https://www.autoscout24.com//offers/audi-a1-sp...</td>\n",
       "      <td>https://www.autoscout24.com//offers/audi-a1-1-...</td>\n",
       "      <td>https://www.autoscout24.com//offers/audi-a1-sp...</td>\n",
       "    </tr>\n",
       "    <tr>\n",
       "      <th>make_model</th>\n",
       "      <td>Audi A1</td>\n",
       "      <td>Audi A1</td>\n",
       "      <td>Audi A1</td>\n",
       "      <td>Audi A1</td>\n",
       "      <td>Audi A1</td>\n",
       "    </tr>\n",
       "    <tr>\n",
       "      <th>short_description</th>\n",
       "      <td>Sportback 1.4 TDI S-tronic Xenon Navi Klima</td>\n",
       "      <td>1.8 TFSI sport</td>\n",
       "      <td>Sportback 1.6 TDI S tronic Einparkhilfe plus+m...</td>\n",
       "      <td>1.4 TDi Design S tronic</td>\n",
       "      <td>Sportback 1.4 TDI S-Tronic S-Line Ext. admired...</td>\n",
       "    </tr>\n",
       "    <tr>\n",
       "      <th>body_type</th>\n",
       "      <td>Sedans</td>\n",
       "      <td>Sedans</td>\n",
       "      <td>Sedans</td>\n",
       "      <td>Sedans</td>\n",
       "      <td>Sedans</td>\n",
       "    </tr>\n",
       "    <tr>\n",
       "      <th>price</th>\n",
       "      <td>15770</td>\n",
       "      <td>14500</td>\n",
       "      <td>14640</td>\n",
       "      <td>14500</td>\n",
       "      <td>16790</td>\n",
       "    </tr>\n",
       "    <tr>\n",
       "      <th>vat</th>\n",
       "      <td>VAT deductible</td>\n",
       "      <td>Price negotiable</td>\n",
       "      <td>VAT deductible</td>\n",
       "      <td>None</td>\n",
       "      <td>None</td>\n",
       "    </tr>\n",
       "    <tr>\n",
       "      <th>km</th>\n",
       "      <td>56,013 km</td>\n",
       "      <td>80,000 km</td>\n",
       "      <td>83,450 km</td>\n",
       "      <td>73,000 km</td>\n",
       "      <td>16,200 km</td>\n",
       "    </tr>\n",
       "    <tr>\n",
       "      <th>registration</th>\n",
       "      <td>01/2016</td>\n",
       "      <td>03/2017</td>\n",
       "      <td>02/2016</td>\n",
       "      <td>08/2016</td>\n",
       "      <td>05/2016</td>\n",
       "    </tr>\n",
       "    <tr>\n",
       "      <th>prev_owner</th>\n",
       "      <td>2 previous owners</td>\n",
       "      <td>None</td>\n",
       "      <td>1 previous owner</td>\n",
       "      <td>1 previous owner</td>\n",
       "      <td>1 previous owner</td>\n",
       "    </tr>\n",
       "    <tr>\n",
       "      <th>kW</th>\n",
       "      <td>NaN</td>\n",
       "      <td>NaN</td>\n",
       "      <td>NaN</td>\n",
       "      <td>NaN</td>\n",
       "      <td>NaN</td>\n",
       "    </tr>\n",
       "    <tr>\n",
       "      <th>hp</th>\n",
       "      <td>66 kW</td>\n",
       "      <td>141 kW</td>\n",
       "      <td>85 kW</td>\n",
       "      <td>66 kW</td>\n",
       "      <td>66 kW</td>\n",
       "    </tr>\n",
       "    <tr>\n",
       "      <th>Type</th>\n",
       "      <td>[, Used, , Diesel (Particulate Filter)]</td>\n",
       "      <td>[, Used, , Gasoline]</td>\n",
       "      <td>[, Used, , Diesel (Particulate Filter)]</td>\n",
       "      <td>[, Used, , Diesel (Particulate Filter)]</td>\n",
       "      <td>[, Used, , Diesel (Particulate Filter)]</td>\n",
       "    </tr>\n",
       "    <tr>\n",
       "      <th>Previous Owners</th>\n",
       "      <td>\\n2\\n</td>\n",
       "      <td>NaN</td>\n",
       "      <td>\\n1\\n</td>\n",
       "      <td>\\n1\\n</td>\n",
       "      <td>\\n1\\n</td>\n",
       "    </tr>\n",
       "    <tr>\n",
       "      <th>Next Inspection</th>\n",
       "      <td>[\\n06/2021\\n, \\n99 g CO2/km (comb)\\n]</td>\n",
       "      <td>NaN</td>\n",
       "      <td>NaN</td>\n",
       "      <td>NaN</td>\n",
       "      <td>NaN</td>\n",
       "    </tr>\n",
       "    <tr>\n",
       "      <th>Inspection new</th>\n",
       "      <td>[\\nYes\\n, \\nEuro 6\\n]</td>\n",
       "      <td>NaN</td>\n",
       "      <td>NaN</td>\n",
       "      <td>NaN</td>\n",
       "      <td>[\\nYes\\n, \\n109 g CO2/km (comb)\\n]</td>\n",
       "    </tr>\n",
       "    <tr>\n",
       "      <th>Warranty</th>\n",
       "      <td>[\\n, \\n, \\n4 (Green)\\n]</td>\n",
       "      <td>NaN</td>\n",
       "      <td>[\\n, \\n, \\n99 g CO2/km (comb)\\n]</td>\n",
       "      <td>NaN</td>\n",
       "      <td>[\\n, \\n, \\nEuro 6\\n]</td>\n",
       "    </tr>\n",
       "    <tr>\n",
       "      <th>Full Service</th>\n",
       "      <td>[\\n, \\n]</td>\n",
       "      <td>NaN</td>\n",
       "      <td>NaN</td>\n",
       "      <td>[\\n, \\n, \\n99 g CO2/km (comb)\\n]</td>\n",
       "      <td>[\\n, \\n, \\n4 (Green)\\n]</td>\n",
       "    </tr>\n",
       "    <tr>\n",
       "      <th>Non-smoking Vehicle</th>\n",
       "      <td>[\\n, \\n]</td>\n",
       "      <td>NaN</td>\n",
       "      <td>NaN</td>\n",
       "      <td>[\\n, \\n, \\nEuro 6\\n]</td>\n",
       "      <td>[\\n, \\n]</td>\n",
       "    </tr>\n",
       "    <tr>\n",
       "      <th>null</th>\n",
       "      <td>[]</td>\n",
       "      <td>[]</td>\n",
       "      <td>[]</td>\n",
       "      <td>[]</td>\n",
       "      <td>[]</td>\n",
       "    </tr>\n",
       "    <tr>\n",
       "      <th>Make</th>\n",
       "      <td>\\nAudi\\n</td>\n",
       "      <td>\\nAudi\\n</td>\n",
       "      <td>\\nAudi\\n</td>\n",
       "      <td>\\nAudi\\n</td>\n",
       "      <td>\\nAudi\\n</td>\n",
       "    </tr>\n",
       "    <tr>\n",
       "      <th>Model</th>\n",
       "      <td>[\\n, A1, \\n]</td>\n",
       "      <td>[\\n, A1, \\n]</td>\n",
       "      <td>[\\n, A1, \\n]</td>\n",
       "      <td>[\\n, A1, \\n]</td>\n",
       "      <td>[\\n, A1, \\n]</td>\n",
       "    </tr>\n",
       "    <tr>\n",
       "      <th>Offer Number</th>\n",
       "      <td>[\\nLR-062483\\n]</td>\n",
       "      <td>NaN</td>\n",
       "      <td>[\\nAM-95365\\n]</td>\n",
       "      <td>NaN</td>\n",
       "      <td>[\\nC1626\\n]</td>\n",
       "    </tr>\n",
       "    <tr>\n",
       "      <th>First Registration</th>\n",
       "      <td>[\\n, 2016, \\n]</td>\n",
       "      <td>[\\n, 2017, \\n]</td>\n",
       "      <td>[\\n, 2016, \\n]</td>\n",
       "      <td>[\\n, 2016, \\n]</td>\n",
       "      <td>[\\n, 2016, \\n]</td>\n",
       "    </tr>\n",
       "    <tr>\n",
       "      <th>Body Color</th>\n",
       "      <td>[\\n, Black, \\n]</td>\n",
       "      <td>[\\n, Red, \\n]</td>\n",
       "      <td>[\\n, Black, \\n]</td>\n",
       "      <td>[\\n, Brown, \\n]</td>\n",
       "      <td>[\\n, Black, \\n]</td>\n",
       "    </tr>\n",
       "    <tr>\n",
       "      <th>Paint Type</th>\n",
       "      <td>[\\nMetallic\\n]</td>\n",
       "      <td>NaN</td>\n",
       "      <td>[\\nMetallic\\n]</td>\n",
       "      <td>[\\nMetallic\\n]</td>\n",
       "      <td>[\\nMetallic\\n]</td>\n",
       "    </tr>\n",
       "    <tr>\n",
       "      <th>Body Color Original</th>\n",
       "      <td>[\\nMythosschwarz\\n]</td>\n",
       "      <td>NaN</td>\n",
       "      <td>[\\nmythosschwarz metallic\\n]</td>\n",
       "      <td>NaN</td>\n",
       "      <td>[\\nMythosschwarz Metallic\\n]</td>\n",
       "    </tr>\n",
       "    <tr>\n",
       "      <th>Upholstery</th>\n",
       "      <td>[\\nCloth, Black\\n]</td>\n",
       "      <td>[\\nCloth, Grey\\n]</td>\n",
       "      <td>[\\nCloth, Black\\n]</td>\n",
       "      <td>NaN</td>\n",
       "      <td>[\\nCloth, Black\\n]</td>\n",
       "    </tr>\n",
       "    <tr>\n",
       "      <th>Body</th>\n",
       "      <td>[\\n, Sedans, \\n]</td>\n",
       "      <td>[\\n, Sedans, \\n]</td>\n",
       "      <td>[\\n, Sedans, \\n]</td>\n",
       "      <td>[\\n, Sedans, \\n]</td>\n",
       "      <td>[\\n, Sedans, \\n]</td>\n",
       "    </tr>\n",
       "    <tr>\n",
       "      <th>Nr. of Doors</th>\n",
       "      <td>[\\n5\\n]</td>\n",
       "      <td>[\\n3\\n]</td>\n",
       "      <td>[\\n4\\n]</td>\n",
       "      <td>[\\n3\\n]</td>\n",
       "      <td>[\\n5\\n]</td>\n",
       "    </tr>\n",
       "    <tr>\n",
       "      <th>Nr. of Seats</th>\n",
       "      <td>[\\n5\\n]</td>\n",
       "      <td>[\\n4\\n]</td>\n",
       "      <td>[\\n4\\n]</td>\n",
       "      <td>[\\n4\\n]</td>\n",
       "      <td>[\\n5\\n]</td>\n",
       "    </tr>\n",
       "    <tr>\n",
       "      <th>Model Code</th>\n",
       "      <td>[\\n0588/BDF\\n]</td>\n",
       "      <td>[\\n0588/BCY\\n]</td>\n",
       "      <td>NaN</td>\n",
       "      <td>NaN</td>\n",
       "      <td>[\\n0588/BDF\\n]</td>\n",
       "    </tr>\n",
       "    <tr>\n",
       "      <th>Gearing Type</th>\n",
       "      <td>[\\n, Automatic, \\n]</td>\n",
       "      <td>[\\n, Automatic, \\n]</td>\n",
       "      <td>[\\n, Automatic, \\n]</td>\n",
       "      <td>[\\n, Automatic, \\n]</td>\n",
       "      <td>[\\n, Automatic, \\n]</td>\n",
       "    </tr>\n",
       "    <tr>\n",
       "      <th>Displacement</th>\n",
       "      <td>[\\n1,422 cc\\n]</td>\n",
       "      <td>[\\n1,798 cc\\n]</td>\n",
       "      <td>[\\n1,598 cc\\n]</td>\n",
       "      <td>[\\n1,422 cc\\n]</td>\n",
       "      <td>[\\n1,422 cc\\n]</td>\n",
       "    </tr>\n",
       "    <tr>\n",
       "      <th>Cylinders</th>\n",
       "      <td>[\\n3\\n]</td>\n",
       "      <td>[\\n4\\n]</td>\n",
       "      <td>NaN</td>\n",
       "      <td>[\\n3\\n]</td>\n",
       "      <td>[\\n3\\n]</td>\n",
       "    </tr>\n",
       "    <tr>\n",
       "      <th>Weight</th>\n",
       "      <td>[\\n1,220 kg\\n]</td>\n",
       "      <td>[\\n1,255 kg\\n]</td>\n",
       "      <td>NaN</td>\n",
       "      <td>[\\n1,195 kg\\n]</td>\n",
       "      <td>NaN</td>\n",
       "    </tr>\n",
       "    <tr>\n",
       "      <th>Drive chain</th>\n",
       "      <td>[\\nfront\\n]</td>\n",
       "      <td>[\\nfront\\n]</td>\n",
       "      <td>[\\nfront\\n]</td>\n",
       "      <td>NaN</td>\n",
       "      <td>[\\nfront\\n]</td>\n",
       "    </tr>\n",
       "    <tr>\n",
       "      <th>Fuel</th>\n",
       "      <td>[\\n, Diesel (Particulate Filter), \\n]</td>\n",
       "      <td>[\\n, Gasoline, \\n]</td>\n",
       "      <td>[\\n, Diesel (Particulate Filter), \\n]</td>\n",
       "      <td>[\\n, Diesel (Particulate Filter), \\n]</td>\n",
       "      <td>[\\n, Diesel (Particulate Filter), \\n]</td>\n",
       "    </tr>\n",
       "    <tr>\n",
       "      <th>Consumption</th>\n",
       "      <td>[[3.8 l/100 km (comb)], [4.3 l/100 km (city)],...</td>\n",
       "      <td>[[5.6 l/100 km (comb)], [7.1 l/100 km (city)],...</td>\n",
       "      <td>[[3.8 l/100 km (comb)], [4.4 l/100 km (city)],...</td>\n",
       "      <td>[[3.8 l/100 km (comb)], [4.3 l/100 km (city)],...</td>\n",
       "      <td>[[4.1 l/100 km (comb)], [4.6 l/100 km (city)],...</td>\n",
       "    </tr>\n",
       "    <tr>\n",
       "      <th>CO2 Emission</th>\n",
       "      <td>[\\n99 g CO2/km (comb)\\n]</td>\n",
       "      <td>[\\n129 g CO2/km (comb)\\n]</td>\n",
       "      <td>[\\n99 g CO2/km (comb)\\n]</td>\n",
       "      <td>[\\n99 g CO2/km (comb)\\n]</td>\n",
       "      <td>[\\n109 g CO2/km (comb)\\n]</td>\n",
       "    </tr>\n",
       "    <tr>\n",
       "      <th>Emission Class</th>\n",
       "      <td>[\\nEuro 6\\n]</td>\n",
       "      <td>[\\nEuro 6\\n]</td>\n",
       "      <td>[\\nEuro 6\\n]</td>\n",
       "      <td>[\\nEuro 6\\n]</td>\n",
       "      <td>[\\nEuro 6\\n]</td>\n",
       "    </tr>\n",
       "    <tr>\n",
       "      <th>\\nComfort &amp; Convenience\\n</th>\n",
       "      <td>[Air conditioning, Armrest, Automatic climate ...</td>\n",
       "      <td>[Air conditioning, Automatic climate control, ...</td>\n",
       "      <td>[Air conditioning, Cruise control, Electrical ...</td>\n",
       "      <td>[Air suspension, Armrest, Auxiliary heating, E...</td>\n",
       "      <td>[Air conditioning, Armrest, Automatic climate ...</td>\n",
       "    </tr>\n",
       "    <tr>\n",
       "      <th>\\nEntertainment &amp; Media\\n</th>\n",
       "      <td>[Bluetooth, Hands-free equipment, On-board com...</td>\n",
       "      <td>[Bluetooth, Hands-free equipment, On-board com...</td>\n",
       "      <td>[MP3, On-board computer]</td>\n",
       "      <td>[Bluetooth, CD player, Hands-free equipment, M...</td>\n",
       "      <td>[Bluetooth, CD player, Hands-free equipment, M...</td>\n",
       "    </tr>\n",
       "    <tr>\n",
       "      <th>\\nExtras\\n</th>\n",
       "      <td>[Alloy wheels, Catalytic Converter, Voice Cont...</td>\n",
       "      <td>[Alloy wheels, Sport seats, Sport suspension, ...</td>\n",
       "      <td>[Alloy wheels, Voice Control]</td>\n",
       "      <td>[Alloy wheels, Sport seats, Voice Control]</td>\n",
       "      <td>[Alloy wheels, Sport package, Sport suspension...</td>\n",
       "    </tr>\n",
       "    <tr>\n",
       "      <th>\\nSafety &amp; Security\\n</th>\n",
       "      <td>[ABS, Central door lock, Daytime running light...</td>\n",
       "      <td>[ABS, Central door lock, Central door lock wit...</td>\n",
       "      <td>[ABS, Central door lock, Daytime running light...</td>\n",
       "      <td>[ABS, Alarm system, Central door lock with rem...</td>\n",
       "      <td>[ABS, Central door lock, Driver-side airbag, E...</td>\n",
       "    </tr>\n",
       "    <tr>\n",
       "      <th>description</th>\n",
       "      <td>[\\n, Sicherheit:,  , Deaktivierung für Beifahr...</td>\n",
       "      <td>[\\nLangstreckenfahrzeug daher die hohe Kilomet...</td>\n",
       "      <td>[\\n, Fahrzeug-Nummer: AM-95365,  , Ehem. UPE 2...</td>\n",
       "      <td>[\\nAudi A1: , - 1e eigenaar , - Perfecte staat...</td>\n",
       "      <td>[\\n, Technik &amp; Sicherheit:, Xenon plus, Klimaa...</td>\n",
       "    </tr>\n",
       "    <tr>\n",
       "      <th>Emission Label</th>\n",
       "      <td>NaN</td>\n",
       "      <td>[\\n4 (Green)\\n]</td>\n",
       "      <td>[\\n4 (Green)\\n]</td>\n",
       "      <td>NaN</td>\n",
       "      <td>NaN</td>\n",
       "    </tr>\n",
       "    <tr>\n",
       "      <th>Gears</th>\n",
       "      <td>NaN</td>\n",
       "      <td>[\\n7\\n]</td>\n",
       "      <td>NaN</td>\n",
       "      <td>[\\n6\\n]</td>\n",
       "      <td>NaN</td>\n",
       "    </tr>\n",
       "    <tr>\n",
       "      <th>Country version</th>\n",
       "      <td>NaN</td>\n",
       "      <td>NaN</td>\n",
       "      <td>NaN</td>\n",
       "      <td>NaN</td>\n",
       "      <td>[\\nGermany\\n]</td>\n",
       "    </tr>\n",
       "    <tr>\n",
       "      <th>Electricity consumption</th>\n",
       "      <td>NaN</td>\n",
       "      <td>NaN</td>\n",
       "      <td>NaN</td>\n",
       "      <td>NaN</td>\n",
       "      <td>NaN</td>\n",
       "    </tr>\n",
       "    <tr>\n",
       "      <th>Last Service Date</th>\n",
       "      <td>NaN</td>\n",
       "      <td>NaN</td>\n",
       "      <td>NaN</td>\n",
       "      <td>NaN</td>\n",
       "      <td>NaN</td>\n",
       "    </tr>\n",
       "    <tr>\n",
       "      <th>Other Fuel Types</th>\n",
       "      <td>NaN</td>\n",
       "      <td>NaN</td>\n",
       "      <td>NaN</td>\n",
       "      <td>NaN</td>\n",
       "      <td>NaN</td>\n",
       "    </tr>\n",
       "    <tr>\n",
       "      <th>Availability</th>\n",
       "      <td>NaN</td>\n",
       "      <td>NaN</td>\n",
       "      <td>NaN</td>\n",
       "      <td>NaN</td>\n",
       "      <td>NaN</td>\n",
       "    </tr>\n",
       "    <tr>\n",
       "      <th>Last Timing Belt Service Date</th>\n",
       "      <td>NaN</td>\n",
       "      <td>NaN</td>\n",
       "      <td>NaN</td>\n",
       "      <td>NaN</td>\n",
       "      <td>NaN</td>\n",
       "    </tr>\n",
       "    <tr>\n",
       "      <th>Available from</th>\n",
       "      <td>NaN</td>\n",
       "      <td>NaN</td>\n",
       "      <td>NaN</td>\n",
       "      <td>NaN</td>\n",
       "      <td>NaN</td>\n",
       "    </tr>\n",
       "  </tbody>\n",
       "</table>\n",
       "</div>"
      ],
      "text/plain": [
       "                                                                               0  \\\n",
       "url                            https://www.autoscout24.com//offers/audi-a1-sp...   \n",
       "make_model                                                               Audi A1   \n",
       "short_description                    Sportback 1.4 TDI S-tronic Xenon Navi Klima   \n",
       "body_type                                                                 Sedans   \n",
       "price                                                                      15770   \n",
       "vat                                                               VAT deductible   \n",
       "km                                                                     56,013 km   \n",
       "registration                                                             01/2016   \n",
       "prev_owner                                                     2 previous owners   \n",
       "kW                                                                           NaN   \n",
       "hp                                                                         66 kW   \n",
       "Type                                     [, Used, , Diesel (Particulate Filter)]   \n",
       "Previous Owners                                                            \\n2\\n   \n",
       "Next Inspection                            [\\n06/2021\\n, \\n99 g CO2/km (comb)\\n]   \n",
       "Inspection new                                             [\\nYes\\n, \\nEuro 6\\n]   \n",
       "Warranty                                                 [\\n, \\n, \\n4 (Green)\\n]   \n",
       "Full Service                                                            [\\n, \\n]   \n",
       "Non-smoking Vehicle                                                     [\\n, \\n]   \n",
       "null                                                                          []   \n",
       "Make                                                                    \\nAudi\\n   \n",
       "Model                                                               [\\n, A1, \\n]   \n",
       "Offer Number                                                     [\\nLR-062483\\n]   \n",
       "First Registration                                                [\\n, 2016, \\n]   \n",
       "Body Color                                                       [\\n, Black, \\n]   \n",
       "Paint Type                                                        [\\nMetallic\\n]   \n",
       "Body Color Original                                          [\\nMythosschwarz\\n]   \n",
       "Upholstery                                                    [\\nCloth, Black\\n]   \n",
       "Body                                                            [\\n, Sedans, \\n]   \n",
       "Nr. of Doors                                                             [\\n5\\n]   \n",
       "Nr. of Seats                                                             [\\n5\\n]   \n",
       "Model Code                                                        [\\n0588/BDF\\n]   \n",
       "Gearing Type                                                 [\\n, Automatic, \\n]   \n",
       "Displacement                                                      [\\n1,422 cc\\n]   \n",
       "Cylinders                                                                [\\n3\\n]   \n",
       "Weight                                                            [\\n1,220 kg\\n]   \n",
       "Drive chain                                                          [\\nfront\\n]   \n",
       "Fuel                                       [\\n, Diesel (Particulate Filter), \\n]   \n",
       "Consumption                    [[3.8 l/100 km (comb)], [4.3 l/100 km (city)],...   \n",
       "CO2 Emission                                            [\\n99 g CO2/km (comb)\\n]   \n",
       "Emission Class                                                      [\\nEuro 6\\n]   \n",
       "\\nComfort & Convenience\\n      [Air conditioning, Armrest, Automatic climate ...   \n",
       "\\nEntertainment & Media\\n      [Bluetooth, Hands-free equipment, On-board com...   \n",
       "\\nExtras\\n                     [Alloy wheels, Catalytic Converter, Voice Cont...   \n",
       "\\nSafety & Security\\n          [ABS, Central door lock, Daytime running light...   \n",
       "description                    [\\n, Sicherheit:,  , Deaktivierung für Beifahr...   \n",
       "Emission Label                                                               NaN   \n",
       "Gears                                                                        NaN   \n",
       "Country version                                                              NaN   \n",
       "Electricity consumption                                                      NaN   \n",
       "Last Service Date                                                            NaN   \n",
       "Other Fuel Types                                                             NaN   \n",
       "Availability                                                                 NaN   \n",
       "Last Timing Belt Service Date                                                NaN   \n",
       "Available from                                                               NaN   \n",
       "\n",
       "                                                                               1  \\\n",
       "url                            https://www.autoscout24.com//offers/audi-a1-1-...   \n",
       "make_model                                                               Audi A1   \n",
       "short_description                                                 1.8 TFSI sport   \n",
       "body_type                                                                 Sedans   \n",
       "price                                                                      14500   \n",
       "vat                                                             Price negotiable   \n",
       "km                                                                     80,000 km   \n",
       "registration                                                             03/2017   \n",
       "prev_owner                                                                  None   \n",
       "kW                                                                           NaN   \n",
       "hp                                                                        141 kW   \n",
       "Type                                                        [, Used, , Gasoline]   \n",
       "Previous Owners                                                              NaN   \n",
       "Next Inspection                                                              NaN   \n",
       "Inspection new                                                               NaN   \n",
       "Warranty                                                                     NaN   \n",
       "Full Service                                                                 NaN   \n",
       "Non-smoking Vehicle                                                          NaN   \n",
       "null                                                                          []   \n",
       "Make                                                                    \\nAudi\\n   \n",
       "Model                                                               [\\n, A1, \\n]   \n",
       "Offer Number                                                                 NaN   \n",
       "First Registration                                                [\\n, 2017, \\n]   \n",
       "Body Color                                                         [\\n, Red, \\n]   \n",
       "Paint Type                                                                   NaN   \n",
       "Body Color Original                                                          NaN   \n",
       "Upholstery                                                     [\\nCloth, Grey\\n]   \n",
       "Body                                                            [\\n, Sedans, \\n]   \n",
       "Nr. of Doors                                                             [\\n3\\n]   \n",
       "Nr. of Seats                                                             [\\n4\\n]   \n",
       "Model Code                                                        [\\n0588/BCY\\n]   \n",
       "Gearing Type                                                 [\\n, Automatic, \\n]   \n",
       "Displacement                                                      [\\n1,798 cc\\n]   \n",
       "Cylinders                                                                [\\n4\\n]   \n",
       "Weight                                                            [\\n1,255 kg\\n]   \n",
       "Drive chain                                                          [\\nfront\\n]   \n",
       "Fuel                                                          [\\n, Gasoline, \\n]   \n",
       "Consumption                    [[5.6 l/100 km (comb)], [7.1 l/100 km (city)],...   \n",
       "CO2 Emission                                           [\\n129 g CO2/km (comb)\\n]   \n",
       "Emission Class                                                      [\\nEuro 6\\n]   \n",
       "\\nComfort & Convenience\\n      [Air conditioning, Automatic climate control, ...   \n",
       "\\nEntertainment & Media\\n      [Bluetooth, Hands-free equipment, On-board com...   \n",
       "\\nExtras\\n                     [Alloy wheels, Sport seats, Sport suspension, ...   \n",
       "\\nSafety & Security\\n          [ABS, Central door lock, Central door lock wit...   \n",
       "description                    [\\nLangstreckenfahrzeug daher die hohe Kilomet...   \n",
       "Emission Label                                                   [\\n4 (Green)\\n]   \n",
       "Gears                                                                    [\\n7\\n]   \n",
       "Country version                                                              NaN   \n",
       "Electricity consumption                                                      NaN   \n",
       "Last Service Date                                                            NaN   \n",
       "Other Fuel Types                                                             NaN   \n",
       "Availability                                                                 NaN   \n",
       "Last Timing Belt Service Date                                                NaN   \n",
       "Available from                                                               NaN   \n",
       "\n",
       "                                                                               2  \\\n",
       "url                            https://www.autoscout24.com//offers/audi-a1-sp...   \n",
       "make_model                                                               Audi A1   \n",
       "short_description              Sportback 1.6 TDI S tronic Einparkhilfe plus+m...   \n",
       "body_type                                                                 Sedans   \n",
       "price                                                                      14640   \n",
       "vat                                                               VAT deductible   \n",
       "km                                                                     83,450 km   \n",
       "registration                                                             02/2016   \n",
       "prev_owner                                                      1 previous owner   \n",
       "kW                                                                           NaN   \n",
       "hp                                                                         85 kW   \n",
       "Type                                     [, Used, , Diesel (Particulate Filter)]   \n",
       "Previous Owners                                                            \\n1\\n   \n",
       "Next Inspection                                                              NaN   \n",
       "Inspection new                                                               NaN   \n",
       "Warranty                                        [\\n, \\n, \\n99 g CO2/km (comb)\\n]   \n",
       "Full Service                                                                 NaN   \n",
       "Non-smoking Vehicle                                                          NaN   \n",
       "null                                                                          []   \n",
       "Make                                                                    \\nAudi\\n   \n",
       "Model                                                               [\\n, A1, \\n]   \n",
       "Offer Number                                                      [\\nAM-95365\\n]   \n",
       "First Registration                                                [\\n, 2016, \\n]   \n",
       "Body Color                                                       [\\n, Black, \\n]   \n",
       "Paint Type                                                        [\\nMetallic\\n]   \n",
       "Body Color Original                                 [\\nmythosschwarz metallic\\n]   \n",
       "Upholstery                                                    [\\nCloth, Black\\n]   \n",
       "Body                                                            [\\n, Sedans, \\n]   \n",
       "Nr. of Doors                                                             [\\n4\\n]   \n",
       "Nr. of Seats                                                             [\\n4\\n]   \n",
       "Model Code                                                                   NaN   \n",
       "Gearing Type                                                 [\\n, Automatic, \\n]   \n",
       "Displacement                                                      [\\n1,598 cc\\n]   \n",
       "Cylinders                                                                    NaN   \n",
       "Weight                                                                       NaN   \n",
       "Drive chain                                                          [\\nfront\\n]   \n",
       "Fuel                                       [\\n, Diesel (Particulate Filter), \\n]   \n",
       "Consumption                    [[3.8 l/100 km (comb)], [4.4 l/100 km (city)],...   \n",
       "CO2 Emission                                            [\\n99 g CO2/km (comb)\\n]   \n",
       "Emission Class                                                      [\\nEuro 6\\n]   \n",
       "\\nComfort & Convenience\\n      [Air conditioning, Cruise control, Electrical ...   \n",
       "\\nEntertainment & Media\\n                               [MP3, On-board computer]   \n",
       "\\nExtras\\n                                         [Alloy wheels, Voice Control]   \n",
       "\\nSafety & Security\\n          [ABS, Central door lock, Daytime running light...   \n",
       "description                    [\\n, Fahrzeug-Nummer: AM-95365,  , Ehem. UPE 2...   \n",
       "Emission Label                                                   [\\n4 (Green)\\n]   \n",
       "Gears                                                                        NaN   \n",
       "Country version                                                              NaN   \n",
       "Electricity consumption                                                      NaN   \n",
       "Last Service Date                                                            NaN   \n",
       "Other Fuel Types                                                             NaN   \n",
       "Availability                                                                 NaN   \n",
       "Last Timing Belt Service Date                                                NaN   \n",
       "Available from                                                               NaN   \n",
       "\n",
       "                                                                               3  \\\n",
       "url                            https://www.autoscout24.com//offers/audi-a1-1-...   \n",
       "make_model                                                               Audi A1   \n",
       "short_description                                        1.4 TDi Design S tronic   \n",
       "body_type                                                                 Sedans   \n",
       "price                                                                      14500   \n",
       "vat                                                                         None   \n",
       "km                                                                     73,000 km   \n",
       "registration                                                             08/2016   \n",
       "prev_owner                                                      1 previous owner   \n",
       "kW                                                                           NaN   \n",
       "hp                                                                         66 kW   \n",
       "Type                                     [, Used, , Diesel (Particulate Filter)]   \n",
       "Previous Owners                                                            \\n1\\n   \n",
       "Next Inspection                                                              NaN   \n",
       "Inspection new                                                               NaN   \n",
       "Warranty                                                                     NaN   \n",
       "Full Service                                    [\\n, \\n, \\n99 g CO2/km (comb)\\n]   \n",
       "Non-smoking Vehicle                                         [\\n, \\n, \\nEuro 6\\n]   \n",
       "null                                                                          []   \n",
       "Make                                                                    \\nAudi\\n   \n",
       "Model                                                               [\\n, A1, \\n]   \n",
       "Offer Number                                                                 NaN   \n",
       "First Registration                                                [\\n, 2016, \\n]   \n",
       "Body Color                                                       [\\n, Brown, \\n]   \n",
       "Paint Type                                                        [\\nMetallic\\n]   \n",
       "Body Color Original                                                          NaN   \n",
       "Upholstery                                                                   NaN   \n",
       "Body                                                            [\\n, Sedans, \\n]   \n",
       "Nr. of Doors                                                             [\\n3\\n]   \n",
       "Nr. of Seats                                                             [\\n4\\n]   \n",
       "Model Code                                                                   NaN   \n",
       "Gearing Type                                                 [\\n, Automatic, \\n]   \n",
       "Displacement                                                      [\\n1,422 cc\\n]   \n",
       "Cylinders                                                                [\\n3\\n]   \n",
       "Weight                                                            [\\n1,195 kg\\n]   \n",
       "Drive chain                                                                  NaN   \n",
       "Fuel                                       [\\n, Diesel (Particulate Filter), \\n]   \n",
       "Consumption                    [[3.8 l/100 km (comb)], [4.3 l/100 km (city)],...   \n",
       "CO2 Emission                                            [\\n99 g CO2/km (comb)\\n]   \n",
       "Emission Class                                                      [\\nEuro 6\\n]   \n",
       "\\nComfort & Convenience\\n      [Air suspension, Armrest, Auxiliary heating, E...   \n",
       "\\nEntertainment & Media\\n      [Bluetooth, CD player, Hands-free equipment, M...   \n",
       "\\nExtras\\n                            [Alloy wheels, Sport seats, Voice Control]   \n",
       "\\nSafety & Security\\n          [ABS, Alarm system, Central door lock with rem...   \n",
       "description                    [\\nAudi A1: , - 1e eigenaar , - Perfecte staat...   \n",
       "Emission Label                                                               NaN   \n",
       "Gears                                                                    [\\n6\\n]   \n",
       "Country version                                                              NaN   \n",
       "Electricity consumption                                                      NaN   \n",
       "Last Service Date                                                            NaN   \n",
       "Other Fuel Types                                                             NaN   \n",
       "Availability                                                                 NaN   \n",
       "Last Timing Belt Service Date                                                NaN   \n",
       "Available from                                                               NaN   \n",
       "\n",
       "                                                                               4  \n",
       "url                            https://www.autoscout24.com//offers/audi-a1-sp...  \n",
       "make_model                                                               Audi A1  \n",
       "short_description              Sportback 1.4 TDI S-Tronic S-Line Ext. admired...  \n",
       "body_type                                                                 Sedans  \n",
       "price                                                                      16790  \n",
       "vat                                                                         None  \n",
       "km                                                                     16,200 km  \n",
       "registration                                                             05/2016  \n",
       "prev_owner                                                      1 previous owner  \n",
       "kW                                                                           NaN  \n",
       "hp                                                                         66 kW  \n",
       "Type                                     [, Used, , Diesel (Particulate Filter)]  \n",
       "Previous Owners                                                            \\n1\\n  \n",
       "Next Inspection                                                              NaN  \n",
       "Inspection new                                [\\nYes\\n, \\n109 g CO2/km (comb)\\n]  \n",
       "Warranty                                                    [\\n, \\n, \\nEuro 6\\n]  \n",
       "Full Service                                             [\\n, \\n, \\n4 (Green)\\n]  \n",
       "Non-smoking Vehicle                                                     [\\n, \\n]  \n",
       "null                                                                          []  \n",
       "Make                                                                    \\nAudi\\n  \n",
       "Model                                                               [\\n, A1, \\n]  \n",
       "Offer Number                                                         [\\nC1626\\n]  \n",
       "First Registration                                                [\\n, 2016, \\n]  \n",
       "Body Color                                                       [\\n, Black, \\n]  \n",
       "Paint Type                                                        [\\nMetallic\\n]  \n",
       "Body Color Original                                 [\\nMythosschwarz Metallic\\n]  \n",
       "Upholstery                                                    [\\nCloth, Black\\n]  \n",
       "Body                                                            [\\n, Sedans, \\n]  \n",
       "Nr. of Doors                                                             [\\n5\\n]  \n",
       "Nr. of Seats                                                             [\\n5\\n]  \n",
       "Model Code                                                        [\\n0588/BDF\\n]  \n",
       "Gearing Type                                                 [\\n, Automatic, \\n]  \n",
       "Displacement                                                      [\\n1,422 cc\\n]  \n",
       "Cylinders                                                                [\\n3\\n]  \n",
       "Weight                                                                       NaN  \n",
       "Drive chain                                                          [\\nfront\\n]  \n",
       "Fuel                                       [\\n, Diesel (Particulate Filter), \\n]  \n",
       "Consumption                    [[4.1 l/100 km (comb)], [4.6 l/100 km (city)],...  \n",
       "CO2 Emission                                           [\\n109 g CO2/km (comb)\\n]  \n",
       "Emission Class                                                      [\\nEuro 6\\n]  \n",
       "\\nComfort & Convenience\\n      [Air conditioning, Armrest, Automatic climate ...  \n",
       "\\nEntertainment & Media\\n      [Bluetooth, CD player, Hands-free equipment, M...  \n",
       "\\nExtras\\n                     [Alloy wheels, Sport package, Sport suspension...  \n",
       "\\nSafety & Security\\n          [ABS, Central door lock, Driver-side airbag, E...  \n",
       "description                    [\\n, Technik & Sicherheit:, Xenon plus, Klimaa...  \n",
       "Emission Label                                                               NaN  \n",
       "Gears                                                                        NaN  \n",
       "Country version                                                    [\\nGermany\\n]  \n",
       "Electricity consumption                                                      NaN  \n",
       "Last Service Date                                                            NaN  \n",
       "Other Fuel Types                                                             NaN  \n",
       "Availability                                                                 NaN  \n",
       "Last Timing Belt Service Date                                                NaN  \n",
       "Available from                                                               NaN  "
      ]
     },
     "execution_count": 3,
     "metadata": {},
     "output_type": "execute_result"
    }
   ],
   "source": [
    "df.head().T"
   ]
  },
  {
   "cell_type": "code",
   "execution_count": 4,
   "metadata": {},
   "outputs": [
    {
     "data": {
      "text/plain": [
       "54"
      ]
     },
     "execution_count": 4,
     "metadata": {},
     "output_type": "execute_result"
    }
   ],
   "source": [
    "len(df.columns)"
   ]
  },
  {
   "cell_type": "code",
   "execution_count": 5,
   "metadata": {},
   "outputs": [
    {
     "name": "stdout",
     "output_type": "stream",
     "text": [
      "<class 'pandas.core.frame.DataFrame'>\n",
      "RangeIndex: 15919 entries, 0 to 15918\n",
      "Data columns (total 54 columns):\n",
      " #   Column                         Non-Null Count  Dtype  \n",
      "---  ------                         --------------  -----  \n",
      " 0   url                            15919 non-null  object \n",
      " 1   make_model                     15919 non-null  object \n",
      " 2   short_description              15873 non-null  object \n",
      " 3   body_type                      15859 non-null  object \n",
      " 4   price                          15919 non-null  int64  \n",
      " 5   vat                            11406 non-null  object \n",
      " 6   km                             15919 non-null  object \n",
      " 7   registration                   15919 non-null  object \n",
      " 8   prev_owner                     9091 non-null   object \n",
      " 9   kW                             0 non-null      float64\n",
      " 10  hp                             15919 non-null  object \n",
      " 11  Type                           15917 non-null  object \n",
      " 12  Previous Owners                9279 non-null   object \n",
      " 13  Next Inspection                3535 non-null   object \n",
      " 14  Inspection new                 3932 non-null   object \n",
      " 15  Warranty                       10499 non-null  object \n",
      " 16  Full Service                   8215 non-null   object \n",
      " 17  Non-smoking Vehicle            7177 non-null   object \n",
      " 18  null                           15919 non-null  object \n",
      " 19  Make                           15919 non-null  object \n",
      " 20  Model                          15919 non-null  object \n",
      " 21  Offer Number                   12744 non-null  object \n",
      " 22  First Registration             14322 non-null  object \n",
      " 23  Body Color                     15322 non-null  object \n",
      " 24  Paint Type                     10147 non-null  object \n",
      " 25  Body Color Original            12160 non-null  object \n",
      " 26  Upholstery                     12199 non-null  object \n",
      " 27  Body                           15859 non-null  object \n",
      " 28  Nr. of Doors                   15707 non-null  object \n",
      " 29  Nr. of Seats                   14942 non-null  object \n",
      " 30  Model Code                     4978 non-null   object \n",
      " 31  Gearing Type                   15919 non-null  object \n",
      " 32  Displacement                   15423 non-null  object \n",
      " 33  Cylinders                      10239 non-null  object \n",
      " 34  Weight                         8945 non-null   object \n",
      " 35  Drive chain                    9061 non-null   object \n",
      " 36  Fuel                           15919 non-null  object \n",
      " 37  Consumption                    14013 non-null  object \n",
      " 38  CO2 Emission                   14111 non-null  object \n",
      " 39  Emission Class                 12898 non-null  object \n",
      " 40  \n",
      "Comfort & Convenience\n",
      "        14999 non-null  object \n",
      " 41  \n",
      "Entertainment & Media\n",
      "        14545 non-null  object \n",
      " 42  \n",
      "Extras\n",
      "                       12957 non-null  object \n",
      " 43  \n",
      "Safety & Security\n",
      "            14937 non-null  object \n",
      " 44  description                    15919 non-null  object \n",
      " 45  Emission Label                 3985 non-null   object \n",
      " 46  Gears                          11207 non-null  object \n",
      " 47  Country version                7586 non-null   object \n",
      " 48  Electricity consumption        137 non-null    object \n",
      " 49  Last Service Date              566 non-null    object \n",
      " 50  Other Fuel Types               880 non-null    object \n",
      " 51  Availability                   635 non-null    object \n",
      " 52  Last Timing Belt Service Date  16 non-null     object \n",
      " 53  Available from                 272 non-null    object \n",
      "dtypes: float64(1), int64(1), object(52)\n",
      "memory usage: 6.6+ MB\n"
     ]
    }
   ],
   "source": [
    "df.info()"
   ]
  },
  {
   "cell_type": "code",
   "execution_count": 6,
   "metadata": {},
   "outputs": [
    {
     "data": {
      "text/plain": [
       "(15919, 54)"
      ]
     },
     "execution_count": 6,
     "metadata": {},
     "output_type": "execute_result"
    }
   ],
   "source": [
    "df.shape"
   ]
  },
  {
   "cell_type": "markdown",
   "metadata": {},
   "source": [
    "### 1 - url"
   ]
  },
  {
   "cell_type": "code",
   "execution_count": 7,
   "metadata": {},
   "outputs": [
    {
     "data": {
      "text/plain": [
       "https://www.autoscout24.com//offers/opel-insignia-st-innovation-led-parkpilot-navi-diesel-black-7e42e4f9-b70b-45b2-8765-1987bb48b47d              1\n",
       "https://www.autoscout24.com//offers/opel-corsa-1-2-ecotec-cool-sound-gasoline-white-feb588f4-c01a-48d7-bd5e-947d11b45d54                          1\n",
       "https://www.autoscout24.com//offers/audi-a1-sportback-1-4-tfsi-klima-gasoline-white-61b05392-8338-40cb-ae7e-8ee7a0650bb2                          1\n",
       "https://www.autoscout24.com//offers/renault-espace-renault-initiale-blue-dci-200ps-diesel-black-4d73bdde-fe55-4647-85f9-1ca2c637f9bc              1\n",
       "https://www.autoscout24.com//offers/opel-corsa-1-4-turbo-s-s-edt-3tuer-pdc-sitzh-allwetter-gasoline-white-5ac94ee9-cf9e-4bf2-bc98-60a8e5247500    1\n",
       "https://www.autoscout24.com//offers/audi-a3-sportback-1-0-tfsi-naviplus-gra-shz-gasoline-silver-632b314b-fdb0-43a3-a09c-60fc75dbbc0b              1\n",
       "https://www.autoscout24.com//offers/opel-insignia-innovation-1-5t-140pk-nieuw-gasoline-black-54dc33f1-abcf-4b55-b92e-94579053ccbb                 1\n",
       "https://www.autoscout24.com//offers/audi-a3-sportback-ambition-1-6-tdi-6-gang-s-line-exter-diesel-silver-6eb15948-26f3-4e61-a7f8-f0d876490aa8     1\n",
       "https://www.autoscout24.com//offers/renault-espace-1-6-dci-160ch-energy-initiale-paris-edc-diesel-white-04a4df20-a9c3-469c-8058-fb5c175caa1c      1\n",
       "https://www.autoscout24.com//offers/audi-a1-spb-1-4-tdi-s-tronic-metal-plus-diesel-silver-33eab609-0be6-4f41-8c93-9dec806c63fb                    1\n",
       "Name: url, dtype: int64"
      ]
     },
     "execution_count": 7,
     "metadata": {},
     "output_type": "execute_result"
    }
   ],
   "source": [
    "df.url.value_counts()[:10]"
   ]
  },
  {
   "cell_type": "code",
   "execution_count": 8,
   "metadata": {},
   "outputs": [
    {
     "data": {
      "text/plain": [
       "0"
      ]
     },
     "execution_count": 8,
     "metadata": {},
     "output_type": "execute_result"
    }
   ],
   "source": [
    "df.url.isnull().sum()"
   ]
  },
  {
   "cell_type": "code",
   "execution_count": 9,
   "metadata": {},
   "outputs": [],
   "source": [
    "df.drop('url', axis=1, inplace=True)"
   ]
  },
  {
   "cell_type": "markdown",
   "metadata": {},
   "source": [
    "<div class=\"alert alert-block alert-danger\">\n",
    "<p>Useless column. It shouldn't be included in the analysis.</p></div>"
   ]
  },
  {
   "cell_type": "markdown",
   "metadata": {},
   "source": [
    "### 2 - make_model"
   ]
  },
  {
   "cell_type": "code",
   "execution_count": 10,
   "metadata": {},
   "outputs": [
    {
     "data": {
      "text/plain": [
       "Audi A3           3097\n",
       "Audi A1           2614\n",
       "Opel Insignia     2598\n",
       "Opel Astra        2526\n",
       "Opel Corsa        2219\n",
       "Renault Clio      1839\n",
       "Renault Espace     991\n",
       "Renault Duster      34\n",
       "Audi A2              1\n",
       "Name: make_model, dtype: int64"
      ]
     },
     "execution_count": 10,
     "metadata": {},
     "output_type": "execute_result"
    }
   ],
   "source": [
    "df.make_model.value_counts(dropna=False)"
   ]
  },
  {
   "cell_type": "code",
   "execution_count": 11,
   "metadata": {},
   "outputs": [
    {
     "data": {
      "text/plain": [
       "0"
      ]
     },
     "execution_count": 11,
     "metadata": {},
     "output_type": "execute_result"
    }
   ],
   "source": [
    "df.make_model.isnull().sum()"
   ]
  },
  {
   "cell_type": "code",
   "execution_count": 12,
   "metadata": {},
   "outputs": [],
   "source": [
    "# df = pd.get_dummies(df, prefix='', prefix_sep='', columns=['make_model'])\n",
    "# This method automatically deletes the original column."
   ]
  },
  {
   "cell_type": "code",
   "execution_count": 13,
   "metadata": {},
   "outputs": [],
   "source": [
    "# # Another method\n",
    "# df_dummied = pd.get_dummies(df.make_model, prefix='', prefix_sep='', columns=['car_make_model'], dtype='float64')\n",
    "# df = pd.concat([df, df_dummied], axis=1)"
   ]
  },
  {
   "cell_type": "code",
   "execution_count": 14,
   "metadata": {},
   "outputs": [
    {
     "data": {
      "text/plain": [
       "(15919, 53)"
      ]
     },
     "execution_count": 14,
     "metadata": {},
     "output_type": "execute_result"
    }
   ],
   "source": [
    "df.shape"
   ]
  },
  {
   "cell_type": "markdown",
   "metadata": {},
   "source": [
    "<div class=\"alert alert-block alert-success\">\n",
    "<p>The dummied columns should be included in the analysis.</p></div>"
   ]
  },
  {
   "cell_type": "markdown",
   "metadata": {},
   "source": [
    "### 3 - short_description"
   ]
  },
  {
   "cell_type": "code",
   "execution_count": 15,
   "metadata": {},
   "outputs": [
    {
     "data": {
      "text/plain": [
       "SPB 1.6 TDI 116 CV S tronic Sport                64\n",
       "NaN                                              46\n",
       "1.4 66kW (90CV) Selective                        40\n",
       "MOVE KLIMA CD USB ALLWETTER BLUETOOTH            38\n",
       "SPB 30 TDI S tronic Business                     35\n",
       "SPB 30 TFSI S tronic Admired                     35\n",
       "Sporter 1.5 dCi 90CV Zen , NAVI - AZIENDALE      32\n",
       "dCi 75 Business Energy eco2 Euro6 55 kW (75 C    31\n",
       "1.2 5 porte b-Color                              30\n",
       "dCi 160CV EDC Energy Intens                      30\n",
       "Name: short_description, dtype: int64"
      ]
     },
     "execution_count": 15,
     "metadata": {},
     "output_type": "execute_result"
    }
   ],
   "source": [
    "df.short_description.value_counts(dropna=False)[:10]"
   ]
  },
  {
   "cell_type": "code",
   "execution_count": 16,
   "metadata": {},
   "outputs": [],
   "source": [
    "df.drop('short_description', axis=1, inplace=True)"
   ]
  },
  {
   "cell_type": "code",
   "execution_count": 17,
   "metadata": {},
   "outputs": [
    {
     "data": {
      "text/plain": [
       "(15919, 52)"
      ]
     },
     "execution_count": 17,
     "metadata": {},
     "output_type": "execute_result"
    }
   ],
   "source": [
    "df.shape"
   ]
  },
  {
   "cell_type": "markdown",
   "metadata": {},
   "source": [
    "<div class=\"alert alert-block alert-danger\">\n",
    "<p>Useless column. It shouldn't be included in the analysis.</p></div>"
   ]
  },
  {
   "cell_type": "markdown",
   "metadata": {},
   "source": [
    "### 4 - body_type"
   ]
  },
  {
   "cell_type": "code",
   "execution_count": 18,
   "metadata": {},
   "outputs": [
    {
     "data": {
      "text/plain": [
       "Sedans           7903\n",
       "Station wagon    3553\n",
       "Compact          3153\n",
       "Van               783\n",
       "Other             290\n",
       "Transporter        88\n",
       "NaN                60\n",
       "Off-Road           56\n",
       "Coupe              25\n",
       "Convertible         8\n",
       "Name: body_type, dtype: int64"
      ]
     },
     "execution_count": 18,
     "metadata": {},
     "output_type": "execute_result"
    }
   ],
   "source": [
    "df.body_type.value_counts(dropna=False)"
   ]
  },
  {
   "cell_type": "code",
   "execution_count": 19,
   "metadata": {},
   "outputs": [
    {
     "data": {
      "text/plain": [
       "make_model      body_type    \n",
       "Audi A1         Sedans           1538\n",
       "                Compact          1039\n",
       "                Station wagon      21\n",
       "                Other              13\n",
       "                Coupe               2\n",
       "                Van                 1\n",
       "Audi A2         Off-Road            1\n",
       "Audi A3         Sedans           2598\n",
       "                Station wagon     282\n",
       "                Compact           182\n",
       "                Other              16\n",
       "                Convertible         8\n",
       "                NaN                 7\n",
       "                Coupe               4\n",
       "Opel Astra      Station wagon    1211\n",
       "                Sedans           1053\n",
       "                Compact           185\n",
       "                Other              67\n",
       "                NaN                 7\n",
       "                Coupe               2\n",
       "                Off-Road            1\n",
       "Opel Corsa      Compact          1230\n",
       "                Sedans            875\n",
       "                Other              87\n",
       "                Coupe              13\n",
       "                Transporter         7\n",
       "                Off-Road            3\n",
       "                NaN                 2\n",
       "                Van                 2\n",
       "Opel Insignia   Station wagon    1611\n",
       "                Sedans            900\n",
       "                Other              48\n",
       "                Compact            27\n",
       "                Off-Road            7\n",
       "                NaN                 3\n",
       "                Coupe               1\n",
       "                Van                 1\n",
       "Renault Clio    Sedans            918\n",
       "                Compact           484\n",
       "                Station wagon     337\n",
       "                Other              51\n",
       "                Transporter        29\n",
       "                NaN                15\n",
       "                Off-Road            2\n",
       "                Van                 2\n",
       "                Coupe               1\n",
       "Renault Duster  Off-Road           34\n",
       "Renault Espace  Van               777\n",
       "                Station wagon      91\n",
       "                Transporter        52\n",
       "                NaN                26\n",
       "                Sedans             21\n",
       "                Off-Road            8\n",
       "                Other               8\n",
       "                Compact             6\n",
       "                Coupe               2\n",
       "Name: body_type, dtype: int64"
      ]
     },
     "execution_count": 19,
     "metadata": {},
     "output_type": "execute_result"
    }
   ],
   "source": [
    "df.groupby('make_model').body_type.value_counts(dropna=False)"
   ]
  },
  {
   "cell_type": "code",
   "execution_count": 20,
   "metadata": {},
   "outputs": [],
   "source": [
    "for model in df['make_model'].unique():\n",
    "    cond = df['make_model']==model\n",
    "    mode = list(df[cond]['body_type'].mode())\n",
    "    if mode != []:\n",
    "        df.loc[cond, 'body_type'] = df.loc[cond, 'body_type'].fillna(df[cond]['body_type'].mode()[0])\n",
    "    else:\n",
    "        df.loc[cond, 'body_type'] = df.loc[cond, 'body_type'].fillna(df['body_type'].mode()[0])"
   ]
  },
  {
   "cell_type": "code",
   "execution_count": 21,
   "metadata": {},
   "outputs": [
    {
     "data": {
      "text/plain": [
       "Sedans           7925\n",
       "Station wagon    3563\n",
       "Compact          3155\n",
       "Van               809\n",
       "Other             290\n",
       "Transporter        88\n",
       "Off-Road           56\n",
       "Coupe              25\n",
       "Convertible         8\n",
       "Name: body_type, dtype: int64"
      ]
     },
     "execution_count": 21,
     "metadata": {},
     "output_type": "execute_result"
    }
   ],
   "source": [
    "df.body_type.value_counts(dropna=False)"
   ]
  },
  {
   "cell_type": "code",
   "execution_count": 22,
   "metadata": {},
   "outputs": [
    {
     "data": {
      "text/plain": [
       "make_model      body_type    \n",
       "Audi A1         Sedans           1538\n",
       "                Compact          1039\n",
       "                Station wagon      21\n",
       "                Other              13\n",
       "                Coupe               2\n",
       "                Van                 1\n",
       "Audi A2         Off-Road            1\n",
       "Audi A3         Sedans           2605\n",
       "                Station wagon     282\n",
       "                Compact           182\n",
       "                Other              16\n",
       "                Convertible         8\n",
       "                Coupe               4\n",
       "Opel Astra      Station wagon    1218\n",
       "                Sedans           1053\n",
       "                Compact           185\n",
       "                Other              67\n",
       "                Coupe               2\n",
       "                Off-Road            1\n",
       "Opel Corsa      Compact          1232\n",
       "                Sedans            875\n",
       "                Other              87\n",
       "                Coupe              13\n",
       "                Transporter         7\n",
       "                Off-Road            3\n",
       "                Van                 2\n",
       "Opel Insignia   Station wagon    1614\n",
       "                Sedans            900\n",
       "                Other              48\n",
       "                Compact            27\n",
       "                Off-Road            7\n",
       "                Coupe               1\n",
       "                Van                 1\n",
       "Renault Clio    Sedans            933\n",
       "                Compact           484\n",
       "                Station wagon     337\n",
       "                Other              51\n",
       "                Transporter        29\n",
       "                Off-Road            2\n",
       "                Van                 2\n",
       "                Coupe               1\n",
       "Renault Duster  Off-Road           34\n",
       "Renault Espace  Van               803\n",
       "                Station wagon      91\n",
       "                Transporter        52\n",
       "                Sedans             21\n",
       "                Off-Road            8\n",
       "                Other               8\n",
       "                Compact             6\n",
       "                Coupe               2\n",
       "Name: body_type, dtype: int64"
      ]
     },
     "execution_count": 22,
     "metadata": {},
     "output_type": "execute_result"
    }
   ],
   "source": [
    "df.groupby('make_model').body_type.value_counts(dropna=False)"
   ]
  },
  {
   "cell_type": "code",
   "execution_count": 23,
   "metadata": {},
   "outputs": [],
   "source": [
    "# df = pd.get_dummies(df, prefix='', prefix_sep='', columns=['body_type'])\n",
    "# This method automatically deletes the original column."
   ]
  },
  {
   "cell_type": "code",
   "execution_count": 24,
   "metadata": {},
   "outputs": [],
   "source": [
    "# df_dummied = pd.get_dummies(df.body_type, prefix='', prefix_sep='', columns=['car_body_type'], dtype='float64')\n",
    "# df = pd.concat([df, df_dummied], axis=1)"
   ]
  },
  {
   "cell_type": "code",
   "execution_count": 25,
   "metadata": {},
   "outputs": [
    {
     "data": {
      "text/plain": [
       "(15919, 52)"
      ]
     },
     "execution_count": 25,
     "metadata": {},
     "output_type": "execute_result"
    }
   ],
   "source": [
    "df.shape"
   ]
  },
  {
   "cell_type": "markdown",
   "metadata": {},
   "source": [
    "<div class=\"alert alert-block alert-success\">\n",
    "<p>The dummied columns should be included in the anlaysis.</p></div>"
   ]
  },
  {
   "cell_type": "markdown",
   "metadata": {},
   "source": [
    "### 5 - Price"
   ]
  },
  {
   "cell_type": "code",
   "execution_count": 26,
   "metadata": {},
   "outputs": [
    {
     "data": {
      "text/plain": [
       "13      1\n",
       "120     1\n",
       "255     1\n",
       "331     1\n",
       "4950    1\n",
       "4990    1\n",
       "5250    1\n",
       "5300    1\n",
       "5445    1\n",
       "5450    1\n",
       "Name: price, dtype: int64"
      ]
     },
     "execution_count": 26,
     "metadata": {},
     "output_type": "execute_result"
    }
   ],
   "source": [
    "df.price.value_counts(dropna=False).sort_index()[:10]"
   ]
  },
  {
   "cell_type": "code",
   "execution_count": 27,
   "metadata": {},
   "outputs": [
    {
     "data": {
      "text/plain": [
       "0"
      ]
     },
     "execution_count": 27,
     "metadata": {},
     "output_type": "execute_result"
    }
   ],
   "source": [
    "df.price.isnull().sum()"
   ]
  },
  {
   "cell_type": "code",
   "execution_count": 28,
   "metadata": {},
   "outputs": [],
   "source": [
    "### Handling Outliers\n",
    "# Using Winsorize"
   ]
  },
  {
   "cell_type": "code",
   "execution_count": 29,
   "metadata": {},
   "outputs": [
    {
     "data": {
      "image/png": "[encoded data removed]",
      "text/plain": [
       "<Figure size 432x288 with 1 Axes>"
      ]
     },
     "metadata": {
      "needs_background": "light"
     },
     "output_type": "display_data"
    }
   ],
   "source": [
    "sns.boxplot(df.price);"
   ]
  },
  {
   "cell_type": "code",
   "execution_count": 30,
   "metadata": {},
   "outputs": [
    {
     "data": {
      "image/png": "[encoded data removed]",
      "text/plain": [
       "<Figure size 432x288 with 1 Axes>"
      ]
     },
     "metadata": {
      "needs_background": "light"
     },
     "output_type": "display_data"
    }
   ],
   "source": [
    "sns.distplot(df.price, kde=False, bins=100);"
   ]
  },
  {
   "cell_type": "code",
   "execution_count": 31,
   "metadata": {},
   "outputs": [
    {
     "data": {
      "text/plain": [
       "count    15919.000000\n",
       "mean     18019.896727\n",
       "std       7386.169409\n",
       "min         13.000000\n",
       "25%      12850.000000\n",
       "50%      16900.000000\n",
       "75%      21900.000000\n",
       "max      74600.000000\n",
       "Name: price, dtype: float64"
      ]
     },
     "execution_count": 31,
     "metadata": {},
     "output_type": "execute_result"
    }
   ],
   "source": [
    "df.price.describe()"
   ]
  },
  {
   "cell_type": "code",
   "execution_count": 32,
   "metadata": {},
   "outputs": [
    {
     "data": {
      "text/plain": [
       "9050.0"
      ]
     },
     "execution_count": 32,
     "metadata": {},
     "output_type": "execute_result"
    }
   ],
   "source": [
    "stats.iqr(df.price)"
   ]
  },
  {
   "cell_type": "code",
   "execution_count": 33,
   "metadata": {},
   "outputs": [],
   "source": [
    "lower = df.price.quantile(0.25)"
   ]
  },
  {
   "cell_type": "code",
   "execution_count": 34,
   "metadata": {},
   "outputs": [],
   "source": [
    "upper = df.price.quantile(0.75)"
   ]
  },
  {
   "cell_type": "code",
   "execution_count": 35,
   "metadata": {},
   "outputs": [
    {
     "data": {
      "text/plain": [
       "9050.0"
      ]
     },
     "execution_count": 35,
     "metadata": {},
     "output_type": "execute_result"
    }
   ],
   "source": [
    "iqr = upper - lower\n",
    "iqr"
   ]
  },
  {
   "cell_type": "code",
   "execution_count": 36,
   "metadata": {},
   "outputs": [
    {
     "data": {
      "text/plain": [
       "30950.0"
      ]
     },
     "execution_count": 36,
     "metadata": {},
     "output_type": "execute_result"
    }
   ],
   "source": [
    "upp_lim = upper + iqr\n",
    "upp_lim"
   ]
  },
  {
   "cell_type": "code",
   "execution_count": 37,
   "metadata": {},
   "outputs": [
    {
     "data": {
      "text/plain": [
       "3800.0"
      ]
     },
     "execution_count": 37,
     "metadata": {},
     "output_type": "execute_result"
    }
   ],
   "source": [
    "low_lim = lower - iqr\n",
    "low_lim"
   ]
  },
  {
   "cell_type": "code",
   "execution_count": 38,
   "metadata": {},
   "outputs": [
    {
     "data": {
      "text/plain": [
       "917"
      ]
     },
     "execution_count": 38,
     "metadata": {},
     "output_type": "execute_result"
    }
   ],
   "source": [
    "df[df.price > upp_lim].price.count()"
   ]
  },
  {
   "cell_type": "code",
   "execution_count": 39,
   "metadata": {},
   "outputs": [
    {
     "data": {
      "text/plain": [
       "4"
      ]
     },
     "execution_count": 39,
     "metadata": {},
     "output_type": "execute_result"
    }
   ],
   "source": [
    "df[df.price < low_lim].price.count()"
   ]
  },
  {
   "cell_type": "code",
   "execution_count": 40,
   "metadata": {},
   "outputs": [
    {
     "data": {
      "text/plain": [
       "5268.360000000001"
      ]
     },
     "execution_count": 40,
     "metadata": {},
     "output_type": "execute_result"
    }
   ],
   "source": [
    "df.price.quantile(0.0004)"
   ]
  },
  {
   "cell_type": "code",
   "execution_count": 41,
   "metadata": {},
   "outputs": [
    {
     "data": {
      "text/plain": [
       "37841.19999999995"
      ]
     },
     "execution_count": 41,
     "metadata": {},
     "output_type": "execute_result"
    }
   ],
   "source": [
    "df.price.quantile(0.98)"
   ]
  },
  {
   "cell_type": "code",
   "execution_count": 42,
   "metadata": {},
   "outputs": [],
   "source": [
    "df_price_win = winsorize(df.price, (0.0004, 0.02))"
   ]
  },
  {
   "cell_type": "code",
   "execution_count": 43,
   "metadata": {},
   "outputs": [
    {
     "data": {
      "image/png": "[encoded data removed]",
      "text/plain": [
       "<Figure size 432x288 with 1 Axes>"
      ]
     },
     "metadata": {
      "needs_background": "light"
     },
     "output_type": "display_data"
    }
   ],
   "source": [
    "sns.boxplot(df_price_win);"
   ]
  },
  {
   "cell_type": "code",
   "execution_count": 44,
   "metadata": {},
   "outputs": [
    {
     "data": {
      "image/png": "[encoded data removed]",
      "text/plain": [
       "<Figure size 432x288 with 1 Axes>"
      ]
     },
     "metadata": {
      "needs_background": "light"
     },
     "output_type": "display_data"
    }
   ],
   "source": [
    "sns.distplot(df_price_win, kde=False, bins=100);"
   ]
  },
  {
   "cell_type": "code",
   "execution_count": 45,
   "metadata": {},
   "outputs": [],
   "source": [
    "df_price_win = pd.Series(df_price_win)"
   ]
  },
  {
   "cell_type": "code",
   "execution_count": 46,
   "metadata": {},
   "outputs": [
    {
     "data": {
      "text/plain": [
       "count    15919.000000\n",
       "mean     17909.692380\n",
       "std       6971.465493\n",
       "min       5250.000000\n",
       "25%      12850.000000\n",
       "50%      16900.000000\n",
       "75%      21900.000000\n",
       "max      37870.000000\n",
       "dtype: float64"
      ]
     },
     "execution_count": 46,
     "metadata": {},
     "output_type": "execute_result"
    }
   ],
   "source": [
    "df_price_win.describe()"
   ]
  },
  {
   "cell_type": "code",
   "execution_count": 47,
   "metadata": {},
   "outputs": [
    {
     "data": {
      "text/plain": [
       "count    15919.000000\n",
       "mean     18019.896727\n",
       "std       7386.169409\n",
       "min         13.000000\n",
       "25%      12850.000000\n",
       "50%      16900.000000\n",
       "75%      21900.000000\n",
       "max      74600.000000\n",
       "Name: price, dtype: float64"
      ]
     },
     "execution_count": 47,
     "metadata": {},
     "output_type": "execute_result"
    }
   ],
   "source": [
    "df.price.describe()"
   ]
  },
  {
   "cell_type": "code",
   "execution_count": 48,
   "metadata": {},
   "outputs": [],
   "source": [
    "df['price_winsorize'] = df_price_win"
   ]
  },
  {
   "cell_type": "code",
   "execution_count": 49,
   "metadata": {},
   "outputs": [],
   "source": [
    "#########################################"
   ]
  },
  {
   "cell_type": "code",
   "execution_count": 50,
   "metadata": {},
   "outputs": [],
   "source": [
    "# Using Log Transformation"
   ]
  },
  {
   "cell_type": "code",
   "execution_count": 51,
   "metadata": {},
   "outputs": [
    {
     "data": {
      "image/png": "[encoded data removed]",
      "text/plain": [
       "<Figure size 432x288 with 1 Axes>"
      ]
     },
     "metadata": {
      "needs_background": "light"
     },
     "output_type": "display_data"
    }
   ],
   "source": [
    "sns.boxplot(df.price);"
   ]
  },
  {
   "cell_type": "code",
   "execution_count": 52,
   "metadata": {},
   "outputs": [
    {
     "data": {
      "image/png": "[encoded data removed]",
      "text/plain": [
       "<Figure size 432x288 with 1 Axes>"
      ]
     },
     "metadata": {
      "needs_background": "light"
     },
     "output_type": "display_data"
    }
   ],
   "source": [
    "sns.distplot(df.price, kde=False, bins=100);"
   ]
  },
  {
   "cell_type": "code",
   "execution_count": 53,
   "metadata": {},
   "outputs": [],
   "source": [
    "price_logged = np.log(df.price)"
   ]
  },
  {
   "cell_type": "code",
   "execution_count": 54,
   "metadata": {},
   "outputs": [
    {
     "data": {
      "text/plain": [
       "<AxesSubplot:xlabel='price'>"
      ]
     },
     "execution_count": 54,
     "metadata": {},
     "output_type": "execute_result"
    },
    {
     "data": {
      "image/png": "[encoded data removed]",
      "text/plain": [
       "<Figure size 432x288 with 1 Axes>"
      ]
     },
     "metadata": {
      "needs_background": "light"
     },
     "output_type": "display_data"
    }
   ],
   "source": [
    "sns.boxplot(price_logged)"
   ]
  },
  {
   "cell_type": "code",
   "execution_count": 55,
   "metadata": {},
   "outputs": [
    {
     "data": {
      "image/png": "[encoded data removed]",
      "text/plain": [
       "<Figure size 432x288 with 1 Axes>"
      ]
     },
     "metadata": {
      "needs_background": "light"
     },
     "output_type": "display_data"
    }
   ],
   "source": [
    "sns.distplot(price_logged, kde=False, bins=100);"
   ]
  },
  {
   "cell_type": "code",
   "execution_count": 56,
   "metadata": {},
   "outputs": [],
   "source": [
    "df['price_logged'] = price_logged"
   ]
  },
  {
   "cell_type": "markdown",
   "metadata": {},
   "source": [
    "<div class=\"alert alert-block alert-success\">\n",
    "<p>The target label.</p></div>"
   ]
  },
  {
   "cell_type": "markdown",
   "metadata": {},
   "source": [
    "### 6 - vat"
   ]
  },
  {
   "cell_type": "code",
   "execution_count": 57,
   "metadata": {},
   "outputs": [
    {
     "data": {
      "text/plain": [
       "VAT deductible      10980\n",
       "NaN                  4513\n",
       "Price negotiable      426\n",
       "Name: vat, dtype: int64"
      ]
     },
     "execution_count": 57,
     "metadata": {},
     "output_type": "execute_result"
    }
   ],
   "source": [
    "df.vat.value_counts(dropna=False)"
   ]
  },
  {
   "cell_type": "code",
   "execution_count": 58,
   "metadata": {},
   "outputs": [
    {
     "data": {
      "text/plain": [
       "0.28349770714240846"
      ]
     },
     "execution_count": 58,
     "metadata": {},
     "output_type": "execute_result"
    }
   ],
   "source": [
    "df.vat.isnull().sum()/len(df)"
   ]
  },
  {
   "cell_type": "code",
   "execution_count": 59,
   "metadata": {},
   "outputs": [
    {
     "data": {
      "text/plain": [
       "make_model      vat             \n",
       "Audi A1         VAT deductible      1774\n",
       "                NaN                  759\n",
       "                Price negotiable      81\n",
       "Audi A2         VAT deductible         1\n",
       "Audi A3         VAT deductible      2209\n",
       "                NaN                  787\n",
       "                Price negotiable     101\n",
       "Opel Astra      VAT deductible      1828\n",
       "                NaN                  653\n",
       "                Price negotiable      45\n",
       "Opel Corsa      VAT deductible      1607\n",
       "                NaN                  571\n",
       "                Price negotiable      41\n",
       "Opel Insignia   VAT deductible      1980\n",
       "                NaN                  568\n",
       "                Price negotiable      50\n",
       "Renault Clio    VAT deductible       984\n",
       "                NaN                  781\n",
       "                Price negotiable      74\n",
       "Renault Duster  NaN                   18\n",
       "                VAT deductible        16\n",
       "Renault Espace  VAT deductible       581\n",
       "                NaN                  376\n",
       "                Price negotiable      34\n",
       "Name: vat, dtype: int64"
      ]
     },
     "execution_count": 59,
     "metadata": {},
     "output_type": "execute_result"
    }
   ],
   "source": [
    "df.groupby(['make_model']).vat.value_counts(dropna=False)"
   ]
  },
  {
   "cell_type": "code",
   "execution_count": 60,
   "metadata": {},
   "outputs": [],
   "source": [
    "df['dm_vat'] = df.vat"
   ]
  },
  {
   "cell_type": "code",
   "execution_count": 61,
   "metadata": {},
   "outputs": [],
   "source": [
    "for model in df['make_model'].unique():\n",
    "    cond = df['make_model']==model\n",
    "    df.loc[cond, 'dm_vat'] = df.loc[cond, 'dm_vat'].fillna(method='ffill').fillna(method='bfill')"
   ]
  },
  {
   "cell_type": "code",
   "execution_count": 62,
   "metadata": {},
   "outputs": [
    {
     "data": {
      "text/plain": [
       "VAT deductible      15048\n",
       "Price negotiable      871\n",
       "Name: dm_vat, dtype: int64"
      ]
     },
     "execution_count": 62,
     "metadata": {},
     "output_type": "execute_result"
    }
   ],
   "source": [
    "df.dm_vat.value_counts(dropna=False)"
   ]
  },
  {
   "cell_type": "code",
   "execution_count": 63,
   "metadata": {},
   "outputs": [],
   "source": [
    "# df_dummied = pd.get_dummies(df.dm_vat, prefix='', prefix_sep='', columns=['vatt'], dtype='float64')\n",
    "# df = pd.concat([df, df_dummied], axis=1)"
   ]
  },
  {
   "cell_type": "code",
   "execution_count": 64,
   "metadata": {},
   "outputs": [
    {
     "data": {
      "text/plain": [
       "(15919, 55)"
      ]
     },
     "execution_count": 64,
     "metadata": {},
     "output_type": "execute_result"
    }
   ],
   "source": [
    "df.shape"
   ]
  },
  {
   "cell_type": "markdown",
   "metadata": {},
   "source": [
    "<div class=\"alert alert-block alert-success\">\n",
    "<p>The dummied columns should be included in the analysis.</p></div>"
   ]
  },
  {
   "cell_type": "markdown",
   "metadata": {},
   "source": [
    "### 7 - km"
   ]
  },
  {
   "cell_type": "code",
   "execution_count": 65,
   "metadata": {},
   "outputs": [
    {
     "data": {
      "text/plain": [
       "- km        1024\n",
       "0 km          19\n",
       "1 km         367\n",
       "1,000 km      46\n",
       "1,001 km       4\n",
       "1,010 km       1\n",
       "1,013 km       2\n",
       "1,015 km       1\n",
       "1,020 km       2\n",
       "1,025 km       1\n",
       "Name: km, dtype: int64"
      ]
     },
     "execution_count": 65,
     "metadata": {},
     "output_type": "execute_result"
    }
   ],
   "source": [
    "df.km.value_counts(dropna=False).sort_index()[:10]"
   ]
  },
  {
   "cell_type": "code",
   "execution_count": 66,
   "metadata": {},
   "outputs": [
    {
     "data": {
      "text/plain": [
       "0"
      ]
     },
     "execution_count": 66,
     "metadata": {},
     "output_type": "execute_result"
    }
   ],
   "source": [
    "df.km.isnull().sum()"
   ]
  },
  {
   "cell_type": "code",
   "execution_count": 67,
   "metadata": {},
   "outputs": [
    {
     "data": {
      "text/plain": [
       "dtype('O')"
      ]
     },
     "execution_count": 67,
     "metadata": {},
     "output_type": "execute_result"
    }
   ],
   "source": [
    "df.km.dtypes"
   ]
  },
  {
   "cell_type": "code",
   "execution_count": 68,
   "metadata": {},
   "outputs": [],
   "source": [
    "df['dm_km'] = df.km.astype(str)"
   ]
  },
  {
   "cell_type": "code",
   "execution_count": 69,
   "metadata": {},
   "outputs": [],
   "source": [
    "df['dm_km'] = df['dm_km'].str.extract('(\\S+)\\skm$')"
   ]
  },
  {
   "cell_type": "code",
   "execution_count": 70,
   "metadata": {},
   "outputs": [
    {
     "data": {
      "text/plain": [
       "-        1024\n",
       "0          19\n",
       "1         367\n",
       "1,000      46\n",
       "1,001       4\n",
       "1,010       1\n",
       "1,013       2\n",
       "1,015       1\n",
       "1,020       2\n",
       "1,025       1\n",
       "Name: dm_km, dtype: int64"
      ]
     },
     "execution_count": 70,
     "metadata": {},
     "output_type": "execute_result"
    }
   ],
   "source": [
    "df.dm_km.value_counts(dropna=False).sort_index()[:10]"
   ]
  },
  {
   "cell_type": "code",
   "execution_count": 71,
   "metadata": {},
   "outputs": [],
   "source": [
    "df.dm_km.replace({'-':'1', '0':'1'}, inplace=True)"
   ]
  },
  {
   "cell_type": "code",
   "execution_count": 72,
   "metadata": {},
   "outputs": [
    {
     "data": {
      "text/plain": [
       "1        1410\n",
       "1,000      46\n",
       "1,001       4\n",
       "1,010       1\n",
       "1,013       2\n",
       "1,015       1\n",
       "1,020       2\n",
       "1,025       1\n",
       "1,031       1\n",
       "1,032       1\n",
       "Name: dm_km, dtype: int64"
      ]
     },
     "execution_count": 72,
     "metadata": {},
     "output_type": "execute_result"
    }
   ],
   "source": [
    "df.dm_km.value_counts(dropna=False).sort_index()[:10]"
   ]
  },
  {
   "cell_type": "code",
   "execution_count": 73,
   "metadata": {},
   "outputs": [],
   "source": [
    "def convert(x):\n",
    "    return float(''.join(x.split(',')))"
   ]
  },
  {
   "cell_type": "code",
   "execution_count": 74,
   "metadata": {},
   "outputs": [],
   "source": [
    "df.dm_km = df.dm_km.apply(convert)"
   ]
  },
  {
   "cell_type": "code",
   "execution_count": 75,
   "metadata": {},
   "outputs": [
    {
     "data": {
      "text/plain": [
       "317000.0       1\n",
       "291800.0       1\n",
       "260000.0       1\n",
       "248000.0       1\n",
       "240000.0       1\n",
       "            ... \n",
       "5.0          170\n",
       "4.0           15\n",
       "3.0           33\n",
       "2.0            6\n",
       "1.0         1410\n",
       "Name: dm_km, Length: 6688, dtype: int64"
      ]
     },
     "execution_count": 75,
     "metadata": {},
     "output_type": "execute_result"
    }
   ],
   "source": [
    "df.dm_km.value_counts(dropna=False).sort_index(ascending=False)"
   ]
  },
  {
   "cell_type": "code",
   "execution_count": 76,
   "metadata": {},
   "outputs": [
    {
     "data": {
      "text/plain": [
       "0"
      ]
     },
     "execution_count": 76,
     "metadata": {},
     "output_type": "execute_result"
    }
   ],
   "source": [
    "df.dm_km.isnull().sum()"
   ]
  },
  {
   "cell_type": "code",
   "execution_count": 77,
   "metadata": {},
   "outputs": [
    {
     "data": {
      "text/plain": [
       "count     15919.000000\n",
       "mean      31934.750738\n",
       "std       37089.085294\n",
       "min           1.000000\n",
       "25%        1557.500000\n",
       "50%       20400.000000\n",
       "75%       46898.500000\n",
       "max      317000.000000\n",
       "Name: dm_km, dtype: float64"
      ]
     },
     "execution_count": 77,
     "metadata": {},
     "output_type": "execute_result"
    }
   ],
   "source": [
    "df.dm_km.describe()"
   ]
  },
  {
   "cell_type": "code",
   "execution_count": 78,
   "metadata": {},
   "outputs": [
    {
     "data": {
      "image/png": "[encoded data removed]",
      "text/plain": [
       "<Figure size 432x288 with 1 Axes>"
      ]
     },
     "metadata": {
      "needs_background": "light"
     },
     "output_type": "display_data"
    }
   ],
   "source": [
    "sns.boxplot(df.dm_km);"
   ]
  },
  {
   "cell_type": "code",
   "execution_count": 79,
   "metadata": {},
   "outputs": [
    {
     "data": {
      "image/png": "[encoded data removed]",
      "text/plain": [
       "<Figure size 432x288 with 1 Axes>"
      ]
     },
     "metadata": {
      "needs_background": "light"
     },
     "output_type": "display_data"
    }
   ],
   "source": [
    "sns.distplot(df.dm_km);"
   ]
  },
  {
   "cell_type": "code",
   "execution_count": 80,
   "metadata": {},
   "outputs": [],
   "source": [
    "### Handling Outliers\n",
    "# Log Transformation"
   ]
  },
  {
   "cell_type": "code",
   "execution_count": 81,
   "metadata": {},
   "outputs": [],
   "source": [
    "df['km_logged'] = np.log(df.dm_km)"
   ]
  },
  {
   "cell_type": "code",
   "execution_count": 82,
   "metadata": {},
   "outputs": [
    {
     "data": {
      "image/png": "[encoded data removed]",
      "text/plain": [
       "<Figure size 432x288 with 1 Axes>"
      ]
     },
     "metadata": {
      "needs_background": "light"
     },
     "output_type": "display_data"
    }
   ],
   "source": [
    "sns.boxplot(df.km_logged);"
   ]
  },
  {
   "cell_type": "code",
   "execution_count": 83,
   "metadata": {},
   "outputs": [
    {
     "data": {
      "image/png": "[encoded data removed]",
      "text/plain": [
       "<Figure size 432x288 with 1 Axes>"
      ]
     },
     "metadata": {
      "needs_background": "light"
     },
     "output_type": "display_data"
    }
   ],
   "source": [
    "sns.distplot(df.km_logged);"
   ]
  },
  {
   "cell_type": "code",
   "execution_count": 84,
   "metadata": {},
   "outputs": [
    {
     "data": {
      "text/plain": [
       "0.000000    1410\n",
       "0.693147       6\n",
       "1.098612      33\n",
       "1.386294      15\n",
       "1.609438     170\n",
       "            ... \n",
       "9.998843       1\n",
       "9.999207       1\n",
       "9.999388       1\n",
       "9.999525       1\n",
       "9.999661       1\n",
       "Name: km_logged, Length: 2420, dtype: int64"
      ]
     },
     "execution_count": 84,
     "metadata": {},
     "output_type": "execute_result"
    }
   ],
   "source": [
    "df.km_logged.value_counts(dropna=False).sort_index()[:10]"
   ]
  },
  {
   "cell_type": "code",
   "execution_count": 85,
   "metadata": {},
   "outputs": [
    {
     "data": {
      "text/plain": [
       "(15919, 57)"
      ]
     },
     "execution_count": 85,
     "metadata": {},
     "output_type": "execute_result"
    }
   ],
   "source": [
    "df.shape"
   ]
  },
  {
   "cell_type": "markdown",
   "metadata": {},
   "source": [
    "<div class=\"alert alert-block alert-danger\">\n",
    "<p>Consider creating groups for the km variable.</p></div>"
   ]
  },
  {
   "cell_type": "markdown",
   "metadata": {},
   "source": [
    "### 8 - registration"
   ]
  },
  {
   "cell_type": "code",
   "execution_count": 86,
   "metadata": {},
   "outputs": [
    {
     "data": {
      "text/plain": [
       "-/-        1597\n",
       "03/2018     695\n",
       "02/2019     585\n",
       "05/2018     572\n",
       "03/2019     543\n",
       "04/2018     541\n",
       "01/2019     541\n",
       "02/2018     539\n",
       "03/2016     536\n",
       "06/2018     532\n",
       "04/2016     532\n",
       "01/2018     511\n",
       "04/2019     506\n",
       "02/2016     472\n",
       "03/2017     471\n",
       "05/2016     459\n",
       "06/2016     452\n",
       "05/2019     440\n",
       "06/2017     409\n",
       "05/2017     404\n",
       "07/2018     396\n",
       "04/2017     380\n",
       "01/2016     376\n",
       "02/2017     368\n",
       "01/2017     306\n",
       "08/2018     285\n",
       "06/2019     224\n",
       "07/2017     215\n",
       "11/2017     180\n",
       "07/2016     176\n",
       "10/2016     160\n",
       "10/2017     154\n",
       "09/2017     149\n",
       "11/2016     142\n",
       "09/2018     141\n",
       "09/2016     141\n",
       "12/2016     134\n",
       "12/2017     123\n",
       "08/2017     114\n",
       "11/2018     110\n",
       "12/2018     103\n",
       "10/2018      97\n",
       "08/2016      94\n",
       "07/2019       6\n",
       "09/2019       5\n",
       "12/2019       1\n",
       "11/2019       1\n",
       "08/2019       1\n",
       "Name: registration, dtype: int64"
      ]
     },
     "execution_count": 86,
     "metadata": {},
     "output_type": "execute_result"
    }
   ],
   "source": [
    "df.registration.value_counts(dropna=False)"
   ]
  },
  {
   "cell_type": "code",
   "execution_count": 87,
   "metadata": {},
   "outputs": [],
   "source": [
    "df['dm_registration'] = df.registration"
   ]
  },
  {
   "cell_type": "code",
   "execution_count": 88,
   "metadata": {},
   "outputs": [],
   "source": [
    "cond = (df.dm_registration == '-/-') & (df.dm_km < 15000)\n",
    "df.loc[cond, 'dm_registration'] = df.loc[cond, 'dm_registration'].map({'-/-':'01/2019'})"
   ]
  },
  {
   "cell_type": "code",
   "execution_count": 89,
   "metadata": {},
   "outputs": [
    {
     "data": {
      "text/plain": [
       "01/2019    2125\n",
       "03/2018     695\n",
       "02/2019     585\n",
       "05/2018     572\n",
       "03/2019     543\n",
       "04/2018     541\n",
       "02/2018     539\n",
       "03/2016     536\n",
       "06/2018     532\n",
       "04/2016     532\n",
       "01/2018     511\n",
       "04/2019     506\n",
       "02/2016     472\n",
       "03/2017     471\n",
       "05/2016     459\n",
       "06/2016     452\n",
       "05/2019     440\n",
       "06/2017     409\n",
       "05/2017     404\n",
       "07/2018     396\n",
       "04/2017     380\n",
       "01/2016     376\n",
       "02/2017     368\n",
       "01/2017     306\n",
       "08/2018     285\n",
       "06/2019     224\n",
       "07/2017     215\n",
       "11/2017     180\n",
       "07/2016     176\n",
       "10/2016     160\n",
       "10/2017     154\n",
       "09/2017     149\n",
       "11/2016     142\n",
       "09/2016     141\n",
       "09/2018     141\n",
       "12/2016     134\n",
       "12/2017     123\n",
       "08/2017     114\n",
       "11/2018     110\n",
       "12/2018     103\n",
       "10/2018      97\n",
       "08/2016      94\n",
       "-/-          13\n",
       "07/2019       6\n",
       "09/2019       5\n",
       "12/2019       1\n",
       "11/2019       1\n",
       "08/2019       1\n",
       "Name: dm_registration, dtype: int64"
      ]
     },
     "execution_count": 89,
     "metadata": {},
     "output_type": "execute_result"
    }
   ],
   "source": [
    "df.dm_registration.value_counts(dropna=False)"
   ]
  },
  {
   "cell_type": "code",
   "execution_count": 90,
   "metadata": {},
   "outputs": [
    {
     "data": {
      "text/plain": [
       "39962.0    2\n",
       "22627.0    2\n",
       "89982.0    1\n",
       "89692.0    1\n",
       "34164.0    1\n",
       "85000.0    1\n",
       "68485.0    1\n",
       "19500.0    1\n",
       "20768.0    1\n",
       "81800.0    1\n",
       "32084.0    1\n",
       "Name: dm_km, dtype: int64"
      ]
     },
     "execution_count": 90,
     "metadata": {},
     "output_type": "execute_result"
    }
   ],
   "source": [
    "df[df.dm_registration == '-/-'].dm_km.value_counts()"
   ]
  },
  {
   "cell_type": "code",
   "execution_count": 91,
   "metadata": {},
   "outputs": [],
   "source": [
    "cond = (df.dm_registration == '-/-') & (df.dm_km < 40000)\n",
    "df.loc[cond, 'dm_registration'] = df.loc[cond, 'dm_registration'].map({'-/-':'01/2018'})"
   ]
  },
  {
   "cell_type": "code",
   "execution_count": 92,
   "metadata": {},
   "outputs": [
    {
     "data": {
      "text/plain": [
       "89982.0    1\n",
       "68485.0    1\n",
       "89692.0    1\n",
       "81800.0    1\n",
       "85000.0    1\n",
       "Name: dm_km, dtype: int64"
      ]
     },
     "execution_count": 92,
     "metadata": {},
     "output_type": "execute_result"
    }
   ],
   "source": [
    "df[df.dm_registration == '-/-'].dm_km.value_counts()"
   ]
  },
  {
   "cell_type": "code",
   "execution_count": 93,
   "metadata": {},
   "outputs": [],
   "source": [
    "cond = df.dm_registration == '-/-'\n",
    "df.loc[cond, 'dm_registration'] = df.loc[cond, 'dm_registration'].map({'-/-':'01/2016'})"
   ]
  },
  {
   "cell_type": "code",
   "execution_count": 94,
   "metadata": {},
   "outputs": [
    {
     "data": {
      "text/plain": [
       "01/2019    2125\n",
       "03/2018     695\n",
       "02/2019     585\n",
       "05/2018     572\n",
       "03/2019     543\n",
       "04/2018     541\n",
       "02/2018     539\n",
       "03/2016     536\n",
       "04/2016     532\n",
       "06/2018     532\n",
       "01/2018     519\n",
       "04/2019     506\n",
       "02/2016     472\n",
       "03/2017     471\n",
       "05/2016     459\n",
       "06/2016     452\n",
       "05/2019     440\n",
       "06/2017     409\n",
       "05/2017     404\n",
       "07/2018     396\n",
       "01/2016     381\n",
       "04/2017     380\n",
       "02/2017     368\n",
       "01/2017     306\n",
       "08/2018     285\n",
       "06/2019     224\n",
       "07/2017     215\n",
       "11/2017     180\n",
       "07/2016     176\n",
       "10/2016     160\n",
       "10/2017     154\n",
       "09/2017     149\n",
       "11/2016     142\n",
       "09/2016     141\n",
       "09/2018     141\n",
       "12/2016     134\n",
       "12/2017     123\n",
       "08/2017     114\n",
       "11/2018     110\n",
       "12/2018     103\n",
       "10/2018      97\n",
       "08/2016      94\n",
       "07/2019       6\n",
       "09/2019       5\n",
       "12/2019       1\n",
       "11/2019       1\n",
       "08/2019       1\n",
       "Name: dm_registration, dtype: int64"
      ]
     },
     "execution_count": 94,
     "metadata": {},
     "output_type": "execute_result"
    }
   ],
   "source": [
    "df.dm_registration.value_counts(dropna=False)"
   ]
  },
  {
   "cell_type": "code",
   "execution_count": 95,
   "metadata": {},
   "outputs": [],
   "source": [
    "df.dm_registration = df.dm_registration.str.split('/').str[1]"
   ]
  },
  {
   "cell_type": "code",
   "execution_count": 96,
   "metadata": {},
   "outputs": [
    {
     "data": {
      "text/plain": [
       "2018    4530\n",
       "2019    4437\n",
       "2016    3679\n",
       "2017    3273\n",
       "Name: dm_registration, dtype: int64"
      ]
     },
     "execution_count": 96,
     "metadata": {},
     "output_type": "execute_result"
    }
   ],
   "source": [
    "df.dm_registration.value_counts(dropna=False)"
   ]
  },
  {
   "cell_type": "code",
   "execution_count": 97,
   "metadata": {},
   "outputs": [
    {
     "data": {
      "text/plain": [
       "dtype('O')"
      ]
     },
     "execution_count": 97,
     "metadata": {},
     "output_type": "execute_result"
    }
   ],
   "source": [
    "df.dm_registration.dtypes"
   ]
  },
  {
   "cell_type": "code",
   "execution_count": 98,
   "metadata": {},
   "outputs": [],
   "source": [
    "df.dm_registration = df.dm_registration.astype('float')"
   ]
  },
  {
   "cell_type": "code",
   "execution_count": 99,
   "metadata": {},
   "outputs": [],
   "source": [
    "df.dm_registration = 2019 - df.dm_registration"
   ]
  },
  {
   "cell_type": "code",
   "execution_count": 100,
   "metadata": {},
   "outputs": [
    {
     "data": {
      "text/plain": [
       "1.0    4530\n",
       "0.0    4437\n",
       "3.0    3679\n",
       "2.0    3273\n",
       "Name: dm_registration, dtype: int64"
      ]
     },
     "execution_count": 100,
     "metadata": {},
     "output_type": "execute_result"
    }
   ],
   "source": [
    "df.dm_registration.value_counts(dropna=False)"
   ]
  },
  {
   "cell_type": "markdown",
   "metadata": {},
   "source": [
    "<div class=\"alert alert-block alert-success\">\n",
    "<p>Ready for the analysis.</p></div>"
   ]
  },
  {
   "cell_type": "code",
   "execution_count": 101,
   "metadata": {},
   "outputs": [
    {
     "data": {
      "text/plain": [
       "(15919, 58)"
      ]
     },
     "execution_count": 101,
     "metadata": {},
     "output_type": "execute_result"
    }
   ],
   "source": [
    "df.shape"
   ]
  },
  {
   "cell_type": "markdown",
   "metadata": {},
   "source": [
    "### 9 - prev_owner"
   ]
  },
  {
   "cell_type": "code",
   "execution_count": 102,
   "metadata": {},
   "outputs": [
    {
     "data": {
      "text/plain": [
       "1 previous owner     8294\n",
       "NaN                  6828\n",
       "2 previous owners     778\n",
       "3 previous owners      17\n",
       "4 previous owners       2\n",
       "Name: prev_owner, dtype: int64"
      ]
     },
     "execution_count": 102,
     "metadata": {},
     "output_type": "execute_result"
    }
   ],
   "source": [
    "df.prev_owner.value_counts(dropna=False)"
   ]
  },
  {
   "cell_type": "code",
   "execution_count": 103,
   "metadata": {},
   "outputs": [],
   "source": [
    "df['dm_prev_owner'] = df.prev_owner"
   ]
  },
  {
   "cell_type": "code",
   "execution_count": 104,
   "metadata": {},
   "outputs": [
    {
     "data": {
      "text/plain": [
       "dm_registration  dm_prev_owner    \n",
       "0.0              NaN                  2839\n",
       "                 1 previous owner     1588\n",
       "                 2 previous owners      10\n",
       "1.0              1 previous owner     2967\n",
       "                 NaN                  1488\n",
       "                 2 previous owners      75\n",
       "2.0              1 previous owner     1711\n",
       "                 NaN                  1258\n",
       "                 2 previous owners     296\n",
       "                 3 previous owners       7\n",
       "                 4 previous owners       1\n",
       "3.0              1 previous owner     2028\n",
       "                 NaN                  1243\n",
       "                 2 previous owners     397\n",
       "                 3 previous owners      10\n",
       "                 4 previous owners       1\n",
       "Name: dm_prev_owner, dtype: int64"
      ]
     },
     "execution_count": 104,
     "metadata": {},
     "output_type": "execute_result"
    }
   ],
   "source": [
    "df.groupby('dm_registration').dm_prev_owner.value_counts(dropna=False)"
   ]
  },
  {
   "cell_type": "code",
   "execution_count": 105,
   "metadata": {},
   "outputs": [],
   "source": [
    "lst = df.dm_registration.unique()\n",
    "for i in lst:\n",
    "    cond = df.dm_registration == i\n",
    "    df.loc[cond, 'dm_prev_owner'] = df.loc[cond, 'dm_prev_owner'].fillna(method='ffill').fillna(method='bfill')"
   ]
  },
  {
   "cell_type": "code",
   "execution_count": 106,
   "metadata": {},
   "outputs": [
    {
     "data": {
      "text/plain": [
       "dm_registration  dm_prev_owner    \n",
       "0.0              1 previous owner     4418\n",
       "                 2 previous owners      19\n",
       "1.0              1 previous owner     4415\n",
       "                 2 previous owners     115\n",
       "2.0              1 previous owner     2795\n",
       "                 2 previous owners     464\n",
       "                 3 previous owners      13\n",
       "                 4 previous owners       1\n",
       "3.0              1 previous owner     3075\n",
       "                 2 previous owners     587\n",
       "                 3 previous owners      16\n",
       "                 4 previous owners       1\n",
       "Name: dm_prev_owner, dtype: int64"
      ]
     },
     "execution_count": 106,
     "metadata": {},
     "output_type": "execute_result"
    }
   ],
   "source": [
    "df.groupby('dm_registration').dm_prev_owner.value_counts(dropna=False)"
   ]
  },
  {
   "cell_type": "code",
   "execution_count": 107,
   "metadata": {},
   "outputs": [
    {
     "data": {
      "text/plain": [
       "0"
      ]
     },
     "execution_count": 107,
     "metadata": {},
     "output_type": "execute_result"
    }
   ],
   "source": [
    "df.dm_prev_owner.isnull().sum()"
   ]
  },
  {
   "cell_type": "code",
   "execution_count": 108,
   "metadata": {},
   "outputs": [
    {
     "data": {
      "text/plain": [
       "1 previous owner     14703\n",
       "2 previous owners     1185\n",
       "3 previous owners       29\n",
       "4 previous owners        2\n",
       "Name: dm_prev_owner, dtype: int64"
      ]
     },
     "execution_count": 108,
     "metadata": {},
     "output_type": "execute_result"
    }
   ],
   "source": [
    "df.dm_prev_owner.value_counts()"
   ]
  },
  {
   "cell_type": "code",
   "execution_count": 109,
   "metadata": {},
   "outputs": [],
   "source": [
    "df.dm_prev_owner = df.dm_prev_owner.str.extract('([0-9]+)').astype('float64')"
   ]
  },
  {
   "cell_type": "code",
   "execution_count": 110,
   "metadata": {},
   "outputs": [
    {
     "data": {
      "text/plain": [
       "1.0    14703\n",
       "2.0     1185\n",
       "3.0       29\n",
       "4.0        2\n",
       "Name: dm_prev_owner, dtype: int64"
      ]
     },
     "execution_count": 110,
     "metadata": {},
     "output_type": "execute_result"
    }
   ],
   "source": [
    "df.dm_prev_owner.value_counts()"
   ]
  },
  {
   "cell_type": "markdown",
   "metadata": {},
   "source": [
    "<div class=\"alert alert-block alert-success\">\n",
    "<p>Ready for the analysis.</p></div>"
   ]
  },
  {
   "cell_type": "markdown",
   "metadata": {},
   "source": [
    "### 10 - kW"
   ]
  },
  {
   "cell_type": "code",
   "execution_count": 111,
   "metadata": {},
   "outputs": [
    {
     "data": {
      "text/plain": [
       "NaN    15919\n",
       "Name: kW, dtype: int64"
      ]
     },
     "execution_count": 111,
     "metadata": {},
     "output_type": "execute_result"
    }
   ],
   "source": [
    "df.kW.value_counts(dropna=False)"
   ]
  },
  {
   "cell_type": "code",
   "execution_count": 112,
   "metadata": {},
   "outputs": [],
   "source": [
    "df.drop('kW', axis=1, inplace=True)"
   ]
  },
  {
   "cell_type": "markdown",
   "metadata": {},
   "source": [
    "<div class=\"alert alert-block alert-danger\">\n",
    "<p>Useless column. It shouldn't be included in the analysis.</p></div>"
   ]
  },
  {
   "cell_type": "markdown",
   "metadata": {},
   "source": [
    "### 11 - hp"
   ]
  },
  {
   "cell_type": "code",
   "execution_count": 113,
   "metadata": {},
   "outputs": [
    {
     "data": {
      "text/plain": [
       "- kW        88\n",
       "1 kW        20\n",
       "100 kW    1308\n",
       "101 kW      47\n",
       "103 kW     253\n",
       "104 kW       8\n",
       "110 kW    1112\n",
       "112 kW       7\n",
       "115 kW       1\n",
       "117 kW       6\n",
       "118 kW     516\n",
       "119 kW      30\n",
       "120 kW       8\n",
       "121 kW     392\n",
       "122 kW      35\n",
       "123 kW       1\n",
       "125 kW     707\n",
       "127 kW       2\n",
       "132 kW       1\n",
       "133 kW       1\n",
       "135 kW      24\n",
       "137 kW       1\n",
       "140 kW       2\n",
       "141 kW      16\n",
       "143 kW       2\n",
       "146 kW      18\n",
       "147 kW     380\n",
       "149 kW       3\n",
       "150 kW       2\n",
       "154 kW      39\n",
       "155 kW       6\n",
       "162 kW      98\n",
       "163 kW       1\n",
       "164 kW      27\n",
       "165 kW     194\n",
       "167 kW       2\n",
       "168 kW       3\n",
       "184 kW       5\n",
       "191 kW       7\n",
       "195 kW       1\n",
       "228 kW       2\n",
       "239 kW       1\n",
       "270 kW       2\n",
       "294 kW      18\n",
       "4 kW         1\n",
       "40 kW        2\n",
       "44 kW        1\n",
       "51 kW      695\n",
       "52 kW       22\n",
       "53 kW        2\n",
       "54 kW      276\n",
       "55 kW      569\n",
       "56 kW      286\n",
       "57 kW       10\n",
       "60 kW      160\n",
       "63 kW        2\n",
       "65 kW        4\n",
       "66 kW     2122\n",
       "67 kW       40\n",
       "70 kW      888\n",
       "71 kW       59\n",
       "74 kW       81\n",
       "75 kW        1\n",
       "76 kW        4\n",
       "77 kW      345\n",
       "78 kW       20\n",
       "80 kW        3\n",
       "81 kW     1402\n",
       "82 kW       22\n",
       "84 kW        1\n",
       "85 kW     2542\n",
       "86 kW        2\n",
       "87 kW      232\n",
       "88 kW      177\n",
       "89 kW        2\n",
       "9 kW         1\n",
       "90 kW        4\n",
       "92 kW      466\n",
       "93 kW        3\n",
       "96 kW       72\n",
       "98 kW        3\n",
       "Name: hp, dtype: int64"
      ]
     },
     "execution_count": 113,
     "metadata": {},
     "output_type": "execute_result"
    }
   ],
   "source": [
    "df.hp.value_counts(dropna=False).sort_index()"
   ]
  },
  {
   "cell_type": "code",
   "execution_count": 114,
   "metadata": {},
   "outputs": [],
   "source": [
    "df['dm_hp'] = df.hp"
   ]
  },
  {
   "cell_type": "code",
   "execution_count": 115,
   "metadata": {},
   "outputs": [
    {
     "data": {
      "text/plain": [
       "Renault Espace    34\n",
       "Renault Clio      29\n",
       "Opel Insignia     10\n",
       "Renault Duster     8\n",
       "Opel Corsa         2\n",
       "Audi A1            2\n",
       "Opel Astra         2\n",
       "Audi A3            1\n",
       "Name: make_model, dtype: int64"
      ]
     },
     "execution_count": 115,
     "metadata": {},
     "output_type": "execute_result"
    }
   ],
   "source": [
    "df[df.dm_hp == '- kW'].make_model.value_counts()"
   ]
  },
  {
   "cell_type": "code",
   "execution_count": 116,
   "metadata": {},
   "outputs": [],
   "source": [
    "lst = df.make_model.unique()\n",
    "for i in lst:\n",
    "    cond = (df.make_model == i)\n",
    "    df.loc[cond, 'dm_hp'] = df.loc[cond, 'dm_hp'].replace(to_replace='\\S+\\s\\S+', \n",
    "                                                          value=df[df.make_model == i].dm_hp.mode()[0], regex=True)"
   ]
  },
  {
   "cell_type": "code",
   "execution_count": 117,
   "metadata": {},
   "outputs": [
    {
     "data": {
      "text/plain": [
       "100 kW    2598\n",
       "110 kW    2526\n",
       "118 kW     991\n",
       "55 kW     1839\n",
       "66 kW     2219\n",
       "77 kW       34\n",
       "85 kW     5712\n",
       "Name: dm_hp, dtype: int64"
      ]
     },
     "execution_count": 117,
     "metadata": {},
     "output_type": "execute_result"
    }
   ],
   "source": [
    "df.dm_hp.value_counts(dropna=False).sort_index()"
   ]
  },
  {
   "cell_type": "code",
   "execution_count": 118,
   "metadata": {},
   "outputs": [],
   "source": [
    "df.dm_hp = df.dm_hp.str.extract('(\\S+)\\skW$').astype('float64')"
   ]
  },
  {
   "cell_type": "code",
   "execution_count": 119,
   "metadata": {},
   "outputs": [
    {
     "data": {
      "text/plain": [
       "55.0     1839\n",
       "66.0     2219\n",
       "77.0       34\n",
       "85.0     5712\n",
       "100.0    2598\n",
       "110.0    2526\n",
       "118.0     991\n",
       "Name: dm_hp, dtype: int64"
      ]
     },
     "execution_count": 119,
     "metadata": {},
     "output_type": "execute_result"
    }
   ],
   "source": [
    "df.dm_hp.value_counts(dropna=False).sort_index()"
   ]
  },
  {
   "cell_type": "code",
   "execution_count": 120,
   "metadata": {},
   "outputs": [],
   "source": [
    "#####################\n",
    "#####################"
   ]
  },
  {
   "cell_type": "code",
   "execution_count": 121,
   "metadata": {},
   "outputs": [],
   "source": [
    "df['dm_hp2'] = df.hp"
   ]
  },
  {
   "cell_type": "code",
   "execution_count": 122,
   "metadata": {},
   "outputs": [],
   "source": [
    "lst = df.make_model.unique()\n",
    "for i in lst:\n",
    "    cond = (df.make_model == i) & (df.dm_hp2 == '- kW')\n",
    "    df.loc[cond, 'dm_hp2'] = df.loc[cond, 'dm_hp2'].replace(to_replace='- kW', \n",
    "                                                          value=df[df.make_model == i].dm_hp2.mode()[0])"
   ]
  },
  {
   "cell_type": "code",
   "execution_count": 123,
   "metadata": {},
   "outputs": [],
   "source": [
    "df.dm_hp2 = df.dm_hp2.str.extract('(\\S+)\\skW$').astype('float64')"
   ]
  },
  {
   "cell_type": "code",
   "execution_count": 124,
   "metadata": {},
   "outputs": [
    {
     "data": {
      "text/plain": [
       "0"
      ]
     },
     "execution_count": 124,
     "metadata": {},
     "output_type": "execute_result"
    }
   ],
   "source": [
    "df.dm_hp2.isnull().sum()"
   ]
  },
  {
   "cell_type": "code",
   "execution_count": 125,
   "metadata": {},
   "outputs": [],
   "source": [
    "lst = df.make_model.unique()\n",
    "for i in lst:\n",
    "    cond = (df.make_model == i) & ((df.dm_hp2 < 51) | (df.dm_hp2 > 165))\n",
    "    df.loc[cond, 'dm_hp2'] = df.loc[cond, 'dm_hp2'].replace(to_replace=df.loc[cond,'dm_hp2'].values, \n",
    "                                                          value=df[df.make_model == i].dm_hp2.mode()[0])"
   ]
  },
  {
   "cell_type": "code",
   "execution_count": 126,
   "metadata": {},
   "outputs": [
    {
     "data": {
      "text/plain": [
       "51.0      695\n",
       "52.0       22\n",
       "53.0        2\n",
       "54.0      276\n",
       "55.0      600\n",
       "56.0      286\n",
       "57.0       10\n",
       "60.0      160\n",
       "63.0        2\n",
       "65.0        4\n",
       "66.0     2133\n",
       "67.0       40\n",
       "70.0      888\n",
       "71.0       59\n",
       "74.0       81\n",
       "75.0        1\n",
       "76.0        4\n",
       "77.0      353\n",
       "78.0       20\n",
       "80.0        3\n",
       "81.0     1402\n",
       "82.0       22\n",
       "84.0        1\n",
       "85.0     2568\n",
       "86.0        2\n",
       "87.0      232\n",
       "88.0      177\n",
       "89.0        2\n",
       "90.0        4\n",
       "92.0      466\n",
       "93.0        3\n",
       "96.0       72\n",
       "98.0        3\n",
       "100.0    1336\n",
       "101.0      47\n",
       "103.0     253\n",
       "104.0       8\n",
       "110.0    1121\n",
       "112.0       7\n",
       "115.0       1\n",
       "117.0       6\n",
       "118.0     557\n",
       "119.0      30\n",
       "120.0       8\n",
       "121.0     392\n",
       "122.0      35\n",
       "123.0       1\n",
       "125.0     707\n",
       "127.0       2\n",
       "132.0       1\n",
       "133.0       1\n",
       "135.0      24\n",
       "137.0       1\n",
       "140.0       2\n",
       "141.0      16\n",
       "143.0       2\n",
       "146.0      18\n",
       "147.0     380\n",
       "149.0       3\n",
       "150.0       2\n",
       "154.0      39\n",
       "155.0       6\n",
       "162.0      98\n",
       "163.0       1\n",
       "164.0      27\n",
       "165.0     194\n",
       "Name: dm_hp2, dtype: int64"
      ]
     },
     "execution_count": 126,
     "metadata": {},
     "output_type": "execute_result"
    }
   ],
   "source": [
    "df.dm_hp2.value_counts().sort_index()"
   ]
  },
  {
   "cell_type": "markdown",
   "metadata": {},
   "source": [
    "<div class=\"alert alert-block alert-info\">\n",
    "<p>There are two columns created for the hp column. One of the should be included in the analysis. If the second one is going to be used, then I should consider grouping the values into categories.</p></div>"
   ]
  },
  {
   "cell_type": "markdown",
   "metadata": {},
   "source": [
    "### 12 - Type"
   ]
  },
  {
   "cell_type": "code",
   "execution_count": 127,
   "metadata": {},
   "outputs": [
    {
     "data": {
      "text/plain": [
       "0                  [, Used, , Diesel (Particulate Filter)]\n",
       "1                                     [, Used, , Gasoline]\n",
       "2                  [, Used, , Diesel (Particulate Filter)]\n",
       "3                  [, Used, , Diesel (Particulate Filter)]\n",
       "4                  [, Used, , Diesel (Particulate Filter)]\n",
       "                               ...                        \n",
       "15914               [, New, , Diesel (Particulate Filter)]\n",
       "15915    [, Used, , Super 95 / Super Plus 98 (Particula...\n",
       "15916                         [, Pre-registered, , Diesel]\n",
       "15917                         [, Pre-registered, , Diesel]\n",
       "15918                        [, Demonstration, , Super 95]\n",
       "Name: Type, Length: 15919, dtype: object"
      ]
     },
     "execution_count": 127,
     "metadata": {},
     "output_type": "execute_result"
    }
   ],
   "source": [
    "df.Type"
   ]
  },
  {
   "cell_type": "code",
   "execution_count": 128,
   "metadata": {},
   "outputs": [
    {
     "data": {
      "text/plain": [
       "2"
      ]
     },
     "execution_count": 128,
     "metadata": {},
     "output_type": "execute_result"
    }
   ],
   "source": [
    "df.Type.isnull().sum()"
   ]
  },
  {
   "cell_type": "code",
   "execution_count": 129,
   "metadata": {},
   "outputs": [
    {
     "ename": "TypeError",
     "evalue": "unhashable type: 'list'",
     "output_type": "error",
     "traceback": [
      "\u001b[0;31m---------------------------------------------------------------------------\u001b[0m",
      "\u001b[0;31mTypeError\u001b[0m                                 Traceback (most recent call last)",
      "\u001b[0;32mpandas/_libs/hashtable_class_helper.pxi\u001b[0m in \u001b[0;36mpandas._libs.hashtable.PyObjectHashTable.map_locations\u001b[0;34m()\u001b[0m\n",
      "\u001b[0;31mTypeError\u001b[0m: unhashable type: 'list'"
     ]
    },
    {
     "name": "stderr",
     "output_type": "stream",
     "text": [
      "Exception ignored in: 'pandas._libs.index.IndexEngine._call_map_locations'\n",
      "Traceback (most recent call last):\n",
      "  File \"pandas/_libs/hashtable_class_helper.pxi\", line 1709, in pandas._libs.hashtable.PyObjectHashTable.map_locations\n",
      "TypeError: unhashable type: 'list'\n"
     ]
    },
    {
     "data": {
      "text/plain": [
       "[, Used, , Diesel (Particulate Filter)]                                                                                  3475\n",
       "[, Used, , Diesel]                                                                                                       2516\n",
       "[, Used, , Gasoline]                                                                                                     2367\n",
       "[, Used, , Super 95]                                                                                                     1818\n",
       "[, Pre-registered, , Super 95]                                                                                            500\n",
       "                                                                                                                         ... \n",
       "[, Used, , Regular/Benzine E10 91 / Super E10 95 / Super Plus E10 98 / Super Plus 98 / Super 95 / Regular/Benzine 91]       1\n",
       "[, Used, , Regular/Benzine E10 91 / Regular/Benzine 91 / Super 95 / Super Plus 98 / Super E10 95 / Super Plus E10 98]       1\n",
       "[, Employee's car, , Regular/Benzine 91 / Super 95 / Super E10 95]                                                          1\n",
       "[, Pre-registered, , Biogas]                                                                                                1\n",
       "[, Used, , Regular/Benzine 91 / Super 95 / Super Plus 98]                                                                   1\n",
       "Name: Type, Length: 170, dtype: int64"
      ]
     },
     "execution_count": 129,
     "metadata": {},
     "output_type": "execute_result"
    }
   ],
   "source": [
    "df.Type.value_counts(dropna=False)"
   ]
  },
  {
   "cell_type": "code",
   "execution_count": 130,
   "metadata": {},
   "outputs": [],
   "source": [
    "df['dm_type'] = df.Type"
   ]
  },
  {
   "cell_type": "code",
   "execution_count": 131,
   "metadata": {},
   "outputs": [],
   "source": [
    "def convert(x):\n",
    "    x = str(x)\n",
    "    y = re.findall('New|Used|Pre-registered|Employee|Demonstration', x)\n",
    "    if y != []:\n",
    "        \n",
    "        if y[0] == 'New':\n",
    "            return 'New'\n",
    "        elif y[0] == 'Used':\n",
    "            return 'Used'\n",
    "        elif y[0] == 'Pre-registered':\n",
    "            return 'Pre-registered'\n",
    "        elif y[0] == 'Employee':\n",
    "            return \"Employee's car\"\n",
    "        elif y[0] == 'Demonstration':\n",
    "            return 'Demonstration'"
   ]
  },
  {
   "cell_type": "code",
   "execution_count": 132,
   "metadata": {},
   "outputs": [],
   "source": [
    "df.dm_type = df.dm_type.apply(convert)"
   ]
  },
  {
   "cell_type": "code",
   "execution_count": 133,
   "metadata": {},
   "outputs": [
    {
     "data": {
      "text/plain": [
       "Used              11096\n",
       "New                1650\n",
       "Pre-registered     1364\n",
       "Employee's car     1011\n",
       "Demonstration       796\n",
       "NaN                   2\n",
       "Name: dm_type, dtype: int64"
      ]
     },
     "execution_count": 133,
     "metadata": {},
     "output_type": "execute_result"
    }
   ],
   "source": [
    "df.dm_type.value_counts(dropna=False)"
   ]
  },
  {
   "cell_type": "code",
   "execution_count": 134,
   "metadata": {},
   "outputs": [],
   "source": [
    "df.dm_type = df.dm_type.fillna(method='ffill')"
   ]
  },
  {
   "cell_type": "code",
   "execution_count": 135,
   "metadata": {},
   "outputs": [
    {
     "data": {
      "text/plain": [
       "Used              11097\n",
       "New                1650\n",
       "Pre-registered     1365\n",
       "Employee's car     1011\n",
       "Demonstration       796\n",
       "Name: dm_type, dtype: int64"
      ]
     },
     "execution_count": 135,
     "metadata": {},
     "output_type": "execute_result"
    }
   ],
   "source": [
    "df.dm_type.value_counts(dropna=False)"
   ]
  },
  {
   "cell_type": "code",
   "execution_count": 136,
   "metadata": {},
   "outputs": [],
   "source": [
    "# df_dummied = pd.get_dummies(df.dm_type, prefix='type_', prefix_sep='', columns=['Type'], dtype='float64')\n",
    "# df = pd.concat([df, df_dummied], axis=1)"
   ]
  },
  {
   "cell_type": "code",
   "execution_count": 137,
   "metadata": {},
   "outputs": [
    {
     "data": {
      "text/plain": [
       "(15919, 61)"
      ]
     },
     "execution_count": 137,
     "metadata": {},
     "output_type": "execute_result"
    }
   ],
   "source": [
    "df.shape"
   ]
  },
  {
   "cell_type": "markdown",
   "metadata": {},
   "source": [
    "<div class=\"alert alert-block alert-success\">\n",
    "<p>The dummied columns should be included in the analysis.</p></div>"
   ]
  },
  {
   "cell_type": "markdown",
   "metadata": {},
   "source": [
    "### 13 - Previous Owners"
   ]
  },
  {
   "cell_type": "code",
   "execution_count": 138,
   "metadata": {},
   "outputs": [
    {
     "ename": "TypeError",
     "evalue": "unhashable type: 'list'",
     "output_type": "error",
     "traceback": [
      "\u001b[0;31m---------------------------------------------------------------------------\u001b[0m",
      "\u001b[0;31mTypeError\u001b[0m                                 Traceback (most recent call last)",
      "\u001b[0;32mpandas/_libs/hashtable_class_helper.pxi\u001b[0m in \u001b[0;36mpandas._libs.hashtable.PyObjectHashTable.map_locations\u001b[0;34m()\u001b[0m\n",
      "\u001b[0;31mTypeError\u001b[0m: unhashable type: 'list'"
     ]
    },
    {
     "name": "stderr",
     "output_type": "stream",
     "text": [
      "Exception ignored in: 'pandas._libs.index.IndexEngine._call_map_locations'\n",
      "Traceback (most recent call last):\n",
      "  File \"pandas/_libs/hashtable_class_helper.pxi\", line 1709, in pandas._libs.hashtable.PyObjectHashTable.map_locations\n",
      "TypeError: unhashable type: 'list'\n"
     ]
    },
    {
     "data": {
      "text/plain": [
       "\\n1\\n                                                                                        8101\n",
       "NaN                                                                                          6640\n",
       "\\n2\\n                                                                                         766\n",
       "\\n0\\n                                                                                         163\n",
       "\\n3\\n                                                                                          17\n",
       "                                                                                             ... \n",
       "[\\n1\\n, \\n96 g CO2/km (comb)\\n]                                                                 1\n",
       "[\\n1\\n, \\n181 g CO2/km (comb)\\n]                                                                1\n",
       "[\\n1\\n, \\n, 5.9 l/100 km (comb), \\n, 7.9 l/100 km (city), \\n, 4.8 l/100 km (country), \\n]       1\n",
       "[\\n1\\n, \\n, 6.7 l/100 km (comb), \\n, 8.6 l/100 km (city), \\n, 5.6 l/100 km (country), \\n]       1\n",
       "[\\n1\\n, \\n102 g CO2/km (comb)\\n]                                                                1\n",
       "Name: Previous Owners, Length: 103, dtype: int64"
      ]
     },
     "execution_count": 138,
     "metadata": {},
     "output_type": "execute_result"
    }
   ],
   "source": [
    "df['Previous Owners'].value_counts(dropna=False)"
   ]
  },
  {
   "cell_type": "code",
   "execution_count": 139,
   "metadata": {},
   "outputs": [],
   "source": [
    "df['dm_previous_owners'] = df['Previous Owners']"
   ]
  },
  {
   "cell_type": "code",
   "execution_count": 140,
   "metadata": {},
   "outputs": [],
   "source": [
    "import re\n",
    "def convert(x):\n",
    "    if x is not np.nan:\n",
    "        x = str(x)\n",
    "        y = re.findall(\"([0-9]+)\", x)\n",
    "        return float(y[0])\n",
    "    else:\n",
    "        return np.nan"
   ]
  },
  {
   "cell_type": "code",
   "execution_count": 141,
   "metadata": {},
   "outputs": [],
   "source": [
    "df.dm_previous_owners = df.dm_previous_owners.apply(convert)"
   ]
  },
  {
   "cell_type": "code",
   "execution_count": 142,
   "metadata": {},
   "outputs": [
    {
     "data": {
      "text/plain": [
       "1.0    8294\n",
       "NaN    6640\n",
       "2.0     778\n",
       "0.0     188\n",
       "3.0      17\n",
       "4.0       2\n",
       "Name: dm_previous_owners, dtype: int64"
      ]
     },
     "execution_count": 142,
     "metadata": {},
     "output_type": "execute_result"
    }
   ],
   "source": [
    "df.dm_previous_owners.value_counts(dropna=False)"
   ]
  },
  {
   "cell_type": "code",
   "execution_count": 143,
   "metadata": {},
   "outputs": [
    {
     "data": {
      "text/plain": [
       "1.0    4530\n",
       "0.0    4437\n",
       "3.0    3679\n",
       "2.0    3273\n",
       "Name: dm_registration, dtype: int64"
      ]
     },
     "execution_count": 143,
     "metadata": {},
     "output_type": "execute_result"
    }
   ],
   "source": [
    "df.dm_registration.value_counts()"
   ]
  },
  {
   "cell_type": "code",
   "execution_count": 144,
   "metadata": {},
   "outputs": [
    {
     "data": {
      "text/plain": [
       "dm_registration  dm_previous_owners\n",
       "0.0              NaN                   2675\n",
       "                 1.0                   1588\n",
       "                 0.0                    164\n",
       "                 2.0                     10\n",
       "1.0              1.0                   2967\n",
       "                 NaN                   1480\n",
       "                 2.0                     75\n",
       "                 0.0                      8\n",
       "2.0              1.0                   1711\n",
       "                 NaN                   1252\n",
       "                 2.0                    296\n",
       "                 3.0                      7\n",
       "                 0.0                      6\n",
       "                 4.0                      1\n",
       "3.0              1.0                   2028\n",
       "                 NaN                   1233\n",
       "                 2.0                    397\n",
       "                 0.0                     10\n",
       "                 3.0                     10\n",
       "                 4.0                      1\n",
       "Name: dm_previous_owners, dtype: int64"
      ]
     },
     "execution_count": 144,
     "metadata": {},
     "output_type": "execute_result"
    }
   ],
   "source": [
    "df.groupby('dm_registration').dm_previous_owners.value_counts(dropna=False)"
   ]
  },
  {
   "cell_type": "code",
   "execution_count": 145,
   "metadata": {},
   "outputs": [
    {
     "data": {
      "text/plain": [
       "make_model      dm_previous_owners\n",
       "Audi A1         1.0                   1331\n",
       "                NaN                   1058\n",
       "                2.0                    171\n",
       "                0.0                     51\n",
       "                3.0                      2\n",
       "                4.0                      1\n",
       "Audi A2         1.0                      1\n",
       "Audi A3         NaN                   1483\n",
       "                1.0                   1446\n",
       "                2.0                    111\n",
       "                0.0                     55\n",
       "                3.0                      2\n",
       "Opel Astra      1.0                   1487\n",
       "                NaN                    889\n",
       "                2.0                    134\n",
       "                0.0                     13\n",
       "                3.0                      3\n",
       "Opel Corsa      1.0                   1326\n",
       "                NaN                    734\n",
       "                2.0                    138\n",
       "                0.0                     19\n",
       "                3.0                      2\n",
       "Opel Insignia   1.0                   1509\n",
       "                NaN                    974\n",
       "                2.0                     93\n",
       "                0.0                     18\n",
       "                3.0                      4\n",
       "Renault Clio    NaN                    941\n",
       "                1.0                    800\n",
       "                2.0                     70\n",
       "                0.0                     26\n",
       "                3.0                      2\n",
       "Renault Duster  NaN                     33\n",
       "                0.0                      1\n",
       "Renault Espace  NaN                    528\n",
       "                1.0                    394\n",
       "                2.0                     61\n",
       "                0.0                      5\n",
       "                3.0                      2\n",
       "                4.0                      1\n",
       "Name: dm_previous_owners, dtype: int64"
      ]
     },
     "execution_count": 145,
     "metadata": {},
     "output_type": "execute_result"
    }
   ],
   "source": [
    "df.groupby('make_model').dm_previous_owners.value_counts(dropna=False)"
   ]
  },
  {
   "cell_type": "code",
   "execution_count": 146,
   "metadata": {},
   "outputs": [],
   "source": [
    "lst1 = df.make_model.unique()\n",
    "lst2 = df.dm_registration.unique()\n",
    "for i in lst1:\n",
    "    for j in lst2:\n",
    "        cond = (df.make_model == i) & (df.dm_registration == j)\n",
    "        df.loc[cond, 'dm_previous_owners'] = df.loc[cond, \n",
    "                                'dm_previous_owners'].fillna(method='ffill').fillna(method='bfill')"
   ]
  },
  {
   "cell_type": "code",
   "execution_count": 147,
   "metadata": {},
   "outputs": [
    {
     "data": {
      "text/plain": [
       "1.0    14156\n",
       "2.0     1169\n",
       "0.0      563\n",
       "3.0       29\n",
       "4.0        2\n",
       "Name: dm_previous_owners, dtype: int64"
      ]
     },
     "execution_count": 147,
     "metadata": {},
     "output_type": "execute_result"
    }
   ],
   "source": [
    "df.dm_previous_owners.value_counts(dropna=False)"
   ]
  },
  {
   "cell_type": "code",
   "execution_count": 148,
   "metadata": {},
   "outputs": [
    {
     "data": {
      "text/plain": [
       "1.0    14703\n",
       "2.0     1185\n",
       "3.0       29\n",
       "4.0        2\n",
       "Name: dm_prev_owner, dtype: int64"
      ]
     },
     "execution_count": 148,
     "metadata": {},
     "output_type": "execute_result"
    }
   ],
   "source": [
    "df.dm_prev_owner.value_counts(dropna=False)"
   ]
  },
  {
   "cell_type": "markdown",
   "metadata": {},
   "source": [
    "<div class=\"alert alert-block alert-info\">\n",
    "<p>The dm_previous_owners and dm_prev_owner columns are very similar to each other. One of them should be used in the analysis.</p></div>"
   ]
  },
  {
   "cell_type": "markdown",
   "metadata": {},
   "source": [
    "### 14 - Next Inspection"
   ]
  },
  {
   "cell_type": "code",
   "execution_count": 149,
   "metadata": {},
   "outputs": [
    {
     "ename": "TypeError",
     "evalue": "unhashable type: 'list'",
     "output_type": "error",
     "traceback": [
      "\u001b[0;31m---------------------------------------------------------------------------\u001b[0m",
      "\u001b[0;31mTypeError\u001b[0m                                 Traceback (most recent call last)",
      "\u001b[0;32mpandas/_libs/hashtable_class_helper.pxi\u001b[0m in \u001b[0;36mpandas._libs.hashtable.PyObjectHashTable.map_locations\u001b[0;34m()\u001b[0m\n",
      "\u001b[0;31mTypeError\u001b[0m: unhashable type: 'list'"
     ]
    },
    {
     "name": "stderr",
     "output_type": "stream",
     "text": [
      "Exception ignored in: 'pandas._libs.index.IndexEngine._call_map_locations'\n",
      "Traceback (most recent call last):\n",
      "  File \"pandas/_libs/hashtable_class_helper.pxi\", line 1709, in pandas._libs.hashtable.PyObjectHashTable.map_locations\n",
      "TypeError: unhashable type: 'list'\n"
     ]
    },
    {
     "data": {
      "text/plain": [
       "NaN                                       12384\n",
       "\\n04/2022\\n                                  62\n",
       "\\n03/2021\\n                                  38\n",
       "\\n03/2022\\n                                  36\n",
       "\\n06/2021\\n                                  34\n",
       "                                          ...  \n",
       "[\\n10/2018\\n, \\n4 (Green)\\n]                  1\n",
       "[\\n11/2021\\n, \\n149 g CO2/km (comb)\\n]        1\n",
       "[\\n04/2020\\n, \\n116 g CO2/km (comb)\\n]        1\n",
       "[\\n04/2021\\n, \\n103 g CO2/km (comb)\\n]        1\n",
       "[\\n11/2021\\n, \\n111 g CO2/km (comb)\\n]        1\n",
       "Name: Next Inspection, Length: 1400, dtype: int64"
      ]
     },
     "execution_count": 149,
     "metadata": {},
     "output_type": "execute_result"
    }
   ],
   "source": [
    "df['Next Inspection'].value_counts(dropna=False)"
   ]
  },
  {
   "cell_type": "code",
   "execution_count": 150,
   "metadata": {},
   "outputs": [],
   "source": [
    "df['dm_next_ins'] = df['Next Inspection']"
   ]
  },
  {
   "cell_type": "code",
   "execution_count": 151,
   "metadata": {},
   "outputs": [],
   "source": [
    "import re\n",
    "def convert(x):\n",
    "    if x is not np.nan:\n",
    "        x = str(x)\n",
    "        y = re.findall(\"([0-9]+/[0-9]+)\", x)\n",
    "        return y[0].split('/')[1]\n",
    "    else:\n",
    "        return np.nan"
   ]
  },
  {
   "cell_type": "code",
   "execution_count": 152,
   "metadata": {},
   "outputs": [],
   "source": [
    "df.dm_next_ins = df.dm_next_ins.apply(convert)"
   ]
  },
  {
   "cell_type": "code",
   "execution_count": 153,
   "metadata": {},
   "outputs": [
    {
     "data": {
      "text/plain": [
       "NaN     12384\n",
       "2021     1601\n",
       "2020      694\n",
       "2022      688\n",
       "2019      438\n",
       "2023       47\n",
       "2018       38\n",
       "2017       13\n",
       "2016        6\n",
       "2001        5\n",
       "1955        1\n",
       "1999        1\n",
       "2024        1\n",
       "2014        1\n",
       "1921        1\n",
       "Name: dm_next_ins, dtype: int64"
      ]
     },
     "execution_count": 153,
     "metadata": {},
     "output_type": "execute_result"
    }
   ],
   "source": [
    "df.dm_next_ins.value_counts(dropna=False)"
   ]
  },
  {
   "cell_type": "code",
   "execution_count": 154,
   "metadata": {},
   "outputs": [
    {
     "data": {
      "text/plain": [
       "0.7779383127080847"
      ]
     },
     "execution_count": 154,
     "metadata": {},
     "output_type": "execute_result"
    }
   ],
   "source": [
    "df.dm_next_ins.isnull().sum() / len(df.dm_next_ins)"
   ]
  },
  {
   "cell_type": "code",
   "execution_count": 155,
   "metadata": {},
   "outputs": [],
   "source": [
    "df.drop(['Next Inspection', 'dm_next_ins'], axis=1, inplace=True)"
   ]
  },
  {
   "cell_type": "markdown",
   "metadata": {},
   "source": [
    "<div class=\"alert alert-block alert-danger\">\n",
    "<p>Too many null values. There are some outlier and absurd values. Also, this column does not seem to be related to the target label.</p></div>"
   ]
  },
  {
   "cell_type": "markdown",
   "metadata": {},
   "source": [
    "### 15 - Inspection new"
   ]
  },
  {
   "cell_type": "code",
   "execution_count": 156,
   "metadata": {},
   "outputs": [
    {
     "ename": "TypeError",
     "evalue": "unhashable type: 'list'",
     "output_type": "error",
     "traceback": [
      "\u001b[0;31m---------------------------------------------------------------------------\u001b[0m",
      "\u001b[0;31mTypeError\u001b[0m                                 Traceback (most recent call last)",
      "\u001b[0;32mpandas/_libs/hashtable_class_helper.pxi\u001b[0m in \u001b[0;36mpandas._libs.hashtable.PyObjectHashTable.map_locations\u001b[0;34m()\u001b[0m\n",
      "\u001b[0;31mTypeError\u001b[0m: unhashable type: 'list'"
     ]
    },
    {
     "name": "stderr",
     "output_type": "stream",
     "text": [
      "Exception ignored in: 'pandas._libs.index.IndexEngine._call_map_locations'\n",
      "Traceback (most recent call last):\n",
      "  File \"pandas/_libs/hashtable_class_helper.pxi\", line 1709, in pandas._libs.hashtable.PyObjectHashTable.map_locations\n",
      "TypeError: unhashable type: 'list'\n"
     ]
    },
    {
     "data": {
      "text/plain": [
       "NaN                                                                                            11987\n",
       "[\\nYes\\n, \\nEuro 6\\n]                                                                            523\n",
       "\\nYes\\n                                                                                          362\n",
       "[\\nYes\\n, \\n102 g CO2/km (comb)\\n]                                                               174\n",
       "[\\nYes\\n, \\n4 (Green)\\n]                                                                         166\n",
       "                                                                                               ...  \n",
       "[\\nYes\\n, \\n, 5.1 l/100 km (comb), \\n, 6.4 l/100 km (city), \\n, 4.3 l/100 km (country), \\n]        1\n",
       "[\\nYes\\n, \\n, 6.3 l/100 km (comb), \\n, \\n, \\n]                                                     1\n",
       "[\\nYes\\n, \\n89 g CO2/km (comb)\\n]                                                                  1\n",
       "[\\nYes\\n, \\n, 4.7 l/100 km (comb), \\n, \\n, \\n]                                                     1\n",
       "[\\nYes\\n, \\n, 6.7 l/100 km (comb), \\n, 8.7 l/100 km (city), \\n, 5.6 l/100 km (country), \\n]        1\n",
       "Name: Inspection new, Length: 203, dtype: int64"
      ]
     },
     "execution_count": 156,
     "metadata": {},
     "output_type": "execute_result"
    }
   ],
   "source": [
    "df['Inspection new'].value_counts(dropna=False)"
   ]
  },
  {
   "cell_type": "code",
   "execution_count": 157,
   "metadata": {},
   "outputs": [],
   "source": [
    "df['dm_ins_new'] = df['Inspection new']"
   ]
  },
  {
   "cell_type": "code",
   "execution_count": 158,
   "metadata": {},
   "outputs": [],
   "source": [
    "def convert(x):\n",
    "    x = str(x)\n",
    "    y = re.findall('Yes', x)\n",
    "    if y != []:\n",
    "        \n",
    "        if y[0] == 'Yes':\n",
    "            return 1\n",
    "    else:\n",
    "        return 0"
   ]
  },
  {
   "cell_type": "code",
   "execution_count": 159,
   "metadata": {},
   "outputs": [],
   "source": [
    "df['dm_ins_new'] = df['dm_ins_new'].apply(convert)"
   ]
  },
  {
   "cell_type": "code",
   "execution_count": 160,
   "metadata": {},
   "outputs": [
    {
     "data": {
      "text/plain": [
       "0    11987\n",
       "1     3932\n",
       "Name: dm_ins_new, dtype: int64"
      ]
     },
     "execution_count": 160,
     "metadata": {},
     "output_type": "execute_result"
    }
   ],
   "source": [
    "df['dm_ins_new'].value_counts(dropna=False)"
   ]
  },
  {
   "cell_type": "markdown",
   "metadata": {},
   "source": [
    "<div class=\"alert alert-block alert-success\">\n",
    "<p>If NaN values are assumed to be No, then this column is ready for analysis.</p></div>"
   ]
  },
  {
   "cell_type": "markdown",
   "metadata": {},
   "source": [
    "### 16 - Warranty"
   ]
  },
  {
   "cell_type": "code",
   "execution_count": 161,
   "metadata": {},
   "outputs": [
    {
     "ename": "TypeError",
     "evalue": "unhashable type: 'list'",
     "output_type": "error",
     "traceback": [
      "\u001b[0;31m---------------------------------------------------------------------------\u001b[0m",
      "\u001b[0;31mTypeError\u001b[0m                                 Traceback (most recent call last)",
      "\u001b[0;32mpandas/_libs/hashtable_class_helper.pxi\u001b[0m in \u001b[0;36mpandas._libs.hashtable.PyObjectHashTable.map_locations\u001b[0;34m()\u001b[0m\n",
      "\u001b[0;31mTypeError\u001b[0m: unhashable type: 'list'"
     ]
    },
    {
     "name": "stderr",
     "output_type": "stream",
     "text": [
      "Exception ignored in: 'pandas._libs.index.IndexEngine._call_map_locations'\n",
      "Traceback (most recent call last):\n",
      "  File \"pandas/_libs/hashtable_class_helper.pxi\", line 1709, in pandas._libs.hashtable.PyObjectHashTable.map_locations\n",
      "TypeError: unhashable type: 'list'\n"
     ]
    },
    {
     "data": {
      "text/plain": [
       "NaN                                                                                                  5420\n",
       "[\\n, \\n, \\nEuro 6\\n]                                                                                 1868\n",
       "\\n12 months\\n                                                                                        1177\n",
       "\\n                                                                                                    979\n",
       "\\n24 months\\n                                                                                         566\n",
       "                                                                                                     ... \n",
       "[\\n72 months\\n, \\n140 g CO2/km (comb)\\n]                                                                1\n",
       "[\\n, \\n, \\n188 g CO2/km (comb)\\n]                                                                       1\n",
       "[\\n24 months\\n, \\n88 g CO2/km (comb)\\n]                                                                 1\n",
       "[\\n12 months\\n, \\n, 6.7 l/100 km (comb), \\n, 8.6 l/100 km (city), \\n, 5.6 l/100 km (country), \\n]       1\n",
       "[\\n20 months\\n, \\n120 g CO2/km (comb)\\n]                                                                1\n",
       "Name: Warranty, Length: 516, dtype: int64"
      ]
     },
     "execution_count": 161,
     "metadata": {},
     "output_type": "execute_result"
    }
   ],
   "source": [
    "df.Warranty.value_counts(dropna=False)"
   ]
  },
  {
   "cell_type": "code",
   "execution_count": 162,
   "metadata": {},
   "outputs": [],
   "source": [
    "df['dm_warranty'] = df.Warranty"
   ]
  },
  {
   "cell_type": "code",
   "execution_count": 163,
   "metadata": {},
   "outputs": [],
   "source": [
    "import re\n",
    "def convert(x):\n",
    "    if x is not np.nan:\n",
    "        x = str(x)\n",
    "        y = re.findall('([0-9]+)\\smonths', x)\n",
    "        if y == []:\n",
    "            return np.nan\n",
    "        else:\n",
    "            return float(y[0])\n",
    "    else:\n",
    "        return np.nan"
   ]
  },
  {
   "cell_type": "code",
   "execution_count": 164,
   "metadata": {},
   "outputs": [],
   "source": [
    "df.dm_warranty = df.dm_warranty.apply(convert)"
   ]
  },
  {
   "cell_type": "code",
   "execution_count": 165,
   "metadata": {},
   "outputs": [
    {
     "data": {
      "text/plain": [
       "NaN     11066\n",
       "12.0     2594\n",
       "24.0     1118\n",
       "60.0      401\n",
       "36.0      279\n",
       "48.0      149\n",
       "6.0       125\n",
       "72.0       59\n",
       "3.0        33\n",
       "23.0       11\n",
       "18.0       10\n",
       "20.0        7\n",
       "25.0        6\n",
       "2.0         5\n",
       "26.0        4\n",
       "50.0        4\n",
       "16.0        4\n",
       "1.0         3\n",
       "4.0         3\n",
       "34.0        3\n",
       "19.0        3\n",
       "13.0        3\n",
       "11.0        2\n",
       "21.0        2\n",
       "14.0        2\n",
       "17.0        2\n",
       "45.0        2\n",
       "46.0        2\n",
       "9.0         2\n",
       "22.0        2\n",
       "28.0        2\n",
       "56.0        1\n",
       "47.0        1\n",
       "10.0        1\n",
       "8.0         1\n",
       "7.0         1\n",
       "40.0        1\n",
       "33.0        1\n",
       "65.0        1\n",
       "15.0        1\n",
       "30.0        1\n",
       "49.0        1\n",
       "Name: dm_warranty, dtype: int64"
      ]
     },
     "execution_count": 165,
     "metadata": {},
     "output_type": "execute_result"
    }
   ],
   "source": [
    "df.dm_warranty.value_counts(dropna=False)"
   ]
  },
  {
   "cell_type": "code",
   "execution_count": 166,
   "metadata": {},
   "outputs": [
    {
     "data": {
      "text/plain": [
       "0.6951441673471952"
      ]
     },
     "execution_count": 166,
     "metadata": {},
     "output_type": "execute_result"
    }
   ],
   "source": [
    "df.dm_warranty.isnull().sum() / len(df)"
   ]
  },
  {
   "cell_type": "code",
   "execution_count": 167,
   "metadata": {},
   "outputs": [
    {
     "data": {
      "text/plain": [
       "dm_registration  dm_warranty\n",
       "0.0              NaN            3276\n",
       "                 24.0            539\n",
       "                 12.0            216\n",
       "                 36.0            119\n",
       "                 60.0            111\n",
       "                 48.0             87\n",
       "                 72.0             59\n",
       "                 3.0               7\n",
       "                 20.0              6\n",
       "                 23.0              5\n",
       "                 4.0               2\n",
       "                 18.0              2\n",
       "                 19.0              2\n",
       "                 2.0               1\n",
       "                 6.0               1\n",
       "                 11.0              1\n",
       "                 45.0              1\n",
       "                 56.0              1\n",
       "                 65.0              1\n",
       "1.0              NaN            3161\n",
       "                 12.0            696\n",
       "                 24.0            358\n",
       "                 60.0            132\n",
       "                 36.0             60\n",
       "                 48.0             50\n",
       "                 6.0              17\n",
       "                 18.0              8\n",
       "                 25.0              6\n",
       "                 16.0              4\n",
       "                 50.0              4\n",
       "                 3.0               3\n",
       "                 13.0              3\n",
       "                 23.0              3\n",
       "                 26.0              3\n",
       "                 34.0              3\n",
       "                 9.0               2\n",
       "                 28.0              2\n",
       "                 46.0              2\n",
       "                 1.0               1\n",
       "                 4.0               1\n",
       "                 14.0              1\n",
       "                 15.0              1\n",
       "                 17.0              1\n",
       "                 19.0              1\n",
       "                 20.0              1\n",
       "                 21.0              1\n",
       "                 30.0              1\n",
       "                 33.0              1\n",
       "                 45.0              1\n",
       "                 47.0              1\n",
       "                 49.0              1\n",
       "2.0              NaN            2157\n",
       "                 12.0            777\n",
       "                 24.0            176\n",
       "                 60.0             57\n",
       "                 6.0              39\n",
       "                 36.0             38\n",
       "                 48.0             11\n",
       "                 3.0               8\n",
       "                 2.0               2\n",
       "                 22.0              2\n",
       "                 23.0              2\n",
       "                 1.0               1\n",
       "                 7.0               1\n",
       "                 10.0              1\n",
       "                 14.0              1\n",
       "3.0              NaN            2472\n",
       "                 12.0            905\n",
       "                 60.0            101\n",
       "                 6.0              68\n",
       "                 36.0             62\n",
       "                 24.0             45\n",
       "                 3.0              15\n",
       "                 2.0               2\n",
       "                 1.0               1\n",
       "                 8.0               1\n",
       "                 11.0              1\n",
       "                 17.0              1\n",
       "                 21.0              1\n",
       "                 23.0              1\n",
       "                 26.0              1\n",
       "                 40.0              1\n",
       "                 48.0              1\n",
       "Name: dm_warranty, dtype: int64"
      ]
     },
     "execution_count": 167,
     "metadata": {},
     "output_type": "execute_result"
    }
   ],
   "source": [
    "df.groupby('dm_registration').dm_warranty.value_counts(dropna=False)"
   ]
  },
  {
   "cell_type": "code",
   "execution_count": 168,
   "metadata": {},
   "outputs": [],
   "source": [
    "for i in df.dm_registration.unique():\n",
    "    cond = df.dm_registration == i\n",
    "    df.loc[cond, 'dm_warranty'] = df.loc[cond, \n",
    "                                'dm_warranty'].fillna(method='ffill').fillna(method='bfill')"
   ]
  },
  {
   "cell_type": "code",
   "execution_count": 169,
   "metadata": {},
   "outputs": [
    {
     "data": {
      "text/plain": [
       "0"
      ]
     },
     "execution_count": 169,
     "metadata": {},
     "output_type": "execute_result"
    }
   ],
   "source": [
    "df.dm_warranty.isnull().sum()"
   ]
  },
  {
   "cell_type": "code",
   "execution_count": 170,
   "metadata": {},
   "outputs": [
    {
     "data": {
      "text/plain": [
       "1.0        4\n",
       "2.0       29\n",
       "3.0      123\n",
       "4.0       23\n",
       "6.0      395\n",
       "7.0        2\n",
       "8.0        6\n",
       "9.0       12\n",
       "10.0       2\n",
       "11.0       7\n",
       "12.0    8304\n",
       "13.0      11\n",
       "14.0       2\n",
       "15.0       8\n",
       "16.0      13\n",
       "17.0       8\n",
       "18.0      46\n",
       "19.0       8\n",
       "20.0      35\n",
       "21.0       2\n",
       "22.0       3\n",
       "23.0      46\n",
       "24.0    3773\n",
       "25.0      19\n",
       "26.0      17\n",
       "28.0      13\n",
       "30.0       3\n",
       "33.0       1\n",
       "34.0      10\n",
       "36.0     760\n",
       "40.0       3\n",
       "45.0      11\n",
       "46.0      16\n",
       "47.0       1\n",
       "48.0     481\n",
       "49.0      11\n",
       "50.0       7\n",
       "56.0       3\n",
       "60.0    1437\n",
       "65.0       4\n",
       "72.0     260\n",
       "Name: dm_warranty, dtype: int64"
      ]
     },
     "execution_count": 170,
     "metadata": {},
     "output_type": "execute_result"
    }
   ],
   "source": [
    "df.dm_warranty.value_counts(dropna=False).sort_index()"
   ]
  },
  {
   "cell_type": "markdown",
   "metadata": {},
   "source": [
    "<div class=\"alert alert-block alert-info\">\n",
    "<p>Consider grouping the values in 12, 24, 36, 48, and 60.</p></div>"
   ]
  },
  {
   "cell_type": "markdown",
   "metadata": {},
   "source": [
    "### 17 - Full Service"
   ]
  },
  {
   "cell_type": "code",
   "execution_count": 171,
   "metadata": {},
   "outputs": [
    {
     "ename": "TypeError",
     "evalue": "unhashable type: 'list'",
     "output_type": "error",
     "traceback": [
      "\u001b[0;31m---------------------------------------------------------------------------\u001b[0m",
      "\u001b[0;31mTypeError\u001b[0m                                 Traceback (most recent call last)",
      "\u001b[0;32mpandas/_libs/hashtable_class_helper.pxi\u001b[0m in \u001b[0;36mpandas._libs.hashtable.PyObjectHashTable.map_locations\u001b[0;34m()\u001b[0m\n",
      "\u001b[0;31mTypeError\u001b[0m: unhashable type: 'list'"
     ]
    },
    {
     "name": "stderr",
     "output_type": "stream",
     "text": [
      "Exception ignored in: 'pandas._libs.index.IndexEngine._call_map_locations'\n",
      "Traceback (most recent call last):\n",
      "  File \"pandas/_libs/hashtable_class_helper.pxi\", line 1709, in pandas._libs.hashtable.PyObjectHashTable.map_locations\n",
      "TypeError: unhashable type: 'list'\n"
     ]
    },
    {
     "data": {
      "text/plain": [
       "NaN                                                                                           7704\n",
       "[\\n, \\n, \\n4 (Green)\\n]                                                                       2235\n",
       "[\\n, \\n, \\nEuro 6\\n]                                                                          2097\n",
       "[\\n, \\n]                                                                                      1702\n",
       "[\\n, \\n, \\nEuro 6d-TEMP\\n]                                                                     399\n",
       "                                                                                              ... \n",
       "[\\n, \\n, \\n, 4.3 l/100 km (comb), \\n, 5.2 l/100 km (city), \\n, 3.9 l/100 km (country), \\n]       1\n",
       "[\\n, \\n, \\n, 4.6 l/100 km (comb), \\n, 5.8 l/100 km (city), \\n, 3.9 l/100 km (country), \\n]       1\n",
       "[\\n, \\n, \\nEuro 4\\n]                                                                             1\n",
       "[\\n, \\n, \\n, 6.6 l/100 km (comb), \\n, 8.4 l/100 km (city), \\n, 5.6 l/100 km (country), \\n]       1\n",
       "[\\n, \\n, \\n, 5.4 l/100 km (comb), \\n, 7.3 l/100 km (city), \\n, 4.2 l/100 km (country), \\n]       1\n",
       "Name: Full Service, Length: 123, dtype: int64"
      ]
     },
     "execution_count": 171,
     "metadata": {},
     "output_type": "execute_result"
    }
   ],
   "source": [
    "df['Full Service'].value_counts(dropna=False)"
   ]
  },
  {
   "cell_type": "code",
   "execution_count": 172,
   "metadata": {},
   "outputs": [],
   "source": [
    "df.drop('Full Service', axis=1, inplace=True)"
   ]
  },
  {
   "cell_type": "markdown",
   "metadata": {},
   "source": [
    "<div class=\"alert alert-block alert-danger\">\n",
    "<p>Useless column. It shouldn't be included in the analysis.</p></div>"
   ]
  },
  {
   "cell_type": "markdown",
   "metadata": {},
   "source": [
    "### 18 - Non-smoking Vehicle"
   ]
  },
  {
   "cell_type": "code",
   "execution_count": 173,
   "metadata": {},
   "outputs": [
    {
     "ename": "TypeError",
     "evalue": "unhashable type: 'list'",
     "output_type": "error",
     "traceback": [
      "\u001b[0;31m---------------------------------------------------------------------------\u001b[0m",
      "\u001b[0;31mTypeError\u001b[0m                                 Traceback (most recent call last)",
      "\u001b[0;32mpandas/_libs/hashtable_class_helper.pxi\u001b[0m in \u001b[0;36mpandas._libs.hashtable.PyObjectHashTable.map_locations\u001b[0;34m()\u001b[0m\n",
      "\u001b[0;31mTypeError\u001b[0m: unhashable type: 'list'"
     ]
    },
    {
     "name": "stderr",
     "output_type": "stream",
     "text": [
      "Exception ignored in: 'pandas._libs.index.IndexEngine._call_map_locations'\n",
      "Traceback (most recent call last):\n",
      "  File \"pandas/_libs/hashtable_class_helper.pxi\", line 1709, in pandas._libs.hashtable.PyObjectHashTable.map_locations\n",
      "TypeError: unhashable type: 'list'\n"
     ]
    },
    {
     "data": {
      "text/plain": [
       "NaN                                                                                           8742\n",
       "[\\n, \\n]                                                                                      3647\n",
       "[\\n, \\n, \\n4 (Green)\\n]                                                                       1240\n",
       "[\\n, \\n, \\nEuro 6\\n]                                                                          1127\n",
       "[\\n, \\n, \\nEuro 6d-TEMP\\n]                                                                     345\n",
       "\\n                                                                                              70\n",
       "[\\n, \\n, \\n120 g CO2/km (comb)\\n]                                                               63\n",
       "[\\n, \\n, \\n85 g CO2/km (comb)\\n]                                                                46\n",
       "[\\n, \\n, \\n107 g CO2/km (comb)\\n]                                                               36\n",
       "[\\n, \\n, \\n104 g CO2/km (comb)\\n]                                                               36\n",
       "[\\n, \\n, \\n153 g CO2/km (comb)\\n]                                                               31\n",
       "[\\n, \\n, \\n124 g CO2/km (comb)\\n]                                                               29\n",
       "[\\n, \\n, \\n1 (No sticker)\\n]                                                                    24\n",
       "[\\n, \\n, \\n99 g CO2/km (comb)\\n]                                                                23\n",
       "[\\n, \\n, \\n106 g CO2/km (comb)\\n]                                                               20\n",
       "[\\n, \\n, \\n97 g CO2/km (comb)\\n]                                                                20\n",
       "[\\n, \\n, \\n108 g CO2/km (comb)\\n]                                                               19\n",
       "[\\n, \\n, \\n100 g CO2/km (comb)\\n]                                                               18\n",
       "[\\n, \\n, \\n109 g CO2/km (comb)\\n]                                                               18\n",
       "[\\n, \\n, \\n105 g CO2/km (comb)\\n]                                                               18\n",
       "[\\n, \\n, \\n113 g CO2/km (comb)\\n]                                                               18\n",
       "[\\n, \\n, \\nEuro 6c\\n]                                                                           17\n",
       "[\\n, \\n, \\n98 g CO2/km (comb)\\n]                                                                15\n",
       "[\\n, \\n, \\n129 g CO2/km (comb)\\n]                                                               14\n",
       "[\\n, \\n, \\n131 g CO2/km (comb)\\n]                                                               13\n",
       "[\\n, \\n, \\n114 g CO2/km (comb)\\n]                                                               12\n",
       "[\\n, \\n, \\n133 g CO2/km (comb)\\n]                                                               12\n",
       "[\\n, \\n, \\n103 g CO2/km (comb)\\n]                                                               12\n",
       "[\\n, \\n, \\n135 g CO2/km (comb)\\n]                                                               11\n",
       "[\\n, \\n, \\n116 g CO2/km (comb)\\n]                                                               11\n",
       "[\\n, \\n, \\n102 g CO2/km (comb)\\n]                                                               11\n",
       "[\\n, \\n, \\n127 g CO2/km (comb)\\n]                                                               10\n",
       "[\\n, \\n, \\n143 g CO2/km (comb)\\n]                                                               10\n",
       "[\\n, \\n, \\nEuro 6d\\n]                                                                            9\n",
       "[\\n, \\n, \\n112 g CO2/km (comb)\\n]                                                                9\n",
       "[\\n, \\n, \\n92 g CO2/km (comb)\\n]                                                                 9\n",
       "[\\n, \\n, \\n118 g CO2/km (comb)\\n]                                                                8\n",
       "[\\n, \\n, \\n5 (Blue)\\n]                                                                           8\n",
       "[\\n, \\n, \\n128 g CO2/km (comb)\\n]                                                                7\n",
       "[\\n, \\n, \\n139 g CO2/km (comb)\\n]                                                                7\n",
       "[\\n, \\n, \\n147 g CO2/km (comb)\\n]                                                                7\n",
       "[\\n, \\n, \\n137 g CO2/km (comb)\\n]                                                                6\n",
       "[\\n, \\n, \\n126 g CO2/km (comb)\\n]                                                                6\n",
       "[\\n, \\n, \\n117 g CO2/km (comb)\\n]                                                                6\n",
       "[\\n, \\n, \\n140 g CO2/km (comb)\\n]                                                                6\n",
       "[\\n, \\n, \\n115 g CO2/km (comb)\\n]                                                                5\n",
       "[\\n, \\n, \\n130 g CO2/km (comb)\\n]                                                                5\n",
       "[\\n, \\n, \\n, 5.2 l/100 km (comb), \\n, 5.8 l/100 km (city), \\n, 4.8 l/100 km (country), \\n]       4\n",
       "[\\n, \\n, \\n123 g CO2/km (comb)\\n]                                                                4\n",
       "[\\n, \\n, \\nEuro 5\\n]                                                                             4\n",
       "[\\n, \\n, \\n151 g CO2/km (comb)\\n]                                                                4\n",
       "[\\n, \\n, \\n110 g CO2/km (comb)\\n]                                                                3\n",
       "[\\n, \\n, \\n119 g CO2/km (comb)\\n]                                                                3\n",
       "[\\n, \\n, \\n136 g CO2/km (comb)\\n]                                                                3\n",
       "[\\n, \\n, \\n149 g CO2/km (comb)\\n]                                                                3\n",
       "[\\n, \\n, \\n157 g CO2/km (comb)\\n]                                                                3\n",
       "[\\n, \\n, \\n148 g CO2/km (comb)\\n]                                                                3\n",
       "[\\n, \\n, \\n95 g CO2/km (comb)\\n]                                                                 3\n",
       "[\\n, \\n, \\n125 g CO2/km (comb)\\n]                                                                2\n",
       "[\\n, \\n, \\n111 g CO2/km (comb)\\n]                                                                2\n",
       "[\\n, \\n, \\n121 g CO2/km (comb)\\n]                                                                2\n",
       "[\\n, \\n, \\n90 g CO2/km (comb)\\n]                                                                 2\n",
       "[\\n, \\n, \\n134 g CO2/km (comb)\\n]                                                                2\n",
       "[\\n, \\n, \\n166 g CO2/km (comb)\\n]                                                                2\n",
       "[\\n, \\n, \\n142 g CO2/km (comb)\\n]                                                                2\n",
       "[\\n, \\n, \\n138 g CO2/km (comb)\\n]                                                                2\n",
       "[\\n, \\n, \\n, 5.2 l/100 km (comb), \\n, 6.4 l/100 km (city), \\n, 4.4 l/100 km (country), \\n]       2\n",
       "[\\n, \\n, \\n, 6.1 l/100 km (comb), \\n, 7.8 l/100 km (city), \\n, 5.1 l/100 km (country), \\n]       1\n",
       "[\\n, \\n, \\n, 6.1 l/100 km (comb), \\n, 7.7 l/100 km (city), \\n, 5.2 l/100 km (country), \\n]       1\n",
       "[\\n, \\n, \\n, 6.4 l/100 km (comb), \\n, 8.1 l/100 km (city), \\n, 5.4 l/100 km (country), \\n]       1\n",
       "[\\n, \\n, \\n156 g CO2/km (comb)\\n]                                                                1\n",
       "[\\n, \\n, \\n144 g CO2/km (comb)\\n]                                                                1\n",
       "[\\n, \\n, \\n146 g CO2/km (comb)\\n]                                                                1\n",
       "[\\n, \\n, \\n, 6.3 l/100 km (comb), \\n, 8 l/100 km (city), \\n, 5.3 l/100 km (country), \\n]         1\n",
       "[\\n, \\n, \\n, 6.5 l/100 km (comb), \\n, 7.9 l/100 km (city), \\n, 5.6 l/100 km (country), \\n]       1\n",
       "[\\n, \\n, \\n154 g CO2/km (comb)\\n]                                                                1\n",
       "[\\n, \\n, \\n82 g CO2/km (comb)\\n]                                                                 1\n",
       "[\\n, \\n, \\n152 g CO2/km (comb)\\n]                                                                1\n",
       "[\\n, \\n, \\n159 g CO2/km (comb)\\n]                                                                1\n",
       "[\\n, \\n, \\n132 g CO2/km (comb)\\n]                                                                1\n",
       "[\\n, \\n, \\n169 g CO2/km (comb)\\n]                                                                1\n",
       "[\\n, \\n, \\n91 g CO2/km (comb)\\n]                                                                 1\n",
       "[\\n, \\n, \\n101 g CO2/km (comb)\\n]                                                                1\n",
       "[\\n, \\n, \\n, 6.2 l/100 km (comb), \\n, 7.9 l/100 km (city), \\n, 5.3 l/100 km (country), \\n]       1\n",
       "[\\n, \\n, \\n189 g CO2/km (comb)\\n]                                                                1\n",
       "[\\n, \\n, \\n, 1.6 l/100 km (comb), \\n, \\n, \\n]                                                    1\n",
       "[\\n, \\n, \\n122 g CO2/km (comb)\\n]                                                                1\n",
       "[\\n, \\n, \\n, 5.6 l/100 km (comb), \\n, 7.3 l/100 km (city), \\n, 4.7 l/100 km (country), \\n]       1\n",
       "[\\n, \\n, \\n158 g CO2/km (comb)\\n]                                                                1\n",
       "[\\n, \\n, \\n172 g CO2/km (comb)\\n]                                                                1\n",
       "[\\n, \\n, \\n175 g CO2/km (comb)\\n]                                                                1\n",
       "[\\n, \\n, \\n, 5.7 l/100 km (comb), \\n, 7.3 l/100 km (city), \\n, 4.7 l/100 km (country), \\n]       1\n",
       "[\\n, \\n, \\n, 6.5 l/100 km (comb), \\n, 8.5 l/100 km (city), \\n, 5.4 l/100 km (country), \\n]       1\n",
       "[\\n, \\n, \\n150 g CO2/km (comb)\\n]                                                                1\n",
       "[\\n, \\n, \\n161 g CO2/km (comb)\\n]                                                                1\n",
       "Name: Non-smoking Vehicle, dtype: int64"
      ]
     },
     "execution_count": 173,
     "metadata": {},
     "output_type": "execute_result"
    }
   ],
   "source": [
    "df['Non-smoking Vehicle'].value_counts(dropna=False)"
   ]
  },
  {
   "cell_type": "code",
   "execution_count": 174,
   "metadata": {},
   "outputs": [],
   "source": [
    "df.drop('Non-smoking Vehicle', axis=1, inplace=True)"
   ]
  },
  {
   "cell_type": "markdown",
   "metadata": {},
   "source": [
    "<div class=\"alert alert-block alert-danger\">\n",
    "<p>Useless column. It shouldn't be included in the analysis.</p></div>"
   ]
  },
  {
   "cell_type": "markdown",
   "metadata": {},
   "source": [
    "### 19 - null"
   ]
  },
  {
   "cell_type": "code",
   "execution_count": 175,
   "metadata": {},
   "outputs": [
    {
     "ename": "TypeError",
     "evalue": "unhashable type: 'list'",
     "output_type": "error",
     "traceback": [
      "\u001b[0;31m---------------------------------------------------------------------------\u001b[0m",
      "\u001b[0;31mTypeError\u001b[0m                                 Traceback (most recent call last)",
      "\u001b[0;32mpandas/_libs/hashtable_class_helper.pxi\u001b[0m in \u001b[0;36mpandas._libs.hashtable.PyObjectHashTable.map_locations\u001b[0;34m()\u001b[0m\n",
      "\u001b[0;31mTypeError\u001b[0m: unhashable type: 'list'"
     ]
    },
    {
     "name": "stderr",
     "output_type": "stream",
     "text": [
      "Exception ignored in: 'pandas._libs.index.IndexEngine._call_map_locations'\n",
      "Traceback (most recent call last):\n",
      "  File \"pandas/_libs/hashtable_class_helper.pxi\", line 1709, in pandas._libs.hashtable.PyObjectHashTable.map_locations\n",
      "TypeError: unhashable type: 'list'\n"
     ]
    },
    {
     "data": {
      "text/plain": [
       "[]    15919\n",
       "Name: null, dtype: int64"
      ]
     },
     "execution_count": 175,
     "metadata": {},
     "output_type": "execute_result"
    }
   ],
   "source": [
    "df.null.value_counts(dropna=False)"
   ]
  },
  {
   "cell_type": "code",
   "execution_count": 176,
   "metadata": {},
   "outputs": [],
   "source": [
    "df.drop('null', axis=1, inplace=True)"
   ]
  },
  {
   "cell_type": "markdown",
   "metadata": {},
   "source": [
    "<div class=\"alert alert-block alert-danger\">\n",
    "<p>Useless column. It shouldn't be included in the analysis.</p></div>"
   ]
  },
  {
   "cell_type": "markdown",
   "metadata": {},
   "source": [
    "### 20 - Make"
   ]
  },
  {
   "cell_type": "code",
   "execution_count": 177,
   "metadata": {},
   "outputs": [
    {
     "data": {
      "text/plain": [
       "\\nOpel\\n       7343\n",
       "\\nAudi\\n       5712\n",
       "\\nRenault\\n    2864\n",
       "Name: Make, dtype: int64"
      ]
     },
     "execution_count": 177,
     "metadata": {},
     "output_type": "execute_result"
    }
   ],
   "source": [
    "df.Make.value_counts(dropna=False)"
   ]
  },
  {
   "cell_type": "code",
   "execution_count": 178,
   "metadata": {},
   "outputs": [],
   "source": [
    "df['dm_make'] = df.Make"
   ]
  },
  {
   "cell_type": "code",
   "execution_count": 179,
   "metadata": {},
   "outputs": [],
   "source": [
    "df.dm_make = df.dm_make.str.extract('([a-zA-Z]+)\\n')"
   ]
  },
  {
   "cell_type": "code",
   "execution_count": 180,
   "metadata": {},
   "outputs": [
    {
     "data": {
      "text/plain": [
       "Opel       7343\n",
       "Audi       5712\n",
       "Renault    2864\n",
       "Name: dm_make, dtype: int64"
      ]
     },
     "execution_count": 180,
     "metadata": {},
     "output_type": "execute_result"
    }
   ],
   "source": [
    "df.dm_make.value_counts(dropna=False)"
   ]
  },
  {
   "cell_type": "code",
   "execution_count": 181,
   "metadata": {},
   "outputs": [
    {
     "data": {
      "text/plain": [
       "make_model      dm_make\n",
       "Audi A1         Audi       2614\n",
       "Audi A2         Audi          1\n",
       "Audi A3         Audi       3097\n",
       "Opel Astra      Opel       2526\n",
       "Opel Corsa      Opel       2219\n",
       "Opel Insignia   Opel       2598\n",
       "Renault Clio    Renault    1839\n",
       "Renault Duster  Renault      34\n",
       "Renault Espace  Renault     991\n",
       "Name: dm_make, dtype: int64"
      ]
     },
     "execution_count": 181,
     "metadata": {},
     "output_type": "execute_result"
    }
   ],
   "source": [
    "df.groupby('make_model').dm_make.value_counts()"
   ]
  },
  {
   "cell_type": "code",
   "execution_count": 182,
   "metadata": {},
   "outputs": [],
   "source": [
    "# df_dummied = pd.get_dummies(df.dm_make, prefix='make_', prefix_sep='', columns=['make'], dtype='float64')\n",
    "# df = pd.concat([df, df_dummied], axis=1)"
   ]
  },
  {
   "cell_type": "markdown",
   "metadata": {},
   "source": [
    "<div class=\"alert alert-block alert-info\">\n",
    "<p>Consider using the dummied columns since we already have a make_model column representing the values here.</p></div>"
   ]
  },
  {
   "cell_type": "markdown",
   "metadata": {},
   "source": [
    "### 21 - Model"
   ]
  },
  {
   "cell_type": "code",
   "execution_count": 183,
   "metadata": {},
   "outputs": [
    {
     "ename": "TypeError",
     "evalue": "unhashable type: 'list'",
     "output_type": "error",
     "traceback": [
      "\u001b[0;31m---------------------------------------------------------------------------\u001b[0m",
      "\u001b[0;31mTypeError\u001b[0m                                 Traceback (most recent call last)",
      "\u001b[0;32mpandas/_libs/hashtable_class_helper.pxi\u001b[0m in \u001b[0;36mpandas._libs.hashtable.PyObjectHashTable.map_locations\u001b[0;34m()\u001b[0m\n",
      "\u001b[0;31mTypeError\u001b[0m: unhashable type: 'list'"
     ]
    },
    {
     "name": "stderr",
     "output_type": "stream",
     "text": [
      "Exception ignored in: 'pandas._libs.index.IndexEngine._call_map_locations'\n",
      "Traceback (most recent call last):\n",
      "  File \"pandas/_libs/hashtable_class_helper.pxi\", line 1709, in pandas._libs.hashtable.PyObjectHashTable.map_locations\n",
      "TypeError: unhashable type: 'list'\n"
     ]
    },
    {
     "data": {
      "text/plain": [
       "[\\n, A3, \\n]          3097\n",
       "[\\n, A1, \\n]          2614\n",
       "[\\n, Insignia, \\n]    2598\n",
       "[\\n, Astra, \\n]       2526\n",
       "[\\n, Corsa, \\n]       2219\n",
       "[\\n, Clio, \\n]        1839\n",
       "[\\n, Espace, \\n]       991\n",
       "[\\n, Duster, \\n]        34\n",
       "[\\n, A2, \\n]             1\n",
       "Name: Model, dtype: int64"
      ]
     },
     "execution_count": 183,
     "metadata": {},
     "output_type": "execute_result"
    }
   ],
   "source": [
    "df.Model.value_counts(dropna=False)"
   ]
  },
  {
   "cell_type": "code",
   "execution_count": 184,
   "metadata": {},
   "outputs": [],
   "source": [
    "df['dm_model'] = df.Model"
   ]
  },
  {
   "cell_type": "code",
   "execution_count": 185,
   "metadata": {},
   "outputs": [],
   "source": [
    "def convert(x):\n",
    "    x = str(x)\n",
    "    y = re.findall(\"'([a-zA-Z0-9]+)'\", x)\n",
    "    return y[0]"
   ]
  },
  {
   "cell_type": "code",
   "execution_count": 186,
   "metadata": {},
   "outputs": [],
   "source": [
    "df.dm_model = df.dm_model.apply(convert)"
   ]
  },
  {
   "cell_type": "code",
   "execution_count": 187,
   "metadata": {},
   "outputs": [
    {
     "data": {
      "text/plain": [
       "A3          3097\n",
       "A1          2614\n",
       "Insignia    2598\n",
       "Astra       2526\n",
       "Corsa       2219\n",
       "Clio        1839\n",
       "Espace       991\n",
       "Duster        34\n",
       "A2             1\n",
       "Name: dm_model, dtype: int64"
      ]
     },
     "execution_count": 187,
     "metadata": {},
     "output_type": "execute_result"
    }
   ],
   "source": [
    "df.dm_model.value_counts(dropna=False)"
   ]
  },
  {
   "cell_type": "code",
   "execution_count": 188,
   "metadata": {},
   "outputs": [],
   "source": [
    "# df_dummied = pd.get_dummies(df.dm_model, prefix='model_', prefix_sep='', columns=['model'], dtype='float64')\n",
    "# df = pd.concat([df, df_dummied], axis=1)"
   ]
  },
  {
   "cell_type": "markdown",
   "metadata": {},
   "source": [
    "<div class=\"alert alert-block alert-info\">\n",
    "<p>Again, consider using the dummied columns since we already have a make_model column representing the values here.</p></div>"
   ]
  },
  {
   "cell_type": "markdown",
   "metadata": {},
   "source": [
    "### 22 - Offer Number"
   ]
  },
  {
   "cell_type": "code",
   "execution_count": 189,
   "metadata": {},
   "outputs": [
    {
     "ename": "TypeError",
     "evalue": "unhashable type: 'list'",
     "output_type": "error",
     "traceback": [
      "\u001b[0;31m---------------------------------------------------------------------------\u001b[0m",
      "\u001b[0;31mTypeError\u001b[0m                                 Traceback (most recent call last)",
      "\u001b[0;32mpandas/_libs/hashtable_class_helper.pxi\u001b[0m in \u001b[0;36mpandas._libs.hashtable.PyObjectHashTable.map_locations\u001b[0;34m()\u001b[0m\n",
      "\u001b[0;31mTypeError\u001b[0m: unhashable type: 'list'"
     ]
    },
    {
     "name": "stderr",
     "output_type": "stream",
     "text": [
      "Exception ignored in: 'pandas._libs.index.IndexEngine._call_map_locations'\n",
      "Traceback (most recent call last):\n",
      "  File \"pandas/_libs/hashtable_class_helper.pxi\", line 1709, in pandas._libs.hashtable.PyObjectHashTable.map_locations\n",
      "TypeError: unhashable type: 'list'\n"
     ]
    },
    {
     "data": {
      "text/plain": [
       "NaN                       3175\n",
       "[\\nXJ38068\\n]               27\n",
       "[\\nHM53619\\n]               27\n",
       "[\\nLT67679\\n]               27\n",
       "[\\nJV03654\\n]               27\n",
       "                          ... \n",
       "[\\nE84_474_6130_158\\n]       1\n",
       "[\\n101\\n]                    1\n",
       "[\\n418394\\n]                 1\n",
       "[\\nrv290009\\n]               1\n",
       "[\\nG02394\\n]                 1\n",
       "Name: Offer Number, Length: 11441, dtype: int64"
      ]
     },
     "execution_count": 189,
     "metadata": {},
     "output_type": "execute_result"
    }
   ],
   "source": [
    "df['Offer Number'].value_counts(dropna=False)"
   ]
  },
  {
   "cell_type": "code",
   "execution_count": 190,
   "metadata": {},
   "outputs": [],
   "source": [
    "df.drop('Offer Number', axis=1, inplace=True)"
   ]
  },
  {
   "cell_type": "markdown",
   "metadata": {},
   "source": [
    "<div class=\"alert alert-block alert-danger\">\n",
    "<p>Useless column. It shouldn't be included in the analysis.</p></div>"
   ]
  },
  {
   "cell_type": "markdown",
   "metadata": {},
   "source": [
    "### 23 - First Registration"
   ]
  },
  {
   "cell_type": "code",
   "execution_count": 191,
   "metadata": {},
   "outputs": [
    {
     "ename": "TypeError",
     "evalue": "unhashable type: 'list'",
     "output_type": "error",
     "traceback": [
      "\u001b[0;31m---------------------------------------------------------------------------\u001b[0m",
      "\u001b[0;31mTypeError\u001b[0m                                 Traceback (most recent call last)",
      "\u001b[0;32mpandas/_libs/hashtable_class_helper.pxi\u001b[0m in \u001b[0;36mpandas._libs.hashtable.PyObjectHashTable.map_locations\u001b[0;34m()\u001b[0m\n",
      "\u001b[0;31mTypeError\u001b[0m: unhashable type: 'list'"
     ]
    },
    {
     "name": "stderr",
     "output_type": "stream",
     "text": [
      "Exception ignored in: 'pandas._libs.index.IndexEngine._call_map_locations'\n",
      "Traceback (most recent call last):\n",
      "  File \"pandas/_libs/hashtable_class_helper.pxi\", line 1709, in pandas._libs.hashtable.PyObjectHashTable.map_locations\n",
      "TypeError: unhashable type: 'list'\n"
     ]
    },
    {
     "data": {
      "text/plain": [
       "[\\n, 2018, \\n]    4522\n",
       "[\\n, 2016, \\n]    3674\n",
       "[\\n, 2017, \\n]    3273\n",
       "[\\n, 2019, \\n]    2853\n",
       "NaN               1597\n",
       "Name: First Registration, dtype: int64"
      ]
     },
     "execution_count": 191,
     "metadata": {},
     "output_type": "execute_result"
    }
   ],
   "source": [
    "df['First Registration'].value_counts(dropna=False)"
   ]
  },
  {
   "cell_type": "code",
   "execution_count": 192,
   "metadata": {},
   "outputs": [],
   "source": [
    "df['dm_first_reg'] = df['First Registration']"
   ]
  },
  {
   "cell_type": "code",
   "execution_count": 193,
   "metadata": {},
   "outputs": [],
   "source": [
    "def convert(x):\n",
    "    if x is not np.nan:\n",
    "        x = str(x)\n",
    "        y = re.findall(\"([0-9]+)\", x)\n",
    "        return float(y[0])"
   ]
  },
  {
   "cell_type": "code",
   "execution_count": 194,
   "metadata": {},
   "outputs": [],
   "source": [
    "df.dm_first_reg = df.dm_first_reg.apply(convert)"
   ]
  },
  {
   "cell_type": "code",
   "execution_count": 195,
   "metadata": {},
   "outputs": [
    {
     "data": {
      "text/plain": [
       "2018.0    4522\n",
       "2016.0    3674\n",
       "2017.0    3273\n",
       "2019.0    2853\n",
       "NaN       1597\n",
       "Name: dm_first_reg, dtype: int64"
      ]
     },
     "execution_count": 195,
     "metadata": {},
     "output_type": "execute_result"
    }
   ],
   "source": [
    "df.dm_first_reg.value_counts(dropna=False)"
   ]
  },
  {
   "cell_type": "code",
   "execution_count": 196,
   "metadata": {},
   "outputs": [
    {
     "data": {
      "text/plain": [
       "1.0    4530\n",
       "0.0    4437\n",
       "3.0    3679\n",
       "2.0    3273\n",
       "Name: dm_registration, dtype: int64"
      ]
     },
     "execution_count": 196,
     "metadata": {},
     "output_type": "execute_result"
    }
   ],
   "source": [
    "df.dm_registration.value_counts(dropna=False)"
   ]
  },
  {
   "cell_type": "code",
   "execution_count": 197,
   "metadata": {},
   "outputs": [
    {
     "data": {
      "text/plain": [
       "dm_registration  dm_first_reg\n",
       "0.0              2019.0          2853\n",
       "                 NaN             1584\n",
       "1.0              2018.0          4522\n",
       "                 NaN                8\n",
       "2.0              2017.0          3273\n",
       "3.0              2016.0          3674\n",
       "                 NaN                5\n",
       "Name: dm_first_reg, dtype: int64"
      ]
     },
     "execution_count": 197,
     "metadata": {},
     "output_type": "execute_result"
    }
   ],
   "source": [
    "df.groupby('dm_registration').dm_first_reg.value_counts(dropna=False)"
   ]
  },
  {
   "cell_type": "markdown",
   "metadata": {},
   "source": [
    "<div class=\"alert alert-block alert-info\">\n",
    "<p>This column contains values that are very similar to the values provided in the dm_registration column. So, only one of these column should be used in the analysis.</p></div>"
   ]
  },
  {
   "cell_type": "markdown",
   "metadata": {},
   "source": [
    "### 24 - Body Color"
   ]
  },
  {
   "cell_type": "code",
   "execution_count": 198,
   "metadata": {},
   "outputs": [
    {
     "ename": "TypeError",
     "evalue": "unhashable type: 'list'",
     "output_type": "error",
     "traceback": [
      "\u001b[0;31m---------------------------------------------------------------------------\u001b[0m",
      "\u001b[0;31mTypeError\u001b[0m                                 Traceback (most recent call last)",
      "\u001b[0;32mpandas/_libs/hashtable_class_helper.pxi\u001b[0m in \u001b[0;36mpandas._libs.hashtable.PyObjectHashTable.map_locations\u001b[0;34m()\u001b[0m\n",
      "\u001b[0;31mTypeError\u001b[0m: unhashable type: 'list'"
     ]
    },
    {
     "name": "stderr",
     "output_type": "stream",
     "text": [
      "Exception ignored in: 'pandas._libs.index.IndexEngine._call_map_locations'\n",
      "Traceback (most recent call last):\n",
      "  File \"pandas/_libs/hashtable_class_helper.pxi\", line 1709, in pandas._libs.hashtable.PyObjectHashTable.map_locations\n",
      "TypeError: unhashable type: 'list'\n"
     ]
    },
    {
     "data": {
      "text/plain": [
       "[\\n, Black, \\n]     3745\n",
       "[\\n, Grey, \\n]      3505\n",
       "[\\n, White, \\n]     3406\n",
       "[\\n, Silver, \\n]    1647\n",
       "[\\n, Blue, \\n]      1431\n",
       "[\\n, Red, \\n]        957\n",
       "NaN                  597\n",
       "[\\n, Brown, \\n]      289\n",
       "[\\n, Green, \\n]      154\n",
       "[\\n, Beige, \\n]      108\n",
       "[\\n, Yellow, \\n]      51\n",
       "[\\n, Violet, \\n]      18\n",
       "[\\n, Bronze, \\n]       6\n",
       "[\\n, Orange, \\n]       3\n",
       "[\\n, Gold, \\n]         2\n",
       "Name: Body Color, dtype: int64"
      ]
     },
     "execution_count": 198,
     "metadata": {},
     "output_type": "execute_result"
    }
   ],
   "source": [
    "df['Body Color'].value_counts(dropna=False)"
   ]
  },
  {
   "cell_type": "code",
   "execution_count": 199,
   "metadata": {},
   "outputs": [],
   "source": [
    "df['dm_body_color'] = df['Body Color']"
   ]
  },
  {
   "cell_type": "code",
   "execution_count": 200,
   "metadata": {},
   "outputs": [],
   "source": [
    "def convert(x):\n",
    "    if x is not np.nan:\n",
    "        x = str(x)\n",
    "        y = re.findall(\"'([a-zA-Z]+)\", x)\n",
    "        return y[0]"
   ]
  },
  {
   "cell_type": "code",
   "execution_count": 201,
   "metadata": {},
   "outputs": [],
   "source": [
    "df.dm_body_color = df.dm_body_color.apply(convert)"
   ]
  },
  {
   "cell_type": "code",
   "execution_count": 202,
   "metadata": {},
   "outputs": [
    {
     "data": {
      "text/plain": [
       "Black     3745\n",
       "Grey      3505\n",
       "White     3406\n",
       "Silver    1647\n",
       "Blue      1431\n",
       "Red        957\n",
       "NaN        597\n",
       "Brown      289\n",
       "Green      154\n",
       "Beige      108\n",
       "Yellow      51\n",
       "Violet      18\n",
       "Bronze       6\n",
       "Orange       3\n",
       "Gold         2\n",
       "Name: dm_body_color, dtype: int64"
      ]
     },
     "execution_count": 202,
     "metadata": {},
     "output_type": "execute_result"
    }
   ],
   "source": [
    "df.dm_body_color.value_counts(dropna=False)"
   ]
  },
  {
   "cell_type": "code",
   "execution_count": 203,
   "metadata": {},
   "outputs": [],
   "source": [
    "lst1 = df.dm_registration.unique()\n",
    "lst2 = ['Audi A1', 'Audi A3', 'Opel Astra', 'Opel Corsa',\n",
    "       'Opel Insignia', 'Renault Clio', 'Renault Espace']\n",
    "for i in lst1:\n",
    "    for j in lst2:\n",
    "        cond = (df.make_model == j) & (df.dm_registration == i)\n",
    "        df.loc[cond, 'dm_body_color'] = df.loc[cond, 'dm_body_color'].fillna(df.loc[cond, 'dm_body_color'].mode()[0])"
   ]
  },
  {
   "cell_type": "code",
   "execution_count": 204,
   "metadata": {},
   "outputs": [
    {
     "data": {
      "text/plain": [
       "Black     4134\n",
       "Grey      3588\n",
       "White     3508\n",
       "Silver    1650\n",
       "Blue      1451\n",
       "Red        957\n",
       "Brown      289\n",
       "Green      154\n",
       "Beige      108\n",
       "Yellow      51\n",
       "Violet      18\n",
       "Bronze       6\n",
       "Orange       3\n",
       "Gold         2\n",
       "Name: dm_body_color, dtype: int64"
      ]
     },
     "execution_count": 204,
     "metadata": {},
     "output_type": "execute_result"
    }
   ],
   "source": [
    "df.dm_body_color.value_counts(dropna=False)"
   ]
  },
  {
   "cell_type": "code",
   "execution_count": 205,
   "metadata": {},
   "outputs": [],
   "source": [
    "df.dm_body_color.replace({'Violet':'Other','Bronze':'Other','Orange':'Other','Gold':'Other'}, inplace=True)"
   ]
  },
  {
   "cell_type": "code",
   "execution_count": 206,
   "metadata": {},
   "outputs": [
    {
     "data": {
      "text/plain": [
       "Black     4134\n",
       "Grey      3588\n",
       "White     3508\n",
       "Silver    1650\n",
       "Blue      1451\n",
       "Red        957\n",
       "Brown      289\n",
       "Green      154\n",
       "Beige      108\n",
       "Yellow      51\n",
       "Other       29\n",
       "Name: dm_body_color, dtype: int64"
      ]
     },
     "execution_count": 206,
     "metadata": {},
     "output_type": "execute_result"
    }
   ],
   "source": [
    "df.dm_body_color.value_counts(dropna=False)"
   ]
  },
  {
   "cell_type": "code",
   "execution_count": 207,
   "metadata": {},
   "outputs": [],
   "source": [
    "# df_dummied = pd.get_dummies(df.dm_body_color, prefix='body_color_', prefix_sep='', columns=['color'], dtype='float64')\n",
    "# df = pd.concat([df, df_dummied], axis=1)"
   ]
  },
  {
   "cell_type": "markdown",
   "metadata": {},
   "source": [
    "<div class=\"alert alert-block alert-info\">\n",
    "<p>This column was not dummied. Consider grouping colors that have values lower than 100 into an \"other\" category.</p></div>"
   ]
  },
  {
   "cell_type": "markdown",
   "metadata": {},
   "source": [
    "### 25 - Paint Type"
   ]
  },
  {
   "cell_type": "code",
   "execution_count": 208,
   "metadata": {},
   "outputs": [
    {
     "ename": "TypeError",
     "evalue": "unhashable type: 'list'",
     "output_type": "error",
     "traceback": [
      "\u001b[0;31m---------------------------------------------------------------------------\u001b[0m",
      "\u001b[0;31mTypeError\u001b[0m                                 Traceback (most recent call last)",
      "\u001b[0;32mpandas/_libs/hashtable_class_helper.pxi\u001b[0m in \u001b[0;36mpandas._libs.hashtable.PyObjectHashTable.map_locations\u001b[0;34m()\u001b[0m\n",
      "\u001b[0;31mTypeError\u001b[0m: unhashable type: 'list'"
     ]
    },
    {
     "name": "stderr",
     "output_type": "stream",
     "text": [
      "Exception ignored in: 'pandas._libs.index.IndexEngine._call_map_locations'\n",
      "Traceback (most recent call last):\n",
      "  File \"pandas/_libs/hashtable_class_helper.pxi\", line 1709, in pandas._libs.hashtable.PyObjectHashTable.map_locations\n",
      "TypeError: unhashable type: 'list'\n"
     ]
    },
    {
     "data": {
      "text/plain": [
       "[\\nMetallic\\n]       9794\n",
       "NaN                  5772\n",
       "[\\nUni/basic\\n]       347\n",
       "[\\nPerl effect\\n]       6\n",
       "Name: Paint Type, dtype: int64"
      ]
     },
     "execution_count": 208,
     "metadata": {},
     "output_type": "execute_result"
    }
   ],
   "source": [
    "df['Paint Type'].value_counts(dropna=False)"
   ]
  },
  {
   "cell_type": "code",
   "execution_count": 209,
   "metadata": {},
   "outputs": [],
   "source": [
    "df['dm_paint_type'] = df['Paint Type']"
   ]
  },
  {
   "cell_type": "code",
   "execution_count": 210,
   "metadata": {},
   "outputs": [],
   "source": [
    "def convert(x):\n",
    "    if x is not np.nan:\n",
    "        x = str(x)\n",
    "        y = re.findall('n([A-Za-z]+)\\S+', x)\n",
    "        return y[0]"
   ]
  },
  {
   "cell_type": "code",
   "execution_count": 211,
   "metadata": {},
   "outputs": [],
   "source": [
    "df.dm_paint_type = df.dm_paint_type.apply(convert)"
   ]
  },
  {
   "cell_type": "code",
   "execution_count": 212,
   "metadata": {},
   "outputs": [
    {
     "data": {
      "text/plain": [
       "Metallic    9794\n",
       "NaN         5772\n",
       "Uni          347\n",
       "Per            6\n",
       "Name: dm_paint_type, dtype: int64"
      ]
     },
     "execution_count": 212,
     "metadata": {},
     "output_type": "execute_result"
    }
   ],
   "source": [
    "df.dm_paint_type.value_counts(dropna=False)"
   ]
  },
  {
   "cell_type": "code",
   "execution_count": 213,
   "metadata": {},
   "outputs": [],
   "source": [
    "lst1 = df.dm_body_color.unique()\n",
    "lst2 = df.make_model.unique()\n",
    "for i in lst1:\n",
    "    for j in lst2:\n",
    "        cond = (df.make_model == j) & (df.dm_registration == i)\n",
    "        df.loc[cond, 'dm_paint_type'] = df.loc[cond, 'dm_paint_type'].fillna(method='ffill').fillna(method='bfill')\n",
    "df.dm_paint_type = df.dm_paint_type.fillna(method='ffill').fillna('bfill')"
   ]
  },
  {
   "cell_type": "code",
   "execution_count": 214,
   "metadata": {},
   "outputs": [
    {
     "data": {
      "text/plain": [
       "Metallic    15261\n",
       "Uni           617\n",
       "Per            41\n",
       "Name: dm_paint_type, dtype: int64"
      ]
     },
     "execution_count": 214,
     "metadata": {},
     "output_type": "execute_result"
    }
   ],
   "source": [
    "df.dm_paint_type.value_counts(dropna=False)"
   ]
  },
  {
   "cell_type": "code",
   "execution_count": 215,
   "metadata": {},
   "outputs": [],
   "source": [
    "# df_dummied = pd.get_dummies(df.dm_paint_type, prefix='paint_', prefix_sep='', columns=['color'], dtype='float64')\n",
    "# df = pd.concat([df, df_dummied], axis=1)"
   ]
  },
  {
   "cell_type": "markdown",
   "metadata": {},
   "source": [
    "<div class=\"alert alert-block alert-info\">\n",
    "<p>This column is ready for the analysis, but it was not dummied yet. I don't think that it will make a significant contribution to the results.</p></div>"
   ]
  },
  {
   "cell_type": "markdown",
   "metadata": {},
   "source": [
    "### 26 - Body Color Original"
   ]
  },
  {
   "cell_type": "code",
   "execution_count": 216,
   "metadata": {},
   "outputs": [
    {
     "ename": "TypeError",
     "evalue": "unhashable type: 'list'",
     "output_type": "error",
     "traceback": [
      "\u001b[0;31m---------------------------------------------------------------------------\u001b[0m",
      "\u001b[0;31mTypeError\u001b[0m                                 Traceback (most recent call last)",
      "\u001b[0;32mpandas/_libs/hashtable_class_helper.pxi\u001b[0m in \u001b[0;36mpandas._libs.hashtable.PyObjectHashTable.map_locations\u001b[0;34m()\u001b[0m\n",
      "\u001b[0;31mTypeError\u001b[0m: unhashable type: 'list'"
     ]
    },
    {
     "name": "stderr",
     "output_type": "stream",
     "text": [
      "Exception ignored in: 'pandas._libs.index.IndexEngine._call_map_locations'\n",
      "Traceback (most recent call last):\n",
      "  File \"pandas/_libs/hashtable_class_helper.pxi\", line 1709, in pandas._libs.hashtable.PyObjectHashTable.map_locations\n",
      "TypeError: unhashable type: 'list'\n"
     ]
    },
    {
     "data": {
      "text/plain": [
       "NaN                             3759\n",
       "[\\nOnyx Schwarz\\n]               338\n",
       "[\\nBianco\\n]                     282\n",
       "[\\nMythosschwarz Metallic\\n]     238\n",
       "[\\nBrillantschwarz\\n]            216\n",
       "                                ... \n",
       "[\\nBianca - Tetto Nero\\n]          1\n",
       "[\\ndezir rot\\n]                    1\n",
       "[\\nnero/tetto argento met\\n]       1\n",
       "[\\nPython Yellow Metallic\\n]       1\n",
       "[\\nkarbongrau\\n]                   1\n",
       "Name: Body Color Original, Length: 1928, dtype: int64"
      ]
     },
     "execution_count": 216,
     "metadata": {},
     "output_type": "execute_result"
    }
   ],
   "source": [
    "df['Body Color Original'].value_counts(dropna=False)"
   ]
  },
  {
   "cell_type": "code",
   "execution_count": 217,
   "metadata": {},
   "outputs": [],
   "source": [
    "df.drop('Body Color Original', axis=1, inplace=True)"
   ]
  },
  {
   "cell_type": "markdown",
   "metadata": {},
   "source": [
    "<div class=\"alert alert-block alert-danger\">\n",
    "<p>Useless column. It shouldn't be included in the analysis.</p></div>"
   ]
  },
  {
   "cell_type": "markdown",
   "metadata": {},
   "source": [
    "### 27 - Upholstery"
   ]
  },
  {
   "cell_type": "code",
   "execution_count": 218,
   "metadata": {},
   "outputs": [
    {
     "ename": "TypeError",
     "evalue": "unhashable type: 'list'",
     "output_type": "error",
     "traceback": [
      "\u001b[0;31m---------------------------------------------------------------------------\u001b[0m",
      "\u001b[0;31mTypeError\u001b[0m                                 Traceback (most recent call last)",
      "\u001b[0;32mpandas/_libs/hashtable_class_helper.pxi\u001b[0m in \u001b[0;36mpandas._libs.hashtable.PyObjectHashTable.map_locations\u001b[0;34m()\u001b[0m\n",
      "\u001b[0;31mTypeError\u001b[0m: unhashable type: 'list'"
     ]
    },
    {
     "name": "stderr",
     "output_type": "stream",
     "text": [
      "Exception ignored in: 'pandas._libs.index.IndexEngine._call_map_locations'\n",
      "Traceback (most recent call last):\n",
      "  File \"pandas/_libs/hashtable_class_helper.pxi\", line 1709, in pandas._libs.hashtable.PyObjectHashTable.map_locations\n",
      "TypeError: unhashable type: 'list'\n"
     ]
    },
    {
     "data": {
      "text/plain": [
       "[\\nCloth, Black\\n]           5821\n",
       "NaN                          3720\n",
       "[\\nPart leather, Black\\n]    1121\n",
       "[\\nCloth\\n]                  1005\n",
       "[\\nCloth, Grey\\n]             891\n",
       "[\\nCloth, Other\\n]            639\n",
       "[\\nFull leather, Black\\n]     575\n",
       "[\\nBlack\\n]                   491\n",
       "[\\nGrey\\n]                    273\n",
       "[\\nOther, Other\\n]            182\n",
       "[\\nPart leather\\n]            140\n",
       "[\\nFull leather\\n]            139\n",
       "[\\nFull leather, Brown\\n]     116\n",
       "[\\nPart leather, Grey\\n]      116\n",
       "[\\nOther, Black\\n]            110\n",
       "[\\nFull leather, Other\\n]      72\n",
       "[\\nFull leather, Grey\\n]       67\n",
       "[\\nPart leather, Other\\n]      65\n",
       "[\\nOther\\n]                    56\n",
       "[\\nPart leather, Brown\\n]      50\n",
       "[\\nalcantara, Black\\n]         47\n",
       "[\\nVelour, Black\\n]            36\n",
       "[\\nFull leather, Beige\\n]      36\n",
       "[\\nCloth, Brown\\n]             28\n",
       "[\\nVelour\\n]                   16\n",
       "[\\nOther, Grey\\n]              15\n",
       "[\\nCloth, Beige\\n]             13\n",
       "[\\nCloth, Blue\\n]              12\n",
       "[\\nBrown\\n]                    12\n",
       "[\\nVelour, Grey\\n]              8\n",
       "[\\nCloth, White\\n]              8\n",
       "[\\nalcantara, Grey\\n]           6\n",
       "[\\nCloth, Red\\n]                5\n",
       "[\\nOther, Yellow\\n]             4\n",
       "[\\nBeige\\n]                     3\n",
       "[\\nPart leather, Red\\n]         3\n",
       "[\\nPart leather, Beige\\n]       2\n",
       "[\\nFull leather, Blue\\n]        2\n",
       "[\\nalcantara\\n]                 2\n",
       "[\\nWhite\\n]                     2\n",
       "[\\nPart leather, White\\n]       2\n",
       "[\\nalcantara, Other\\n]          2\n",
       "[\\nBlue\\n]                      2\n",
       "[\\nOther, Brown\\n]              1\n",
       "[\\nFull leather, Red\\n]         1\n",
       "[\\nFull leather, White\\n]       1\n",
       "[\\nCloth, Orange\\n]             1\n",
       "Name: Upholstery, dtype: int64"
      ]
     },
     "execution_count": 218,
     "metadata": {},
     "output_type": "execute_result"
    }
   ],
   "source": [
    "df.Upholstery.value_counts(dropna=False)"
   ]
  },
  {
   "cell_type": "code",
   "execution_count": 219,
   "metadata": {},
   "outputs": [],
   "source": [
    "df['dm_upholstery'] = df.Upholstery"
   ]
  },
  {
   "cell_type": "code",
   "execution_count": 220,
   "metadata": {},
   "outputs": [],
   "source": [
    "def convert(x):\n",
    "    if x is not np.nan:\n",
    "        x = str(x)\n",
    "        y = re.findall('n([A-Za-z,\\s]+)', x)\n",
    "        if y[0].split(',')[0] in ['Black','Grey','Brown','Beige','Blue','White']:\n",
    "            return np.nan\n",
    "        else:\n",
    "            return y[0].split(',')[0]"
   ]
  },
  {
   "cell_type": "code",
   "execution_count": 221,
   "metadata": {},
   "outputs": [],
   "source": [
    "df.dm_upholstery = df.dm_upholstery.apply(convert)"
   ]
  },
  {
   "cell_type": "code",
   "execution_count": 222,
   "metadata": {},
   "outputs": [
    {
     "data": {
      "text/plain": [
       "Cloth           8423\n",
       "NaN             4503\n",
       "Part leather    1499\n",
       "Full leather    1009\n",
       "Other            368\n",
       "Velour            60\n",
       "alcantara         57\n",
       "Name: dm_upholstery, dtype: int64"
      ]
     },
     "execution_count": 222,
     "metadata": {},
     "output_type": "execute_result"
    }
   ],
   "source": [
    "df.dm_upholstery.value_counts(dropna=False)"
   ]
  },
  {
   "cell_type": "code",
   "execution_count": 223,
   "metadata": {},
   "outputs": [],
   "source": [
    "lst1 = df.make_model.unique()\n",
    "lst2 = df.body_type.unique()\n",
    "for i in lst1:\n",
    "    for j in lst2:\n",
    "        cond = (df.make_model == i) & (df.body_type == j)\n",
    "        df.loc[cond, 'dm_upholstery'] = df.loc[cond, 'dm_upholstery'].fillna(method='ffill').fillna(method='bfill')\n",
    "for i in lst1:\n",
    "    df.loc[(df.make_model == i), 'dm_upholstery'] = df.loc[(df.make_model == i), \n",
    "                                                'dm_upholstery'].fillna(method='ffill').fillna(method='bfill')"
   ]
  },
  {
   "cell_type": "code",
   "execution_count": 224,
   "metadata": {},
   "outputs": [
    {
     "data": {
      "text/plain": [
       "Cloth           11719\n",
       "Part leather     2054\n",
       "Full leather     1420\n",
       "Other             554\n",
       "alcantara          95\n",
       "Velour             77\n",
       "Name: dm_upholstery, dtype: int64"
      ]
     },
     "execution_count": 224,
     "metadata": {},
     "output_type": "execute_result"
    }
   ],
   "source": [
    "df.dm_upholstery.value_counts(dropna=False)"
   ]
  },
  {
   "cell_type": "code",
   "execution_count": 225,
   "metadata": {},
   "outputs": [],
   "source": [
    "# df_dummied = pd.get_dummies(df.dm_upholstery, prefix='upholstery_', prefix_sep='', columns=['upholstery'], \n",
    "#                             dtype='float64')\n",
    "# df = pd.concat([df, df_dummied], axis=1)"
   ]
  },
  {
   "cell_type": "code",
   "execution_count": 226,
   "metadata": {},
   "outputs": [],
   "source": [
    "df['dm_upholstery_color'] = df.Upholstery"
   ]
  },
  {
   "cell_type": "code",
   "execution_count": 227,
   "metadata": {},
   "outputs": [],
   "source": [
    "def convert(x):\n",
    "    if x is not np.nan:\n",
    "        x = str(x)\n",
    "        y = re.findall('n([A-Za-z,\\s]+)', x)\n",
    "        if y[0].split(',')[0] in ['Black','Grey','Brown','Beige','Blue','White']:\n",
    "            return y[0].split(',')[0].strip()\n",
    "        elif y[0].split(',')[0] in ['Cloth', 'Full leather', 'Part leather', 'Other', 'Velour', 'alcantara']:\n",
    "            try:\n",
    "                return y[0].split(',')[1].strip()\n",
    "            except:\n",
    "                return np.nan"
   ]
  },
  {
   "cell_type": "code",
   "execution_count": 228,
   "metadata": {},
   "outputs": [],
   "source": [
    "df['dm_upholstery_color'] = df['dm_upholstery_color'].apply(convert)"
   ]
  },
  {
   "cell_type": "code",
   "execution_count": 229,
   "metadata": {},
   "outputs": [
    {
     "data": {
      "text/plain": [
       "Black     8201\n",
       "NaN       5078\n",
       "Grey      1376\n",
       "Other      960\n",
       "Brown      207\n",
       "Beige       54\n",
       "Blue        16\n",
       "White       13\n",
       "Red          9\n",
       "Yellow       4\n",
       "Orange       1\n",
       "Name: dm_upholstery_color, dtype: int64"
      ]
     },
     "execution_count": 229,
     "metadata": {},
     "output_type": "execute_result"
    }
   ],
   "source": [
    "df['dm_upholstery_color'].value_counts(dropna=False)"
   ]
  },
  {
   "cell_type": "code",
   "execution_count": 230,
   "metadata": {},
   "outputs": [],
   "source": [
    "lst1 = df.make_model.unique()\n",
    "lst2 = df.body_type.unique()\n",
    "lst3 = df.dm_upholstery.unique()\n",
    "for i in lst1:\n",
    "    for j in lst2:\n",
    "        for t in lst3:\n",
    "            cond = (df.make_model == i) & (df.body_type == j) & (df.dm_upholstery == t)\n",
    "            df.loc[cond, 'dm_upholstery_color'] = df.loc[cond, 'dm_upholstery_color'].fillna(method=\n",
    "                                                                        'ffill').fillna(method='bfill')\n",
    "for i in lst3:\n",
    "    df.loc[(df.dm_upholstery == i), 'dm_upholstery_color'] = df.loc[(df.dm_upholstery == i), \n",
    "                                                'dm_upholstery_color'].fillna(method='ffill').fillna(method='bfill')"
   ]
  },
  {
   "cell_type": "code",
   "execution_count": 231,
   "metadata": {},
   "outputs": [
    {
     "data": {
      "text/plain": [
       "Black     11845\n",
       "Grey       2019\n",
       "Other      1464\n",
       "Brown       438\n",
       "Beige        74\n",
       "White        32\n",
       "Blue         26\n",
       "Red          15\n",
       "Yellow        5\n",
       "Orange        1\n",
       "Name: dm_upholstery_color, dtype: int64"
      ]
     },
     "execution_count": 231,
     "metadata": {},
     "output_type": "execute_result"
    }
   ],
   "source": [
    "df['dm_upholstery_color'].value_counts(dropna=False)"
   ]
  },
  {
   "cell_type": "code",
   "execution_count": 232,
   "metadata": {},
   "outputs": [],
   "source": [
    "df['dm_upholstery_color'].replace({'Blue':'Other', 'Red':'Other', 'Yellow':'Other', 'Orange':'Other'}, inplace=True)"
   ]
  },
  {
   "cell_type": "code",
   "execution_count": 233,
   "metadata": {},
   "outputs": [
    {
     "data": {
      "text/plain": [
       "Black    11845\n",
       "Grey      2019\n",
       "Other     1511\n",
       "Brown      438\n",
       "Beige       74\n",
       "White       32\n",
       "Name: dm_upholstery_color, dtype: int64"
      ]
     },
     "execution_count": 233,
     "metadata": {},
     "output_type": "execute_result"
    }
   ],
   "source": [
    "df['dm_upholstery_color'].value_counts(dropna=False)"
   ]
  },
  {
   "cell_type": "markdown",
   "metadata": {},
   "source": [
    "<div class=\"alert alert-block alert-success\">\n",
    "<p>Ready for the analysis.</p></div>"
   ]
  },
  {
   "cell_type": "markdown",
   "metadata": {},
   "source": [
    "### 28 - Body"
   ]
  },
  {
   "cell_type": "code",
   "execution_count": 234,
   "metadata": {},
   "outputs": [
    {
     "ename": "TypeError",
     "evalue": "unhashable type: 'list'",
     "output_type": "error",
     "traceback": [
      "\u001b[0;31m---------------------------------------------------------------------------\u001b[0m",
      "\u001b[0;31mTypeError\u001b[0m                                 Traceback (most recent call last)",
      "\u001b[0;32mpandas/_libs/hashtable_class_helper.pxi\u001b[0m in \u001b[0;36mpandas._libs.hashtable.PyObjectHashTable.map_locations\u001b[0;34m()\u001b[0m\n",
      "\u001b[0;31mTypeError\u001b[0m: unhashable type: 'list'"
     ]
    },
    {
     "name": "stderr",
     "output_type": "stream",
     "text": [
      "Exception ignored in: 'pandas._libs.index.IndexEngine._call_map_locations'\n",
      "Traceback (most recent call last):\n",
      "  File \"pandas/_libs/hashtable_class_helper.pxi\", line 1709, in pandas._libs.hashtable.PyObjectHashTable.map_locations\n",
      "TypeError: unhashable type: 'list'\n"
     ]
    },
    {
     "data": {
      "text/plain": [
       "[\\n, Sedans, \\n]           7903\n",
       "[\\n, Station wagon, \\n]    3553\n",
       "[\\n, Compact, \\n]          3153\n",
       "[\\n, Van, \\n]               783\n",
       "[\\n, Other, \\n]             290\n",
       "[\\n, Transporter, \\n]        88\n",
       "NaN                          60\n",
       "[\\n, Off-Road, \\n]           56\n",
       "[\\n, Coupe, \\n]              25\n",
       "[\\n, Convertible, \\n]         8\n",
       "Name: Body, dtype: int64"
      ]
     },
     "execution_count": 234,
     "metadata": {},
     "output_type": "execute_result"
    }
   ],
   "source": [
    "df.Body.value_counts(dropna=False)"
   ]
  },
  {
   "cell_type": "code",
   "execution_count": 235,
   "metadata": {},
   "outputs": [
    {
     "data": {
      "text/plain": [
       "Sedans           7925\n",
       "Station wagon    3563\n",
       "Compact          3155\n",
       "Van               809\n",
       "Other             290\n",
       "Transporter        88\n",
       "Off-Road           56\n",
       "Coupe              25\n",
       "Convertible         8\n",
       "Name: body_type, dtype: int64"
      ]
     },
     "execution_count": 235,
     "metadata": {},
     "output_type": "execute_result"
    }
   ],
   "source": [
    "df.body_type.value_counts(dropna=False)"
   ]
  },
  {
   "cell_type": "code",
   "execution_count": 236,
   "metadata": {},
   "outputs": [],
   "source": [
    "df.drop('Body', axis=1, inplace=True)"
   ]
  },
  {
   "cell_type": "markdown",
   "metadata": {},
   "source": [
    "<div class=\"alert alert-block alert-info\">\n",
    "<p>This colums is very similar to the body_type column. So, one of the columns should be included in the analysis.</p></div>"
   ]
  },
  {
   "cell_type": "markdown",
   "metadata": {},
   "source": [
    "### 29 - Nr. of Doors"
   ]
  },
  {
   "cell_type": "code",
   "execution_count": 237,
   "metadata": {},
   "outputs": [
    {
     "ename": "TypeError",
     "evalue": "unhashable type: 'list'",
     "output_type": "error",
     "traceback": [
      "\u001b[0;31m---------------------------------------------------------------------------\u001b[0m",
      "\u001b[0;31mTypeError\u001b[0m                                 Traceback (most recent call last)",
      "\u001b[0;32mpandas/_libs/hashtable_class_helper.pxi\u001b[0m in \u001b[0;36mpandas._libs.hashtable.PyObjectHashTable.map_locations\u001b[0;34m()\u001b[0m\n",
      "\u001b[0;31mTypeError\u001b[0m: unhashable type: 'list'"
     ]
    },
    {
     "name": "stderr",
     "output_type": "stream",
     "text": [
      "Exception ignored in: 'pandas._libs.index.IndexEngine._call_map_locations'\n",
      "Traceback (most recent call last):\n",
      "  File \"pandas/_libs/hashtable_class_helper.pxi\", line 1709, in pandas._libs.hashtable.PyObjectHashTable.map_locations\n",
      "TypeError: unhashable type: 'list'\n"
     ]
    },
    {
     "data": {
      "text/plain": [
       "[\\n5\\n]    11575\n",
       "[\\n4\\n]     3079\n",
       "[\\n3\\n]      832\n",
       "[\\n2\\n]      219\n",
       "NaN          212\n",
       "[\\n7\\n]        1\n",
       "[\\n1\\n]        1\n",
       "Name: Nr. of Doors, dtype: int64"
      ]
     },
     "execution_count": 237,
     "metadata": {},
     "output_type": "execute_result"
    }
   ],
   "source": [
    "df['Nr. of Doors'].value_counts(dropna=False)"
   ]
  },
  {
   "cell_type": "code",
   "execution_count": 238,
   "metadata": {},
   "outputs": [],
   "source": [
    "df['dm_num_doors'] = df['Nr. of Doors']"
   ]
  },
  {
   "cell_type": "code",
   "execution_count": 239,
   "metadata": {},
   "outputs": [],
   "source": [
    "def convert(x):\n",
    "    if x is not np.nan:\n",
    "        x = str(x)\n",
    "        y = re.findall('([0-9])', x)\n",
    "        return y[0]"
   ]
  },
  {
   "cell_type": "code",
   "execution_count": 240,
   "metadata": {},
   "outputs": [],
   "source": [
    "df['dm_num_doors'] = df['dm_num_doors'].apply(convert)"
   ]
  },
  {
   "cell_type": "code",
   "execution_count": 241,
   "metadata": {},
   "outputs": [
    {
     "data": {
      "text/plain": [
       "5      11575\n",
       "4       3079\n",
       "3        832\n",
       "2        219\n",
       "NaN      212\n",
       "1          1\n",
       "7          1\n",
       "Name: dm_num_doors, dtype: int64"
      ]
     },
     "execution_count": 241,
     "metadata": {},
     "output_type": "execute_result"
    }
   ],
   "source": [
    "df['dm_num_doors'].value_counts(dropna=False)"
   ]
  },
  {
   "cell_type": "code",
   "execution_count": 242,
   "metadata": {},
   "outputs": [],
   "source": [
    "lst1 = df.make_model.unique()\n",
    "lst2 = df.body_type.unique()\n",
    "for i in lst1:\n",
    "    for j in lst2:\n",
    "        cond = (df.make_model == i) & (df.body_type == j)\n",
    "        df.loc[cond, 'dm_num_doors'] = df.loc[cond, 'dm_num_doors'].fillna(method='ffill').fillna(method='bfill')\n",
    "df.dm_num_doors = df.dm_num_doors.fillna(method='ffill').fillna('bfill')"
   ]
  },
  {
   "cell_type": "code",
   "execution_count": 243,
   "metadata": {},
   "outputs": [
    {
     "data": {
      "text/plain": [
       "5    11729\n",
       "4     3112\n",
       "3      853\n",
       "2      222\n",
       "1        2\n",
       "7        1\n",
       "Name: dm_num_doors, dtype: int64"
      ]
     },
     "execution_count": 243,
     "metadata": {},
     "output_type": "execute_result"
    }
   ],
   "source": [
    "df.dm_num_doors.value_counts(dropna=False)"
   ]
  },
  {
   "cell_type": "code",
   "execution_count": 244,
   "metadata": {},
   "outputs": [],
   "source": [
    "df.dm_num_doors.replace({'4':5,'2':3,'1':np.nan,'7':np.nan}, inplace=True)"
   ]
  },
  {
   "cell_type": "code",
   "execution_count": 245,
   "metadata": {},
   "outputs": [
    {
     "data": {
      "text/plain": [
       "5.0    14841\n",
       "3.0     1075\n",
       "NaN        3\n",
       "Name: dm_num_doors, dtype: int64"
      ]
     },
     "execution_count": 245,
     "metadata": {},
     "output_type": "execute_result"
    }
   ],
   "source": [
    "df.dm_num_doors.value_counts(dropna=False)"
   ]
  },
  {
   "cell_type": "code",
   "execution_count": 246,
   "metadata": {},
   "outputs": [],
   "source": [
    "df.dm_num_doors = df.dm_num_doors.fillna(method='ffill')"
   ]
  },
  {
   "cell_type": "code",
   "execution_count": 247,
   "metadata": {},
   "outputs": [
    {
     "data": {
      "text/plain": [
       "5.0    14844\n",
       "3.0     1075\n",
       "Name: dm_num_doors, dtype: int64"
      ]
     },
     "execution_count": 247,
     "metadata": {},
     "output_type": "execute_result"
    }
   ],
   "source": [
    "df.dm_num_doors.value_counts(dropna=False)"
   ]
  },
  {
   "cell_type": "markdown",
   "metadata": {},
   "source": [
    "<div class=\"alert alert-block alert-success\">\n",
    "<p>Ready for the analysis.</p></div>"
   ]
  },
  {
   "cell_type": "markdown",
   "metadata": {},
   "source": [
    "### 30 - Nr. of Seats"
   ]
  },
  {
   "cell_type": "code",
   "execution_count": 248,
   "metadata": {},
   "outputs": [
    {
     "ename": "TypeError",
     "evalue": "unhashable type: 'list'",
     "output_type": "error",
     "traceback": [
      "\u001b[0;31m---------------------------------------------------------------------------\u001b[0m",
      "\u001b[0;31mTypeError\u001b[0m                                 Traceback (most recent call last)",
      "\u001b[0;32mpandas/_libs/hashtable_class_helper.pxi\u001b[0m in \u001b[0;36mpandas._libs.hashtable.PyObjectHashTable.map_locations\u001b[0;34m()\u001b[0m\n",
      "\u001b[0;31mTypeError\u001b[0m: unhashable type: 'list'"
     ]
    },
    {
     "name": "stderr",
     "output_type": "stream",
     "text": [
      "Exception ignored in: 'pandas._libs.index.IndexEngine._call_map_locations'\n",
      "Traceback (most recent call last):\n",
      "  File \"pandas/_libs/hashtable_class_helper.pxi\", line 1709, in pandas._libs.hashtable.PyObjectHashTable.map_locations\n",
      "TypeError: unhashable type: 'list'\n"
     ]
    },
    {
     "data": {
      "text/plain": [
       "[\\n5\\n]    13336\n",
       "[\\n4\\n]     1125\n",
       "NaN          977\n",
       "[\\n7\\n]      362\n",
       "[\\n2\\n]      116\n",
       "[\\n6\\n]        2\n",
       "[\\n3\\n]        1\n",
       "Name: Nr. of Seats, dtype: int64"
      ]
     },
     "execution_count": 248,
     "metadata": {},
     "output_type": "execute_result"
    }
   ],
   "source": [
    "df['Nr. of Seats'].value_counts(dropna=False)"
   ]
  },
  {
   "cell_type": "code",
   "execution_count": 249,
   "metadata": {},
   "outputs": [],
   "source": [
    "df['dm_num_seats'] = df['Nr. of Seats']"
   ]
  },
  {
   "cell_type": "code",
   "execution_count": 250,
   "metadata": {},
   "outputs": [],
   "source": [
    "def convert(x):\n",
    "    if x is not np.nan:\n",
    "        x = str(x)\n",
    "        y = re.findall('([0-9])', x)\n",
    "        return float(y[0])"
   ]
  },
  {
   "cell_type": "code",
   "execution_count": 251,
   "metadata": {},
   "outputs": [],
   "source": [
    "df['dm_num_seats'] = df['dm_num_seats'].apply(convert)"
   ]
  },
  {
   "cell_type": "code",
   "execution_count": 252,
   "metadata": {},
   "outputs": [
    {
     "data": {
      "text/plain": [
       "5.0    13336\n",
       "4.0     1125\n",
       "NaN      977\n",
       "7.0      362\n",
       "2.0      116\n",
       "6.0        2\n",
       "3.0        1\n",
       "Name: dm_num_seats, dtype: int64"
      ]
     },
     "execution_count": 252,
     "metadata": {},
     "output_type": "execute_result"
    }
   ],
   "source": [
    "df['dm_num_seats'].value_counts(dropna=False)"
   ]
  },
  {
   "cell_type": "code",
   "execution_count": 253,
   "metadata": {},
   "outputs": [
    {
     "data": {
      "text/plain": [
       "make_model      body_type    dm_num_seats\n",
       "Audi A1         Compact      5.0             538\n",
       "                             4.0             431\n",
       "                             NaN              68\n",
       "                             3.0               1\n",
       "                             6.0               1\n",
       "                                            ... \n",
       "Renault Espace  Transporter  NaN               1\n",
       "                Van          5.0             383\n",
       "                             7.0             315\n",
       "                             NaN             104\n",
       "                             4.0               1\n",
       "Name: dm_num_seats, Length: 116, dtype: int64"
      ]
     },
     "execution_count": 253,
     "metadata": {},
     "output_type": "execute_result"
    }
   ],
   "source": [
    "df.groupby(['make_model','body_type'])['dm_num_seats'].value_counts(dropna=False)"
   ]
  },
  {
   "cell_type": "code",
   "execution_count": 254,
   "metadata": {},
   "outputs": [],
   "source": [
    "lst1 = df.make_model.unique()\n",
    "lst2 = df.body_type.unique()\n",
    "for i in lst1:\n",
    "    for j in lst2:\n",
    "        cond = (df.make_model == i) & (df.body_type == j)\n",
    "        df.loc[cond, 'dm_num_seats'] = df.loc[cond, 'dm_num_seats'].fillna(method='ffill').fillna(method='bfill')\n",
    "# df.dm_num_doors = df.dm_num_doors.fillna(method='ffill').fillna('bfill')"
   ]
  },
  {
   "cell_type": "code",
   "execution_count": 255,
   "metadata": {},
   "outputs": [
    {
     "data": {
      "text/plain": [
       "5.0    14177\n",
       "4.0     1193\n",
       "7.0      409\n",
       "2.0      131\n",
       "NaN        6\n",
       "6.0        2\n",
       "3.0        1\n",
       "Name: dm_num_seats, dtype: int64"
      ]
     },
     "execution_count": 255,
     "metadata": {},
     "output_type": "execute_result"
    }
   ],
   "source": [
    "df['dm_num_seats'].value_counts(dropna=False)"
   ]
  },
  {
   "cell_type": "code",
   "execution_count": 256,
   "metadata": {},
   "outputs": [],
   "source": [
    "df['dm_num_seats'].replace({np.nan:5, 6:7, 3:2, 4:5}, inplace=True)"
   ]
  },
  {
   "cell_type": "code",
   "execution_count": 257,
   "metadata": {},
   "outputs": [
    {
     "data": {
      "text/plain": [
       "5.0    15376\n",
       "7.0      411\n",
       "2.0      132\n",
       "Name: dm_num_seats, dtype: int64"
      ]
     },
     "execution_count": 257,
     "metadata": {},
     "output_type": "execute_result"
    }
   ],
   "source": [
    "df['dm_num_seats'].value_counts(dropna=False)"
   ]
  },
  {
   "cell_type": "markdown",
   "metadata": {},
   "source": [
    "<div class=\"alert alert-block alert-success\">\n",
    "<p>Ready for the model.</p></div>"
   ]
  },
  {
   "cell_type": "markdown",
   "metadata": {},
   "source": [
    "### 31 - Model Code"
   ]
  },
  {
   "cell_type": "code",
   "execution_count": 258,
   "metadata": {},
   "outputs": [
    {
     "ename": "TypeError",
     "evalue": "unhashable type: 'list'",
     "output_type": "error",
     "traceback": [
      "\u001b[0;31m---------------------------------------------------------------------------\u001b[0m",
      "\u001b[0;31mTypeError\u001b[0m                                 Traceback (most recent call last)",
      "\u001b[0;32mpandas/_libs/hashtable_class_helper.pxi\u001b[0m in \u001b[0;36mpandas._libs.hashtable.PyObjectHashTable.map_locations\u001b[0;34m()\u001b[0m\n",
      "\u001b[0;31mTypeError\u001b[0m: unhashable type: 'list'"
     ]
    },
    {
     "name": "stderr",
     "output_type": "stream",
     "text": [
      "Exception ignored in: 'pandas._libs.index.IndexEngine._call_map_locations'\n",
      "Traceback (most recent call last):\n",
      "  File \"pandas/_libs/hashtable_class_helper.pxi\", line 1709, in pandas._libs.hashtable.PyObjectHashTable.map_locations\n",
      "TypeError: unhashable type: 'list'\n"
     ]
    },
    {
     "data": {
      "text/plain": [
       "NaN               10941\n",
       "[\\n0035/BCB\\n]      268\n",
       "[\\n0588/BNO\\n]      245\n",
       "[\\n0588/BDB\\n]      206\n",
       "[\\n0588/BHX\\n]      188\n",
       "                  ...  \n",
       "[\\n1844/AEN\\n]        1\n",
       "[\\n0588/AVR\\n]        1\n",
       "[\\n0035/AFF\\n]        1\n",
       "[\\n1844/AFM\\n]        1\n",
       "[\\n0035/AVN\\n]        1\n",
       "Name: Model Code, Length: 233, dtype: int64"
      ]
     },
     "execution_count": 258,
     "metadata": {},
     "output_type": "execute_result"
    }
   ],
   "source": [
    "df['Model Code'].value_counts(dropna=False)"
   ]
  },
  {
   "cell_type": "code",
   "execution_count": 259,
   "metadata": {},
   "outputs": [],
   "source": [
    "df.drop('Model Code', axis=1, inplace=True)"
   ]
  },
  {
   "cell_type": "markdown",
   "metadata": {},
   "source": [
    "<div class=\"alert alert-block alert-danger\">\n",
    "<p>Useless column. It shouldn't be included in the analysis.</p></div>"
   ]
  },
  {
   "cell_type": "markdown",
   "metadata": {},
   "source": [
    "### 32 - Gearing Type"
   ]
  },
  {
   "cell_type": "code",
   "execution_count": 260,
   "metadata": {},
   "outputs": [
    {
     "ename": "TypeError",
     "evalue": "unhashable type: 'list'",
     "output_type": "error",
     "traceback": [
      "\u001b[0;31m---------------------------------------------------------------------------\u001b[0m",
      "\u001b[0;31mTypeError\u001b[0m                                 Traceback (most recent call last)",
      "\u001b[0;32mpandas/_libs/hashtable_class_helper.pxi\u001b[0m in \u001b[0;36mpandas._libs.hashtable.PyObjectHashTable.map_locations\u001b[0;34m()\u001b[0m\n",
      "\u001b[0;31mTypeError\u001b[0m: unhashable type: 'list'"
     ]
    },
    {
     "name": "stderr",
     "output_type": "stream",
     "text": [
      "Exception ignored in: 'pandas._libs.index.IndexEngine._call_map_locations'\n",
      "Traceback (most recent call last):\n",
      "  File \"pandas/_libs/hashtable_class_helper.pxi\", line 1709, in pandas._libs.hashtable.PyObjectHashTable.map_locations\n",
      "TypeError: unhashable type: 'list'\n"
     ]
    },
    {
     "data": {
      "text/plain": [
       "[\\n, Manual, \\n]            8153\n",
       "[\\n, Automatic, \\n]         7297\n",
       "[\\n, Semi-automatic, \\n]     469\n",
       "Name: Gearing Type, dtype: int64"
      ]
     },
     "execution_count": 260,
     "metadata": {},
     "output_type": "execute_result"
    }
   ],
   "source": [
    "df['Gearing Type'].value_counts(dropna=False)"
   ]
  },
  {
   "cell_type": "code",
   "execution_count": 261,
   "metadata": {},
   "outputs": [],
   "source": [
    "df['dm_gear'] = df['Gearing Type']"
   ]
  },
  {
   "cell_type": "code",
   "execution_count": 262,
   "metadata": {},
   "outputs": [],
   "source": [
    "def convert(x):\n",
    "    x = str(x)\n",
    "    y = re.findall(\"'([A-Za-z-]+)\", x)\n",
    "    return y[0]"
   ]
  },
  {
   "cell_type": "code",
   "execution_count": 263,
   "metadata": {},
   "outputs": [],
   "source": [
    "df.dm_gear = df.dm_gear.apply(convert)"
   ]
  },
  {
   "cell_type": "code",
   "execution_count": 264,
   "metadata": {},
   "outputs": [
    {
     "data": {
      "text/plain": [
       "Manual            8153\n",
       "Automatic         7297\n",
       "Semi-automatic     469\n",
       "Name: dm_gear, dtype: int64"
      ]
     },
     "execution_count": 264,
     "metadata": {},
     "output_type": "execute_result"
    }
   ],
   "source": [
    "df.dm_gear.value_counts(dropna=False)"
   ]
  },
  {
   "cell_type": "code",
   "execution_count": 265,
   "metadata": {},
   "outputs": [],
   "source": [
    "# df_dummied = pd.get_dummies(df.dm_gear, prefix='gear_', prefix_sep='', columns=['gear'], dtype='float64')\n",
    "# df = pd.concat([df, df_dummied], axis=1)"
   ]
  },
  {
   "cell_type": "markdown",
   "metadata": {},
   "source": [
    "<div class=\"alert alert-block alert-success\">\n",
    "<p>Ready for the model.</p></div>"
   ]
  },
  {
   "cell_type": "markdown",
   "metadata": {},
   "source": [
    "### 33 - Displacement"
   ]
  },
  {
   "cell_type": "code",
   "execution_count": 266,
   "metadata": {},
   "outputs": [
    {
     "ename": "TypeError",
     "evalue": "unhashable type: 'list'",
     "output_type": "error",
     "traceback": [
      "\u001b[0;31m---------------------------------------------------------------------------\u001b[0m",
      "\u001b[0;31mTypeError\u001b[0m                                 Traceback (most recent call last)",
      "\u001b[0;32mpandas/_libs/hashtable_class_helper.pxi\u001b[0m in \u001b[0;36mpandas._libs.hashtable.PyObjectHashTable.map_locations\u001b[0;34m()\u001b[0m\n",
      "\u001b[0;31mTypeError\u001b[0m: unhashable type: 'list'"
     ]
    },
    {
     "name": "stderr",
     "output_type": "stream",
     "text": [
      "Exception ignored in: 'pandas._libs.index.IndexEngine._call_map_locations'\n",
      "Traceback (most recent call last):\n",
      "  File \"pandas/_libs/hashtable_class_helper.pxi\", line 1709, in pandas._libs.hashtable.PyObjectHashTable.map_locations\n",
      "TypeError: unhashable type: 'list'\n"
     ]
    },
    {
     "data": {
      "text/plain": [
       "[\\n1,598 cc\\n]     4761\n",
       "[\\n999 cc\\n]       2438\n",
       "[\\n1,398 cc\\n]     1314\n",
       "[\\n1,399 cc\\n]      749\n",
       "[\\n1,229 cc\\n]      677\n",
       "[\\n1,956 cc\\n]      670\n",
       "[\\n1,461 cc\\n]      595\n",
       "[\\n1,490 cc\\n]      559\n",
       "NaN                 496\n",
       "[\\n1,422 cc\\n]      467\n",
       "[\\n1,197 cc\\n]      353\n",
       "[\\n898 cc\\n]        351\n",
       "[\\n1,395 cc\\n]      320\n",
       "[\\n1,968 cc\\n]      301\n",
       "[\\n1,149 cc\\n]      288\n",
       "[\\n1,618 cc\\n]      212\n",
       "[\\n1,798 cc\\n]      210\n",
       "[\\n1,498 cc\\n]      196\n",
       "[\\n1,600 cc\\n]      130\n",
       "[\\n1,248 cc\\n]      110\n",
       "[\\n1,997 cc\\n]      103\n",
       "[\\n1,364 cc\\n]      102\n",
       "[\\n1,400 cc\\n]       90\n",
       "[\\n998 cc\\n]         72\n",
       "[\\n1,500 cc\\n]       50\n",
       "[\\n2,000 cc\\n]       46\n",
       "[\\n1,000 cc\\n]       40\n",
       "[\\n1 cc\\n]           36\n",
       "[\\n1,998 cc\\n]       25\n",
       "[\\n2,480 cc\\n]       20\n",
       "[\\n1,984 cc\\n]       18\n",
       "[\\n1,200 cc\\n]       18\n",
       "[\\n899 cc\\n]         11\n",
       "[\\n1,397 cc\\n]       11\n",
       "[\\n160 cc\\n]          6\n",
       "[\\n1,499 cc\\n]        5\n",
       "[\\n929 cc\\n]          5\n",
       "[\\n997 cc\\n]          4\n",
       "[\\n1,596 cc\\n]        4\n",
       "[\\n900 cc\\n]          4\n",
       "[\\n139 cc\\n]          4\n",
       "[\\n1,599 cc\\n]        3\n",
       "[\\n1,396 cc\\n]        3\n",
       "[\\n1,199 cc\\n]        3\n",
       "[\\n1,495 cc\\n]        2\n",
       "[\\n995 cc\\n]          2\n",
       "[\\n1,300 cc\\n]        2\n",
       "[\\n2 cc\\n]            2\n",
       "[\\n1,589 cc\\n]        2\n",
       "[\\n1,896 cc\\n]        1\n",
       "[\\n1,580 cc\\n]        1\n",
       "[\\n1,584 cc\\n]        1\n",
       "[\\n1,568 cc\\n]        1\n",
       "[\\n54 cc\\n]           1\n",
       "[\\n996 cc\\n]          1\n",
       "[\\n1,696 cc\\n]        1\n",
       "[\\n890 cc\\n]          1\n",
       "[\\n1,100 cc\\n]        1\n",
       "[\\n1,995 cc\\n]        1\n",
       "[\\n1,533 cc\\n]        1\n",
       "[\\n1,496 cc\\n]        1\n",
       "[\\n16,000 cc\\n]       1\n",
       "[\\n1,856 cc\\n]        1\n",
       "[\\n2,967 cc\\n]        1\n",
       "[\\n1,333 cc\\n]        1\n",
       "[\\n1,195 cc\\n]        1\n",
       "[\\n1,198 cc\\n]        1\n",
       "[\\n122 cc\\n]          1\n",
       "[\\n1,390 cc\\n]        1\n",
       "[\\n1,369 cc\\n]        1\n",
       "[\\n1,350 cc\\n]        1\n",
       "[\\n1,239 cc\\n]        1\n",
       "[\\n973 cc\\n]          1\n",
       "[\\n1,800 cc\\n]        1\n",
       "[\\n140 cc\\n]          1\n",
       "[\\n15,898 cc\\n]       1\n",
       "[\\n1,686 cc\\n]        1\n",
       "[\\n1,368 cc\\n]        1\n",
       "Name: Displacement, dtype: int64"
      ]
     },
     "execution_count": 266,
     "metadata": {},
     "output_type": "execute_result"
    }
   ],
   "source": [
    "df.Displacement.value_counts(dropna=False)"
   ]
  },
  {
   "cell_type": "code",
   "execution_count": 267,
   "metadata": {},
   "outputs": [],
   "source": [
    "df['dm_displacement'] = df.Displacement"
   ]
  },
  {
   "cell_type": "code",
   "execution_count": 268,
   "metadata": {},
   "outputs": [],
   "source": [
    "def convert(x):\n",
    "    if x is not np.nan:\n",
    "        x = str(x)\n",
    "        y = re.findall('([0-9]+)', x)\n",
    "        return float(''.join(y))"
   ]
  },
  {
   "cell_type": "code",
   "execution_count": 269,
   "metadata": {},
   "outputs": [],
   "source": [
    "df.dm_displacement = df.dm_displacement.apply(convert)"
   ]
  },
  {
   "cell_type": "code",
   "execution_count": 270,
   "metadata": {},
   "outputs": [
    {
     "data": {
      "text/plain": [
       "1598.0     4761\n",
       "999.0      2438\n",
       "1398.0     1314\n",
       "1399.0      749\n",
       "1229.0      677\n",
       "1956.0      670\n",
       "1461.0      595\n",
       "1490.0      559\n",
       "NaN         496\n",
       "1422.0      467\n",
       "1197.0      353\n",
       "898.0       351\n",
       "1395.0      320\n",
       "1968.0      301\n",
       "1149.0      288\n",
       "1618.0      212\n",
       "1798.0      210\n",
       "1498.0      196\n",
       "1600.0      130\n",
       "1248.0      110\n",
       "1997.0      103\n",
       "1364.0      102\n",
       "1400.0       90\n",
       "998.0        72\n",
       "1500.0       50\n",
       "2000.0       46\n",
       "1000.0       40\n",
       "1.0          36\n",
       "1998.0       25\n",
       "2480.0       20\n",
       "1984.0       18\n",
       "1200.0       18\n",
       "899.0        11\n",
       "1397.0       11\n",
       "160.0         6\n",
       "1499.0        5\n",
       "929.0         5\n",
       "900.0         4\n",
       "997.0         4\n",
       "1596.0        4\n",
       "139.0         4\n",
       "1396.0        3\n",
       "1599.0        3\n",
       "1199.0        3\n",
       "995.0         2\n",
       "1495.0        2\n",
       "2.0           2\n",
       "1300.0        2\n",
       "1589.0        2\n",
       "16000.0       1\n",
       "1568.0        1\n",
       "1333.0        1\n",
       "15898.0       1\n",
       "1686.0        1\n",
       "1100.0        1\n",
       "1369.0        1\n",
       "1239.0        1\n",
       "996.0         1\n",
       "1533.0        1\n",
       "973.0         1\n",
       "1584.0        1\n",
       "1368.0        1\n",
       "1696.0        1\n",
       "1995.0        1\n",
       "1896.0        1\n",
       "890.0         1\n",
       "122.0         1\n",
       "54.0          1\n",
       "1496.0        1\n",
       "1580.0        1\n",
       "1856.0        1\n",
       "1800.0        1\n",
       "1195.0        1\n",
       "2967.0        1\n",
       "1390.0        1\n",
       "140.0         1\n",
       "1350.0        1\n",
       "1198.0        1\n",
       "Name: dm_displacement, dtype: int64"
      ]
     },
     "execution_count": 270,
     "metadata": {},
     "output_type": "execute_result"
    }
   ],
   "source": [
    "df.dm_displacement.value_counts(dropna=False)"
   ]
  },
  {
   "cell_type": "code",
   "execution_count": 271,
   "metadata": {},
   "outputs": [
    {
     "data": {
      "text/plain": [
       "dm_hp  dm_displacement\n",
       "55.0   1461.0             595\n",
       "       898.0              351\n",
       "       1197.0             316\n",
       "       1149.0             288\n",
       "       1618.0             141\n",
       "                         ... \n",
       "118.0  1589.0               2\n",
       "       1596.0               2\n",
       "       1580.0               1\n",
       "       1800.0               1\n",
       "       2000.0               1\n",
       "Name: dm_displacement, Length: 123, dtype: int64"
      ]
     },
     "execution_count": 271,
     "metadata": {},
     "output_type": "execute_result"
    }
   ],
   "source": [
    "df.groupby('dm_hp').dm_displacement.value_counts(dropna=False)"
   ]
  },
  {
   "cell_type": "code",
   "execution_count": 272,
   "metadata": {},
   "outputs": [],
   "source": [
    "lst = df.dm_hp.unique()\n",
    "for i in lst:\n",
    "    cond = (df.dm_hp == i)\n",
    "    df.loc[cond, 'dm_displacement'] = df.loc[cond, 'dm_displacement'].fillna(df.loc[cond].dm_displacement.mode()[0])"
   ]
  },
  {
   "cell_type": "code",
   "execution_count": 273,
   "metadata": {},
   "outputs": [
    {
     "data": {
      "text/plain": [
       "1598.0     5013\n",
       "999.0      2517\n",
       "1398.0     1388\n",
       "1399.0      749\n",
       "1461.0      686\n",
       "1229.0      677\n",
       "1956.0      670\n",
       "1490.0      559\n",
       "1422.0      467\n",
       "1197.0      353\n",
       "898.0       351\n",
       "1395.0      320\n",
       "1968.0      301\n",
       "1149.0      288\n",
       "1618.0      212\n",
       "1798.0      210\n",
       "1498.0      196\n",
       "1600.0      130\n",
       "1248.0      110\n",
       "1997.0      103\n",
       "1364.0      102\n",
       "1400.0       90\n",
       "998.0        72\n",
       "1500.0       50\n",
       "2000.0       46\n",
       "1000.0       40\n",
       "1.0          36\n",
       "1998.0       25\n",
       "2480.0       20\n",
       "1200.0       18\n",
       "1984.0       18\n",
       "899.0        11\n",
       "1397.0       11\n",
       "160.0         6\n",
       "929.0         5\n",
       "1499.0        5\n",
       "997.0         4\n",
       "900.0         4\n",
       "139.0         4\n",
       "1596.0        4\n",
       "1396.0        3\n",
       "1599.0        3\n",
       "1199.0        3\n",
       "1589.0        2\n",
       "1300.0        2\n",
       "1495.0        2\n",
       "2.0           2\n",
       "995.0         2\n",
       "1533.0        1\n",
       "996.0         1\n",
       "1239.0        1\n",
       "1369.0        1\n",
       "1686.0        1\n",
       "1100.0        1\n",
       "15898.0       1\n",
       "973.0         1\n",
       "1333.0        1\n",
       "1568.0        1\n",
       "16000.0       1\n",
       "1584.0        1\n",
       "1368.0        1\n",
       "1696.0        1\n",
       "1896.0        1\n",
       "1856.0        1\n",
       "122.0         1\n",
       "890.0         1\n",
       "1496.0        1\n",
       "1580.0        1\n",
       "1800.0        1\n",
       "1195.0        1\n",
       "2967.0        1\n",
       "1390.0        1\n",
       "54.0          1\n",
       "140.0         1\n",
       "1350.0        1\n",
       "1995.0        1\n",
       "1198.0        1\n",
       "Name: dm_displacement, dtype: int64"
      ]
     },
     "execution_count": 273,
     "metadata": {},
     "output_type": "execute_result"
    }
   ],
   "source": [
    "df.dm_displacement.value_counts(dropna=False)"
   ]
  },
  {
   "cell_type": "code",
   "execution_count": 274,
   "metadata": {},
   "outputs": [],
   "source": [
    "df.dm_displacement.replace({1:1000, 2:2000, 122:1598, 54:1598, 160:1598, 139:1598, 140:1598, \n",
    "                            15898:1598, 16000:1598, 2967:2480}, inplace=True)"
   ]
  },
  {
   "cell_type": "code",
   "execution_count": 275,
   "metadata": {},
   "outputs": [
    {
     "data": {
      "text/plain": [
       "890.0        1\n",
       "898.0      351\n",
       "899.0       11\n",
       "900.0        4\n",
       "929.0        5\n",
       "973.0        1\n",
       "995.0        2\n",
       "996.0        1\n",
       "997.0        4\n",
       "998.0       72\n",
       "999.0     2517\n",
       "1000.0      76\n",
       "1100.0       1\n",
       "1149.0     288\n",
       "1195.0       1\n",
       "1197.0     353\n",
       "1198.0       1\n",
       "1199.0       3\n",
       "1200.0      18\n",
       "1229.0     677\n",
       "1239.0       1\n",
       "1248.0     110\n",
       "1300.0       2\n",
       "1333.0       1\n",
       "1350.0       1\n",
       "1364.0     102\n",
       "1368.0       1\n",
       "1369.0       1\n",
       "1390.0       1\n",
       "1395.0     320\n",
       "1396.0       3\n",
       "1397.0      11\n",
       "1398.0    1388\n",
       "1399.0     749\n",
       "1400.0      90\n",
       "1422.0     467\n",
       "1461.0     686\n",
       "1490.0     559\n",
       "1495.0       2\n",
       "1496.0       1\n",
       "1498.0     196\n",
       "1499.0       5\n",
       "1500.0      50\n",
       "1533.0       1\n",
       "1568.0       1\n",
       "1580.0       1\n",
       "1584.0       1\n",
       "1589.0       2\n",
       "1596.0       4\n",
       "1598.0    5028\n",
       "1599.0       3\n",
       "1600.0     130\n",
       "1618.0     212\n",
       "1686.0       1\n",
       "1696.0       1\n",
       "1798.0     210\n",
       "1800.0       1\n",
       "1856.0       1\n",
       "1896.0       1\n",
       "1956.0     670\n",
       "1968.0     301\n",
       "1984.0      18\n",
       "1995.0       1\n",
       "1997.0     103\n",
       "1998.0      25\n",
       "2000.0      48\n",
       "2480.0      21\n",
       "Name: dm_displacement, dtype: int64"
      ]
     },
     "execution_count": 275,
     "metadata": {},
     "output_type": "execute_result"
    }
   ],
   "source": [
    "df.dm_displacement.value_counts(dropna=False).sort_index()"
   ]
  },
  {
   "cell_type": "markdown",
   "metadata": {},
   "source": [
    "<div class=\"alert alert-block alert-info\">\n",
    "<p>Ready for the model, but consider grouping the values into a few categories. Also, consider using different reference columns while filling the missing values.</p></div>"
   ]
  },
  {
   "cell_type": "markdown",
   "metadata": {},
   "source": [
    "### 34 - Cylinders"
   ]
  },
  {
   "cell_type": "code",
   "execution_count": 276,
   "metadata": {},
   "outputs": [
    {
     "ename": "TypeError",
     "evalue": "unhashable type: 'list'",
     "output_type": "error",
     "traceback": [
      "\u001b[0;31m---------------------------------------------------------------------------\u001b[0m",
      "\u001b[0;31mTypeError\u001b[0m                                 Traceback (most recent call last)",
      "\u001b[0;32mpandas/_libs/hashtable_class_helper.pxi\u001b[0m in \u001b[0;36mpandas._libs.hashtable.PyObjectHashTable.map_locations\u001b[0;34m()\u001b[0m\n",
      "\u001b[0;31mTypeError\u001b[0m: unhashable type: 'list'"
     ]
    },
    {
     "name": "stderr",
     "output_type": "stream",
     "text": [
      "Exception ignored in: 'pandas._libs.index.IndexEngine._call_map_locations'\n",
      "Traceback (most recent call last):\n",
      "  File \"pandas/_libs/hashtable_class_helper.pxi\", line 1709, in pandas._libs.hashtable.PyObjectHashTable.map_locations\n",
      "TypeError: unhashable type: 'list'\n"
     ]
    },
    {
     "data": {
      "text/plain": [
       "[\\n4\\n]    8105\n",
       "NaN        5680\n",
       "[\\n3\\n]    2104\n",
       "[\\n5\\n]      22\n",
       "[\\n6\\n]       3\n",
       "[\\n2\\n]       2\n",
       "[\\n8\\n]       2\n",
       "[\\n1\\n]       1\n",
       "Name: Cylinders, dtype: int64"
      ]
     },
     "execution_count": 276,
     "metadata": {},
     "output_type": "execute_result"
    }
   ],
   "source": [
    "df.Cylinders.value_counts(dropna=False)"
   ]
  },
  {
   "cell_type": "code",
   "execution_count": 277,
   "metadata": {},
   "outputs": [],
   "source": [
    "df['dm_cylinders'] = df.Cylinders"
   ]
  },
  {
   "cell_type": "code",
   "execution_count": 278,
   "metadata": {},
   "outputs": [],
   "source": [
    "def convert(x):\n",
    "    if x is not np.nan:\n",
    "        x = str(x)\n",
    "        y = re.findall('([0-9]+)', x)\n",
    "        return float(y[0])"
   ]
  },
  {
   "cell_type": "code",
   "execution_count": 279,
   "metadata": {},
   "outputs": [],
   "source": [
    "df.dm_cylinders = df.dm_cylinders.apply(convert)"
   ]
  },
  {
   "cell_type": "code",
   "execution_count": 280,
   "metadata": {},
   "outputs": [
    {
     "data": {
      "text/plain": [
       "4.0    8105\n",
       "NaN    5680\n",
       "3.0    2104\n",
       "5.0      22\n",
       "6.0       3\n",
       "2.0       2\n",
       "8.0       2\n",
       "1.0       1\n",
       "Name: dm_cylinders, dtype: int64"
      ]
     },
     "execution_count": 280,
     "metadata": {},
     "output_type": "execute_result"
    }
   ],
   "source": [
    "df.dm_cylinders.value_counts(dropna=False)"
   ]
  },
  {
   "cell_type": "code",
   "execution_count": 281,
   "metadata": {},
   "outputs": [],
   "source": [
    "df.dm_cylinders.replace({1:np.nan, 2:np.nan, 5:np.nan, 6:np.nan, 8:np.nan}, inplace=True)"
   ]
  },
  {
   "cell_type": "code",
   "execution_count": 282,
   "metadata": {},
   "outputs": [
    {
     "data": {
      "text/plain": [
       "4.0    8105\n",
       "NaN    5710\n",
       "3.0    2104\n",
       "Name: dm_cylinders, dtype: int64"
      ]
     },
     "execution_count": 282,
     "metadata": {},
     "output_type": "execute_result"
    }
   ],
   "source": [
    "df.dm_cylinders.value_counts(dropna=False)"
   ]
  },
  {
   "cell_type": "code",
   "execution_count": 283,
   "metadata": {},
   "outputs": [],
   "source": [
    "lst1 = df.make_model.unique()\n",
    "lst2 = df.dm_hp.unique()\n",
    "for i in lst1:\n",
    "    for j in lst2:\n",
    "        cond = (df.make_model == i) & (df.dm_hp == j)\n",
    "        df.loc[cond, 'dm_cylinders'] = df.loc[cond, 'dm_cylinders'].fillna(method='ffill').fillna(method='bfill')\n",
    "df.dm_cylinders = df.dm_cylinders.fillna(method='ffill').fillna('bfill')"
   ]
  },
  {
   "cell_type": "code",
   "execution_count": 284,
   "metadata": {},
   "outputs": [
    {
     "data": {
      "text/plain": [
       "4.0    12585\n",
       "3.0     3334\n",
       "Name: dm_cylinders, dtype: int64"
      ]
     },
     "execution_count": 284,
     "metadata": {},
     "output_type": "execute_result"
    }
   ],
   "source": [
    "df.dm_cylinders.value_counts(dropna=False)"
   ]
  },
  {
   "cell_type": "markdown",
   "metadata": {},
   "source": [
    "<div class=\"alert alert-block alert-success\">\n",
    "<p>Ready for the analysis.</p></div>"
   ]
  },
  {
   "cell_type": "markdown",
   "metadata": {},
   "source": [
    "### 35 - Weight"
   ]
  },
  {
   "cell_type": "code",
   "execution_count": 285,
   "metadata": {},
   "outputs": [
    {
     "ename": "TypeError",
     "evalue": "unhashable type: 'list'",
     "output_type": "error",
     "traceback": [
      "\u001b[0;31m---------------------------------------------------------------------------\u001b[0m",
      "\u001b[0;31mTypeError\u001b[0m                                 Traceback (most recent call last)",
      "\u001b[0;32mpandas/_libs/hashtable_class_helper.pxi\u001b[0m in \u001b[0;36mpandas._libs.hashtable.PyObjectHashTable.map_locations\u001b[0;34m()\u001b[0m\n",
      "\u001b[0;31mTypeError\u001b[0m: unhashable type: 'list'"
     ]
    },
    {
     "name": "stderr",
     "output_type": "stream",
     "text": [
      "Exception ignored in: 'pandas._libs.index.IndexEngine._call_map_locations'\n",
      "Traceback (most recent call last):\n",
      "  File \"pandas/_libs/hashtable_class_helper.pxi\", line 1709, in pandas._libs.hashtable.PyObjectHashTable.map_locations\n",
      "TypeError: unhashable type: 'list'\n"
     ]
    },
    {
     "data": {
      "text/plain": [
       "NaN               6974\n",
       "[\\n1,163 kg\\n]     574\n",
       "[\\n1,360 kg\\n]     356\n",
       "[\\n1,165 kg\\n]     301\n",
       "[\\n1,335 kg\\n]     242\n",
       "                  ... \n",
       "[\\n1,030 kg\\n]       1\n",
       "[\\n1,206 kg\\n]       1\n",
       "[\\n1,492 kg\\n]       1\n",
       "[\\n1,057 kg\\n]       1\n",
       "[\\n1,939 kg\\n]       1\n",
       "Name: Weight, Length: 435, dtype: int64"
      ]
     },
     "execution_count": 285,
     "metadata": {},
     "output_type": "execute_result"
    }
   ],
   "source": [
    "df.Weight.value_counts(dropna=False)"
   ]
  },
  {
   "cell_type": "code",
   "execution_count": 286,
   "metadata": {},
   "outputs": [],
   "source": [
    "df['dm_weight'] = df.Weight"
   ]
  },
  {
   "cell_type": "code",
   "execution_count": 287,
   "metadata": {},
   "outputs": [],
   "source": [
    "def convert(x):\n",
    "    if x is not np.nan:\n",
    "        x = str(x)\n",
    "        y = re.findall('([0-9]+)', x)\n",
    "        return float(''.join(y))"
   ]
  },
  {
   "cell_type": "code",
   "execution_count": 288,
   "metadata": {},
   "outputs": [],
   "source": [
    "df.dm_weight = df.dm_weight.apply(convert)"
   ]
  },
  {
   "cell_type": "code",
   "execution_count": 289,
   "metadata": {},
   "outputs": [],
   "source": [
    "df.dm_weight.replace({1:np.nan, 102:np.nan}, inplace=True)"
   ]
  },
  {
   "cell_type": "code",
   "execution_count": 290,
   "metadata": {},
   "outputs": [
    {
     "data": {
      "text/plain": [
       "NaN       6977\n",
       "1163.0     574\n",
       "1360.0     356\n",
       "1165.0     301\n",
       "1335.0     242\n",
       "          ... \n",
       "1277.0       1\n",
       "1302.0       1\n",
       "1891.0       1\n",
       "1332.0       1\n",
       "2355.0       1\n",
       "Name: dm_weight, Length: 433, dtype: int64"
      ]
     },
     "execution_count": 290,
     "metadata": {},
     "output_type": "execute_result"
    }
   ],
   "source": [
    "df.dm_weight.value_counts(dropna=False)"
   ]
  },
  {
   "cell_type": "code",
   "execution_count": 291,
   "metadata": {},
   "outputs": [],
   "source": [
    "lst1 = df.make_model.unique()\n",
    "lst2 = df.body_type.unique()\n",
    "for i in lst1:\n",
    "    for j in lst2:\n",
    "        cond = (df.make_model == i) & (df.body_type == j)\n",
    "        df.loc[cond, 'dm_weight'] = df.loc[cond, 'dm_weight'].fillna(method='ffill').fillna(method='bfill')\n",
    "df.dm_weight = df.dm_weight.fillna(method='ffill').fillna('bfill')"
   ]
  },
  {
   "cell_type": "code",
   "execution_count": 292,
   "metadata": {},
   "outputs": [
    {
     "data": {
      "text/plain": [
       "1163.0    975\n",
       "1165.0    548\n",
       "1360.0    501\n",
       "1335.0    467\n",
       "1199.0    451\n",
       "         ... \n",
       "1383.0      1\n",
       "1819.0      1\n",
       "1686.0      1\n",
       "1057.0      1\n",
       "1294.0      1\n",
       "Name: dm_weight, Length: 432, dtype: int64"
      ]
     },
     "execution_count": 292,
     "metadata": {},
     "output_type": "execute_result"
    }
   ],
   "source": [
    "df.dm_weight.value_counts(dropna=False)"
   ]
  },
  {
   "cell_type": "code",
   "execution_count": 293,
   "metadata": {},
   "outputs": [
    {
     "data": {
      "text/plain": [
       "0"
      ]
     },
     "execution_count": 293,
     "metadata": {},
     "output_type": "execute_result"
    }
   ],
   "source": [
    "df.dm_weight.isnull().sum()"
   ]
  },
  {
   "cell_type": "code",
   "execution_count": 294,
   "metadata": {},
   "outputs": [
    {
     "data": {
      "image/png": "[encoded data removed]",
      "text/plain": [
       "<Figure size 432x288 with 1 Axes>"
      ]
     },
     "metadata": {
      "needs_background": "light"
     },
     "output_type": "display_data"
    }
   ],
   "source": [
    "sns.boxplot(df.dm_weight);"
   ]
  },
  {
   "cell_type": "code",
   "execution_count": 295,
   "metadata": {},
   "outputs": [
    {
     "data": {
      "image/png": "[encoded data removed]",
      "text/plain": [
       "<Figure size 432x288 with 1 Axes>"
      ]
     },
     "metadata": {
      "needs_background": "light"
     },
     "output_type": "display_data"
    }
   ],
   "source": [
    "sns.distplot(df.dm_weight);"
   ]
  },
  {
   "cell_type": "markdown",
   "metadata": {},
   "source": [
    "<div class=\"alert alert-block alert-info\">\n",
    "<p>Ready for the analysis, but I don't think that this column is useful for the model.</p></div>"
   ]
  },
  {
   "cell_type": "markdown",
   "metadata": {},
   "source": [
    "### 36 - Drive chain"
   ]
  },
  {
   "cell_type": "code",
   "execution_count": 296,
   "metadata": {},
   "outputs": [
    {
     "ename": "TypeError",
     "evalue": "unhashable type: 'list'",
     "output_type": "error",
     "traceback": [
      "\u001b[0;31m---------------------------------------------------------------------------\u001b[0m",
      "\u001b[0;31mTypeError\u001b[0m                                 Traceback (most recent call last)",
      "\u001b[0;32mpandas/_libs/hashtable_class_helper.pxi\u001b[0m in \u001b[0;36mpandas._libs.hashtable.PyObjectHashTable.map_locations\u001b[0;34m()\u001b[0m\n",
      "\u001b[0;31mTypeError\u001b[0m: unhashable type: 'list'"
     ]
    },
    {
     "name": "stderr",
     "output_type": "stream",
     "text": [
      "Exception ignored in: 'pandas._libs.index.IndexEngine._call_map_locations'\n",
      "Traceback (most recent call last):\n",
      "  File \"pandas/_libs/hashtable_class_helper.pxi\", line 1709, in pandas._libs.hashtable.PyObjectHashTable.map_locations\n",
      "TypeError: unhashable type: 'list'\n"
     ]
    },
    {
     "data": {
      "text/plain": [
       "[\\nfront\\n]    8886\n",
       "NaN            6858\n",
       "[\\n4WD\\n]       171\n",
       "[\\nrear\\n]        4\n",
       "Name: Drive chain, dtype: int64"
      ]
     },
     "execution_count": 296,
     "metadata": {},
     "output_type": "execute_result"
    }
   ],
   "source": [
    "df['Drive chain'].value_counts(dropna=False)"
   ]
  },
  {
   "cell_type": "code",
   "execution_count": 297,
   "metadata": {},
   "outputs": [],
   "source": [
    "df['dm_drive_chain'] = df['Drive chain']"
   ]
  },
  {
   "cell_type": "code",
   "execution_count": 298,
   "metadata": {},
   "outputs": [],
   "source": [
    "def convert(x):\n",
    "    if x is not np.nan:\n",
    "        x = str(x)\n",
    "        y = re.findall('n([A-Za-z4]+)', x)\n",
    "        return y[0]"
   ]
  },
  {
   "cell_type": "code",
   "execution_count": 299,
   "metadata": {},
   "outputs": [],
   "source": [
    "df['dm_drive_chain'] = df['dm_drive_chain'].apply(convert)"
   ]
  },
  {
   "cell_type": "code",
   "execution_count": 300,
   "metadata": {},
   "outputs": [
    {
     "data": {
      "text/plain": [
       "front    8886\n",
       "NaN      6858\n",
       "4WD       171\n",
       "rear        4\n",
       "Name: dm_drive_chain, dtype: int64"
      ]
     },
     "execution_count": 300,
     "metadata": {},
     "output_type": "execute_result"
    }
   ],
   "source": [
    "df['dm_drive_chain'].value_counts(dropna=False)"
   ]
  },
  {
   "cell_type": "code",
   "execution_count": 301,
   "metadata": {},
   "outputs": [],
   "source": [
    "df['dm_drive_chain'].replace({'rear':np.nan}, inplace=True)"
   ]
  },
  {
   "cell_type": "code",
   "execution_count": 302,
   "metadata": {},
   "outputs": [
    {
     "data": {
      "text/plain": [
       "front    8886\n",
       "NaN      6862\n",
       "4WD       171\n",
       "Name: dm_drive_chain, dtype: int64"
      ]
     },
     "execution_count": 302,
     "metadata": {},
     "output_type": "execute_result"
    }
   ],
   "source": [
    "df['dm_drive_chain'].value_counts(dropna=False)"
   ]
  },
  {
   "cell_type": "code",
   "execution_count": 303,
   "metadata": {},
   "outputs": [],
   "source": [
    "lst1 = df.make_model.unique()\n",
    "lst2 = df.body_type.unique()\n",
    "lst3 = df.dm_gear.unique()\n",
    "for i in lst1:\n",
    "    for j in lst2:\n",
    "        for t in lst3:\n",
    "            cond = (df.make_model == i) & (df.body_type == j) & (df.dm_gear == t)\n",
    "            df.loc[cond, 'dm_drive_chain'] = df.loc[cond, 'dm_drive_chain'].fillna(method=\n",
    "                                                                            'ffill').fillna(method='bfill')\n",
    "for i in lst2:\n",
    "    for j in lst3:\n",
    "        cond = (df.body_type == i) & (df.dm_gear == j)\n",
    "        df.loc[cond, 'dm_drive_chain'] = df.loc[cond, 'dm_drive_chain'].fillna(method=\n",
    "                                                                            'ffill').fillna(method='bfill')\n",
    "df.dm_drive_chain = df.dm_drive_chain.fillna(method='ffill').fillna('bfill')"
   ]
  },
  {
   "cell_type": "code",
   "execution_count": 304,
   "metadata": {},
   "outputs": [
    {
     "data": {
      "text/plain": [
       "front    15585\n",
       "4WD        334\n",
       "Name: dm_drive_chain, dtype: int64"
      ]
     },
     "execution_count": 304,
     "metadata": {},
     "output_type": "execute_result"
    }
   ],
   "source": [
    "df['dm_drive_chain'].value_counts(dropna=False)"
   ]
  },
  {
   "cell_type": "code",
   "execution_count": 305,
   "metadata": {},
   "outputs": [],
   "source": [
    "# df_dummied = pd.get_dummies(df.dm_gear, prefix='gear_', prefix_sep='', columns=['gear'], dtype='float64')\n",
    "# df = pd.concat([df, df_dummied], axis=1)"
   ]
  },
  {
   "cell_type": "markdown",
   "metadata": {},
   "source": [
    "<div class=\"alert alert-block alert-success\">\n",
    "<p>Ready for the model.</p></div>"
   ]
  },
  {
   "cell_type": "markdown",
   "metadata": {},
   "source": [
    "### 37 - Fuel"
   ]
  },
  {
   "cell_type": "code",
   "execution_count": 306,
   "metadata": {},
   "outputs": [
    {
     "ename": "TypeError",
     "evalue": "unhashable type: 'list'",
     "output_type": "error",
     "traceback": [
      "\u001b[0;31m---------------------------------------------------------------------------\u001b[0m",
      "\u001b[0;31mTypeError\u001b[0m                                 Traceback (most recent call last)",
      "\u001b[0;32mpandas/_libs/hashtable_class_helper.pxi\u001b[0m in \u001b[0;36mpandas._libs.hashtable.PyObjectHashTable.map_locations\u001b[0;34m()\u001b[0m\n",
      "\u001b[0;31mTypeError\u001b[0m: unhashable type: 'list'"
     ]
    },
    {
     "name": "stderr",
     "output_type": "stream",
     "text": [
      "Exception ignored in: 'pandas._libs.index.IndexEngine._call_map_locations'\n",
      "Traceback (most recent call last):\n",
      "  File \"pandas/_libs/hashtable_class_helper.pxi\", line 1709, in pandas._libs.hashtable.PyObjectHashTable.map_locations\n",
      "TypeError: unhashable type: 'list'\n"
     ]
    },
    {
     "data": {
      "text/plain": [
       "[\\n, Diesel (Particulate Filter), \\n]                                                                                                       4315\n",
       "[\\n, Super 95, \\n]                                                                                                                          3338\n",
       "[\\n, Gasoline, \\n]                                                                                                                          3175\n",
       "[\\n, Diesel, \\n]                                                                                                                            2984\n",
       "[\\n, Super 95 / Regular/Benzine 91, \\n]                                                                                                      424\n",
       "[\\n, Regular/Benzine 91, \\n]                                                                                                                 354\n",
       "[\\n, Super E10 95, \\n]                                                                                                                       331\n",
       "[\\n, Super 95 (Particulate Filter), \\n]                                                                                                      268\n",
       "[\\n, Super 95 / Super E10 95, \\n]                                                                                                            131\n",
       "[\\n, Regular/Benzine 91 (Particulate Filter), \\n]                                                                                            100\n",
       "[\\n, Super 95 / Super Plus 98, \\n]                                                                                                            85\n",
       "[\\n, Gasoline (Particulate Filter), \\n]                                                                                                       77\n",
       "[\\n, Super 95 / Super Plus 98 / Super E10 95 / Super Plus E10 98, \\n]                                                                         40\n",
       "[\\n, Super E10 95 / Super 95, \\n]                                                                                                             38\n",
       "[\\n, CNG, \\n]                                                                                                                                 33\n",
       "[\\n, Super 95 / Super E10 95 (Particulate Filter), \\n]                                                                                        25\n",
       "[\\n, Super E10 95 / Super 95 / Super Plus 98 / Super Plus E10 98, \\n]                                                                         19\n",
       "[\\n, LPG, \\n]                                                                                                                                 16\n",
       "[\\n, Super 95 / Super Plus 98 (Particulate Filter), \\n]                                                                                       14\n",
       "[\\n, Regular/Benzine 91 / Super 95 / Super Plus 98 / Regular/Benzine E10 91 / Super E10 95 / Super Plus E10 98, \\n]                           13\n",
       "[\\n, Regular/Benzine E10 91, \\n]                                                                                                              11\n",
       "[\\n, Liquid petroleum gas (LPG), \\n]                                                                                                          10\n",
       "[\\n, Super 95 / Super Plus 98 / Super E10 95, \\n]                                                                                              8\n",
       "[\\n, Super 95 / Regular/Benzine 91 / Super Plus 98 / Regular/Benzine E10 91 / Super E10 95 / Super Plus E10 98, \\n]                            7\n",
       "[\\n, Super E10 95 (Particulate Filter), \\n]                                                                                                    7\n",
       "[\\n, Super Plus 98, \\n]                                                                                                                        7\n",
       "[\\n, Regular/Benzine 91 / Regular/Benzine E10 91, \\n]                                                                                          7\n",
       "[\\n, Others, \\n]                                                                                                                               5\n",
       "[\\n, Super 95 / Super Plus 98 / Super Plus E10 98 / Super E10 95, \\n]                                                                          5\n",
       "[\\n, Super 95 / Super Plus 98 / Super E10 95 / Super Plus E10 98 (Particulate Filter), \\n]                                                     4\n",
       "[\\n, Regular/Benzine 91 / Super 95 / Super Plus 98 / Regular/Benzine E10 91 / Super Plus E10 98 / Super E10 95, \\n]                            4\n",
       "[\\n, Super 95 / Super E10 95 / Super Plus E10 98 / Super Plus 98, \\n]                                                                          4\n",
       "[\\n, Electric/Gasoline, \\n]                                                                                                                    4\n",
       "[\\n, Super E10 95 / Super Plus E10 98, \\n]                                                                                                     4\n",
       "[\\n, CNG (Particulate Filter), \\n]                                                                                                             3\n",
       "[\\n, Super E10 95 / Super 95 / Super Plus 98, \\n]                                                                                              3\n",
       "[\\n, Super E10 95 / Super 95 / Super Plus 98 / Super Plus E10 98 (Particulate Filter), \\n]                                                     3\n",
       "[\\n, Super 95 / Regular/Benzine 91 / Super Plus 98, \\n]                                                                                        2\n",
       "[\\n, Super E10 95 / Regular/Benzine 91, \\n]                                                                                                    2\n",
       "[\\n, Regular/Benzine 91 / Super 95 / Super Plus 98 / Super Plus E10 98 / Super E10 95 / Regular/Benzine E10 91, \\n]                            2\n",
       "[\\n, Super Plus 98 / Super 95 / Super Plus E10 98, \\n]                                                                                         1\n",
       "[\\n, Super 95 / Super E10 95 / Super Plus E10 98, \\n]                                                                                          1\n",
       "[\\n, Regular/Benzine 91 / Super 95 / Super E10 95 / Regular/Benzine E10 91, \\n]                                                                1\n",
       "[\\n, Super 95 / Regular/Benzine 91 / Super E10 95 / Super Plus 98 / Super Plus E10 98 / Regular/Benzine E10 91, \\n]                            1\n",
       "[\\n, Super E10 95 / Regular/Benzine 91 / Regular/Benzine E10 91 / Super 95, \\n]                                                                1\n",
       "[\\n, Super 95 / Regular/Benzine 91 / Super E10 95 / Super Plus E10 98 / Super Plus 98 / Regular/Benzine E10 91, \\n]                            1\n",
       "[\\n, Super 95 / Regular/Benzine E10 91, \\n]                                                                                                    1\n",
       "[\\n, Regular/Benzine 91 / Super 95 / Super Plus E10 98 / Super E10 95 / Regular/Benzine E10 91 / Super Plus 98, \\n]                            1\n",
       "[\\n, Regular/Benzine 91 / Super 95 / Super E10 95 / Super Plus E10 98 / Super Plus 98 / Regular/Benzine E10 91, \\n]                            1\n",
       "[\\n, Electric, \\n]                                                                                                                             1\n",
       "[\\n, Super 95 / Super Plus 98 / Regular/Benzine E10 91 / Super Plus E10 98 / Super E10 95 / Regular/Benzine 91, \\n]                            1\n",
       "[\\n, Super Plus 98 / Regular/Benzine 91, \\n]                                                                                                   1\n",
       "[\\n, Super 95 / Regular/Benzine 91 (Particulate Filter), \\n]                                                                                   1\n",
       "[\\n, Regular/Benzine 91 / Super Plus 98 / Regular/Benzine E10 91 / Super 95 / Super E10 95 / Super Plus E10 98, \\n]                            1\n",
       "[\\n, Super 95 / Super E10 95 / Regular/Benzine 91, \\n]                                                                                         1\n",
       "[\\n, Super 95 / Super E10 95 / Super Plus 98, \\n]                                                                                              1\n",
       "[\\n, Super 95 / Super Plus 98 / Super Plus E10 98, \\n]                                                                                         1\n",
       "[\\n, Regular/Benzine E10 91 / Regular/Benzine 91 / Super 95 / Super Plus 98 / Super E10 95 / Super Plus E10 98, \\n]                            1\n",
       "[\\n, Super 95 / Regular/Benzine E10 91 / Super E10 95, \\n]                                                                                     1\n",
       "[\\n, Regular/Benzine 91 / Super 95 / Super E10 95, \\n]                                                                                         1\n",
       "[\\n, Regular/Benzine E10 91 / Super E10 95 / Super Plus E10 98 / Super Plus 98 / Super 95 / Regular/Benzine 91, \\n]                            1\n",
       "[\\n, Regular/Benzine 91 / Super 95, \\n]                                                                                                        1\n",
       "[\\n, Regular/Benzine 91 / Super 95 / Super Plus 98, \\n]                                                                                        1\n",
       "[\\n, Regular/Benzine 91 / Super 95 / Super Plus 98 / Super Plus E10 98 / Super E10 95 / Regular/Benzine E10 91 (Particulate Filter), \\n]       1\n",
       "[\\n, Super E10 95 / Regular/Benzine 91 / Super 95 / Super Plus 98 / Regular/Benzine E10 91 / Super Plus E10 98, \\n]                            1\n",
       "[\\n, Super Plus E10 98 / Super 95 / Super Plus 98 / Super E10 95, \\n]                                                                          1\n",
       "[\\n, Super 95 / Biodiesel, \\n]                                                                                                                 1\n",
       "[\\n, Biogas, \\n]                                                                                                                               1\n",
       "[\\n, Super Plus 98 / Super 95 / Super E10 95, \\n]                                                                                              1\n",
       "[\\n, Others (Particulate Filter), \\n]                                                                                                          1\n",
       "[\\n, Super Plus E10 98, \\n]                                                                                                                    1\n",
       "[\\n, Regular/Benzine 91 / Super 95 / Regular/Benzine E10 91, \\n]                                                                               1\n",
       "[\\n, Super Plus 98 / Super E10 95, \\n]                                                                                                         1\n",
       "[\\n, Regular/Benzine 91 / Super 95 / Regular/Benzine E10 91 / Super E10 95 / Super Plus 98 / Super Plus E10 98, \\n]                            1\n",
       "[\\n, Super 95 / Regular/Benzine 91 / Super Plus 98 / Regular/Benzine E10 91 / Super Plus E10 98 / Super E10 95, \\n]                            1\n",
       "[\\n, Super 95 / Regular/Benzine 91 / Super E10 95 / Super Plus E10 98 / Super Plus 98, \\n]                                                     1\n",
       "[\\n, Domestic gas H, \\n]                                                                                                                       1\n",
       "Name: Fuel, dtype: int64"
      ]
     },
     "execution_count": 306,
     "metadata": {},
     "output_type": "execute_result"
    }
   ],
   "source": [
    "df.Fuel.value_counts(dropna=False)"
   ]
  },
  {
   "cell_type": "code",
   "execution_count": 307,
   "metadata": {},
   "outputs": [],
   "source": [
    "df['dm_fuel'] = df.Fuel"
   ]
  },
  {
   "cell_type": "code",
   "execution_count": 308,
   "metadata": {},
   "outputs": [],
   "source": [
    "def convert(x):\n",
    "    x = str(x)\n",
    "    y = re.findall('Regular|Super|Biogas|CNG|Domestic|gas|Others|Electric|Gasoline|LPG|Diesel', x)\n",
    "    if y != []:\n",
    "        \n",
    "        if y[0] in ['Gasoline', 'Super', 'Others', 'Regular', 'Electric']:\n",
    "            return 'Benzine'\n",
    "        elif y[0] in ['LPG', 'CNG', 'Biogas', 'Domestic', 'gas']:\n",
    "            return 'LPG/CNG'\n",
    "        elif y[0] in ['Diesel']:\n",
    "            return 'Diesel'"
   ]
  },
  {
   "cell_type": "code",
   "execution_count": 309,
   "metadata": {},
   "outputs": [],
   "source": [
    "df.dm_fuel = df.dm_fuel.apply(convert)"
   ]
  },
  {
   "cell_type": "code",
   "execution_count": 310,
   "metadata": {},
   "outputs": [
    {
     "data": {
      "text/plain": [
       "Benzine    8556\n",
       "Diesel     7299\n",
       "LPG/CNG      64\n",
       "Name: dm_fuel, dtype: int64"
      ]
     },
     "execution_count": 310,
     "metadata": {},
     "output_type": "execute_result"
    }
   ],
   "source": [
    "df.dm_fuel.value_counts(dropna=False)"
   ]
  },
  {
   "cell_type": "markdown",
   "metadata": {},
   "source": [
    "<div class=\"alert alert-block alert-success\">\n",
    "<p>Ready for the analysis.</p></div>"
   ]
  },
  {
   "cell_type": "markdown",
   "metadata": {},
   "source": [
    "### 38 - Consumption"
   ]
  },
  {
   "cell_type": "code",
   "execution_count": 312,
   "metadata": {},
   "outputs": [
    {
     "ename": "TypeError",
     "evalue": "unhashable type: 'list'",
     "output_type": "error",
     "traceback": [
      "\u001b[0;31m---------------------------------------------------------------------------\u001b[0m",
      "\u001b[0;31mTypeError\u001b[0m                                 Traceback (most recent call last)",
      "\u001b[0;32mpandas/_libs/hashtable_class_helper.pxi\u001b[0m in \u001b[0;36mpandas._libs.hashtable.PyObjectHashTable.map_locations\u001b[0;34m()\u001b[0m\n",
      "\u001b[0;31mTypeError\u001b[0m: unhashable type: 'list'"
     ]
    },
    {
     "name": "stderr",
     "output_type": "stream",
     "text": [
      "Exception ignored in: 'pandas._libs.index.IndexEngine._call_map_locations'\n",
      "Traceback (most recent call last):\n",
      "  File \"pandas/_libs/hashtable_class_helper.pxi\", line 1709, in pandas._libs.hashtable.PyObjectHashTable.map_locations\n",
      "TypeError: unhashable type: 'list'\n"
     ]
    },
    {
     "data": {
      "text/plain": [
       "NaN                                                                                   1906\n",
       "[[3.9 l/100 km (comb)], [4.1 l/100 km (city)], [3.7 l/100 km (country)]]               304\n",
       "[[4.2 l/100 km (comb)], [5 l/100 km (city)], [3.7 l/100 km (country)]]                 276\n",
       "[[5.4 l/100 km (comb)], [6.8 l/100 km (city)], [4.5 l/100 km (country)]]               257\n",
       "[[3.8 l/100 km (comb)], [4.3 l/100 km (city)], [3.5 l/100 km (country)]]               253\n",
       "                                                                                      ... \n",
       "[[3.6 l/100 km (comb)], [], [4.4 l/100 km (country)]]                                    1\n",
       "[\\n, 4.8 l/100 km (comb), \\n, 5.6 l/100 km (city), \\n, 4.3 l/100 km (country), \\n]       1\n",
       "[[7.6 l/100 km (comb)], [], []]                                                          1\n",
       "[[5.6 l/100 km (comb)], [7.6 l/100 km (city)], [4.4 l/100 km (country)]]                 1\n",
       "[\\n, 4.7 l/100 km (comb), \\n, \\n, \\n]                                                    1\n",
       "Name: Consumption, Length: 882, dtype: int64"
      ]
     },
     "execution_count": 312,
     "metadata": {},
     "output_type": "execute_result"
    }
   ],
   "source": [
    "df.Consumption.value_counts(dropna=False)"
   ]
  },
  {
   "cell_type": "code",
   "execution_count": 375,
   "metadata": {},
   "outputs": [],
   "source": [
    "df['dm_consumption'] = df.Consumption"
   ]
  },
  {
   "cell_type": "code",
   "execution_count": 376,
   "metadata": {},
   "outputs": [],
   "source": [
    "def calc(x):\n",
    "    if x is not np.nan:\n",
    "        x = str(x)\n",
    "        y = re.findall('([0-9.]+)', x)\n",
    "        if 'comb' in x and 'city' in x and 'country' in x:\n",
    "            return [float(y[0]), float(y[2]), float(y[4])]"
   ]
  },
  {
   "cell_type": "code",
   "execution_count": 377,
   "metadata": {},
   "outputs": [],
   "source": [
    "calculation = df['dm_consumption'].apply(calc)"
   ]
  },
  {
   "cell_type": "code",
   "execution_count": 378,
   "metadata": {},
   "outputs": [
    {
     "data": {
      "text/plain": [
       "0        [3.8, 4.3, 3.5]\n",
       "1        [5.6, 7.1, 4.7]\n",
       "2        [3.8, 4.4, 3.4]\n",
       "3        [3.8, 4.3, 3.5]\n",
       "4        [4.1, 4.6, 3.8]\n",
       "              ...       \n",
       "15914    [5.3, 6.2, 4.7]\n",
       "15915    [7.4, 9.2, 6.3]\n",
       "15916    [5.3, 6.2, 4.7]\n",
       "15917    [5.3, 6.2, 4.7]\n",
       "15918    [6.8, 8.7, 5.7]\n",
       "Name: dm_consumption, Length: 15919, dtype: object"
      ]
     },
     "execution_count": 378,
     "metadata": {},
     "output_type": "execute_result"
    }
   ],
   "source": [
    "calculation"
   ]
  },
  {
   "cell_type": "code",
   "execution_count": 379,
   "metadata": {},
   "outputs": [
    {
     "name": "stdout",
     "output_type": "stream",
     "text": [
      "0.8837209302325423 1.0857142857145872\n"
     ]
    }
   ],
   "source": [
    "comb_sum, city_sum, country_sum = 0,0,0\n",
    "for i in range(len(calculation)):\n",
    "    comb_sum += calculation[0][0]\n",
    "    city_sum += calculation[0][1]\n",
    "    country_sum += calculation[0][2]\n",
    "comb_avg = comb_sum / len(calculation)\n",
    "city_avg = city_sum / len(calculation)\n",
    "country_avg = country_sum / len(calculation)\n",
    "\n",
    "city_multiplier = comb_avg / city_avg\n",
    "country_multiplier = comb_avg / country_avg\n",
    "print(x, y)"
   ]
  },
  {
   "cell_type": "code",
   "execution_count": 380,
   "metadata": {},
   "outputs": [],
   "source": [
    "def convert(x):\n",
    "    if x is not np.nan:\n",
    "        x = str(x)\n",
    "        y = re.findall('([0-9.]+)', x)\n",
    "        if 'comb' in x:\n",
    "            return float(y[0])\n",
    "        elif 'city' in x and 'country' in x:\n",
    "            return (float(y[0]) + float(y[2])) / 2\n",
    "        elif 'city' in x:\n",
    "            return float(y[0]) * city_multiplier\n",
    "        elif 'county' in x:\n",
    "            return float(y[0]) * country_multiplier"
   ]
  },
  {
   "cell_type": "code",
   "execution_count": 381,
   "metadata": {},
   "outputs": [],
   "source": [
    "df['dm_consumption'] = df['dm_consumption'].apply(convert)"
   ]
  },
  {
   "cell_type": "code",
   "execution_count": 382,
   "metadata": {},
   "outputs": [
    {
     "data": {
      "text/plain": [
       "0.00        2\n",
       "1.00        1\n",
       "1.20        1\n",
       "1.60        3\n",
       "3.00       69\n",
       "3.10        7\n",
       "3.20       25\n",
       "3.30      307\n",
       "3.40      125\n",
       "3.50      288\n",
       "3.60       37\n",
       "3.60      194\n",
       "3.65       20\n",
       "3.70      369\n",
       "3.80      585\n",
       "3.90      733\n",
       "3.95        3\n",
       "4.00      713\n",
       "4.10      342\n",
       "4.20      435\n",
       "4.30      307\n",
       "4.40      623\n",
       "4.50      524\n",
       "4.55        1\n",
       "4.60      426\n",
       "4.70      607\n",
       "4.80      546\n",
       "4.90      393\n",
       "5.00      545\n",
       "5.10      657\n",
       "5.15       19\n",
       "5.20      454\n",
       "5.30      380\n",
       "5.40      770\n",
       "5.45        2\n",
       "5.50      380\n",
       "5.60      618\n",
       "5.70      342\n",
       "5.80      165\n",
       "5.90      369\n",
       "6.00      331\n",
       "6.10      175\n",
       "6.20      216\n",
       "6.30      181\n",
       "6.40       75\n",
       "6.50       43\n",
       "6.60      148\n",
       "6.70       43\n",
       "6.80      136\n",
       "6.90       27\n",
       "7.00       10\n",
       "7.10       38\n",
       "7.20        6\n",
       "7.30        2\n",
       "7.40       66\n",
       "7.50        1\n",
       "7.60       14\n",
       "7.80        6\n",
       "7.90        3\n",
       "8.00        5\n",
       "8.10        2\n",
       "8.30       20\n",
       "8.60        4\n",
       "8.70        3\n",
       "9.10        1\n",
       "10.00      34\n",
       "11.00       1\n",
       "13.80       1\n",
       "32.00       1\n",
       "33.00       1\n",
       "38.00       2\n",
       "40.00       2\n",
       "43.00       1\n",
       "46.00       1\n",
       "50.00       1\n",
       "51.00       4\n",
       "54.00       1\n",
       "55.00       1\n",
       "NaN      1925\n",
       "Name: dm_consumption, dtype: int64"
      ]
     },
     "execution_count": 382,
     "metadata": {},
     "output_type": "execute_result"
    }
   ],
   "source": [
    "df['dm_consumption'].value_counts(dropna=False).sort_index()"
   ]
  },
  {
   "cell_type": "code",
   "execution_count": 383,
   "metadata": {},
   "outputs": [
    {
     "data": {
      "text/plain": [
       "array([3.8, 5.6, 3.8, 3.8, 4.1, 3.5, 3.7, 3.7, 3.7, nan])"
      ]
     },
     "execution_count": 383,
     "metadata": {},
     "output_type": "execute_result"
    }
   ],
   "source": [
    "df.dm_consumption.values[:10]"
   ]
  },
  {
   "cell_type": "code",
   "execution_count": 384,
   "metadata": {},
   "outputs": [],
   "source": [
    "df.dm_consumption.replace(df[df.dm_consumption.values > 10].dm_consumption.values, 10, inplace=True)"
   ]
  },
  {
   "cell_type": "code",
   "execution_count": 385,
   "metadata": {},
   "outputs": [],
   "source": [
    "df.dm_consumption.replace(df[df.dm_consumption.values < 3].dm_consumption.values, 3, inplace=True)"
   ]
  },
  {
   "cell_type": "code",
   "execution_count": 386,
   "metadata": {},
   "outputs": [
    {
     "data": {
      "text/plain": [
       "3.00       76\n",
       "3.10        7\n",
       "3.20       25\n",
       "3.30      307\n",
       "3.40      125\n",
       "3.50      288\n",
       "3.60       37\n",
       "3.60      194\n",
       "3.65       20\n",
       "3.70      369\n",
       "3.80      585\n",
       "3.90      733\n",
       "3.95        3\n",
       "4.00      713\n",
       "4.10      342\n",
       "4.20      435\n",
       "4.30      307\n",
       "4.40      623\n",
       "4.50      524\n",
       "4.55        1\n",
       "4.60      426\n",
       "4.70      607\n",
       "4.80      546\n",
       "4.90      393\n",
       "5.00      545\n",
       "5.10      657\n",
       "5.15       19\n",
       "5.20      454\n",
       "5.30      380\n",
       "5.40      770\n",
       "5.45        2\n",
       "5.50      380\n",
       "5.60      618\n",
       "5.70      342\n",
       "5.80      165\n",
       "5.90      369\n",
       "6.00      331\n",
       "6.10      175\n",
       "6.20      216\n",
       "6.30      181\n",
       "6.40       75\n",
       "6.50       43\n",
       "6.60      148\n",
       "6.70       43\n",
       "6.80      136\n",
       "6.90       27\n",
       "7.00       10\n",
       "7.10       38\n",
       "7.20        6\n",
       "7.30        2\n",
       "7.40       66\n",
       "7.50        1\n",
       "7.60       14\n",
       "7.80        6\n",
       "7.90        3\n",
       "8.00        5\n",
       "8.10        2\n",
       "8.30       20\n",
       "8.60        4\n",
       "8.70        3\n",
       "9.10        1\n",
       "10.00      51\n",
       "NaN      1925\n",
       "Name: dm_consumption, dtype: int64"
      ]
     },
     "execution_count": 386,
     "metadata": {},
     "output_type": "execute_result"
    }
   ],
   "source": [
    "df['dm_consumption'].value_counts(dropna=False).sort_index()"
   ]
  },
  {
   "cell_type": "code",
   "execution_count": 387,
   "metadata": {},
   "outputs": [],
   "source": [
    "lst1 = df.dm_hp2.unique()\n",
    "lst2 = df.dm_displacement.unique()\n",
    "\n",
    "for i in lst1:\n",
    "    for j in lst2:\n",
    "        cond = (df.dm_hp2 == i) & (df.dm_displacement == j)\n",
    "        df.loc[cond, 'dm_consumption'] = df.loc[cond, 'dm_consumption'].fillna(method='ffill').fillna(method='bfill')\n",
    "for i in lst2:\n",
    "    cond = df.dm_displacement == i\n",
    "    df.loc[cond, 'dm_consumption'] = df.loc[cond, 'dm_consumption'].fillna(method='ffill').fillna(method='bfill')\n",
    "for i in lst1:\n",
    "    cond = df.dm_hp2 == i\n",
    "    df.loc[cond, 'dm_consumption'] = df.loc[cond, 'dm_consumption'].fillna(method='ffill').fillna(method='bfill')"
   ]
  },
  {
   "cell_type": "code",
   "execution_count": 388,
   "metadata": {},
   "outputs": [
    {
     "data": {
      "text/plain": [
       "3.00      84\n",
       "3.10      10\n",
       "3.20      31\n",
       "3.30     386\n",
       "3.40     139\n",
       "3.50     327\n",
       "3.60      37\n",
       "3.60     214\n",
       "3.65      20\n",
       "3.70     430\n",
       "3.80     667\n",
       "3.90     800\n",
       "3.95       3\n",
       "4.00     784\n",
       "4.10     377\n",
       "4.20     478\n",
       "4.30     397\n",
       "4.40     705\n",
       "4.50     602\n",
       "4.55       1\n",
       "4.60     516\n",
       "4.70     740\n",
       "4.80     591\n",
       "4.90     436\n",
       "5.00     699\n",
       "5.10     773\n",
       "5.15      20\n",
       "5.20     516\n",
       "5.30     416\n",
       "5.40     870\n",
       "5.45       2\n",
       "5.50     431\n",
       "5.60     696\n",
       "5.70     387\n",
       "5.80     185\n",
       "5.90     399\n",
       "6.00     361\n",
       "6.10     197\n",
       "6.20     234\n",
       "6.30     197\n",
       "6.40      82\n",
       "6.50      44\n",
       "6.60     157\n",
       "6.70      48\n",
       "6.80     149\n",
       "6.90      27\n",
       "7.00      10\n",
       "7.10      41\n",
       "7.20       8\n",
       "7.30       2\n",
       "7.40      73\n",
       "7.50       1\n",
       "7.60      14\n",
       "7.80       9\n",
       "7.90       3\n",
       "8.00       5\n",
       "8.10       2\n",
       "8.30      21\n",
       "8.60       4\n",
       "8.70       3\n",
       "9.10       1\n",
       "10.00     57\n",
       "Name: dm_consumption, dtype: int64"
      ]
     },
     "execution_count": 388,
     "metadata": {},
     "output_type": "execute_result"
    }
   ],
   "source": [
    "df['dm_consumption'].value_counts(dropna=False).sort_index()"
   ]
  },
  {
   "cell_type": "markdown",
   "metadata": {},
   "source": [
    "<div class=\"alert alert-block alert-success\">\n",
    "<p>Ready for the analysis.</p></div>"
   ]
  },
  {
   "cell_type": "markdown",
   "metadata": {},
   "source": [
    "### 39 - CO2 Emission"
   ]
  },
  {
   "cell_type": "code",
   "execution_count": 389,
   "metadata": {},
   "outputs": [
    {
     "ename": "TypeError",
     "evalue": "unhashable type: 'list'",
     "output_type": "error",
     "traceback": [
      "\u001b[0;31m---------------------------------------------------------------------------\u001b[0m",
      "\u001b[0;31mTypeError\u001b[0m                                 Traceback (most recent call last)",
      "\u001b[0;32mpandas/_libs/hashtable_class_helper.pxi\u001b[0m in \u001b[0;36mpandas._libs.hashtable.PyObjectHashTable.map_locations\u001b[0;34m()\u001b[0m\n",
      "\u001b[0;31mTypeError\u001b[0m: unhashable type: 'list'"
     ]
    },
    {
     "name": "stderr",
     "output_type": "stream",
     "text": [
      "Exception ignored in: 'pandas._libs.index.IndexEngine._call_map_locations'\n",
      "Traceback (most recent call last):\n",
      "  File \"pandas/_libs/hashtable_class_helper.pxi\", line 1709, in pandas._libs.hashtable.PyObjectHashTable.map_locations\n",
      "TypeError: unhashable type: 'list'\n"
     ]
    },
    {
     "data": {
      "text/plain": [
       "NaN                            1808\n",
       "[\\n120 g CO2/km (comb)\\n]       740\n",
       "[[], [], []]                    628\n",
       "[\\n99 g CO2/km (comb)\\n]        545\n",
       "[\\n97 g CO2/km (comb)\\n]        537\n",
       "                               ... \n",
       "[\\n193 g CO2/km (comb)\\n]         1\n",
       "[\\n171 g CO2/km (comb)\\n]         1\n",
       "[\\n990 g CO2/km (comb)\\n]         1\n",
       "[\\n1,060 g CO2/km (comb)\\n]       1\n",
       "[\\n183 g CO2/km (comb)\\n]         1\n",
       "Name: CO2 Emission, Length: 124, dtype: int64"
      ]
     },
     "execution_count": 389,
     "metadata": {},
     "output_type": "execute_result"
    }
   ],
   "source": [
    "df['CO2 Emission'].value_counts(dropna=False)"
   ]
  },
  {
   "cell_type": "code",
   "execution_count": 390,
   "metadata": {},
   "outputs": [],
   "source": [
    "df['dm_co2'] = df['CO2 Emission']"
   ]
  },
  {
   "cell_type": "code",
   "execution_count": 391,
   "metadata": {},
   "outputs": [],
   "source": [
    "def convert(x):\n",
    "    if x is not np.nan:\n",
    "        x = str(x)\n",
    "        y = re.findall('n([0-9,]+)', x)\n",
    "        if y != []:\n",
    "            if ',' in y[0]:\n",
    "                return float(''.join(y[0].split(',')))\n",
    "            else:\n",
    "                return float(y[0])\n",
    "        else:\n",
    "            return np.nan"
   ]
  },
  {
   "cell_type": "code",
   "execution_count": 392,
   "metadata": {},
   "outputs": [],
   "source": [
    "df.dm_co2 = df.dm_co2.apply(convert)"
   ]
  },
  {
   "cell_type": "code",
   "execution_count": 393,
   "metadata": {},
   "outputs": [
    {
     "data": {
      "text/plain": [
       "0.0           2\n",
       "1.0           1\n",
       "5.0           3\n",
       "14.0          1\n",
       "36.0          3\n",
       "           ... \n",
       "12087.0       3\n",
       "12324.0       1\n",
       "13983.0       1\n",
       "14457.0       1\n",
       "NaN        2436\n",
       "Name: dm_co2, Length: 123, dtype: int64"
      ]
     },
     "execution_count": 393,
     "metadata": {},
     "output_type": "execute_result"
    }
   ],
   "source": [
    "df['dm_co2'].value_counts(dropna=False).sort_index()"
   ]
  },
  {
   "cell_type": "markdown",
   "metadata": {},
   "source": [
    "<div class=\"alert alert-block alert-info\">\n",
    "<p>Missing values and outliers should be handled.</p></div>"
   ]
  },
  {
   "cell_type": "markdown",
   "metadata": {},
   "source": [
    "### 40 - Emission Class"
   ]
  },
  {
   "cell_type": "code",
   "execution_count": 394,
   "metadata": {},
   "outputs": [
    {
     "ename": "TypeError",
     "evalue": "unhashable type: 'list'",
     "output_type": "error",
     "traceback": [
      "\u001b[0;31m---------------------------------------------------------------------------\u001b[0m",
      "\u001b[0;31mTypeError\u001b[0m                                 Traceback (most recent call last)",
      "\u001b[0;32mpandas/_libs/hashtable_class_helper.pxi\u001b[0m in \u001b[0;36mpandas._libs.hashtable.PyObjectHashTable.map_locations\u001b[0;34m()\u001b[0m\n",
      "\u001b[0;31mTypeError\u001b[0m: unhashable type: 'list'"
     ]
    },
    {
     "name": "stderr",
     "output_type": "stream",
     "text": [
      "Exception ignored in: 'pandas._libs.index.IndexEngine._call_map_locations'\n",
      "Traceback (most recent call last):\n",
      "  File \"pandas/_libs/hashtable_class_helper.pxi\", line 1709, in pandas._libs.hashtable.PyObjectHashTable.map_locations\n",
      "TypeError: unhashable type: 'list'\n"
     ]
    },
    {
     "data": {
      "text/plain": [
       "[\\nEuro 6\\n]          10139\n",
       "NaN                    3021\n",
       "[\\nEuro 6d-TEMP\\n]     1845\n",
       "[[], [], []]            607\n",
       "[\\nEuro 6c\\n]           127\n",
       "[\\nEuro 5\\n]             78\n",
       "[\\nEuro 6d\\n]            62\n",
       "[\\nEuro 4\\n]             40\n",
       "Name: Emission Class, dtype: int64"
      ]
     },
     "execution_count": 394,
     "metadata": {},
     "output_type": "execute_result"
    }
   ],
   "source": [
    "df['Emission Class'].value_counts(dropna=False)"
   ]
  },
  {
   "cell_type": "code",
   "execution_count": 395,
   "metadata": {},
   "outputs": [],
   "source": [
    "df['dm_em_class'] = df['Emission Class']"
   ]
  },
  {
   "cell_type": "code",
   "execution_count": 396,
   "metadata": {},
   "outputs": [],
   "source": [
    "def convert(x):\n",
    "    if x is not np.nan:\n",
    "        x = str(x)\n",
    "        y = re.findall('([0-9cd]+|\\S+[0-9Pdc])', x)\n",
    "        if y != []:\n",
    "            return ''.join(y)\n",
    "        else:\n",
    "            return np.nan"
   ]
  },
  {
   "cell_type": "code",
   "execution_count": 397,
   "metadata": {},
   "outputs": [],
   "source": [
    "df['dm_em_class'] = df['dm_em_class'].apply(convert)"
   ]
  },
  {
   "cell_type": "code",
   "execution_count": 398,
   "metadata": {},
   "outputs": [
    {
     "data": {
      "text/plain": [
       "6          10139\n",
       "NaN         3628\n",
       "6d-TEMP     1845\n",
       "6c           127\n",
       "5             78\n",
       "6d            62\n",
       "4             40\n",
       "Name: dm_em_class, dtype: int64"
      ]
     },
     "execution_count": 398,
     "metadata": {},
     "output_type": "execute_result"
    }
   ],
   "source": [
    "df['dm_em_class'].value_counts(dropna=False)"
   ]
  },
  {
   "cell_type": "markdown",
   "metadata": {},
   "source": [
    "<div class=\"alert alert-block alert-info\">\n",
    "<p>I have to think about this column.</p></div>"
   ]
  },
  {
   "cell_type": "markdown",
   "metadata": {},
   "source": [
    "### 41 - \\nComfort & Convenience\\n"
   ]
  },
  {
   "cell_type": "code",
   "execution_count": 399,
   "metadata": {},
   "outputs": [
    {
     "ename": "TypeError",
     "evalue": "unhashable type: 'list'",
     "output_type": "error",
     "traceback": [
      "\u001b[0;31m---------------------------------------------------------------------------\u001b[0m",
      "\u001b[0;31mTypeError\u001b[0m                                 Traceback (most recent call last)",
      "\u001b[0;32mpandas/_libs/hashtable_class_helper.pxi\u001b[0m in \u001b[0;36mpandas._libs.hashtable.PyObjectHashTable.map_locations\u001b[0;34m()\u001b[0m\n",
      "\u001b[0;31mTypeError\u001b[0m: unhashable type: 'list'"
     ]
    },
    {
     "name": "stderr",
     "output_type": "stream",
     "text": [
      "Exception ignored in: 'pandas._libs.index.IndexEngine._call_map_locations'\n",
      "Traceback (most recent call last):\n",
      "  File \"pandas/_libs/hashtable_class_helper.pxi\", line 1709, in pandas._libs.hashtable.PyObjectHashTable.map_locations\n",
      "TypeError: unhashable type: 'list'\n"
     ]
    },
    {
     "data": {
      "text/plain": [
       "NaN                                                                                                                                                                                                                                                                                                                                                                     920\n",
       "[Air conditioning, Electrical side mirrors, Hill Holder, Power windows]                                                                                                                                                                                                                                                                                                 216\n",
       "[Air conditioning, Electrical side mirrors, Power windows]                                                                                                                                                                                                                                                                                                              134\n",
       "[Air conditioning, Power windows]                                                                                                                                                                                                                                                                                                                                       130\n",
       "[Air conditioning, Armrest, Automatic climate control, Cruise control, Electrical side mirrors, Leather steering wheel, Light sensor, Lumbar support, Multi-function steering wheel, Navigation system, Park Distance Control, Parking assist system sensors front, Parking assist system sensors rear, Power windows, Rain sensor, Seat heating, Start-stop system]    105\n",
       "                                                                                                                                                                                                                                                                                                                                                                       ... \n",
       "[Air conditioning, Armrest, Automatic climate control, Cruise control, Leather steering wheel, Lumbar support, Multi-function steering wheel, Navigation system, Park Distance Control, Parking assist system sensors front, Parking assist system sensors rear, Power windows, Rain sensor]                                                                              1\n",
       "[Air conditioning, Armrest, Automatic climate control, Electrical side mirrors, Hill Holder, Keyless central door lock, Leather steering wheel, Light sensor, Park Distance Control, Parking assist system sensors rear, Power windows, Rain sensor]                                                                                                                      1\n",
       "[Air conditioning, Automatic climate control, Cruise control, Electrical side mirrors, Leather steering wheel, Light sensor, Multi-function steering wheel, Navigation system, Park Distance Control, Parking assist system sensors rear, Power windows, Rain sensor, Start-stop system]                                                                                  1\n",
       "[Air conditioning, Armrest, Cruise control, Electrical side mirrors, Leather steering wheel, Light sensor, Multi-function steering wheel, Park Distance Control, Parking assist system camera, Parking assist system sensors front, Parking assist system sensors rear, Power windows, Rain sensor, Seat heating, Start-stop system]                                      1\n",
       "[Air conditioning, Armrest, Automatic climate control, Auxiliary heating, Electrical side mirrors, Leather steering wheel, Light sensor, Multi-function steering wheel, Navigation system, Park Distance Control, Parking assist system sensors front, Parking assist system sensors rear, Power windows, Seat heating]                                                   1\n",
       "Name: \\nComfort & Convenience\\n, Length: 6199, dtype: int64"
      ]
     },
     "execution_count": 399,
     "metadata": {},
     "output_type": "execute_result"
    }
   ],
   "source": [
    "df['\\nComfort & Convenience\\n'].value_counts(dropna=False)"
   ]
  },
  {
   "cell_type": "code",
   "execution_count": 400,
   "metadata": {},
   "outputs": [],
   "source": [
    "df.rename(columns={'\\nComfort & Convenience\\n':'Comfort'}, inplace=True)"
   ]
  },
  {
   "cell_type": "code",
   "execution_count": 513,
   "metadata": {},
   "outputs": [],
   "source": [
    "df['dm_comfort1'] = df['Comfort']"
   ]
  },
  {
   "cell_type": "code",
   "execution_count": 514,
   "metadata": {},
   "outputs": [],
   "source": [
    "###################"
   ]
  },
  {
   "cell_type": "code",
   "execution_count": 515,
   "metadata": {},
   "outputs": [
    {
     "data": {
      "text/plain": [
       "['Air conditioning',\n",
       " 'Armrest',\n",
       " 'Automatic climate control',\n",
       " 'Cruise control',\n",
       " 'Electrical side mirrors',\n",
       " 'Hill Holder',\n",
       " 'Leather steering wheel',\n",
       " 'Light sensor',\n",
       " 'Multi-function steering wheel',\n",
       " 'Navigation system',\n",
       " 'Park Distance Control',\n",
       " 'Parking assist system sensors rear',\n",
       " 'Power windows',\n",
       " 'Rain sensor',\n",
       " 'Seat heating',\n",
       " 'Start-stop system']"
      ]
     },
     "execution_count": 515,
     "metadata": {},
     "output_type": "execute_result"
    }
   ],
   "source": [
    "df['dm_comfort1'].values[0]"
   ]
  },
  {
   "cell_type": "code",
   "execution_count": 516,
   "metadata": {},
   "outputs": [
    {
     "data": {
      "text/plain": [
       "920"
      ]
     },
     "execution_count": 516,
     "metadata": {},
     "output_type": "execute_result"
    }
   ],
   "source": [
    "df.dm_comfort.isnull().sum()"
   ]
  },
  {
   "cell_type": "code",
   "execution_count": 517,
   "metadata": {},
   "outputs": [
    {
     "data": {
      "text/html": [
       "<div>\n",
       "<style scoped>\n",
       "    .dataframe tbody tr th:only-of-type {\n",
       "        vertical-align: middle;\n",
       "    }\n",
       "\n",
       "    .dataframe tbody tr th {\n",
       "        vertical-align: top;\n",
       "    }\n",
       "\n",
       "    .dataframe thead th {\n",
       "        text-align: right;\n",
       "    }\n",
       "</style>\n",
       "<table border=\"1\" class=\"dataframe\">\n",
       "  <thead>\n",
       "    <tr style=\"text-align: right;\">\n",
       "      <th></th>\n",
       "      <th>'Air suspension'</th>\n",
       "      <th>'Armrest'</th>\n",
       "      <th>'Armrest']</th>\n",
       "      <th>'Automatic climate control'</th>\n",
       "      <th>'Automatic climate control']</th>\n",
       "      <th>'Auxiliary heating'</th>\n",
       "      <th>'Cruise control'</th>\n",
       "      <th>'Cruise control']</th>\n",
       "      <th>'Electric Starter'</th>\n",
       "      <th>'Electric tailgate'</th>\n",
       "      <th>'Electrical side mirrors'</th>\n",
       "      <th>'Electrical side mirrors']</th>\n",
       "      <th>'Electrically adjustable seats'</th>\n",
       "      <th>'Electrically heated windshield'</th>\n",
       "      <th>'Heads-up display'</th>\n",
       "      <th>'Heated steering wheel'</th>\n",
       "      <th>'Hill Holder'</th>\n",
       "      <th>'Hill Holder']</th>\n",
       "      <th>'Keyless central door lock'</th>\n",
       "      <th>'Keyless central door lock']</th>\n",
       "      <th>'Leather seats'</th>\n",
       "      <th>'Leather steering wheel'</th>\n",
       "      <th>'Leather steering wheel']</th>\n",
       "      <th>'Light sensor'</th>\n",
       "      <th>'Lumbar support'</th>\n",
       "      <th>'Lumbar support']</th>\n",
       "      <th>'Massage seats'</th>\n",
       "      <th>'Multi-function steering wheel'</th>\n",
       "      <th>'Multi-function steering wheel']</th>\n",
       "      <th>'Navigation system'</th>\n",
       "      <th>'Navigation system']</th>\n",
       "      <th>'Panorama roof'</th>\n",
       "      <th>'Panorama roof']</th>\n",
       "      <th>'Park Distance Control'</th>\n",
       "      <th>'Park Distance Control']</th>\n",
       "      <th>'Parking assist system camera'</th>\n",
       "      <th>'Parking assist system camera']</th>\n",
       "      <th>'Parking assist system self-steering'</th>\n",
       "      <th>'Parking assist system self-steering']</th>\n",
       "      <th>'Parking assist system sensors front'</th>\n",
       "      <th>'Parking assist system sensors front']</th>\n",
       "      <th>'Parking assist system sensors rear'</th>\n",
       "      <th>'Parking assist system sensors rear']</th>\n",
       "      <th>'Power windows'</th>\n",
       "      <th>'Power windows']</th>\n",
       "      <th>'Rain sensor'</th>\n",
       "      <th>'Rain sensor']</th>\n",
       "      <th>'Seat heating'</th>\n",
       "      <th>'Seat heating']</th>\n",
       "      <th>'Seat ventilation'</th>\n",
       "      <th>'Seat ventilation']</th>\n",
       "      <th>'Split rear seats'</th>\n",
       "      <th>'Split rear seats']</th>\n",
       "      <th>'Start-stop system'</th>\n",
       "      <th>'Start-stop system']</th>\n",
       "      <th>'Sunroof'</th>\n",
       "      <th>'Sunroof']</th>\n",
       "      <th>'Tinted windows'</th>\n",
       "      <th>'Tinted windows']</th>\n",
       "      <th>'Wind deflector']</th>\n",
       "      <th>'Windshield']</th>\n",
       "      <th>['Air conditioning'</th>\n",
       "      <th>['Air conditioning']</th>\n",
       "      <th>['Air suspension'</th>\n",
       "      <th>['Air suspension']</th>\n",
       "      <th>['Armrest'</th>\n",
       "      <th>['Auxiliary heating'</th>\n",
       "      <th>['Cruise control'</th>\n",
       "      <th>['Cruise control']</th>\n",
       "      <th>['Electrical side mirrors'</th>\n",
       "      <th>['Electrically adjustable seats'</th>\n",
       "      <th>['Electrically heated windshield'</th>\n",
       "      <th>['Heads-up display']</th>\n",
       "      <th>['Heated steering wheel'</th>\n",
       "      <th>['Hill Holder'</th>\n",
       "      <th>['Hill Holder']</th>\n",
       "      <th>['Leather steering wheel'</th>\n",
       "      <th>['Light sensor'</th>\n",
       "      <th>['Multi-function steering wheel'</th>\n",
       "      <th>['Multi-function steering wheel']</th>\n",
       "      <th>['Navigation system'</th>\n",
       "      <th>['Navigation system']</th>\n",
       "      <th>['Panorama roof']</th>\n",
       "      <th>['Park Distance Control'</th>\n",
       "      <th>['Park Distance Control']</th>\n",
       "      <th>['Power windows'</th>\n",
       "      <th>['Power windows']</th>\n",
       "      <th>['Rain sensor']</th>\n",
       "      <th>['Sunroof']</th>\n",
       "    </tr>\n",
       "  </thead>\n",
       "  <tbody>\n",
       "    <tr>\n",
       "      <th>0</th>\n",
       "      <td>0</td>\n",
       "      <td>1</td>\n",
       "      <td>0</td>\n",
       "      <td>1</td>\n",
       "      <td>0</td>\n",
       "      <td>0</td>\n",
       "      <td>1</td>\n",
       "      <td>0</td>\n",
       "      <td>0</td>\n",
       "      <td>0</td>\n",
       "      <td>1</td>\n",
       "      <td>0</td>\n",
       "      <td>0</td>\n",
       "      <td>0</td>\n",
       "      <td>0</td>\n",
       "      <td>0</td>\n",
       "      <td>1</td>\n",
       "      <td>0</td>\n",
       "      <td>0</td>\n",
       "      <td>0</td>\n",
       "      <td>0</td>\n",
       "      <td>1</td>\n",
       "      <td>0</td>\n",
       "      <td>1</td>\n",
       "      <td>0</td>\n",
       "      <td>0</td>\n",
       "      <td>0</td>\n",
       "      <td>1</td>\n",
       "      <td>0</td>\n",
       "      <td>1</td>\n",
       "      <td>0</td>\n",
       "      <td>0</td>\n",
       "      <td>0</td>\n",
       "      <td>1</td>\n",
       "      <td>0</td>\n",
       "      <td>0</td>\n",
       "      <td>0</td>\n",
       "      <td>0</td>\n",
       "      <td>0</td>\n",
       "      <td>0</td>\n",
       "      <td>0</td>\n",
       "      <td>1</td>\n",
       "      <td>0</td>\n",
       "      <td>1</td>\n",
       "      <td>0</td>\n",
       "      <td>1</td>\n",
       "      <td>0</td>\n",
       "      <td>1</td>\n",
       "      <td>0</td>\n",
       "      <td>0</td>\n",
       "      <td>0</td>\n",
       "      <td>0</td>\n",
       "      <td>0</td>\n",
       "      <td>0</td>\n",
       "      <td>1</td>\n",
       "      <td>0</td>\n",
       "      <td>0</td>\n",
       "      <td>0</td>\n",
       "      <td>0</td>\n",
       "      <td>0</td>\n",
       "      <td>0</td>\n",
       "      <td>1</td>\n",
       "      <td>0</td>\n",
       "      <td>0</td>\n",
       "      <td>0</td>\n",
       "      <td>0</td>\n",
       "      <td>0</td>\n",
       "      <td>0</td>\n",
       "      <td>0</td>\n",
       "      <td>0</td>\n",
       "      <td>0</td>\n",
       "      <td>0</td>\n",
       "      <td>0</td>\n",
       "      <td>0</td>\n",
       "      <td>0</td>\n",
       "      <td>0</td>\n",
       "      <td>0</td>\n",
       "      <td>0</td>\n",
       "      <td>0</td>\n",
       "      <td>0</td>\n",
       "      <td>0</td>\n",
       "      <td>0</td>\n",
       "      <td>0</td>\n",
       "      <td>0</td>\n",
       "      <td>0</td>\n",
       "      <td>0</td>\n",
       "      <td>0</td>\n",
       "      <td>0</td>\n",
       "      <td>0</td>\n",
       "    </tr>\n",
       "    <tr>\n",
       "      <th>1</th>\n",
       "      <td>0</td>\n",
       "      <td>0</td>\n",
       "      <td>0</td>\n",
       "      <td>1</td>\n",
       "      <td>0</td>\n",
       "      <td>0</td>\n",
       "      <td>0</td>\n",
       "      <td>0</td>\n",
       "      <td>0</td>\n",
       "      <td>0</td>\n",
       "      <td>0</td>\n",
       "      <td>0</td>\n",
       "      <td>0</td>\n",
       "      <td>0</td>\n",
       "      <td>0</td>\n",
       "      <td>0</td>\n",
       "      <td>1</td>\n",
       "      <td>0</td>\n",
       "      <td>0</td>\n",
       "      <td>0</td>\n",
       "      <td>0</td>\n",
       "      <td>1</td>\n",
       "      <td>0</td>\n",
       "      <td>0</td>\n",
       "      <td>1</td>\n",
       "      <td>0</td>\n",
       "      <td>0</td>\n",
       "      <td>0</td>\n",
       "      <td>0</td>\n",
       "      <td>0</td>\n",
       "      <td>0</td>\n",
       "      <td>0</td>\n",
       "      <td>0</td>\n",
       "      <td>0</td>\n",
       "      <td>0</td>\n",
       "      <td>0</td>\n",
       "      <td>0</td>\n",
       "      <td>0</td>\n",
       "      <td>0</td>\n",
       "      <td>0</td>\n",
       "      <td>0</td>\n",
       "      <td>1</td>\n",
       "      <td>0</td>\n",
       "      <td>1</td>\n",
       "      <td>0</td>\n",
       "      <td>0</td>\n",
       "      <td>0</td>\n",
       "      <td>0</td>\n",
       "      <td>0</td>\n",
       "      <td>0</td>\n",
       "      <td>0</td>\n",
       "      <td>0</td>\n",
       "      <td>0</td>\n",
       "      <td>1</td>\n",
       "      <td>0</td>\n",
       "      <td>0</td>\n",
       "      <td>0</td>\n",
       "      <td>0</td>\n",
       "      <td>1</td>\n",
       "      <td>0</td>\n",
       "      <td>0</td>\n",
       "      <td>1</td>\n",
       "      <td>0</td>\n",
       "      <td>0</td>\n",
       "      <td>0</td>\n",
       "      <td>0</td>\n",
       "      <td>0</td>\n",
       "      <td>0</td>\n",
       "      <td>0</td>\n",
       "      <td>0</td>\n",
       "      <td>0</td>\n",
       "      <td>0</td>\n",
       "      <td>0</td>\n",
       "      <td>0</td>\n",
       "      <td>0</td>\n",
       "      <td>0</td>\n",
       "      <td>0</td>\n",
       "      <td>0</td>\n",
       "      <td>0</td>\n",
       "      <td>0</td>\n",
       "      <td>0</td>\n",
       "      <td>0</td>\n",
       "      <td>0</td>\n",
       "      <td>0</td>\n",
       "      <td>0</td>\n",
       "      <td>0</td>\n",
       "      <td>0</td>\n",
       "      <td>0</td>\n",
       "      <td>0</td>\n",
       "    </tr>\n",
       "    <tr>\n",
       "      <th>2</th>\n",
       "      <td>0</td>\n",
       "      <td>0</td>\n",
       "      <td>0</td>\n",
       "      <td>0</td>\n",
       "      <td>0</td>\n",
       "      <td>0</td>\n",
       "      <td>1</td>\n",
       "      <td>0</td>\n",
       "      <td>0</td>\n",
       "      <td>0</td>\n",
       "      <td>1</td>\n",
       "      <td>0</td>\n",
       "      <td>0</td>\n",
       "      <td>0</td>\n",
       "      <td>0</td>\n",
       "      <td>0</td>\n",
       "      <td>1</td>\n",
       "      <td>0</td>\n",
       "      <td>0</td>\n",
       "      <td>0</td>\n",
       "      <td>0</td>\n",
       "      <td>1</td>\n",
       "      <td>0</td>\n",
       "      <td>0</td>\n",
       "      <td>0</td>\n",
       "      <td>0</td>\n",
       "      <td>0</td>\n",
       "      <td>1</td>\n",
       "      <td>0</td>\n",
       "      <td>1</td>\n",
       "      <td>0</td>\n",
       "      <td>0</td>\n",
       "      <td>0</td>\n",
       "      <td>1</td>\n",
       "      <td>0</td>\n",
       "      <td>0</td>\n",
       "      <td>0</td>\n",
       "      <td>0</td>\n",
       "      <td>0</td>\n",
       "      <td>1</td>\n",
       "      <td>0</td>\n",
       "      <td>1</td>\n",
       "      <td>0</td>\n",
       "      <td>1</td>\n",
       "      <td>0</td>\n",
       "      <td>0</td>\n",
       "      <td>0</td>\n",
       "      <td>1</td>\n",
       "      <td>0</td>\n",
       "      <td>0</td>\n",
       "      <td>0</td>\n",
       "      <td>0</td>\n",
       "      <td>0</td>\n",
       "      <td>0</td>\n",
       "      <td>1</td>\n",
       "      <td>0</td>\n",
       "      <td>0</td>\n",
       "      <td>0</td>\n",
       "      <td>0</td>\n",
       "      <td>0</td>\n",
       "      <td>0</td>\n",
       "      <td>1</td>\n",
       "      <td>0</td>\n",
       "      <td>0</td>\n",
       "      <td>0</td>\n",
       "      <td>0</td>\n",
       "      <td>0</td>\n",
       "      <td>0</td>\n",
       "      <td>0</td>\n",
       "      <td>0</td>\n",
       "      <td>0</td>\n",
       "      <td>0</td>\n",
       "      <td>0</td>\n",
       "      <td>0</td>\n",
       "      <td>0</td>\n",
       "      <td>0</td>\n",
       "      <td>0</td>\n",
       "      <td>0</td>\n",
       "      <td>0</td>\n",
       "      <td>0</td>\n",
       "      <td>0</td>\n",
       "      <td>0</td>\n",
       "      <td>0</td>\n",
       "      <td>0</td>\n",
       "      <td>0</td>\n",
       "      <td>0</td>\n",
       "      <td>0</td>\n",
       "      <td>0</td>\n",
       "      <td>0</td>\n",
       "    </tr>\n",
       "    <tr>\n",
       "      <th>3</th>\n",
       "      <td>0</td>\n",
       "      <td>1</td>\n",
       "      <td>0</td>\n",
       "      <td>0</td>\n",
       "      <td>0</td>\n",
       "      <td>1</td>\n",
       "      <td>0</td>\n",
       "      <td>0</td>\n",
       "      <td>0</td>\n",
       "      <td>0</td>\n",
       "      <td>1</td>\n",
       "      <td>0</td>\n",
       "      <td>0</td>\n",
       "      <td>0</td>\n",
       "      <td>1</td>\n",
       "      <td>0</td>\n",
       "      <td>1</td>\n",
       "      <td>0</td>\n",
       "      <td>0</td>\n",
       "      <td>0</td>\n",
       "      <td>0</td>\n",
       "      <td>1</td>\n",
       "      <td>0</td>\n",
       "      <td>1</td>\n",
       "      <td>1</td>\n",
       "      <td>0</td>\n",
       "      <td>0</td>\n",
       "      <td>1</td>\n",
       "      <td>0</td>\n",
       "      <td>1</td>\n",
       "      <td>0</td>\n",
       "      <td>0</td>\n",
       "      <td>0</td>\n",
       "      <td>0</td>\n",
       "      <td>0</td>\n",
       "      <td>0</td>\n",
       "      <td>0</td>\n",
       "      <td>0</td>\n",
       "      <td>0</td>\n",
       "      <td>0</td>\n",
       "      <td>0</td>\n",
       "      <td>0</td>\n",
       "      <td>0</td>\n",
       "      <td>1</td>\n",
       "      <td>0</td>\n",
       "      <td>1</td>\n",
       "      <td>0</td>\n",
       "      <td>1</td>\n",
       "      <td>0</td>\n",
       "      <td>0</td>\n",
       "      <td>0</td>\n",
       "      <td>1</td>\n",
       "      <td>0</td>\n",
       "      <td>0</td>\n",
       "      <td>1</td>\n",
       "      <td>0</td>\n",
       "      <td>0</td>\n",
       "      <td>0</td>\n",
       "      <td>0</td>\n",
       "      <td>0</td>\n",
       "      <td>0</td>\n",
       "      <td>0</td>\n",
       "      <td>0</td>\n",
       "      <td>1</td>\n",
       "      <td>0</td>\n",
       "      <td>0</td>\n",
       "      <td>0</td>\n",
       "      <td>0</td>\n",
       "      <td>0</td>\n",
       "      <td>0</td>\n",
       "      <td>0</td>\n",
       "      <td>0</td>\n",
       "      <td>0</td>\n",
       "      <td>0</td>\n",
       "      <td>0</td>\n",
       "      <td>0</td>\n",
       "      <td>0</td>\n",
       "      <td>0</td>\n",
       "      <td>0</td>\n",
       "      <td>0</td>\n",
       "      <td>0</td>\n",
       "      <td>0</td>\n",
       "      <td>0</td>\n",
       "      <td>0</td>\n",
       "      <td>0</td>\n",
       "      <td>0</td>\n",
       "      <td>0</td>\n",
       "      <td>0</td>\n",
       "      <td>0</td>\n",
       "    </tr>\n",
       "    <tr>\n",
       "      <th>4</th>\n",
       "      <td>0</td>\n",
       "      <td>1</td>\n",
       "      <td>0</td>\n",
       "      <td>1</td>\n",
       "      <td>0</td>\n",
       "      <td>0</td>\n",
       "      <td>0</td>\n",
       "      <td>0</td>\n",
       "      <td>0</td>\n",
       "      <td>0</td>\n",
       "      <td>1</td>\n",
       "      <td>0</td>\n",
       "      <td>0</td>\n",
       "      <td>0</td>\n",
       "      <td>0</td>\n",
       "      <td>0</td>\n",
       "      <td>1</td>\n",
       "      <td>0</td>\n",
       "      <td>0</td>\n",
       "      <td>0</td>\n",
       "      <td>0</td>\n",
       "      <td>1</td>\n",
       "      <td>0</td>\n",
       "      <td>1</td>\n",
       "      <td>0</td>\n",
       "      <td>0</td>\n",
       "      <td>0</td>\n",
       "      <td>1</td>\n",
       "      <td>0</td>\n",
       "      <td>0</td>\n",
       "      <td>0</td>\n",
       "      <td>0</td>\n",
       "      <td>0</td>\n",
       "      <td>1</td>\n",
       "      <td>0</td>\n",
       "      <td>0</td>\n",
       "      <td>0</td>\n",
       "      <td>0</td>\n",
       "      <td>0</td>\n",
       "      <td>0</td>\n",
       "      <td>0</td>\n",
       "      <td>1</td>\n",
       "      <td>0</td>\n",
       "      <td>1</td>\n",
       "      <td>0</td>\n",
       "      <td>1</td>\n",
       "      <td>0</td>\n",
       "      <td>0</td>\n",
       "      <td>0</td>\n",
       "      <td>0</td>\n",
       "      <td>0</td>\n",
       "      <td>0</td>\n",
       "      <td>0</td>\n",
       "      <td>0</td>\n",
       "      <td>1</td>\n",
       "      <td>0</td>\n",
       "      <td>0</td>\n",
       "      <td>0</td>\n",
       "      <td>0</td>\n",
       "      <td>0</td>\n",
       "      <td>0</td>\n",
       "      <td>1</td>\n",
       "      <td>0</td>\n",
       "      <td>0</td>\n",
       "      <td>0</td>\n",
       "      <td>0</td>\n",
       "      <td>0</td>\n",
       "      <td>0</td>\n",
       "      <td>0</td>\n",
       "      <td>0</td>\n",
       "      <td>0</td>\n",
       "      <td>0</td>\n",
       "      <td>0</td>\n",
       "      <td>0</td>\n",
       "      <td>0</td>\n",
       "      <td>0</td>\n",
       "      <td>0</td>\n",
       "      <td>0</td>\n",
       "      <td>0</td>\n",
       "      <td>0</td>\n",
       "      <td>0</td>\n",
       "      <td>0</td>\n",
       "      <td>0</td>\n",
       "      <td>0</td>\n",
       "      <td>0</td>\n",
       "      <td>0</td>\n",
       "      <td>0</td>\n",
       "      <td>0</td>\n",
       "      <td>0</td>\n",
       "    </tr>\n",
       "    <tr>\n",
       "      <th>...</th>\n",
       "      <td>...</td>\n",
       "      <td>...</td>\n",
       "      <td>...</td>\n",
       "      <td>...</td>\n",
       "      <td>...</td>\n",
       "      <td>...</td>\n",
       "      <td>...</td>\n",
       "      <td>...</td>\n",
       "      <td>...</td>\n",
       "      <td>...</td>\n",
       "      <td>...</td>\n",
       "      <td>...</td>\n",
       "      <td>...</td>\n",
       "      <td>...</td>\n",
       "      <td>...</td>\n",
       "      <td>...</td>\n",
       "      <td>...</td>\n",
       "      <td>...</td>\n",
       "      <td>...</td>\n",
       "      <td>...</td>\n",
       "      <td>...</td>\n",
       "      <td>...</td>\n",
       "      <td>...</td>\n",
       "      <td>...</td>\n",
       "      <td>...</td>\n",
       "      <td>...</td>\n",
       "      <td>...</td>\n",
       "      <td>...</td>\n",
       "      <td>...</td>\n",
       "      <td>...</td>\n",
       "      <td>...</td>\n",
       "      <td>...</td>\n",
       "      <td>...</td>\n",
       "      <td>...</td>\n",
       "      <td>...</td>\n",
       "      <td>...</td>\n",
       "      <td>...</td>\n",
       "      <td>...</td>\n",
       "      <td>...</td>\n",
       "      <td>...</td>\n",
       "      <td>...</td>\n",
       "      <td>...</td>\n",
       "      <td>...</td>\n",
       "      <td>...</td>\n",
       "      <td>...</td>\n",
       "      <td>...</td>\n",
       "      <td>...</td>\n",
       "      <td>...</td>\n",
       "      <td>...</td>\n",
       "      <td>...</td>\n",
       "      <td>...</td>\n",
       "      <td>...</td>\n",
       "      <td>...</td>\n",
       "      <td>...</td>\n",
       "      <td>...</td>\n",
       "      <td>...</td>\n",
       "      <td>...</td>\n",
       "      <td>...</td>\n",
       "      <td>...</td>\n",
       "      <td>...</td>\n",
       "      <td>...</td>\n",
       "      <td>...</td>\n",
       "      <td>...</td>\n",
       "      <td>...</td>\n",
       "      <td>...</td>\n",
       "      <td>...</td>\n",
       "      <td>...</td>\n",
       "      <td>...</td>\n",
       "      <td>...</td>\n",
       "      <td>...</td>\n",
       "      <td>...</td>\n",
       "      <td>...</td>\n",
       "      <td>...</td>\n",
       "      <td>...</td>\n",
       "      <td>...</td>\n",
       "      <td>...</td>\n",
       "      <td>...</td>\n",
       "      <td>...</td>\n",
       "      <td>...</td>\n",
       "      <td>...</td>\n",
       "      <td>...</td>\n",
       "      <td>...</td>\n",
       "      <td>...</td>\n",
       "      <td>...</td>\n",
       "      <td>...</td>\n",
       "      <td>...</td>\n",
       "      <td>...</td>\n",
       "      <td>...</td>\n",
       "      <td>...</td>\n",
       "    </tr>\n",
       "    <tr>\n",
       "      <th>15914</th>\n",
       "      <td>0</td>\n",
       "      <td>0</td>\n",
       "      <td>0</td>\n",
       "      <td>1</td>\n",
       "      <td>0</td>\n",
       "      <td>0</td>\n",
       "      <td>1</td>\n",
       "      <td>0</td>\n",
       "      <td>0</td>\n",
       "      <td>0</td>\n",
       "      <td>1</td>\n",
       "      <td>0</td>\n",
       "      <td>1</td>\n",
       "      <td>0</td>\n",
       "      <td>0</td>\n",
       "      <td>0</td>\n",
       "      <td>1</td>\n",
       "      <td>0</td>\n",
       "      <td>1</td>\n",
       "      <td>0</td>\n",
       "      <td>0</td>\n",
       "      <td>1</td>\n",
       "      <td>0</td>\n",
       "      <td>1</td>\n",
       "      <td>0</td>\n",
       "      <td>0</td>\n",
       "      <td>1</td>\n",
       "      <td>1</td>\n",
       "      <td>0</td>\n",
       "      <td>1</td>\n",
       "      <td>0</td>\n",
       "      <td>0</td>\n",
       "      <td>0</td>\n",
       "      <td>1</td>\n",
       "      <td>0</td>\n",
       "      <td>0</td>\n",
       "      <td>0</td>\n",
       "      <td>0</td>\n",
       "      <td>0</td>\n",
       "      <td>1</td>\n",
       "      <td>0</td>\n",
       "      <td>1</td>\n",
       "      <td>0</td>\n",
       "      <td>1</td>\n",
       "      <td>0</td>\n",
       "      <td>1</td>\n",
       "      <td>0</td>\n",
       "      <td>0</td>\n",
       "      <td>0</td>\n",
       "      <td>0</td>\n",
       "      <td>0</td>\n",
       "      <td>1</td>\n",
       "      <td>0</td>\n",
       "      <td>1</td>\n",
       "      <td>0</td>\n",
       "      <td>0</td>\n",
       "      <td>0</td>\n",
       "      <td>0</td>\n",
       "      <td>1</td>\n",
       "      <td>0</td>\n",
       "      <td>0</td>\n",
       "      <td>1</td>\n",
       "      <td>0</td>\n",
       "      <td>0</td>\n",
       "      <td>0</td>\n",
       "      <td>0</td>\n",
       "      <td>0</td>\n",
       "      <td>0</td>\n",
       "      <td>0</td>\n",
       "      <td>0</td>\n",
       "      <td>0</td>\n",
       "      <td>0</td>\n",
       "      <td>0</td>\n",
       "      <td>0</td>\n",
       "      <td>0</td>\n",
       "      <td>0</td>\n",
       "      <td>0</td>\n",
       "      <td>0</td>\n",
       "      <td>0</td>\n",
       "      <td>0</td>\n",
       "      <td>0</td>\n",
       "      <td>0</td>\n",
       "      <td>0</td>\n",
       "      <td>0</td>\n",
       "      <td>0</td>\n",
       "      <td>0</td>\n",
       "      <td>0</td>\n",
       "      <td>0</td>\n",
       "      <td>0</td>\n",
       "    </tr>\n",
       "    <tr>\n",
       "      <th>15915</th>\n",
       "      <td>0</td>\n",
       "      <td>0</td>\n",
       "      <td>0</td>\n",
       "      <td>1</td>\n",
       "      <td>0</td>\n",
       "      <td>0</td>\n",
       "      <td>1</td>\n",
       "      <td>0</td>\n",
       "      <td>0</td>\n",
       "      <td>1</td>\n",
       "      <td>1</td>\n",
       "      <td>0</td>\n",
       "      <td>0</td>\n",
       "      <td>1</td>\n",
       "      <td>1</td>\n",
       "      <td>1</td>\n",
       "      <td>1</td>\n",
       "      <td>0</td>\n",
       "      <td>1</td>\n",
       "      <td>0</td>\n",
       "      <td>0</td>\n",
       "      <td>1</td>\n",
       "      <td>0</td>\n",
       "      <td>1</td>\n",
       "      <td>1</td>\n",
       "      <td>0</td>\n",
       "      <td>0</td>\n",
       "      <td>0</td>\n",
       "      <td>0</td>\n",
       "      <td>1</td>\n",
       "      <td>0</td>\n",
       "      <td>0</td>\n",
       "      <td>0</td>\n",
       "      <td>1</td>\n",
       "      <td>0</td>\n",
       "      <td>1</td>\n",
       "      <td>0</td>\n",
       "      <td>1</td>\n",
       "      <td>0</td>\n",
       "      <td>1</td>\n",
       "      <td>0</td>\n",
       "      <td>1</td>\n",
       "      <td>0</td>\n",
       "      <td>1</td>\n",
       "      <td>0</td>\n",
       "      <td>1</td>\n",
       "      <td>0</td>\n",
       "      <td>1</td>\n",
       "      <td>0</td>\n",
       "      <td>0</td>\n",
       "      <td>0</td>\n",
       "      <td>0</td>\n",
       "      <td>0</td>\n",
       "      <td>0</td>\n",
       "      <td>0</td>\n",
       "      <td>0</td>\n",
       "      <td>1</td>\n",
       "      <td>0</td>\n",
       "      <td>0</td>\n",
       "      <td>0</td>\n",
       "      <td>0</td>\n",
       "      <td>1</td>\n",
       "      <td>0</td>\n",
       "      <td>0</td>\n",
       "      <td>0</td>\n",
       "      <td>0</td>\n",
       "      <td>0</td>\n",
       "      <td>0</td>\n",
       "      <td>0</td>\n",
       "      <td>0</td>\n",
       "      <td>0</td>\n",
       "      <td>0</td>\n",
       "      <td>0</td>\n",
       "      <td>0</td>\n",
       "      <td>0</td>\n",
       "      <td>0</td>\n",
       "      <td>0</td>\n",
       "      <td>0</td>\n",
       "      <td>0</td>\n",
       "      <td>0</td>\n",
       "      <td>0</td>\n",
       "      <td>0</td>\n",
       "      <td>0</td>\n",
       "      <td>0</td>\n",
       "      <td>0</td>\n",
       "      <td>0</td>\n",
       "      <td>0</td>\n",
       "      <td>0</td>\n",
       "      <td>0</td>\n",
       "    </tr>\n",
       "    <tr>\n",
       "      <th>15916</th>\n",
       "      <td>0</td>\n",
       "      <td>1</td>\n",
       "      <td>0</td>\n",
       "      <td>1</td>\n",
       "      <td>0</td>\n",
       "      <td>0</td>\n",
       "      <td>1</td>\n",
       "      <td>0</td>\n",
       "      <td>0</td>\n",
       "      <td>1</td>\n",
       "      <td>1</td>\n",
       "      <td>0</td>\n",
       "      <td>0</td>\n",
       "      <td>1</td>\n",
       "      <td>1</td>\n",
       "      <td>1</td>\n",
       "      <td>0</td>\n",
       "      <td>0</td>\n",
       "      <td>0</td>\n",
       "      <td>0</td>\n",
       "      <td>0</td>\n",
       "      <td>1</td>\n",
       "      <td>0</td>\n",
       "      <td>1</td>\n",
       "      <td>0</td>\n",
       "      <td>0</td>\n",
       "      <td>1</td>\n",
       "      <td>1</td>\n",
       "      <td>0</td>\n",
       "      <td>1</td>\n",
       "      <td>0</td>\n",
       "      <td>1</td>\n",
       "      <td>0</td>\n",
       "      <td>1</td>\n",
       "      <td>0</td>\n",
       "      <td>1</td>\n",
       "      <td>0</td>\n",
       "      <td>0</td>\n",
       "      <td>0</td>\n",
       "      <td>1</td>\n",
       "      <td>0</td>\n",
       "      <td>1</td>\n",
       "      <td>0</td>\n",
       "      <td>1</td>\n",
       "      <td>0</td>\n",
       "      <td>1</td>\n",
       "      <td>0</td>\n",
       "      <td>1</td>\n",
       "      <td>0</td>\n",
       "      <td>1</td>\n",
       "      <td>0</td>\n",
       "      <td>0</td>\n",
       "      <td>0</td>\n",
       "      <td>0</td>\n",
       "      <td>0</td>\n",
       "      <td>0</td>\n",
       "      <td>1</td>\n",
       "      <td>0</td>\n",
       "      <td>0</td>\n",
       "      <td>0</td>\n",
       "      <td>0</td>\n",
       "      <td>1</td>\n",
       "      <td>0</td>\n",
       "      <td>0</td>\n",
       "      <td>0</td>\n",
       "      <td>0</td>\n",
       "      <td>0</td>\n",
       "      <td>0</td>\n",
       "      <td>0</td>\n",
       "      <td>0</td>\n",
       "      <td>0</td>\n",
       "      <td>0</td>\n",
       "      <td>0</td>\n",
       "      <td>0</td>\n",
       "      <td>0</td>\n",
       "      <td>0</td>\n",
       "      <td>0</td>\n",
       "      <td>0</td>\n",
       "      <td>0</td>\n",
       "      <td>0</td>\n",
       "      <td>0</td>\n",
       "      <td>0</td>\n",
       "      <td>0</td>\n",
       "      <td>0</td>\n",
       "      <td>0</td>\n",
       "      <td>0</td>\n",
       "      <td>0</td>\n",
       "      <td>0</td>\n",
       "      <td>0</td>\n",
       "    </tr>\n",
       "    <tr>\n",
       "      <th>15917</th>\n",
       "      <td>0</td>\n",
       "      <td>0</td>\n",
       "      <td>0</td>\n",
       "      <td>1</td>\n",
       "      <td>0</td>\n",
       "      <td>0</td>\n",
       "      <td>1</td>\n",
       "      <td>0</td>\n",
       "      <td>0</td>\n",
       "      <td>0</td>\n",
       "      <td>1</td>\n",
       "      <td>0</td>\n",
       "      <td>1</td>\n",
       "      <td>0</td>\n",
       "      <td>0</td>\n",
       "      <td>0</td>\n",
       "      <td>0</td>\n",
       "      <td>0</td>\n",
       "      <td>0</td>\n",
       "      <td>0</td>\n",
       "      <td>0</td>\n",
       "      <td>1</td>\n",
       "      <td>0</td>\n",
       "      <td>1</td>\n",
       "      <td>0</td>\n",
       "      <td>0</td>\n",
       "      <td>0</td>\n",
       "      <td>0</td>\n",
       "      <td>0</td>\n",
       "      <td>0</td>\n",
       "      <td>0</td>\n",
       "      <td>0</td>\n",
       "      <td>0</td>\n",
       "      <td>1</td>\n",
       "      <td>0</td>\n",
       "      <td>0</td>\n",
       "      <td>0</td>\n",
       "      <td>0</td>\n",
       "      <td>0</td>\n",
       "      <td>0</td>\n",
       "      <td>0</td>\n",
       "      <td>0</td>\n",
       "      <td>0</td>\n",
       "      <td>1</td>\n",
       "      <td>0</td>\n",
       "      <td>0</td>\n",
       "      <td>0</td>\n",
       "      <td>0</td>\n",
       "      <td>0</td>\n",
       "      <td>0</td>\n",
       "      <td>0</td>\n",
       "      <td>0</td>\n",
       "      <td>0</td>\n",
       "      <td>0</td>\n",
       "      <td>1</td>\n",
       "      <td>0</td>\n",
       "      <td>0</td>\n",
       "      <td>0</td>\n",
       "      <td>0</td>\n",
       "      <td>0</td>\n",
       "      <td>0</td>\n",
       "      <td>1</td>\n",
       "      <td>0</td>\n",
       "      <td>0</td>\n",
       "      <td>0</td>\n",
       "      <td>0</td>\n",
       "      <td>0</td>\n",
       "      <td>0</td>\n",
       "      <td>0</td>\n",
       "      <td>0</td>\n",
       "      <td>0</td>\n",
       "      <td>0</td>\n",
       "      <td>0</td>\n",
       "      <td>0</td>\n",
       "      <td>0</td>\n",
       "      <td>0</td>\n",
       "      <td>0</td>\n",
       "      <td>0</td>\n",
       "      <td>0</td>\n",
       "      <td>0</td>\n",
       "      <td>0</td>\n",
       "      <td>0</td>\n",
       "      <td>0</td>\n",
       "      <td>0</td>\n",
       "      <td>0</td>\n",
       "      <td>0</td>\n",
       "      <td>0</td>\n",
       "      <td>0</td>\n",
       "      <td>0</td>\n",
       "    </tr>\n",
       "    <tr>\n",
       "      <th>15918</th>\n",
       "      <td>0</td>\n",
       "      <td>0</td>\n",
       "      <td>0</td>\n",
       "      <td>1</td>\n",
       "      <td>0</td>\n",
       "      <td>0</td>\n",
       "      <td>1</td>\n",
       "      <td>0</td>\n",
       "      <td>0</td>\n",
       "      <td>1</td>\n",
       "      <td>1</td>\n",
       "      <td>0</td>\n",
       "      <td>1</td>\n",
       "      <td>0</td>\n",
       "      <td>0</td>\n",
       "      <td>0</td>\n",
       "      <td>1</td>\n",
       "      <td>0</td>\n",
       "      <td>0</td>\n",
       "      <td>0</td>\n",
       "      <td>0</td>\n",
       "      <td>1</td>\n",
       "      <td>0</td>\n",
       "      <td>0</td>\n",
       "      <td>0</td>\n",
       "      <td>0</td>\n",
       "      <td>0</td>\n",
       "      <td>0</td>\n",
       "      <td>0</td>\n",
       "      <td>1</td>\n",
       "      <td>0</td>\n",
       "      <td>0</td>\n",
       "      <td>0</td>\n",
       "      <td>0</td>\n",
       "      <td>0</td>\n",
       "      <td>0</td>\n",
       "      <td>0</td>\n",
       "      <td>0</td>\n",
       "      <td>0</td>\n",
       "      <td>0</td>\n",
       "      <td>0</td>\n",
       "      <td>0</td>\n",
       "      <td>0</td>\n",
       "      <td>1</td>\n",
       "      <td>0</td>\n",
       "      <td>0</td>\n",
       "      <td>0</td>\n",
       "      <td>0</td>\n",
       "      <td>1</td>\n",
       "      <td>0</td>\n",
       "      <td>0</td>\n",
       "      <td>0</td>\n",
       "      <td>0</td>\n",
       "      <td>0</td>\n",
       "      <td>0</td>\n",
       "      <td>0</td>\n",
       "      <td>0</td>\n",
       "      <td>0</td>\n",
       "      <td>0</td>\n",
       "      <td>0</td>\n",
       "      <td>0</td>\n",
       "      <td>1</td>\n",
       "      <td>0</td>\n",
       "      <td>0</td>\n",
       "      <td>0</td>\n",
       "      <td>0</td>\n",
       "      <td>0</td>\n",
       "      <td>0</td>\n",
       "      <td>0</td>\n",
       "      <td>0</td>\n",
       "      <td>0</td>\n",
       "      <td>0</td>\n",
       "      <td>0</td>\n",
       "      <td>0</td>\n",
       "      <td>0</td>\n",
       "      <td>0</td>\n",
       "      <td>0</td>\n",
       "      <td>0</td>\n",
       "      <td>0</td>\n",
       "      <td>0</td>\n",
       "      <td>0</td>\n",
       "      <td>0</td>\n",
       "      <td>0</td>\n",
       "      <td>0</td>\n",
       "      <td>0</td>\n",
       "      <td>0</td>\n",
       "      <td>0</td>\n",
       "      <td>0</td>\n",
       "      <td>0</td>\n",
       "    </tr>\n",
       "  </tbody>\n",
       "</table>\n",
       "<p>15919 rows × 89 columns</p>\n",
       "</div>"
      ],
      "text/plain": [
       "        'Air suspension'   'Armrest'   'Armrest']  \\\n",
       "0                      0           1            0   \n",
       "1                      0           0            0   \n",
       "2                      0           0            0   \n",
       "3                      0           1            0   \n",
       "4                      0           1            0   \n",
       "...                  ...         ...          ...   \n",
       "15914                  0           0            0   \n",
       "15915                  0           0            0   \n",
       "15916                  0           1            0   \n",
       "15917                  0           0            0   \n",
       "15918                  0           0            0   \n",
       "\n",
       "        'Automatic climate control'   'Automatic climate control']  \\\n",
       "0                                 1                              0   \n",
       "1                                 1                              0   \n",
       "2                                 0                              0   \n",
       "3                                 0                              0   \n",
       "4                                 1                              0   \n",
       "...                             ...                            ...   \n",
       "15914                             1                              0   \n",
       "15915                             1                              0   \n",
       "15916                             1                              0   \n",
       "15917                             1                              0   \n",
       "15918                             1                              0   \n",
       "\n",
       "        'Auxiliary heating'   'Cruise control'   'Cruise control']  \\\n",
       "0                         0                  1                   0   \n",
       "1                         0                  0                   0   \n",
       "2                         0                  1                   0   \n",
       "3                         1                  0                   0   \n",
       "4                         0                  0                   0   \n",
       "...                     ...                ...                 ...   \n",
       "15914                     0                  1                   0   \n",
       "15915                     0                  1                   0   \n",
       "15916                     0                  1                   0   \n",
       "15917                     0                  1                   0   \n",
       "15918                     0                  1                   0   \n",
       "\n",
       "        'Electric Starter'   'Electric tailgate'   'Electrical side mirrors'  \\\n",
       "0                        0                     0                           1   \n",
       "1                        0                     0                           0   \n",
       "2                        0                     0                           1   \n",
       "3                        0                     0                           1   \n",
       "4                        0                     0                           1   \n",
       "...                    ...                   ...                         ...   \n",
       "15914                    0                     0                           1   \n",
       "15915                    0                     1                           1   \n",
       "15916                    0                     1                           1   \n",
       "15917                    0                     0                           1   \n",
       "15918                    0                     1                           1   \n",
       "\n",
       "        'Electrical side mirrors']   'Electrically adjustable seats'  \\\n",
       "0                                0                                 0   \n",
       "1                                0                                 0   \n",
       "2                                0                                 0   \n",
       "3                                0                                 0   \n",
       "4                                0                                 0   \n",
       "...                            ...                               ...   \n",
       "15914                            0                                 1   \n",
       "15915                            0                                 0   \n",
       "15916                            0                                 0   \n",
       "15917                            0                                 1   \n",
       "15918                            0                                 1   \n",
       "\n",
       "        'Electrically heated windshield'   'Heads-up display'  \\\n",
       "0                                      0                    0   \n",
       "1                                      0                    0   \n",
       "2                                      0                    0   \n",
       "3                                      0                    1   \n",
       "4                                      0                    0   \n",
       "...                                  ...                  ...   \n",
       "15914                                  0                    0   \n",
       "15915                                  1                    1   \n",
       "15916                                  1                    1   \n",
       "15917                                  0                    0   \n",
       "15918                                  0                    0   \n",
       "\n",
       "        'Heated steering wheel'   'Hill Holder'   'Hill Holder']  \\\n",
       "0                             0               1                0   \n",
       "1                             0               1                0   \n",
       "2                             0               1                0   \n",
       "3                             0               1                0   \n",
       "4                             0               1                0   \n",
       "...                         ...             ...              ...   \n",
       "15914                         0               1                0   \n",
       "15915                         1               1                0   \n",
       "15916                         1               0                0   \n",
       "15917                         0               0                0   \n",
       "15918                         0               1                0   \n",
       "\n",
       "        'Keyless central door lock'   'Keyless central door lock']  \\\n",
       "0                                 0                              0   \n",
       "1                                 0                              0   \n",
       "2                                 0                              0   \n",
       "3                                 0                              0   \n",
       "4                                 0                              0   \n",
       "...                             ...                            ...   \n",
       "15914                             1                              0   \n",
       "15915                             1                              0   \n",
       "15916                             0                              0   \n",
       "15917                             0                              0   \n",
       "15918                             0                              0   \n",
       "\n",
       "        'Leather seats'   'Leather steering wheel'  \\\n",
       "0                     0                          1   \n",
       "1                     0                          1   \n",
       "2                     0                          1   \n",
       "3                     0                          1   \n",
       "4                     0                          1   \n",
       "...                 ...                        ...   \n",
       "15914                 0                          1   \n",
       "15915                 0                          1   \n",
       "15916                 0                          1   \n",
       "15917                 0                          1   \n",
       "15918                 0                          1   \n",
       "\n",
       "        'Leather steering wheel']   'Light sensor'   'Lumbar support'  \\\n",
       "0                               0                1                  0   \n",
       "1                               0                0                  1   \n",
       "2                               0                0                  0   \n",
       "3                               0                1                  1   \n",
       "4                               0                1                  0   \n",
       "...                           ...              ...                ...   \n",
       "15914                           0                1                  0   \n",
       "15915                           0                1                  1   \n",
       "15916                           0                1                  0   \n",
       "15917                           0                1                  0   \n",
       "15918                           0                0                  0   \n",
       "\n",
       "        'Lumbar support']   'Massage seats'   'Multi-function steering wheel'  \\\n",
       "0                       0                 0                                 1   \n",
       "1                       0                 0                                 0   \n",
       "2                       0                 0                                 1   \n",
       "3                       0                 0                                 1   \n",
       "4                       0                 0                                 1   \n",
       "...                   ...               ...                               ...   \n",
       "15914                   0                 1                                 1   \n",
       "15915                   0                 0                                 0   \n",
       "15916                   0                 1                                 1   \n",
       "15917                   0                 0                                 0   \n",
       "15918                   0                 0                                 0   \n",
       "\n",
       "        'Multi-function steering wheel']   'Navigation system'  \\\n",
       "0                                      0                     1   \n",
       "1                                      0                     0   \n",
       "2                                      0                     1   \n",
       "3                                      0                     1   \n",
       "4                                      0                     0   \n",
       "...                                  ...                   ...   \n",
       "15914                                  0                     1   \n",
       "15915                                  0                     1   \n",
       "15916                                  0                     1   \n",
       "15917                                  0                     0   \n",
       "15918                                  0                     1   \n",
       "\n",
       "        'Navigation system']   'Panorama roof'   'Panorama roof']  \\\n",
       "0                          0                 0                  0   \n",
       "1                          0                 0                  0   \n",
       "2                          0                 0                  0   \n",
       "3                          0                 0                  0   \n",
       "4                          0                 0                  0   \n",
       "...                      ...               ...                ...   \n",
       "15914                      0                 0                  0   \n",
       "15915                      0                 0                  0   \n",
       "15916                      0                 1                  0   \n",
       "15917                      0                 0                  0   \n",
       "15918                      0                 0                  0   \n",
       "\n",
       "        'Park Distance Control'   'Park Distance Control']  \\\n",
       "0                             1                          0   \n",
       "1                             0                          0   \n",
       "2                             1                          0   \n",
       "3                             0                          0   \n",
       "4                             1                          0   \n",
       "...                         ...                        ...   \n",
       "15914                         1                          0   \n",
       "15915                         1                          0   \n",
       "15916                         1                          0   \n",
       "15917                         1                          0   \n",
       "15918                         0                          0   \n",
       "\n",
       "        'Parking assist system camera'   'Parking assist system camera']  \\\n",
       "0                                    0                                 0   \n",
       "1                                    0                                 0   \n",
       "2                                    0                                 0   \n",
       "3                                    0                                 0   \n",
       "4                                    0                                 0   \n",
       "...                                ...                               ...   \n",
       "15914                                0                                 0   \n",
       "15915                                1                                 0   \n",
       "15916                                1                                 0   \n",
       "15917                                0                                 0   \n",
       "15918                                0                                 0   \n",
       "\n",
       "        'Parking assist system self-steering'  \\\n",
       "0                                           0   \n",
       "1                                           0   \n",
       "2                                           0   \n",
       "3                                           0   \n",
       "4                                           0   \n",
       "...                                       ...   \n",
       "15914                                       0   \n",
       "15915                                       1   \n",
       "15916                                       0   \n",
       "15917                                       0   \n",
       "15918                                       0   \n",
       "\n",
       "        'Parking assist system self-steering']  \\\n",
       "0                                            0   \n",
       "1                                            0   \n",
       "2                                            0   \n",
       "3                                            0   \n",
       "4                                            0   \n",
       "...                                        ...   \n",
       "15914                                        0   \n",
       "15915                                        0   \n",
       "15916                                        0   \n",
       "15917                                        0   \n",
       "15918                                        0   \n",
       "\n",
       "        'Parking assist system sensors front'  \\\n",
       "0                                           0   \n",
       "1                                           0   \n",
       "2                                           1   \n",
       "3                                           0   \n",
       "4                                           0   \n",
       "...                                       ...   \n",
       "15914                                       1   \n",
       "15915                                       1   \n",
       "15916                                       1   \n",
       "15917                                       0   \n",
       "15918                                       0   \n",
       "\n",
       "        'Parking assist system sensors front']  \\\n",
       "0                                            0   \n",
       "1                                            0   \n",
       "2                                            0   \n",
       "3                                            0   \n",
       "4                                            0   \n",
       "...                                        ...   \n",
       "15914                                        0   \n",
       "15915                                        0   \n",
       "15916                                        0   \n",
       "15917                                        0   \n",
       "15918                                        0   \n",
       "\n",
       "        'Parking assist system sensors rear'  \\\n",
       "0                                          1   \n",
       "1                                          1   \n",
       "2                                          1   \n",
       "3                                          0   \n",
       "4                                          1   \n",
       "...                                      ...   \n",
       "15914                                      1   \n",
       "15915                                      1   \n",
       "15916                                      1   \n",
       "15917                                      0   \n",
       "15918                                      0   \n",
       "\n",
       "        'Parking assist system sensors rear']   'Power windows'  \\\n",
       "0                                           0                 1   \n",
       "1                                           0                 1   \n",
       "2                                           0                 1   \n",
       "3                                           0                 1   \n",
       "4                                           0                 1   \n",
       "...                                       ...               ...   \n",
       "15914                                       0                 1   \n",
       "15915                                       0                 1   \n",
       "15916                                       0                 1   \n",
       "15917                                       0                 1   \n",
       "15918                                       0                 1   \n",
       "\n",
       "        'Power windows']   'Rain sensor'   'Rain sensor']   'Seat heating'  \\\n",
       "0                      0               1                0                1   \n",
       "1                      0               0                0                0   \n",
       "2                      0               0                0                1   \n",
       "3                      0               1                0                1   \n",
       "4                      0               1                0                0   \n",
       "...                  ...             ...              ...              ...   \n",
       "15914                  0               1                0                0   \n",
       "15915                  0               1                0                1   \n",
       "15916                  0               1                0                1   \n",
       "15917                  0               0                0                0   \n",
       "15918                  0               0                0                0   \n",
       "\n",
       "        'Seat heating']   'Seat ventilation'   'Seat ventilation']  \\\n",
       "0                     0                    0                     0   \n",
       "1                     0                    0                     0   \n",
       "2                     0                    0                     0   \n",
       "3                     0                    0                     0   \n",
       "4                     0                    0                     0   \n",
       "...                 ...                  ...                   ...   \n",
       "15914                 0                    0                     0   \n",
       "15915                 0                    0                     0   \n",
       "15916                 0                    1                     0   \n",
       "15917                 0                    0                     0   \n",
       "15918                 1                    0                     0   \n",
       "\n",
       "        'Split rear seats'   'Split rear seats']   'Start-stop system'  \\\n",
       "0                        0                     0                     0   \n",
       "1                        0                     0                     1   \n",
       "2                        0                     0                     0   \n",
       "3                        1                     0                     0   \n",
       "4                        0                     0                     0   \n",
       "...                    ...                   ...                   ...   \n",
       "15914                    1                     0                     1   \n",
       "15915                    0                     0                     0   \n",
       "15916                    0                     0                     0   \n",
       "15917                    0                     0                     0   \n",
       "15918                    0                     0                     0   \n",
       "\n",
       "        'Start-stop system']   'Sunroof'   'Sunroof']   'Tinted windows'  \\\n",
       "0                          1           0            0                  0   \n",
       "1                          0           0            0                  0   \n",
       "2                          1           0            0                  0   \n",
       "3                          1           0            0                  0   \n",
       "4                          1           0            0                  0   \n",
       "...                      ...         ...          ...                ...   \n",
       "15914                      0           0            0                  0   \n",
       "15915                      0           0            1                  0   \n",
       "15916                      0           0            1                  0   \n",
       "15917                      1           0            0                  0   \n",
       "15918                      0           0            0                  0   \n",
       "\n",
       "        'Tinted windows']   'Wind deflector']   'Windshield']  \\\n",
       "0                       0                   0               0   \n",
       "1                       1                   0               0   \n",
       "2                       0                   0               0   \n",
       "3                       0                   0               0   \n",
       "4                       0                   0               0   \n",
       "...                   ...                 ...             ...   \n",
       "15914                   1                   0               0   \n",
       "15915                   0                   0               0   \n",
       "15916                   0                   0               0   \n",
       "15917                   0                   0               0   \n",
       "15918                   0                   0               0   \n",
       "\n",
       "       ['Air conditioning'  ['Air conditioning']  ['Air suspension'  \\\n",
       "0                        1                     0                  0   \n",
       "1                        1                     0                  0   \n",
       "2                        1                     0                  0   \n",
       "3                        0                     0                  1   \n",
       "4                        1                     0                  0   \n",
       "...                    ...                   ...                ...   \n",
       "15914                    1                     0                  0   \n",
       "15915                    1                     0                  0   \n",
       "15916                    1                     0                  0   \n",
       "15917                    1                     0                  0   \n",
       "15918                    1                     0                  0   \n",
       "\n",
       "       ['Air suspension']  ['Armrest'  ['Auxiliary heating'  \\\n",
       "0                       0           0                     0   \n",
       "1                       0           0                     0   \n",
       "2                       0           0                     0   \n",
       "3                       0           0                     0   \n",
       "4                       0           0                     0   \n",
       "...                   ...         ...                   ...   \n",
       "15914                   0           0                     0   \n",
       "15915                   0           0                     0   \n",
       "15916                   0           0                     0   \n",
       "15917                   0           0                     0   \n",
       "15918                   0           0                     0   \n",
       "\n",
       "       ['Cruise control'  ['Cruise control']  ['Electrical side mirrors'  \\\n",
       "0                      0                   0                           0   \n",
       "1                      0                   0                           0   \n",
       "2                      0                   0                           0   \n",
       "3                      0                   0                           0   \n",
       "4                      0                   0                           0   \n",
       "...                  ...                 ...                         ...   \n",
       "15914                  0                   0                           0   \n",
       "15915                  0                   0                           0   \n",
       "15916                  0                   0                           0   \n",
       "15917                  0                   0                           0   \n",
       "15918                  0                   0                           0   \n",
       "\n",
       "       ['Electrically adjustable seats'  ['Electrically heated windshield'  \\\n",
       "0                                     0                                  0   \n",
       "1                                     0                                  0   \n",
       "2                                     0                                  0   \n",
       "3                                     0                                  0   \n",
       "4                                     0                                  0   \n",
       "...                                 ...                                ...   \n",
       "15914                                 0                                  0   \n",
       "15915                                 0                                  0   \n",
       "15916                                 0                                  0   \n",
       "15917                                 0                                  0   \n",
       "15918                                 0                                  0   \n",
       "\n",
       "       ['Heads-up display']  ['Heated steering wheel'  ['Hill Holder'  \\\n",
       "0                         0                         0               0   \n",
       "1                         0                         0               0   \n",
       "2                         0                         0               0   \n",
       "3                         0                         0               0   \n",
       "4                         0                         0               0   \n",
       "...                     ...                       ...             ...   \n",
       "15914                     0                         0               0   \n",
       "15915                     0                         0               0   \n",
       "15916                     0                         0               0   \n",
       "15917                     0                         0               0   \n",
       "15918                     0                         0               0   \n",
       "\n",
       "       ['Hill Holder']  ['Leather steering wheel'  ['Light sensor'  \\\n",
       "0                    0                          0                0   \n",
       "1                    0                          0                0   \n",
       "2                    0                          0                0   \n",
       "3                    0                          0                0   \n",
       "4                    0                          0                0   \n",
       "...                ...                        ...              ...   \n",
       "15914                0                          0                0   \n",
       "15915                0                          0                0   \n",
       "15916                0                          0                0   \n",
       "15917                0                          0                0   \n",
       "15918                0                          0                0   \n",
       "\n",
       "       ['Multi-function steering wheel'  ['Multi-function steering wheel']  \\\n",
       "0                                     0                                  0   \n",
       "1                                     0                                  0   \n",
       "2                                     0                                  0   \n",
       "3                                     0                                  0   \n",
       "4                                     0                                  0   \n",
       "...                                 ...                                ...   \n",
       "15914                                 0                                  0   \n",
       "15915                                 0                                  0   \n",
       "15916                                 0                                  0   \n",
       "15917                                 0                                  0   \n",
       "15918                                 0                                  0   \n",
       "\n",
       "       ['Navigation system'  ['Navigation system']  ['Panorama roof']  \\\n",
       "0                         0                      0                  0   \n",
       "1                         0                      0                  0   \n",
       "2                         0                      0                  0   \n",
       "3                         0                      0                  0   \n",
       "4                         0                      0                  0   \n",
       "...                     ...                    ...                ...   \n",
       "15914                     0                      0                  0   \n",
       "15915                     0                      0                  0   \n",
       "15916                     0                      0                  0   \n",
       "15917                     0                      0                  0   \n",
       "15918                     0                      0                  0   \n",
       "\n",
       "       ['Park Distance Control'  ['Park Distance Control']  ['Power windows'  \\\n",
       "0                             0                          0                 0   \n",
       "1                             0                          0                 0   \n",
       "2                             0                          0                 0   \n",
       "3                             0                          0                 0   \n",
       "4                             0                          0                 0   \n",
       "...                         ...                        ...               ...   \n",
       "15914                         0                          0                 0   \n",
       "15915                         0                          0                 0   \n",
       "15916                         0                          0                 0   \n",
       "15917                         0                          0                 0   \n",
       "15918                         0                          0                 0   \n",
       "\n",
       "       ['Power windows']  ['Rain sensor']  ['Sunroof']  \n",
       "0                      0                0            0  \n",
       "1                      0                0            0  \n",
       "2                      0                0            0  \n",
       "3                      0                0            0  \n",
       "4                      0                0            0  \n",
       "...                  ...              ...          ...  \n",
       "15914                  0                0            0  \n",
       "15915                  0                0            0  \n",
       "15916                  0                0            0  \n",
       "15917                  0                0            0  \n",
       "15918                  0                0            0  \n",
       "\n",
       "[15919 rows x 89 columns]"
      ]
     },
     "execution_count": 517,
     "metadata": {},
     "output_type": "execute_result"
    }
   ],
   "source": [
    "df['dm_comfort1'].str.get_dummies(sep=',')"
   ]
  },
  {
   "cell_type": "code",
   "execution_count": 518,
   "metadata": {},
   "outputs": [],
   "source": [
    "lst1 = df.make_model.unique()\n",
    "lst2 = df.body_type.unique()\n",
    "\n",
    "for i in lst1:\n",
    "    for j in lst2:\n",
    "        cond = (df.make_model == i) & (df.body_type == j)\n",
    "        df.loc[cond, 'dm_comfort1'] = df.loc[cond, 'dm_comfort1'].fillna(method='ffill').fillna(method='bfill')"
   ]
  },
  {
   "cell_type": "code",
   "execution_count": null,
   "metadata": {},
   "outputs": [],
   "source": [
    "# Mode degeri liste oldugu icin fillna listeyi kabul etmedi. Ancak bu sekilde bir doldurma mumkun. \n",
    "# Eger mode degeri ile doldurmak istiyorsam get_dummies yaptiktan sonra olusan tum sutunlarde dolasacak bir\n",
    "# fonksiyon ile her sutunu istenilen sartlari saglayan mode degeri ile doldurmak mumkun olur."
   ]
  },
  {
   "cell_type": "code",
   "execution_count": 519,
   "metadata": {},
   "outputs": [
    {
     "ename": "TypeError",
     "evalue": "unhashable type: 'list'",
     "output_type": "error",
     "traceback": [
      "\u001b[0;31m---------------------------------------------------------------------------\u001b[0m",
      "\u001b[0;31mTypeError\u001b[0m                                 Traceback (most recent call last)",
      "\u001b[0;32mpandas/_libs/hashtable_class_helper.pxi\u001b[0m in \u001b[0;36mpandas._libs.hashtable.PyObjectHashTable.map_locations\u001b[0;34m()\u001b[0m\n",
      "\u001b[0;31mTypeError\u001b[0m: unhashable type: 'list'"
     ]
    },
    {
     "name": "stderr",
     "output_type": "stream",
     "text": [
      "Exception ignored in: 'pandas._libs.index.IndexEngine._call_map_locations'\n",
      "Traceback (most recent call last):\n",
      "  File \"pandas/_libs/hashtable_class_helper.pxi\", line 1709, in pandas._libs.hashtable.PyObjectHashTable.map_locations\n",
      "TypeError: unhashable type: 'list'\n"
     ]
    },
    {
     "data": {
      "text/plain": [
       "[Air conditioning, Electrical side mirrors, Hill Holder, Power windows]                                                                                                                                                                                                                                                                                                                                                                                                      227\n",
       "[Air conditioning, Electrical side mirrors, Power windows]                                                                                                                                                                                                                                                                                                                                                                                                                   156\n",
       "[Air conditioning, Power windows]                                                                                                                                                                                                                                                                                                                                                                                                                                            142\n",
       "[Air conditioning, Armrest, Automatic climate control, Cruise control, Electrical side mirrors, Leather steering wheel, Light sensor, Lumbar support, Multi-function steering wheel, Navigation system, Park Distance Control, Parking assist system sensors front, Parking assist system sensors rear, Power windows, Rain sensor, Seat heating, Start-stop system]                                                                                                         106\n",
       "[Air conditioning, Armrest, Automatic climate control, Cruise control, Electrical side mirrors, Hill Holder, Leather steering wheel, Light sensor, Multi-function steering wheel, Navigation system, Park Distance Control, Parking assist system sensors rear, Power windows, Rain sensor, Seat heating, Start-stop system]                                                                                                                                                  92\n",
       "                                                                                                                                                                                                                                                                                                                                                                                                                                                                            ... \n",
       "[Air conditioning, Armrest, Cruise control, Electrical side mirrors, Light sensor, Power windows, Rain sensor, Seat heating, Start-stop system]                                                                                                                                                                                                                                                                                                                                1\n",
       "[Air conditioning, Armrest, Automatic climate control, Cruise control, Electrical side mirrors, Heated steering wheel, Hill Holder, Keyless central door lock, Leather steering wheel, Light sensor, Multi-function steering wheel, Navigation system, Park Distance Control, Parking assist system camera, Parking assist system self-steering, Parking assist system sensors front, Parking assist system sensors rear, Power windows, Seat heating, Start-stop system]      1\n",
       "[Air conditioning, Armrest, Electrical side mirrors, Leather seats, Leather steering wheel, Multi-function steering wheel, Navigation system, Parking assist system camera, Parking assist system sensors front, Parking assist system sensors rear, Power windows, Rain sensor, Seat ventilation, Start-stop system, Tinted windows]                                                                                                                                          1\n",
       "[Air conditioning, Armrest, Cruise control, Electrical side mirrors, Leather steering wheel, Multi-function steering wheel, Navigation system, Park Distance Control, Parking assist system camera, Parking assist system sensors front, Parking assist system sensors rear, Power windows, Seat ventilation, Split rear seats, Start-stop system]                                                                                                                             1\n",
       "[Air conditioning, Electrical side mirrors, Light sensor, Multi-function steering wheel, Parking assist system sensors rear, Power windows, Rain sensor]                                                                                                                                                                                                                                                                                                                       1\n",
       "Name: dm_comfort1, Length: 6198, dtype: int64"
      ]
     },
     "execution_count": 519,
     "metadata": {},
     "output_type": "execute_result"
    }
   ],
   "source": [
    "df['dm_comfort1'].value_counts(dropna=False)"
   ]
  },
  {
   "cell_type": "code",
   "execution_count": 520,
   "metadata": {},
   "outputs": [
    {
     "data": {
      "text/plain": [
       "0"
      ]
     },
     "execution_count": 520,
     "metadata": {},
     "output_type": "execute_result"
    }
   ],
   "source": [
    "df.dm_comfort1.isnull().sum()"
   ]
  },
  {
   "cell_type": "code",
   "execution_count": null,
   "metadata": {},
   "outputs": [],
   "source": [
    "####################"
   ]
  },
  {
   "cell_type": "code",
   "execution_count": 521,
   "metadata": {},
   "outputs": [],
   "source": [
    "df['dm_comfort2'] = df['Comfort']"
   ]
  },
  {
   "cell_type": "code",
   "execution_count": 522,
   "metadata": {},
   "outputs": [],
   "source": [
    "df['dm_comfort2'] = df['dm_comfort2'].apply(lambda x: len(x) if x is not np.nan else np.nan)"
   ]
  },
  {
   "cell_type": "code",
   "execution_count": 523,
   "metadata": {},
   "outputs": [
    {
     "data": {
      "text/plain": [
       "array([16.,  9., 13., 16., 13., 17., 15., 10.,  2., nan,  3., 16., 17.,\n",
       "       11., 16., 11.,  3., 12., 10., 11., 15., 18., 15.,  3., 14.,  5.,\n",
       "       15.,  5.,  2.,  5., nan,  9.,  5.,  7., 12.,  5.,  8.,  6.,  4.,\n",
       "       11.,  6., 13., 13., 10.,  8.,  8., 12.,  5.,  9., 11., 12.,  4.,\n",
       "        5., nan,  7.,  7.,  4., 10.,  6.,  6., 17., 13.,  8., 11.,  8.,\n",
       "       10., 13.,  8., 11., 16.,  9., 14., 18., 15., 16., 21., 16., 16.,\n",
       "       18., 16.,  3., 11., 15., 19., 14., 17., 14.,  6., 12., 17., 15.,\n",
       "       16., 14., 15.,  9.,  1.,  3.,  5.,  9.,  4.])"
      ]
     },
     "execution_count": 523,
     "metadata": {},
     "output_type": "execute_result"
    }
   ],
   "source": [
    "df['dm_comfort2'].values[:100]"
   ]
  },
  {
   "cell_type": "code",
   "execution_count": 524,
   "metadata": {},
   "outputs": [
    {
     "data": {
      "text/plain": [
       "15.0    1070\n",
       "14.0    1031\n",
       "16.0     972\n",
       "17.0     924\n",
       "NaN      920\n",
       "13.0     837\n",
       "11.0     837\n",
       "12.0     746\n",
       "6.0      742\n",
       "10.0     723\n",
       "4.0      705\n",
       "5.0      703\n",
       "7.0      664\n",
       "18.0     630\n",
       "8.0      616\n",
       "3.0      580\n",
       "9.0      554\n",
       "19.0     451\n",
       "20.0     404\n",
       "21.0     363\n",
       "2.0      308\n",
       "22.0     294\n",
       "23.0     217\n",
       "1.0      193\n",
       "24.0     128\n",
       "25.0     107\n",
       "26.0      93\n",
       "27.0      50\n",
       "28.0      31\n",
       "29.0      14\n",
       "31.0       4\n",
       "30.0       4\n",
       "32.0       2\n",
       "33.0       2\n",
       "Name: dm_comfort2, dtype: int64"
      ]
     },
     "execution_count": 524,
     "metadata": {},
     "output_type": "execute_result"
    }
   ],
   "source": [
    "df['dm_comfort2'].value_counts(dropna=False)"
   ]
  },
  {
   "cell_type": "code",
   "execution_count": 525,
   "metadata": {},
   "outputs": [],
   "source": [
    "lst1 = df.make_model.unique()\n",
    "lst2 = df.body_type.unique()\n",
    "lst3 = df.dm_registration.unique()\n",
    "for i in lst1:\n",
    "    for j in lst2:\n",
    "        for k in lst3:\n",
    "            cond = (df.make_model == i) & (df.body_type == j) & (df.dm_registration == k)\n",
    "            df.loc[cond, 'dm_comfort2'] = df.loc[cond, 'dm_comfort2'].fillna(method='ffill').fillna(method='bfill')\n",
    "df.dm_comfort2 = df.dm_comfort2.fillna(method='ffill').fillna(method='bfill')"
   ]
  },
  {
   "cell_type": "code",
   "execution_count": 526,
   "metadata": {},
   "outputs": [
    {
     "data": {
      "text/plain": [
       "15.0    1125\n",
       "14.0    1096\n",
       "16.0     998\n",
       "17.0     941\n",
       "13.0     889\n",
       "11.0     879\n",
       "6.0      798\n",
       "12.0     797\n",
       "10.0     788\n",
       "5.0      780\n",
       "4.0      754\n",
       "7.0      696\n",
       "8.0      671\n",
       "18.0     655\n",
       "3.0      646\n",
       "9.0      589\n",
       "19.0     463\n",
       "20.0     416\n",
       "21.0     378\n",
       "2.0      323\n",
       "22.0     313\n",
       "23.0     230\n",
       "1.0      228\n",
       "24.0     140\n",
       "25.0     112\n",
       "26.0     101\n",
       "27.0      52\n",
       "28.0      32\n",
       "29.0      17\n",
       "31.0       4\n",
       "30.0       4\n",
       "32.0       2\n",
       "33.0       2\n",
       "Name: dm_comfort2, dtype: int64"
      ]
     },
     "execution_count": 526,
     "metadata": {},
     "output_type": "execute_result"
    }
   ],
   "source": [
    "df['dm_comfort2'].value_counts(dropna=False)"
   ]
  },
  {
   "cell_type": "markdown",
   "metadata": {},
   "source": [
    "<div class=\"alert alert-block alert-success\">\n",
    "<p>Ready for the analysis.</p></div>"
   ]
  },
  {
   "cell_type": "markdown",
   "metadata": {},
   "source": [
    "### 42 - \\nEntertainment & Media\\n"
   ]
  },
  {
   "cell_type": "code",
   "execution_count": 407,
   "metadata": {},
   "outputs": [],
   "source": [
    "df.rename(columns={'\\nEntertainment & Media\\n':'Entertainment'}, inplace=True)"
   ]
  },
  {
   "cell_type": "code",
   "execution_count": 408,
   "metadata": {},
   "outputs": [
    {
     "ename": "TypeError",
     "evalue": "unhashable type: 'list'",
     "output_type": "error",
     "traceback": [
      "\u001b[0;31m---------------------------------------------------------------------------\u001b[0m",
      "\u001b[0;31mTypeError\u001b[0m                                 Traceback (most recent call last)",
      "\u001b[0;32mpandas/_libs/hashtable_class_helper.pxi\u001b[0m in \u001b[0;36mpandas._libs.hashtable.PyObjectHashTable.map_locations\u001b[0;34m()\u001b[0m\n",
      "\u001b[0;31mTypeError\u001b[0m: unhashable type: 'list'"
     ]
    },
    {
     "name": "stderr",
     "output_type": "stream",
     "text": [
      "Exception ignored in: 'pandas._libs.index.IndexEngine._call_map_locations'\n",
      "Traceback (most recent call last):\n",
      "  File \"pandas/_libs/hashtable_class_helper.pxi\", line 1709, in pandas._libs.hashtable.PyObjectHashTable.map_locations\n",
      "TypeError: unhashable type: 'list'\n"
     ]
    },
    {
     "data": {
      "text/plain": [
       "NaN                                                                                      1374\n",
       "[Bluetooth, Hands-free equipment, On-board computer, Radio, USB]                         1282\n",
       "[Bluetooth, Hands-free equipment, MP3, On-board computer, Radio, USB]                     982\n",
       "[Bluetooth, CD player, Hands-free equipment, MP3, On-board computer, Radio, USB]          783\n",
       "[On-board computer, Radio]                                                                487\n",
       "                                                                                         ... \n",
       "[Bluetooth, MP3, On-board computer, Sound system, USB]                                      1\n",
       "[CD player, Hands-free equipment, On-board computer, Radio, Sound system, Television]       1\n",
       "[Bluetooth, Digital radio, On-board computer, Sound system, USB]                            1\n",
       "[CD player, Hands-free equipment, MP3, Radio, USB]                                          1\n",
       "[CD player, Digital radio, Radio]                                                           1\n",
       "Name: Entertainment, Length: 347, dtype: int64"
      ]
     },
     "execution_count": 408,
     "metadata": {},
     "output_type": "execute_result"
    }
   ],
   "source": [
    "df.Entertainment.value_counts(dropna=False)"
   ]
  },
  {
   "cell_type": "code",
   "execution_count": 409,
   "metadata": {},
   "outputs": [],
   "source": [
    "df['dm_entertainment'] = df.Entertainment"
   ]
  },
  {
   "cell_type": "code",
   "execution_count": 410,
   "metadata": {},
   "outputs": [],
   "source": [
    "df['dm_entertainment'] = df['dm_entertainment'].apply(lambda x: len(x) if x is not np.nan else np.nan)"
   ]
  },
  {
   "cell_type": "code",
   "execution_count": 411,
   "metadata": {},
   "outputs": [
    {
     "data": {
      "text/plain": [
       "array([ 4.,  5.,  2.,  8.,  7.,  6.,  7.,  3.,  1., nan,  7.,  5.,  7.,\n",
       "        3.,  5.,  7.,  3.,  6.,  5.,  6.,  8.,  7.,  8.,  1.,  8.,  2.,\n",
       "        7.,  1., nan, nan, nan,  6.,  3.,  2.,  7.,  6.,  3.,  1.,  1.,\n",
       "        6.,  5.,  5.,  5.,  6.,  5.,  5.,  4.,  1.,  2.,  7.,  3., nan,\n",
       "        2., nan,  3.,  1.,  3.,  3.,  2.,  1.,  8.,  7.,  4.,  2.,  1.,\n",
       "        2.,  4.,  3.,  6.,  3.,  3.,  6.,  4.,  8.,  3.,  6.,  6.,  5.,\n",
       "        7.,  5.,  1.,  6.,  6.,  9.,  6.,  7.,  2.,  4.,  6.,  7.,  5.,\n",
       "        4.,  7.,  5.,  2., nan,  6.,  5.,  8.,  1.])"
      ]
     },
     "execution_count": 411,
     "metadata": {},
     "output_type": "execute_result"
    }
   ],
   "source": [
    "df['dm_entertainment'].values[:100]"
   ]
  },
  {
   "cell_type": "code",
   "execution_count": 412,
   "metadata": {},
   "outputs": [
    {
     "data": {
      "text/plain": [
       "array([list(['Bluetooth', 'Hands-free equipment', 'On-board computer', 'Radio']),\n",
       "       list(['Bluetooth', 'Hands-free equipment', 'On-board computer', 'Radio', 'Sound system']),\n",
       "       list(['MP3', 'On-board computer']),\n",
       "       list(['Bluetooth', 'CD player', 'Hands-free equipment', 'MP3', 'On-board computer', 'Radio', 'Sound system', 'USB']),\n",
       "       list(['Bluetooth', 'CD player', 'Hands-free equipment', 'MP3', 'On-board computer', 'Radio', 'USB']),\n",
       "       list(['Bluetooth', 'Hands-free equipment', 'On-board computer', 'Radio', 'Sound system', 'USB']),\n",
       "       list(['Bluetooth', 'CD player', 'Hands-free equipment', 'On-board computer', 'Radio', 'Sound system', 'USB']),\n",
       "       list(['CD player', 'MP3', 'Radio']), list(['Radio']), nan,\n",
       "       list(['Bluetooth', 'CD player', 'Hands-free equipment', 'MP3', 'On-board computer', 'Radio', 'USB']),\n",
       "       list(['CD player', 'Hands-free equipment', 'On-board computer', 'Radio', 'USB']),\n",
       "       list(['Bluetooth', 'CD player', 'Hands-free equipment', 'MP3', 'On-board computer', 'Radio', 'USB']),\n",
       "       list(['Bluetooth', 'On-board computer', 'Radio']),\n",
       "       list(['Bluetooth', 'CD player', 'Hands-free equipment', 'On-board computer', 'Radio']),\n",
       "       list(['Bluetooth', 'CD player', 'Hands-free equipment', 'MP3', 'On-board computer', 'Radio', 'USB']),\n",
       "       list(['CD player', 'MP3', 'Radio']),\n",
       "       list(['Bluetooth', 'CD player', 'Hands-free equipment', 'MP3', 'On-board computer', 'Radio']),\n",
       "       list(['Bluetooth', 'CD player', 'Hands-free equipment', 'On-board computer', 'Radio']),\n",
       "       list(['Bluetooth', 'CD player', 'Hands-free equipment', 'MP3', 'On-board computer', 'Radio']),\n",
       "       list(['Bluetooth', 'CD player', 'Hands-free equipment', 'MP3', 'On-board computer', 'Radio', 'Sound system', 'USB']),\n",
       "       list(['Bluetooth', 'CD player', 'Hands-free equipment', 'MP3', 'On-board computer', 'Radio', 'USB']),\n",
       "       list(['Bluetooth', 'CD player', 'Hands-free equipment', 'MP3', 'On-board computer', 'Radio', 'Sound system', 'USB']),\n",
       "       list(['Radio']),\n",
       "       list(['Bluetooth', 'CD player', 'Digital radio', 'Hands-free equipment', 'MP3', 'On-board computer', 'Radio', 'USB']),\n",
       "       list(['Radio', 'Sound system']),\n",
       "       list(['Bluetooth', 'CD player', 'Hands-free equipment', 'MP3', 'On-board computer', 'Radio', 'USB']),\n",
       "       list(['Radio']), nan, nan, nan,\n",
       "       list(['Bluetooth', 'CD player', 'MP3', 'On-board computer', 'Radio', 'USB']),\n",
       "       list(['CD player', 'MP3', 'Radio']),\n",
       "       list(['On-board computer', 'Radio']),\n",
       "       list(['Bluetooth', 'CD player', 'Hands-free equipment', 'MP3', 'On-board computer', 'Radio', 'USB']),\n",
       "       list(['Bluetooth', 'CD player', 'Hands-free equipment', 'MP3', 'On-board computer', 'Radio']),\n",
       "       list(['CD player', 'MP3', 'Radio']), list(['Radio']),\n",
       "       list(['Radio']),\n",
       "       list(['Bluetooth', 'CD player', 'Hands-free equipment', 'MP3', 'On-board computer', 'Radio']),\n",
       "       list(['CD player', 'MP3', 'Radio', 'Sound system', 'USB']),\n",
       "       list(['Bluetooth', 'CD player', 'Hands-free equipment', 'On-board computer', 'Radio']),\n",
       "       list(['Bluetooth', 'CD player', 'Hands-free equipment', 'On-board computer', 'Radio']),\n",
       "       list(['Bluetooth', 'CD player', 'Hands-free equipment', 'MP3', 'On-board computer', 'Radio']),\n",
       "       list(['Bluetooth', 'Hands-free equipment', 'MP3', 'On-board computer', 'Radio']),\n",
       "       list(['Bluetooth', 'CD player', 'Hands-free equipment', 'On-board computer', 'Radio']),\n",
       "       list(['CD player', 'MP3', 'On-board computer', 'Radio']),\n",
       "       list(['Radio']), list(['Bluetooth', 'CD player']),\n",
       "       list(['Bluetooth', 'CD player', 'Hands-free equipment', 'MP3', 'On-board computer', 'Radio', 'USB']),\n",
       "       list(['Bluetooth', 'On-board computer', 'Radio']), nan,\n",
       "       list(['On-board computer', 'Radio']), nan,\n",
       "       list(['CD player', 'MP3', 'Radio']), list(['CD player']),\n",
       "       list(['CD player', 'On-board computer', 'Radio']),\n",
       "       list(['CD player', 'MP3', 'Radio']),\n",
       "       list(['On-board computer', 'Radio']), list(['Radio']),\n",
       "       list(['Bluetooth', 'CD player', 'Digital radio', 'Hands-free equipment', 'MP3', 'On-board computer', 'Radio', 'USB']),\n",
       "       list(['Bluetooth', 'CD player', 'Hands-free equipment', 'MP3', 'On-board computer', 'Radio', 'USB']),\n",
       "       list(['Bluetooth', 'CD player', 'On-board computer', 'Radio']),\n",
       "       list(['MP3', 'Radio']), list(['CD player']),\n",
       "       list(['On-board computer', 'Radio']),\n",
       "       list(['Bluetooth', 'Hands-free equipment', 'On-board computer', 'Radio']),\n",
       "       list(['Bluetooth', 'On-board computer', 'Radio']),\n",
       "       list(['Bluetooth', 'CD player', 'MP3', 'On-board computer', 'Radio', 'USB']),\n",
       "       list(['Bluetooth', 'Hands-free equipment', 'On-board computer']),\n",
       "       list(['Bluetooth', 'On-board computer', 'Radio']),\n",
       "       list(['Bluetooth', 'CD player', 'Hands-free equipment', 'On-board computer', 'Radio', 'USB']),\n",
       "       list(['CD player', 'Hands-free equipment', 'On-board computer', 'Radio']),\n",
       "       list(['Bluetooth', 'CD player', 'Hands-free equipment', 'MP3', 'On-board computer', 'Radio', 'Sound system', 'USB']),\n",
       "       list(['Bluetooth', 'Hands-free equipment', 'On-board computer']),\n",
       "       list(['Bluetooth', 'CD player', 'Hands-free equipment', 'On-board computer', 'Radio', 'USB']),\n",
       "       list(['Bluetooth', 'CD player', 'Hands-free equipment', 'MP3', 'On-board computer', 'Radio']),\n",
       "       list(['Bluetooth', 'CD player', 'Hands-free equipment', 'On-board computer', 'Radio']),\n",
       "       list(['Bluetooth', 'CD player', 'Hands-free equipment', 'MP3', 'On-board computer', 'Radio', 'USB']),\n",
       "       list(['Bluetooth', 'Hands-free equipment', 'MP3', 'On-board computer', 'Radio']),\n",
       "       list(['Radio']),\n",
       "       list(['Bluetooth', 'CD player', 'Hands-free equipment', 'MP3', 'On-board computer', 'Radio']),\n",
       "       list(['Bluetooth', 'CD player', 'MP3', 'On-board computer', 'Radio', 'USB']),\n",
       "       list(['Bluetooth', 'CD player', 'Digital radio', 'Hands-free equipment', 'MP3', 'On-board computer', 'Radio', 'Sound system', 'USB']),\n",
       "       list(['Bluetooth', 'CD player', 'Hands-free equipment', 'MP3', 'On-board computer', 'Radio']),\n",
       "       list(['Bluetooth', 'CD player', 'Hands-free equipment', 'MP3', 'On-board computer', 'Radio', 'USB']),\n",
       "       list(['On-board computer', 'Radio']),\n",
       "       list(['Bluetooth', 'CD player', 'MP3', 'On-board computer']),\n",
       "       list(['Bluetooth', 'CD player', 'Hands-free equipment', 'MP3', 'On-board computer', 'Radio']),\n",
       "       list(['Bluetooth', 'CD player', 'Hands-free equipment', 'MP3', 'On-board computer', 'Radio', 'USB']),\n",
       "       list(['Bluetooth', 'CD player', 'Hands-free equipment', 'On-board computer', 'Radio']),\n",
       "       list(['Bluetooth', 'Hands-free equipment', 'MP3', 'Radio']),\n",
       "       list(['Bluetooth', 'CD player', 'Digital radio', 'MP3', 'On-board computer', 'Radio', 'USB']),\n",
       "       list(['CD player', 'MP3', 'On-board computer', 'Radio', 'USB']),\n",
       "       list(['On-board computer', 'Radio']), nan,\n",
       "       list(['Bluetooth', 'CD player', 'MP3', 'Radio', 'Sound system', 'USB']),\n",
       "       list(['Bluetooth', 'Hands-free equipment', 'MP3', 'On-board computer', 'Radio']),\n",
       "       list(['Bluetooth', 'CD player', 'Hands-free equipment', 'MP3', 'On-board computer', 'Radio', 'Sound system', 'USB']),\n",
       "       list(['Radio'])], dtype=object)"
      ]
     },
     "execution_count": 412,
     "metadata": {},
     "output_type": "execute_result"
    }
   ],
   "source": [
    "df.Entertainment.values[:100]"
   ]
  },
  {
   "cell_type": "code",
   "execution_count": 413,
   "metadata": {},
   "outputs": [
    {
     "data": {
      "text/plain": [
       "5.0     3017\n",
       "6.0     3000\n",
       "4.0     1733\n",
       "7.0     1714\n",
       "2.0     1554\n",
       "3.0     1424\n",
       "NaN     1374\n",
       "1.0     1176\n",
       "8.0      736\n",
       "9.0      181\n",
       "10.0      10\n",
       "Name: dm_entertainment, dtype: int64"
      ]
     },
     "execution_count": 413,
     "metadata": {},
     "output_type": "execute_result"
    }
   ],
   "source": [
    "df['dm_entertainment'].value_counts(dropna=False)"
   ]
  },
  {
   "cell_type": "code",
   "execution_count": 414,
   "metadata": {},
   "outputs": [],
   "source": [
    "lst1 = df.make_model.unique()\n",
    "lst2 = df.dm_comfort.unique()\n",
    "lst3 = df.dm_registration.unique()\n",
    "for i in lst1:\n",
    "    for j in lst2:\n",
    "        for k in lst3:\n",
    "            cond = (df.make_model == i) & (df.dm_comfort == j) & (df.dm_registration == k)\n",
    "            df.loc[cond, 'dm_entertainment'] = df.loc[cond, 'dm_entertainment'].fillna(method\n",
    "                                                                        ='ffill').fillna(method='bfill')\n",
    "df.dm_entertainment = df.dm_entertainment.fillna(method='ffill').fillna(method='bfill')"
   ]
  },
  {
   "cell_type": "code",
   "execution_count": 415,
   "metadata": {},
   "outputs": [
    {
     "data": {
      "text/plain": [
       "5.0     3228\n",
       "6.0     3185\n",
       "4.0     1920\n",
       "7.0     1830\n",
       "2.0     1750\n",
       "3.0     1603\n",
       "1.0     1434\n",
       "8.0      762\n",
       "9.0      197\n",
       "10.0      10\n",
       "Name: dm_entertainment, dtype: int64"
      ]
     },
     "execution_count": 415,
     "metadata": {},
     "output_type": "execute_result"
    }
   ],
   "source": [
    "df['dm_entertainment'].value_counts(dropna=False)"
   ]
  },
  {
   "cell_type": "markdown",
   "metadata": {},
   "source": [
    "<div class=\"alert alert-block alert-success\">\n",
    "<p>Ready for the analysis.</p></div>"
   ]
  },
  {
   "cell_type": "markdown",
   "metadata": {},
   "source": [
    "### 43 - \\nExtras\\n"
   ]
  },
  {
   "cell_type": "code",
   "execution_count": 416,
   "metadata": {},
   "outputs": [],
   "source": [
    "df.rename(columns={'\\nExtras\\n':'Extras'}, inplace=True)"
   ]
  },
  {
   "cell_type": "code",
   "execution_count": 417,
   "metadata": {},
   "outputs": [
    {
     "ename": "TypeError",
     "evalue": "unhashable type: 'list'",
     "output_type": "error",
     "traceback": [
      "\u001b[0;31m---------------------------------------------------------------------------\u001b[0m",
      "\u001b[0;31mTypeError\u001b[0m                                 Traceback (most recent call last)",
      "\u001b[0;32mpandas/_libs/hashtable_class_helper.pxi\u001b[0m in \u001b[0;36mpandas._libs.hashtable.PyObjectHashTable.map_locations\u001b[0;34m()\u001b[0m\n",
      "\u001b[0;31mTypeError\u001b[0m: unhashable type: 'list'"
     ]
    },
    {
     "name": "stderr",
     "output_type": "stream",
     "text": [
      "Exception ignored in: 'pandas._libs.index.IndexEngine._call_map_locations'\n",
      "Traceback (most recent call last):\n",
      "  File \"pandas/_libs/hashtable_class_helper.pxi\", line 1709, in pandas._libs.hashtable.PyObjectHashTable.map_locations\n",
      "TypeError: unhashable type: 'list'\n"
     ]
    },
    {
     "data": {
      "text/plain": [
       "[Alloy wheels]                                                                                         3245\n",
       "NaN                                                                                                    2962\n",
       "[Alloy wheels, Touch screen]                                                                            697\n",
       "[Alloy wheels, Voice Control]                                                                           577\n",
       "[Alloy wheels, Touch screen, Voice Control]                                                             541\n",
       "                                                                                                       ... \n",
       "[Alloy wheels, Sport suspension, Touch screen, Trailer hitch, Voice Control]                              1\n",
       "[Alloy wheels, Catalytic Converter, Handicapped enabled, Touch screen, Voice Control, Winter tyres]       1\n",
       "[Ski bag, Sport suspension]                                                                               1\n",
       "[Alloy wheels, Sport package, Sport seats, Sport suspension, Tuned car]                                   1\n",
       "[Sport seats, Sport suspension, Voice Control]                                                            1\n",
       "Name: Extras, Length: 660, dtype: int64"
      ]
     },
     "execution_count": 417,
     "metadata": {},
     "output_type": "execute_result"
    }
   ],
   "source": [
    "df.Extras.value_counts(dropna=False)"
   ]
  },
  {
   "cell_type": "code",
   "execution_count": 418,
   "metadata": {},
   "outputs": [],
   "source": [
    "df['dm_extras'] = df.Extras"
   ]
  },
  {
   "cell_type": "code",
   "execution_count": 419,
   "metadata": {},
   "outputs": [],
   "source": [
    "df['dm_extras'] = df['dm_extras'].apply(lambda x: len(x) if x is not np.nan else np.nan)"
   ]
  },
  {
   "cell_type": "code",
   "execution_count": 420,
   "metadata": {},
   "outputs": [
    {
     "data": {
      "text/plain": [
       "array([ 3.,  4.,  2.,  3.,  4.,  4.,  4.,  1.,  1., nan,  2.,  2.,  6.,\n",
       "        3.,  3.,  1.,  3.,  2.,  1.,  4.,  4.,  3.,  5.,  1.,  2.,  2.,\n",
       "        2.,  1.,  1.,  1., nan,  2.,  2.,  1.,  1.,  1., nan,  1.,  3.,\n",
       "        2.,  1.,  1.,  1.,  1., nan,  2.,  1.,  1.,  3.,  3.,  2., nan,\n",
       "        3., nan,  1.,  1., nan,  1.,  3.,  1.,  3.,  3.,  3.,  1., nan,\n",
       "        1.,  2.,  1.,  6.,  3.,  3.,  3.,  4.,  4.,  2.,  4.,  3.,  4.,\n",
       "        5.,  3.,  1.,  4.,  4.,  4.,  1.,  5.,  1.,  2.,  4.,  6.,  2.,\n",
       "        2.,  4.,  3.,  1., nan, nan,  1.,  5.,  2.])"
      ]
     },
     "execution_count": 420,
     "metadata": {},
     "output_type": "execute_result"
    }
   ],
   "source": [
    "df['dm_extras'].values[:100]"
   ]
  },
  {
   "cell_type": "code",
   "execution_count": 421,
   "metadata": {},
   "outputs": [
    {
     "data": {
      "text/plain": [
       "array([list(['Alloy wheels', 'Catalytic Converter', 'Voice Control']),\n",
       "       list(['Alloy wheels', 'Sport seats', 'Sport suspension', 'Voice Control']),\n",
       "       list(['Alloy wheels', 'Voice Control']),\n",
       "       list(['Alloy wheels', 'Sport seats', 'Voice Control']),\n",
       "       list(['Alloy wheels', 'Sport package', 'Sport suspension', 'Voice Control']),\n",
       "       list(['Alloy wheels', 'Sport package', 'Sport seats', 'Sport suspension']),\n",
       "       list(['Alloy wheels', 'Sport package', 'Sport seats', 'Sport suspension']),\n",
       "       list(['Alloy wheels']), list(['Alloy wheels']), nan,\n",
       "       list(['Alloy wheels', 'Shift paddles']),\n",
       "       list(['Alloy wheels', 'Sport seats']),\n",
       "       list(['Alloy wheels', 'Catalytic Converter', 'Sport package', 'Sport seats', 'Sport suspension', 'Voice Control']),\n",
       "       list(['Alloy wheels', 'Sport seats', 'Sport suspension']),\n",
       "       list(['Alloy wheels', 'Sport seats', 'Sport suspension']),\n",
       "       list(['Alloy wheels']),\n",
       "       list(['Alloy wheels', 'Sport package', 'Sport seats']),\n",
       "       list(['Alloy wheels', 'Sport package']), list(['Alloy wheels']),\n",
       "       list(['Alloy wheels', 'Catalytic Converter', 'Shift paddles', 'Voice Control']),\n",
       "       list(['Alloy wheels', 'Shift paddles', 'Sport package', 'Voice Control']),\n",
       "       list(['Alloy wheels', 'Sport seats', 'Voice Control']),\n",
       "       list(['Alloy wheels', 'Catalytic Converter', 'Sport seats', 'Voice Control', 'Winter tyres']),\n",
       "       list(['Alloy wheels']), list(['Alloy wheels', 'Voice Control']),\n",
       "       list(['Alloy wheels', 'Winter tyres']),\n",
       "       list(['Alloy wheels', 'Voice Control']), list(['Alloy wheels']),\n",
       "       list(['Alloy wheels']), list(['Alloy wheels']), nan,\n",
       "       list(['Alloy wheels', 'Catalytic Converter']),\n",
       "       list(['Alloy wheels', 'Catalytic Converter']),\n",
       "       list(['Catalytic Converter']), list(['Alloy wheels']),\n",
       "       list(['Catalytic Converter']), nan, list(['Alloy wheels']),\n",
       "       list(['Alloy wheels', 'Sport seats', 'Sport suspension']),\n",
       "       list(['Alloy wheels', 'Sport suspension']),\n",
       "       list(['Catalytic Converter']), list(['Alloy wheels']),\n",
       "       list(['Alloy wheels']), list(['Alloy wheels']), nan,\n",
       "       list(['Alloy wheels', 'Voice Control']), list(['Alloy wheels']),\n",
       "       list(['Alloy wheels']),\n",
       "       list(['Alloy wheels', 'Sport seats', 'Sport suspension']),\n",
       "       list(['Catalytic Converter', 'Sport suspension', 'Voice Control']),\n",
       "       list(['Alloy wheels', 'Sport seats']), nan,\n",
       "       list(['Alloy wheels', 'Sport seats', 'Sport suspension']), nan,\n",
       "       list(['Catalytic Converter']), list(['Alloy wheels']), nan,\n",
       "       list(['Alloy wheels']),\n",
       "       list(['Alloy wheels', 'Sport seats', 'Sport suspension']),\n",
       "       list(['Alloy wheels']),\n",
       "       list(['Alloy wheels', 'Touch screen', 'Voice Control']),\n",
       "       list(['Alloy wheels', 'Catalytic Converter', 'Voice Control']),\n",
       "       list(['Catalytic Converter', 'Voice Control', 'Winter tyres']),\n",
       "       list(['Alloy wheels']), nan, list(['Alloy wheels']),\n",
       "       list(['Alloy wheels', 'Sport seats']), list(['Alloy wheels']),\n",
       "       list(['Alloy wheels', 'Shift paddles', 'Sport package', 'Sport seats', 'Sport suspension', 'Voice Control']),\n",
       "       list(['Alloy wheels', 'Sport seats', 'Voice Control']),\n",
       "       list(['Alloy wheels', 'Sport seats', 'Sport suspension']),\n",
       "       list(['Alloy wheels', 'Sport seats', 'Sport suspension']),\n",
       "       list(['Alloy wheels', 'Sport seats', 'Sport suspension', 'Voice Control']),\n",
       "       list(['Alloy wheels', 'Catalytic Converter', 'Sport seats', 'Voice Control']),\n",
       "       list(['Alloy wheels', 'Sport seats']),\n",
       "       list(['Alloy wheels', 'Sport package', 'Sport seats', 'Voice Control']),\n",
       "       list(['Alloy wheels', 'Sport seats', 'Voice Control']),\n",
       "       list(['Alloy wheels', 'Sport seats', 'Sport suspension', 'Voice Control']),\n",
       "       list(['Alloy wheels', 'Catalytic Converter', 'Sport package', 'Sport seats', 'Voice Control']),\n",
       "       list(['Alloy wheels', 'Sport seats', 'Sport suspension']),\n",
       "       list(['Alloy wheels']),\n",
       "       list(['Alloy wheels', 'Catalytic Converter', 'Shift paddles', 'Voice Control']),\n",
       "       list(['Alloy wheels', 'Catalytic Converter', 'Sport seats', 'Sport suspension']),\n",
       "       list(['Alloy wheels', 'Shift paddles', 'Sport suspension', 'Voice Control']),\n",
       "       list(['Alloy wheels']),\n",
       "       list(['Alloy wheels', 'Catalytic Converter', 'Sport package', 'Sport seats', 'Sport suspension']),\n",
       "       list(['Alloy wheels']), list(['Alloy wheels', 'Sport seats']),\n",
       "       list(['Alloy wheels', 'Catalytic Converter', 'Sport seats', 'Sport suspension']),\n",
       "       list(['Alloy wheels', 'Catalytic Converter', 'Sport package', 'Sport seats', 'Sport suspension', 'Voice Control']),\n",
       "       list(['Alloy wheels', 'Voice Control']),\n",
       "       list(['Alloy wheels', 'Sport seats']),\n",
       "       list(['Alloy wheels', 'Catalytic Converter', 'Sport package', 'Sport seats']),\n",
       "       list(['Alloy wheels', 'Sport package', 'Sport seats']),\n",
       "       list(['Alloy wheels']), nan, nan, list(['Alloy wheels']),\n",
       "       list(['Alloy wheels', 'Catalytic Converter', 'Handicapped enabled', 'Shift paddles', 'Voice Control']),\n",
       "       list(['Sport seats', 'Sport suspension'])], dtype=object)"
      ]
     },
     "execution_count": 421,
     "metadata": {},
     "output_type": "execute_result"
    }
   ],
   "source": [
    "df.Extras.values[:100]"
   ]
  },
  {
   "cell_type": "code",
   "execution_count": 422,
   "metadata": {},
   "outputs": [
    {
     "data": {
      "text/plain": [
       "1.0     4214\n",
       "2.0     3238\n",
       "NaN     2962\n",
       "3.0     2681\n",
       "4.0     1405\n",
       "5.0      743\n",
       "6.0      410\n",
       "7.0      175\n",
       "8.0       60\n",
       "9.0       24\n",
       "10.0       7\n",
       "Name: dm_extras, dtype: int64"
      ]
     },
     "execution_count": 422,
     "metadata": {},
     "output_type": "execute_result"
    }
   ],
   "source": [
    "df['dm_extras'].value_counts(dropna=False)"
   ]
  },
  {
   "cell_type": "code",
   "execution_count": 423,
   "metadata": {},
   "outputs": [],
   "source": [
    "lst1 = df.make_model.unique()\n",
    "lst2 = df.dm_comfort.unique()\n",
    "lst3 = df.dm_entertainment.unique()\n",
    "for i in lst1:\n",
    "    for j in lst2:\n",
    "        for k in lst3:\n",
    "            cond = (df.make_model == i) & (df.dm_comfort == j) & (df.dm_entertainment == k)\n",
    "            df.loc[cond, 'dm_extras'] = df.loc[cond, 'dm_extras'].fillna(method='ffill').fillna(method='bfill')\n",
    "df.dm_extras = df.dm_extras.fillna(method='ffill').fillna(method='bfill')"
   ]
  },
  {
   "cell_type": "code",
   "execution_count": 424,
   "metadata": {},
   "outputs": [
    {
     "data": {
      "text/plain": [
       "1.0     6161\n",
       "2.0     3789\n",
       "3.0     2966\n",
       "4.0     1521\n",
       "5.0      772\n",
       "6.0      436\n",
       "7.0      181\n",
       "8.0       61\n",
       "9.0       24\n",
       "10.0       8\n",
       "Name: dm_extras, dtype: int64"
      ]
     },
     "execution_count": 424,
     "metadata": {},
     "output_type": "execute_result"
    }
   ],
   "source": [
    "df['dm_extras'].value_counts(dropna=False)"
   ]
  },
  {
   "cell_type": "markdown",
   "metadata": {},
   "source": [
    "<div class=\"alert alert-block alert-success\">\n",
    "<p>Ready for the analysis.</p></div>"
   ]
  },
  {
   "cell_type": "markdown",
   "metadata": {},
   "source": [
    "### 44 - \\nSafety & Security\\n"
   ]
  },
  {
   "cell_type": "code",
   "execution_count": 425,
   "metadata": {},
   "outputs": [],
   "source": [
    "df.rename(columns={'\\nSafety & Security\\n':'Safety'}, inplace=True)"
   ]
  },
  {
   "cell_type": "code",
   "execution_count": 426,
   "metadata": {},
   "outputs": [],
   "source": [
    "df['dm_safety'] = df.Safety"
   ]
  },
  {
   "cell_type": "code",
   "execution_count": 427,
   "metadata": {},
   "outputs": [
    {
     "ename": "TypeError",
     "evalue": "unhashable type: 'list'",
     "output_type": "error",
     "traceback": [
      "\u001b[0;31m---------------------------------------------------------------------------\u001b[0m",
      "\u001b[0;31mTypeError\u001b[0m                                 Traceback (most recent call last)",
      "\u001b[0;32mpandas/_libs/hashtable_class_helper.pxi\u001b[0m in \u001b[0;36mpandas._libs.hashtable.PyObjectHashTable.map_locations\u001b[0;34m()\u001b[0m\n",
      "\u001b[0;31mTypeError\u001b[0m: unhashable type: 'list'"
     ]
    },
    {
     "name": "stderr",
     "output_type": "stream",
     "text": [
      "Exception ignored in: 'pandas._libs.index.IndexEngine._call_map_locations'\n",
      "Traceback (most recent call last):\n",
      "  File \"pandas/_libs/hashtable_class_helper.pxi\", line 1709, in pandas._libs.hashtable.PyObjectHashTable.map_locations\n",
      "TypeError: unhashable type: 'list'\n"
     ]
    },
    {
     "data": {
      "text/plain": [
       "NaN                                                                                                                                                                                                                                                                                                                                                                                        982\n",
       "[ABS, Central door lock, Daytime running lights, Driver-side airbag, Electronic stability control, Fog lights, Immobilizer, Isofix, Passenger-side airbag, Power steering, Side airbag, Tire pressure monitoring system, Traction control]                                                                                                                                                 538\n",
       "[ABS, Central door lock, Daytime running lights, Driver-side airbag, Electronic stability control, Immobilizer, Isofix, Passenger-side airbag, Power steering, Side airbag, Tire pressure monitoring system, Traction control]                                                                                                                                                             480\n",
       "[ABS, Central door lock, Daytime running lights, Driver-side airbag, Electronic stability control, Immobilizer, Isofix, Passenger-side airbag, Power steering, Side airbag, Tire pressure monitoring system, Traction control, Xenon headlights]                                                                                                                                           275\n",
       "[ABS, Central door lock, Daytime running lights, Driver-side airbag, Electronic stability control, Fog lights, Immobilizer, Isofix, LED Daytime Running Lights, Passenger-side airbag, Power steering, Side airbag, Tire pressure monitoring system, Traction control]                                                                                                                     272\n",
       "                                                                                                                                                                                                                                                                                                                                                                                          ... \n",
       "[ABS, Adaptive Cruise Control, Central door lock, Driver-side airbag, Electronic stability control, Emergency brake assistant, Isofix, Lane departure warning system, Passenger-side airbag, Side airbag, Tire pressure monitoring system, Traction control]                                                                                                                                 1\n",
       "[ABS, Adaptive headlights, Central door lock, Daytime running lights, Driver-side airbag, Electronic stability control, Emergency brake assistant, Fog lights, Immobilizer, Isofix, Lane departure warning system, LED Daytime Running Lights, LED Headlights, Passenger-side airbag, Power steering, Side airbag, Tire pressure monitoring system]                                          1\n",
       "[ABS, Alarm system, Central door lock, Driver drowsiness detection, Driver-side airbag, Electronic stability control, Isofix, LED Daytime Running Lights, Passenger-side airbag, Power steering, Side airbag, Tire pressure monitoring system, Traction control, Xenon headlights]                                                                                                           1\n",
       "[ABS, Central door lock, Central door lock with remote control, Daytime running lights, Driver-side airbag, Electronic stability control, Emergency brake assistant, Emergency system, Fog lights, Head airbag, Immobilizer, Isofix, Lane departure warning system, Passenger-side airbag, Power steering, Rear airbag, Side airbag, Tire pressure monitoring system, Traction control]      1\n",
       "[ABS, Central door lock with remote control, Daytime running lights, Driver drowsiness detection, Driver-side airbag, Electronic stability control, Emergency brake assistant, Emergency system, Head airbag, Immobilizer, Isofix, LED Daytime Running Lights, Passenger-side airbag, Power steering, Side airbag, Tire pressure monitoring system, Traction control]                        1\n",
       "Name: dm_safety, Length: 4444, dtype: int64"
      ]
     },
     "execution_count": 427,
     "metadata": {},
     "output_type": "execute_result"
    }
   ],
   "source": [
    "df['dm_safety'].value_counts(dropna=False)"
   ]
  },
  {
   "cell_type": "code",
   "execution_count": 428,
   "metadata": {},
   "outputs": [],
   "source": [
    "df['dm_safety'] = df['dm_safety'].apply(lambda x: len(x) if x is not np.nan else np.nan)"
   ]
  },
  {
   "cell_type": "code",
   "execution_count": 429,
   "metadata": {},
   "outputs": [
    {
     "data": {
      "text/plain": [
       "array([14., 15., 12., 14., 13., 14., 13., 12.,  9., nan, 13., 13., 14.,\n",
       "       13., 14., 12.,  8., 12., 12., 12., 20., 16., 16.,  9., 17., 14.,\n",
       "       13., 14.,  5., 11., nan, 13., 12., 14., 13., 12., 12., 13., 13.,\n",
       "        9., 12., 13., 13.,  9., 12., 12., 10., 13., 11., 13., 10., 12.,\n",
       "       14., nan, 12., 10., 11., 12., 14., 13., 17., 14., 12., 14., 12.,\n",
       "       11.,  9.,  6., 15.,  9., 11., 13., 15., 15., 12., 15., 11., 14.,\n",
       "       13., 13.,  9., 12., 11., 15., 13., 15., 11., 10., 14., 13., 13.,\n",
       "       10., 11., 14., 11.,  7., 13., 12., 14., 13.])"
      ]
     },
     "execution_count": 429,
     "metadata": {},
     "output_type": "execute_result"
    }
   ],
   "source": [
    "df['dm_safety'].values[:100]"
   ]
  },
  {
   "cell_type": "code",
   "execution_count": 430,
   "metadata": {},
   "outputs": [
    {
     "data": {
      "text/plain": [
       "13.0    2154\n",
       "12.0    1732\n",
       "14.0    1492\n",
       "11.0    1375\n",
       "10.0    1046\n",
       "15.0     987\n",
       "NaN      982\n",
       "16.0     846\n",
       "9.0      837\n",
       "17.0     573\n",
       "8.0      573\n",
       "18.0     530\n",
       "19.0     513\n",
       "7.0      469\n",
       "20.0     414\n",
       "6.0      318\n",
       "21.0     240\n",
       "5.0      212\n",
       "22.0     118\n",
       "4.0      110\n",
       "3.0      102\n",
       "2.0       86\n",
       "1.0       80\n",
       "23.0      46\n",
       "24.0      38\n",
       "25.0      16\n",
       "28.0      10\n",
       "26.0      10\n",
       "27.0       9\n",
       "29.0       1\n",
       "Name: dm_safety, dtype: int64"
      ]
     },
     "execution_count": 430,
     "metadata": {},
     "output_type": "execute_result"
    }
   ],
   "source": [
    "df['dm_safety'].value_counts(dropna=False)"
   ]
  },
  {
   "cell_type": "code",
   "execution_count": 431,
   "metadata": {},
   "outputs": [],
   "source": [
    "lst1 = df.make_model.unique()\n",
    "lst2 = df.dm_comfort.unique()\n",
    "lst3 = df.dm_entertainment.unique()\n",
    "for i in lst1:\n",
    "    for j in lst2:\n",
    "        for k in lst3:\n",
    "            cond = (df.make_model == i) & (df.dm_comfort == j) & (df.dm_entertainment == k)\n",
    "            df.loc[cond, 'dm_safety'] = df.loc[cond, 'dm_safety'].fillna(method='ffill').fillna(method='bfill')\n",
    "df.dm_safety = df.dm_safety.fillna(method='ffill').fillna(method='bfill')"
   ]
  },
  {
   "cell_type": "code",
   "execution_count": 432,
   "metadata": {},
   "outputs": [
    {
     "data": {
      "text/plain": [
       "13.0    2260\n",
       "12.0    1832\n",
       "14.0    1555\n",
       "11.0    1495\n",
       "10.0    1155\n",
       "15.0    1034\n",
       "9.0      918\n",
       "16.0     900\n",
       "8.0      619\n",
       "17.0     593\n",
       "18.0     556\n",
       "19.0     535\n",
       "7.0      513\n",
       "20.0     436\n",
       "6.0      349\n",
       "21.0     267\n",
       "5.0      234\n",
       "22.0     120\n",
       "4.0      117\n",
       "3.0      107\n",
       "1.0       96\n",
       "2.0       95\n",
       "23.0      47\n",
       "24.0      39\n",
       "25.0      16\n",
       "28.0      10\n",
       "26.0      10\n",
       "27.0      10\n",
       "29.0       1\n",
       "Name: dm_safety, dtype: int64"
      ]
     },
     "execution_count": 432,
     "metadata": {},
     "output_type": "execute_result"
    }
   ],
   "source": [
    "df['dm_safety'].value_counts(dropna=False)"
   ]
  },
  {
   "cell_type": "markdown",
   "metadata": {},
   "source": [
    "<div class=\"alert alert-block alert-success\">\n",
    "<p>Ready for the model.</p></div>"
   ]
  },
  {
   "cell_type": "markdown",
   "metadata": {},
   "source": [
    "### 45 - description"
   ]
  },
  {
   "cell_type": "code",
   "execution_count": 433,
   "metadata": {},
   "outputs": [],
   "source": [
    "# df.description.value_counts(dropna=False)"
   ]
  },
  {
   "cell_type": "markdown",
   "metadata": {},
   "source": [
    "<div class=\"alert alert-block alert-danger\">\n",
    "<p>Useless column. It shouldn't be included in the analysis.</p></div>"
   ]
  },
  {
   "cell_type": "markdown",
   "metadata": {},
   "source": [
    "### 46 - Emission Label"
   ]
  },
  {
   "cell_type": "code",
   "execution_count": 434,
   "metadata": {},
   "outputs": [
    {
     "ename": "TypeError",
     "evalue": "unhashable type: 'list'",
     "output_type": "error",
     "traceback": [
      "\u001b[0;31m---------------------------------------------------------------------------\u001b[0m",
      "\u001b[0;31mTypeError\u001b[0m                                 Traceback (most recent call last)",
      "\u001b[0;32mpandas/_libs/hashtable_class_helper.pxi\u001b[0m in \u001b[0;36mpandas._libs.hashtable.PyObjectHashTable.map_locations\u001b[0;34m()\u001b[0m\n",
      "\u001b[0;31mTypeError\u001b[0m: unhashable type: 'list'"
     ]
    },
    {
     "name": "stderr",
     "output_type": "stream",
     "text": [
      "Exception ignored in: 'pandas._libs.index.IndexEngine._call_map_locations'\n",
      "Traceback (most recent call last):\n",
      "  File \"pandas/_libs/hashtable_class_helper.pxi\", line 1709, in pandas._libs.hashtable.PyObjectHashTable.map_locations\n",
      "TypeError: unhashable type: 'list'\n"
     ]
    },
    {
     "data": {
      "text/plain": [
       "NaN                     11934\n",
       "[\\n4 (Green)\\n]          3553\n",
       "[\\n1 (No sticker)\\n]      381\n",
       "[[], [], []]               40\n",
       "[\\n5 (Blue)\\n]              8\n",
       "[\\n3 (Yellow)\\n]            2\n",
       "[\\n2 (Red)\\n]               1\n",
       "Name: Emission Label, dtype: int64"
      ]
     },
     "execution_count": 434,
     "metadata": {},
     "output_type": "execute_result"
    }
   ],
   "source": [
    "df['Emission Label'].value_counts(dropna=False)"
   ]
  },
  {
   "cell_type": "code",
   "execution_count": 435,
   "metadata": {},
   "outputs": [],
   "source": [
    "df['dm_em_label'] = df['Emission Label']"
   ]
  },
  {
   "cell_type": "code",
   "execution_count": 436,
   "metadata": {},
   "outputs": [],
   "source": [
    "def convert(x):\n",
    "    if x is not np.nan:\n",
    "        x = str(x)\n",
    "        y = re.findall('\\(([A-Za-z\\s]+)', x)\n",
    "        if y != []:\n",
    "            return y[0]\n",
    "        else:\n",
    "            return np.nan"
   ]
  },
  {
   "cell_type": "code",
   "execution_count": 437,
   "metadata": {},
   "outputs": [],
   "source": [
    "df.dm_em_label = df.dm_em_label.apply(convert)"
   ]
  },
  {
   "cell_type": "code",
   "execution_count": 438,
   "metadata": {},
   "outputs": [
    {
     "data": {
      "text/plain": [
       "NaN           11974\n",
       "Green          3553\n",
       "No sticker      381\n",
       "Blue              8\n",
       "Yellow            2\n",
       "Red               1\n",
       "Name: dm_em_label, dtype: int64"
      ]
     },
     "execution_count": 438,
     "metadata": {},
     "output_type": "execute_result"
    }
   ],
   "source": [
    "df['dm_em_label'].value_counts(dropna=False)"
   ]
  },
  {
   "cell_type": "markdown",
   "metadata": {},
   "source": [
    "<div class=\"alert alert-block alert-info\">\n",
    "<p>Too many null values. I have to think about how to fill in the missing values.</p></div>"
   ]
  },
  {
   "cell_type": "markdown",
   "metadata": {},
   "source": [
    "### 47 - Gears"
   ]
  },
  {
   "cell_type": "code",
   "execution_count": 439,
   "metadata": {},
   "outputs": [
    {
     "ename": "TypeError",
     "evalue": "unhashable type: 'list'",
     "output_type": "error",
     "traceback": [
      "\u001b[0;31m---------------------------------------------------------------------------\u001b[0m",
      "\u001b[0;31mTypeError\u001b[0m                                 Traceback (most recent call last)",
      "\u001b[0;32mpandas/_libs/hashtable_class_helper.pxi\u001b[0m in \u001b[0;36mpandas._libs.hashtable.PyObjectHashTable.map_locations\u001b[0;34m()\u001b[0m\n",
      "\u001b[0;31mTypeError\u001b[0m: unhashable type: 'list'"
     ]
    },
    {
     "name": "stderr",
     "output_type": "stream",
     "text": [
      "Exception ignored in: 'pandas._libs.index.IndexEngine._call_map_locations'\n",
      "Traceback (most recent call last):\n",
      "  File \"pandas/_libs/hashtable_class_helper.pxi\", line 1709, in pandas._libs.hashtable.PyObjectHashTable.map_locations\n",
      "TypeError: unhashable type: 'list'\n"
     ]
    },
    {
     "data": {
      "text/plain": [
       "[\\n6\\n]     5822\n",
       "NaN         4712\n",
       "[\\n5\\n]     3239\n",
       "[\\n7\\n]     1908\n",
       "[\\n8\\n]      224\n",
       "[\\n9\\n]        6\n",
       "[\\n4\\n]        2\n",
       "[\\n3\\n]        2\n",
       "[\\n1\\n]        2\n",
       "[\\n50\\n]       1\n",
       "[\\n2\\n]        1\n",
       "Name: Gears, dtype: int64"
      ]
     },
     "execution_count": 439,
     "metadata": {},
     "output_type": "execute_result"
    }
   ],
   "source": [
    "df.Gears.value_counts(dropna=False)"
   ]
  },
  {
   "cell_type": "code",
   "execution_count": 440,
   "metadata": {},
   "outputs": [],
   "source": [
    "df['dm_gears'] = df.Gears"
   ]
  },
  {
   "cell_type": "code",
   "execution_count": 441,
   "metadata": {},
   "outputs": [],
   "source": [
    "def convert(x):\n",
    "    if x is not np.nan:\n",
    "        x = str(x)\n",
    "        y = re.findall('([0-9]+)', x)\n",
    "        return float(y[0])"
   ]
  },
  {
   "cell_type": "code",
   "execution_count": 442,
   "metadata": {},
   "outputs": [],
   "source": [
    "df.dm_gears = df.dm_gears.apply(convert)"
   ]
  },
  {
   "cell_type": "code",
   "execution_count": 443,
   "metadata": {},
   "outputs": [
    {
     "data": {
      "text/plain": [
       "6.0     5822\n",
       "NaN     4712\n",
       "5.0     3239\n",
       "7.0     1908\n",
       "8.0      224\n",
       "9.0        6\n",
       "4.0        2\n",
       "3.0        2\n",
       "1.0        2\n",
       "50.0       1\n",
       "2.0        1\n",
       "Name: dm_gears, dtype: int64"
      ]
     },
     "execution_count": 443,
     "metadata": {},
     "output_type": "execute_result"
    }
   ],
   "source": [
    "df.dm_gears.value_counts(dropna=False)"
   ]
  },
  {
   "cell_type": "code",
   "execution_count": 444,
   "metadata": {},
   "outputs": [],
   "source": [
    "df.dm_gears.replace({9:np.nan,4:np.nan,3:np.nan,1:np.nan,50:5,2:np.nan}, inplace=True)"
   ]
  },
  {
   "cell_type": "code",
   "execution_count": 445,
   "metadata": {},
   "outputs": [
    {
     "data": {
      "text/plain": [
       "6.0    5822\n",
       "NaN    4725\n",
       "5.0    3240\n",
       "7.0    1908\n",
       "8.0     224\n",
       "Name: dm_gears, dtype: int64"
      ]
     },
     "execution_count": 445,
     "metadata": {},
     "output_type": "execute_result"
    }
   ],
   "source": [
    "df.dm_gears.value_counts(dropna=False)"
   ]
  },
  {
   "cell_type": "code",
   "execution_count": 446,
   "metadata": {},
   "outputs": [],
   "source": [
    "lst1 = df.make_model.unique()\n",
    "lst2 = df.body_type.unique()\n",
    "for i in lst1:\n",
    "    for j in lst2:\n",
    "        cond = (df.make_model == i) & (df.body_type == j)\n",
    "        df.loc[cond, 'dm_gears'] = df.loc[cond, \n",
    "                                'dm_gears'].fillna(method='ffill').fillna(method='bfill')\n",
    "df.dm_gears = df.dm_gears.fillna(method='ffill').fillna(method='bfill')"
   ]
  },
  {
   "cell_type": "code",
   "execution_count": 447,
   "metadata": {},
   "outputs": [
    {
     "data": {
      "text/plain": [
       "6.0    8373\n",
       "5.0    4401\n",
       "7.0    2856\n",
       "8.0     289\n",
       "Name: dm_gears, dtype: int64"
      ]
     },
     "execution_count": 447,
     "metadata": {},
     "output_type": "execute_result"
    }
   ],
   "source": [
    "df.dm_gears.value_counts(dropna=False)"
   ]
  },
  {
   "cell_type": "markdown",
   "metadata": {},
   "source": [
    "<div class=\"alert alert-block alert-success\">\n",
    "<p>Ready for the analysis.</p></div>"
   ]
  },
  {
   "cell_type": "markdown",
   "metadata": {},
   "source": [
    "### 48 - Country version"
   ]
  },
  {
   "cell_type": "code",
   "execution_count": 448,
   "metadata": {},
   "outputs": [
    {
     "ename": "TypeError",
     "evalue": "unhashable type: 'list'",
     "output_type": "error",
     "traceback": [
      "\u001b[0;31m---------------------------------------------------------------------------\u001b[0m",
      "\u001b[0;31mTypeError\u001b[0m                                 Traceback (most recent call last)",
      "\u001b[0;32mpandas/_libs/hashtable_class_helper.pxi\u001b[0m in \u001b[0;36mpandas._libs.hashtable.PyObjectHashTable.map_locations\u001b[0;34m()\u001b[0m\n",
      "\u001b[0;31mTypeError\u001b[0m: unhashable type: 'list'"
     ]
    },
    {
     "name": "stderr",
     "output_type": "stream",
     "text": [
      "Exception ignored in: 'pandas._libs.index.IndexEngine._call_map_locations'\n",
      "Traceback (most recent call last):\n",
      "  File \"pandas/_libs/hashtable_class_helper.pxi\", line 1709, in pandas._libs.hashtable.PyObjectHashTable.map_locations\n",
      "TypeError: unhashable type: 'list'\n"
     ]
    },
    {
     "data": {
      "text/plain": [
       "NaN                     8333\n",
       "[\\nGermany\\n]           4502\n",
       "[\\nItaly\\n]             1038\n",
       "[\\nEuropean Union\\n]     507\n",
       "[\\nNetherlands\\n]        464\n",
       "[\\nSpain\\n]              325\n",
       "[\\nBelgium\\n]            314\n",
       "[\\nAustria\\n]            208\n",
       "[\\nCzech Republic\\n]      52\n",
       "[\\nPoland\\n]              49\n",
       "[\\nFrance\\n]              38\n",
       "[\\nDenmark\\n]             33\n",
       "[\\nHungary\\n]             28\n",
       "[\\nJapan\\n]                8\n",
       "[\\nSlovakia\\n]             4\n",
       "[\\nCroatia\\n]              4\n",
       "[\\nSweden\\n]               3\n",
       "[\\nRomania\\n]              2\n",
       "[\\nBulgaria\\n]             2\n",
       "[\\nSerbia\\n]               1\n",
       "[\\nLuxembourg\\n]           1\n",
       "[\\nSwitzerland\\n]          1\n",
       "[\\nSlovenia\\n]             1\n",
       "[\\nEgypt\\n]                1\n",
       "Name: Country version, dtype: int64"
      ]
     },
     "execution_count": 448,
     "metadata": {},
     "output_type": "execute_result"
    }
   ],
   "source": [
    "df['Country version'].value_counts(dropna=False)"
   ]
  },
  {
   "cell_type": "code",
   "execution_count": 449,
   "metadata": {},
   "outputs": [],
   "source": [
    "df['dm_country'] = df['Country version']"
   ]
  },
  {
   "cell_type": "code",
   "execution_count": 450,
   "metadata": {},
   "outputs": [],
   "source": [
    "def convert(x):\n",
    "    if x is not np.nan:\n",
    "        x = str(x)\n",
    "        y = re.findall('n([A-Za-z]+)', x)\n",
    "        return y[0]"
   ]
  },
  {
   "cell_type": "code",
   "execution_count": 451,
   "metadata": {},
   "outputs": [],
   "source": [
    "df.dm_country = df.dm_country.apply(convert)"
   ]
  },
  {
   "cell_type": "code",
   "execution_count": 452,
   "metadata": {},
   "outputs": [
    {
     "data": {
      "text/plain": [
       "NaN            8333\n",
       "Germany        4502\n",
       "Italy          1038\n",
       "European        507\n",
       "Netherlands     464\n",
       "Spain           325\n",
       "Belgium         314\n",
       "Austria         208\n",
       "Czech            52\n",
       "Poland           49\n",
       "France           38\n",
       "Denmark          33\n",
       "Hungary          28\n",
       "Japan             8\n",
       "Croatia           4\n",
       "Slovakia          4\n",
       "Sweden            3\n",
       "Bulgaria          2\n",
       "Romania           2\n",
       "Serbia            1\n",
       "Egypt             1\n",
       "Switzerland       1\n",
       "Luxembourg        1\n",
       "Slovenia          1\n",
       "Name: dm_country, dtype: int64"
      ]
     },
     "execution_count": 452,
     "metadata": {},
     "output_type": "execute_result"
    }
   ],
   "source": [
    "df.dm_country.value_counts(dropna=False)"
   ]
  },
  {
   "cell_type": "markdown",
   "metadata": {},
   "source": [
    "<div class=\"alert alert-block alert-info\">\n",
    "<p>Consider how to fill in the missing values.</p></div>"
   ]
  },
  {
   "cell_type": "markdown",
   "metadata": {},
   "source": [
    "### 49 - Electricity consumption"
   ]
  },
  {
   "cell_type": "code",
   "execution_count": 453,
   "metadata": {},
   "outputs": [
    {
     "ename": "TypeError",
     "evalue": "unhashable type: 'list'",
     "output_type": "error",
     "traceback": [
      "\u001b[0;31m---------------------------------------------------------------------------\u001b[0m",
      "\u001b[0;31mTypeError\u001b[0m                                 Traceback (most recent call last)",
      "\u001b[0;32mpandas/_libs/hashtable_class_helper.pxi\u001b[0m in \u001b[0;36mpandas._libs.hashtable.PyObjectHashTable.map_locations\u001b[0;34m()\u001b[0m\n",
      "\u001b[0;31mTypeError\u001b[0m: unhashable type: 'list'"
     ]
    },
    {
     "name": "stderr",
     "output_type": "stream",
     "text": [
      "Exception ignored in: 'pandas._libs.index.IndexEngine._call_map_locations'\n",
      "Traceback (most recent call last):\n",
      "  File \"pandas/_libs/hashtable_class_helper.pxi\", line 1709, in pandas._libs.hashtable.PyObjectHashTable.map_locations\n",
      "TypeError: unhashable type: 'list'\n"
     ]
    },
    {
     "data": {
      "text/plain": [
       "NaN                          15782\n",
       "[\\n0 kWh/100 km (comb)\\n]      137\n",
       "Name: Electricity consumption, dtype: int64"
      ]
     },
     "execution_count": 453,
     "metadata": {},
     "output_type": "execute_result"
    }
   ],
   "source": [
    "df['Electricity consumption'].value_counts(dropna=False)"
   ]
  },
  {
   "cell_type": "markdown",
   "metadata": {},
   "source": [
    "<div class=\"alert alert-block alert-danger\">\n",
    "<p>Useless column. It shouldn't be included in the analysis.</p></div>"
   ]
  },
  {
   "cell_type": "markdown",
   "metadata": {},
   "source": [
    "### 50 - Last Service Date"
   ]
  },
  {
   "cell_type": "code",
   "execution_count": 454,
   "metadata": {},
   "outputs": [
    {
     "ename": "TypeError",
     "evalue": "unhashable type: 'list'",
     "output_type": "error",
     "traceback": [
      "\u001b[0;31m---------------------------------------------------------------------------\u001b[0m",
      "\u001b[0;31mTypeError\u001b[0m                                 Traceback (most recent call last)",
      "\u001b[0;32mpandas/_libs/hashtable_class_helper.pxi\u001b[0m in \u001b[0;36mpandas._libs.hashtable.PyObjectHashTable.map_locations\u001b[0;34m()\u001b[0m\n",
      "\u001b[0;31mTypeError\u001b[0m: unhashable type: 'list'"
     ]
    },
    {
     "name": "stderr",
     "output_type": "stream",
     "text": [
      "Exception ignored in: 'pandas._libs.index.IndexEngine._call_map_locations'\n",
      "Traceback (most recent call last):\n",
      "  File \"pandas/_libs/hashtable_class_helper.pxi\", line 1709, in pandas._libs.hashtable.PyObjectHashTable.map_locations\n",
      "TypeError: unhashable type: 'list'\n"
     ]
    },
    {
     "data": {
      "text/plain": [
       "NaN                                       15353\n",
       "[\\n02/2019\\n, \\nEuro 6\\n]                    23\n",
       "[\\n05/2019\\n, \\nEuro 6\\n]                    16\n",
       "[\\n01/2018\\n, \\n118 g CO2/km (comb)\\n]       15\n",
       "[\\n03/2019\\n, \\nEuro 6\\n]                    15\n",
       "                                          ...  \n",
       "[\\n03/2019\\n, \\n129 g CO2/km (comb)\\n]        1\n",
       "\\n05/2018\\n                                   1\n",
       "[\\n04/2018\\n, \\n110 g CO2/km (comb)\\n]        1\n",
       "[\\n04/2018\\n, \\n123 g CO2/km (comb)\\n]        1\n",
       "[\\n05/2019\\n, \\n93 g CO2/km (comb)\\n]         1\n",
       "Name: Last Service Date, Length: 267, dtype: int64"
      ]
     },
     "execution_count": 454,
     "metadata": {},
     "output_type": "execute_result"
    }
   ],
   "source": [
    "df['Last Service Date'].value_counts(dropna=False)"
   ]
  },
  {
   "cell_type": "code",
   "execution_count": 455,
   "metadata": {},
   "outputs": [],
   "source": [
    "df['dm_service_date'] = df['Last Service Date']"
   ]
  },
  {
   "cell_type": "code",
   "execution_count": 456,
   "metadata": {},
   "outputs": [],
   "source": [
    "def convert(x):\n",
    "    if x is not np.nan:\n",
    "        x = str(x)\n",
    "        y = re.findall('([0-9]+)/([0-9]+)', x)\n",
    "        return y[0]"
   ]
  },
  {
   "cell_type": "code",
   "execution_count": 457,
   "metadata": {},
   "outputs": [],
   "source": [
    "df['dm_service_date'] = df['dm_service_date'].apply(convert)"
   ]
  },
  {
   "cell_type": "code",
   "execution_count": 458,
   "metadata": {},
   "outputs": [
    {
     "data": {
      "text/plain": [
       "NaN           15353\n",
       "(05, 2019)       61\n",
       "(02, 2019)       55\n",
       "(01, 2019)       51\n",
       "(06, 2019)       49\n",
       "(04, 2019)       48\n",
       "(03, 2019)       47\n",
       "(12, 2018)       32\n",
       "(10, 2018)       24\n",
       "(05, 2018)       21\n",
       "(06, 2018)       21\n",
       "(07, 2018)       21\n",
       "(01, 2018)       20\n",
       "(11, 2018)       17\n",
       "(09, 2018)       17\n",
       "(04, 2018)       16\n",
       "(08, 2018)       13\n",
       "(03, 2018)        9\n",
       "(06, 2017)        7\n",
       "(02, 2018)        5\n",
       "(02, 2017)        3\n",
       "(01, 2017)        3\n",
       "(05, 2017)        3\n",
       "(10, 2017)        3\n",
       "(12, 2017)        3\n",
       "(11, 2017)        2\n",
       "(04, 2016)        2\n",
       "(07, 2017)        2\n",
       "(06, 2016)        2\n",
       "(07, 2019)        1\n",
       "(09, 2017)        1\n",
       "(10, 2019)        1\n",
       "(05, 2016)        1\n",
       "(11, 2019)        1\n",
       "(09, 2019)        1\n",
       "(04, 2017)        1\n",
       "(08, 2019)        1\n",
       "(03, 2016)        1\n",
       "Name: dm_service_date, dtype: int64"
      ]
     },
     "execution_count": 458,
     "metadata": {},
     "output_type": "execute_result"
    }
   ],
   "source": [
    "df['dm_service_date'].value_counts(dropna=False)"
   ]
  },
  {
   "cell_type": "code",
   "execution_count": 459,
   "metadata": {},
   "outputs": [
    {
     "data": {
      "text/plain": [
       "0.9644450028268108"
      ]
     },
     "execution_count": 459,
     "metadata": {},
     "output_type": "execute_result"
    }
   ],
   "source": [
    "df['dm_service_date'].isnull().sum() / len(df)"
   ]
  },
  {
   "cell_type": "markdown",
   "metadata": {},
   "source": [
    "<div class=\"alert alert-block alert-danger\">\n",
    "<p>Useless column. It shouldn't be included in the analysis.</p></div>"
   ]
  },
  {
   "cell_type": "markdown",
   "metadata": {},
   "source": [
    "### 51 - Other Fuel Types"
   ]
  },
  {
   "cell_type": "code",
   "execution_count": 460,
   "metadata": {},
   "outputs": [
    {
     "ename": "TypeError",
     "evalue": "unhashable type: 'list'",
     "output_type": "error",
     "traceback": [
      "\u001b[0;31m---------------------------------------------------------------------------\u001b[0m",
      "\u001b[0;31mTypeError\u001b[0m                                 Traceback (most recent call last)",
      "\u001b[0;32mpandas/_libs/hashtable_class_helper.pxi\u001b[0m in \u001b[0;36mpandas._libs.hashtable.PyObjectHashTable.map_locations\u001b[0;34m()\u001b[0m\n",
      "\u001b[0;31mTypeError\u001b[0m: unhashable type: 'list'"
     ]
    },
    {
     "name": "stderr",
     "output_type": "stream",
     "text": [
      "Exception ignored in: 'pandas._libs.index.IndexEngine._call_map_locations'\n",
      "Traceback (most recent call last):\n",
      "  File \"pandas/_libs/hashtable_class_helper.pxi\", line 1709, in pandas._libs.hashtable.PyObjectHashTable.map_locations\n",
      "TypeError: unhashable type: 'list'\n"
     ]
    },
    {
     "data": {
      "text/plain": [
       "NaN             15039\n",
       "[[], [], []]      880\n",
       "Name: Other Fuel Types, dtype: int64"
      ]
     },
     "execution_count": 460,
     "metadata": {},
     "output_type": "execute_result"
    }
   ],
   "source": [
    "df['Other Fuel Types'].value_counts(dropna=False)"
   ]
  },
  {
   "cell_type": "markdown",
   "metadata": {},
   "source": [
    "<div class=\"alert alert-block alert-danger\">\n",
    "<p>Useless column. It shouldn't be included in the analysis.</p></div>"
   ]
  },
  {
   "cell_type": "markdown",
   "metadata": {},
   "source": [
    "### 52 - Availability"
   ]
  },
  {
   "cell_type": "code",
   "execution_count": 461,
   "metadata": {},
   "outputs": [
    {
     "data": {
      "text/plain": [
       "NaN                              15284\n",
       "\\nin 90 days from ordering\\n       196\n",
       "\\nin 120 days from ordering\\n      182\n",
       "\\nin 1 day from ordering\\n          51\n",
       "\\nin 5 days from ordering\\n         35\n",
       "\\nin 3 days from ordering\\n         35\n",
       "\\nin 14 days from ordering\\n        24\n",
       "\\nin 180 days from ordering\\n       24\n",
       "\\nin 7 days from ordering\\n         20\n",
       "\\nin 150 days from ordering\\n       18\n",
       "\\nin 2 days from ordering\\n         16\n",
       "\\nin 60 days from ordering\\n        13\n",
       "\\nin 42 days from ordering\\n        10\n",
       "\\nin 21 days from ordering\\n         8\n",
       "\\nin 4 days from ordering\\n          2\n",
       "\\nin 6 days from ordering\\n          1\n",
       "Name: Availability, dtype: int64"
      ]
     },
     "execution_count": 461,
     "metadata": {},
     "output_type": "execute_result"
    }
   ],
   "source": [
    "df['Availability'].value_counts(dropna=False)"
   ]
  },
  {
   "cell_type": "code",
   "execution_count": 462,
   "metadata": {},
   "outputs": [
    {
     "data": {
      "text/plain": [
       "0.9601105597085244"
      ]
     },
     "execution_count": 462,
     "metadata": {},
     "output_type": "execute_result"
    }
   ],
   "source": [
    "df['Availability'].isnull().sum() / len(df)"
   ]
  },
  {
   "cell_type": "markdown",
   "metadata": {},
   "source": [
    "<div class=\"alert alert-block alert-danger\">\n",
    "<p>Useless column. It shouldn't be included in the analysis.</p></div>"
   ]
  },
  {
   "cell_type": "markdown",
   "metadata": {},
   "source": [
    "### 53 - Last Timing Belt Service Date"
   ]
  },
  {
   "cell_type": "code",
   "execution_count": 463,
   "metadata": {},
   "outputs": [
    {
     "ename": "TypeError",
     "evalue": "unhashable type: 'list'",
     "output_type": "error",
     "traceback": [
      "\u001b[0;31m---------------------------------------------------------------------------\u001b[0m",
      "\u001b[0;31mTypeError\u001b[0m                                 Traceback (most recent call last)",
      "\u001b[0;32mpandas/_libs/hashtable_class_helper.pxi\u001b[0m in \u001b[0;36mpandas._libs.hashtable.PyObjectHashTable.map_locations\u001b[0;34m()\u001b[0m\n",
      "\u001b[0;31mTypeError\u001b[0m: unhashable type: 'list'"
     ]
    },
    {
     "name": "stderr",
     "output_type": "stream",
     "text": [
      "Exception ignored in: 'pandas._libs.index.IndexEngine._call_map_locations'\n",
      "Traceback (most recent call last):\n",
      "  File \"pandas/_libs/hashtable_class_helper.pxi\", line 1709, in pandas._libs.hashtable.PyObjectHashTable.map_locations\n",
      "TypeError: unhashable type: 'list'\n"
     ]
    },
    {
     "data": {
      "text/plain": [
       "NaN                          15903\n",
       "[\\n04/2016\\n]                    2\n",
       "[\\n12/1900\\n]                    1\n",
       "[\\n01/1970\\n]                    1\n",
       "[\\n04/2019\\n]                    1\n",
       "[\\n01/2018\\n]                    1\n",
       "[\\n06/2019\\n]                    1\n",
       "[\\n02/2018\\n]                    1\n",
       "[\\n02/2019\\n]                    1\n",
       "[\\n01/2019\\n]                    1\n",
       "[\\n06/2017\\n]                    1\n",
       "[\\n05/2018\\n, \\nEuro 6\\n]        1\n",
       "[\\n09/2018\\n]                    1\n",
       "[\\n05/2019\\n]                    1\n",
       "[\\n01/1900\\n]                    1\n",
       "[\\n07/2018\\n]                    1\n",
       "Name: Last Timing Belt Service Date, dtype: int64"
      ]
     },
     "execution_count": 463,
     "metadata": {},
     "output_type": "execute_result"
    }
   ],
   "source": [
    "df['Last Timing Belt Service Date'].value_counts(dropna=False)"
   ]
  },
  {
   "cell_type": "code",
   "execution_count": 464,
   "metadata": {},
   "outputs": [
    {
     "data": {
      "text/plain": [
       "0.9989949117406872"
      ]
     },
     "execution_count": 464,
     "metadata": {},
     "output_type": "execute_result"
    }
   ],
   "source": [
    "df['Last Timing Belt Service Date'].isnull().sum() / len(df)"
   ]
  },
  {
   "cell_type": "markdown",
   "metadata": {},
   "source": [
    "<div class=\"alert alert-block alert-danger\">\n",
    "<p>Useless column. It shouldn't be included in the analysis.</p></div>"
   ]
  },
  {
   "cell_type": "markdown",
   "metadata": {},
   "source": [
    "### 54 - Available from"
   ]
  },
  {
   "cell_type": "code",
   "execution_count": 465,
   "metadata": {},
   "outputs": [
    {
     "data": {
      "text/plain": [
       "NaN             15647\n",
       "\\n31/08/19\\n       98\n",
       "\\n30/07/19\\n       25\n",
       "\\n15/08/19\\n       24\n",
       "\\n16/09/19\\n       14\n",
       "\\n29/06/19\\n       12\n",
       "\\n01/07/19\\n       11\n",
       "\\n28/06/19\\n       10\n",
       "\\n19/08/19\\n        7\n",
       "\\n10/09/19\\n        6\n",
       "\\n10/11/19\\n        5\n",
       "\\n26/06/19\\n        5\n",
       "\\n27/06/19\\n        5\n",
       "\\n08/07/19\\n        4\n",
       "\\n01/08/19\\n        3\n",
       "\\n25/10/19\\n        3\n",
       "\\n15/07/19\\n        3\n",
       "\\n05/07/19\\n        2\n",
       "\\n16/07/19\\n        2\n",
       "\\n24/08/19\\n        2\n",
       "\\n04/07/19\\n        2\n",
       "\\n20/07/19\\n        2\n",
       "\\n05/08/19\\n        2\n",
       "\\n30/06/19\\n        2\n",
       "\\n14/09/19\\n        1\n",
       "\\n03/12/19\\n        1\n",
       "\\n29/07/19\\n        1\n",
       "\\n27/07/19\\n        1\n",
       "\\n18/07/19\\n        1\n",
       "\\n29/09/19\\n        1\n",
       "\\n10/07/19\\n        1\n",
       "\\n06/12/19\\n        1\n",
       "\\n10/10/19\\n        1\n",
       "\\n30/09/19\\n        1\n",
       "\\n24/07/19\\n        1\n",
       "\\n01/09/19\\n        1\n",
       "\\n03/08/19\\n        1\n",
       "\\n05/12/19\\n        1\n",
       "\\n19/07/19\\n        1\n",
       "\\n18/08/19\\n        1\n",
       "\\n02/07/19\\n        1\n",
       "\\n16/08/19\\n        1\n",
       "\\n24/09/19\\n        1\n",
       "\\n31/10/19\\n        1\n",
       "\\n10/12/19\\n        1\n",
       "\\n11/08/19\\n        1\n",
       "\\n17/08/19\\n        1\n",
       "Name: Available from, dtype: int64"
      ]
     },
     "execution_count": 465,
     "metadata": {},
     "output_type": "execute_result"
    }
   ],
   "source": [
    "df['Available from'].value_counts(dropna=False)"
   ]
  },
  {
   "cell_type": "code",
   "execution_count": 466,
   "metadata": {},
   "outputs": [
    {
     "data": {
      "text/plain": [
       "0.982913499591683"
      ]
     },
     "execution_count": 466,
     "metadata": {},
     "output_type": "execute_result"
    }
   ],
   "source": [
    "df['Available from'].isnull().sum() / len(df)"
   ]
  },
  {
   "cell_type": "markdown",
   "metadata": {},
   "source": [
    "<div class=\"alert alert-block alert-danger\">\n",
    "<p>Useless column. It shouldn't be included in the analysis.</p></div>"
   ]
  },
  {
   "cell_type": "markdown",
   "metadata": {},
   "source": [
    "## Import Libraries and Data"
   ]
  },
  {
   "cell_type": "code",
   "execution_count": null,
   "metadata": {},
   "outputs": [],
   "source": [
    "df_dummied.to_csv(\"final_scout_dummy.csv\", index=False)"
   ]
  },
  {
   "cell_type": "code",
   "execution_count": null,
   "metadata": {},
   "outputs": [],
   "source": [
    "df.to_csv(\"final_scout_not_dummy.csv\", index=False)"
   ]
  }
 ],
 "metadata": {
  "kernelspec": {
   "display_name": "Python 3 (ipykernel)",
   "language": "python",
   "name": "python3"
  },
  "language_info": {
   "codemirror_mode": {
    "name": "ipython",
    "version": 3
   },
   "file_extension": ".py",
   "mimetype": "text/x-python",
   "name": "python",
   "nbconvert_exporter": "python",
   "pygments_lexer": "ipython3",
   "version": "3.8.5"
  }
 },
 "nbformat": 4,
 "nbformat_minor": 4
}
