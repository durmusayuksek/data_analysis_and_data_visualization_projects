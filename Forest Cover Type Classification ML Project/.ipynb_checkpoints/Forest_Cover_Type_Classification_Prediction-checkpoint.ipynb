{
 "cells": [
  {
   "cell_type": "markdown",
   "metadata": {
    "id": "Aw04Z9dIASCz"
   },
   "source": [
    "___\n",
    "\n",
    "<p style=\"text-align: center;\"><img src=\"https://docs.google.com/uc?id=1lY0Uj5R04yMY3-ZppPWxqCr5pvBLYPnV\" class=\"img-fluid\" alt=\"CLRSWY\"></p>\n",
    "\n",
    "___"
   ]
  },
  {
   "cell_type": "markdown",
   "metadata": {
    "cell_style": "split",
    "id": "o9jfMvQRASCz"
   },
   "source": [
    "# WELCOME!"
   ]
  },
  {
   "cell_type": "markdown",
   "metadata": {
    "cell_style": "split",
    "id": "rEckIoqPASCz"
   },
   "source": [
    "In this assignment, you must apply ***EDA*** processes for the development of predictive models. Handling outliers, domain knowledge and feature engineering will be challenges. \n",
    "\n",
    "Also, this project aims to improve your ability to implement algorithms for ***Multi-Class Classification***. Thus, you will have the opportunity to implement many algorithms commonly used for Multi-Class Classification problems.\n",
    "\n",
    "Before diving into the project, please take a look at the determines and tasks."
   ]
  },
  {
   "cell_type": "markdown",
   "metadata": {
    "id": "rWUbnCOHASCz"
   },
   "source": [
    "---\n",
    "---"
   ]
  },
  {
   "cell_type": "markdown",
   "metadata": {
    "cell_style": "split",
    "id": "FxA4M_USASCz"
   },
   "source": [
    "# #Determines"
   ]
  },
  {
   "cell_type": "markdown",
   "metadata": {
    "cell_style": "split",
    "id": "AxyFkA5PASCz"
   },
   "source": [
    "Dataset contains tree observations from four areas of one national forest district. This dataset includes information on tree type, shadow coverage, distance to nearby landmarks, soil type, and local topography. The goal of the project is to build a model that predicts what types of trees grow in an area.\n",
    "***The Forest Dataset*** contains approximately 600 thousand lines, also you can easily find many information about it on the web (especially Kaggle).\n",
    "\n",
    "---\n",
    "\n",
    "To achieve high prediction success, you must understand the data well and develop different approaches that can affect the dependent variable.\n",
    "\n",
    "Firstly, try to understand the dataset column by column using pandas module. Do research within the scope of domain (forest, trees) knowledge on the internet to get to know the data set in the fastest way. \n",
    "\n",
    "You should implement cleaning, handling with outliers and missing values using Pandas, NumPy and other required modules for the best result in modeling. You should do Feature Engineering.\n",
    "\n",
    "After that, your final dataset with the new variables you have created will be ready for model building. You will implement ***Support Vector Machine, XGBoost, Random Forest, Decision Tree*** algorithms. Also, evaluate the success of your models with appropriate performance metrics.\n",
    "\n",
    "At the end of the project, create a chart comparing the performance of all models and choose the most successful model.\n"
   ]
  },
  {
   "cell_type": "markdown",
   "metadata": {
    "id": "xdOyfC8jASCz"
   },
   "source": [
    "---\n",
    "---"
   ]
  },
  {
   "cell_type": "markdown",
   "metadata": {
    "cell_style": "split",
    "id": "m3DXc1w6ASCz"
   },
   "source": [
    "# #Tasks"
   ]
  },
  {
   "cell_type": "markdown",
   "metadata": {
    "cell_style": "split",
    "id": "UykgYK5-ASCz"
   },
   "source": [
    "#### 1. Exploratory Data Analysis (EDA)\n",
    "- Import Libraries, Load Dataset, Exploring Data\n",
    "\n",
    "    *i. Import Libraries*\n",
    "    \n",
    "    *ii. Load Dataset*\n",
    "    \n",
    "    *iii. Explore Data*\n",
    "\n",
    "#### 2.  Data Cleaning\n",
    "- Detect Missing Values and Outliers \n",
    "\n",
    "    *i. Missing Value Detection*\n",
    "    \n",
    "    *ii. Outlier Detection*\n",
    "    \n",
    "- Deal with Outliers\n",
    "    \n",
    "    *i. Drop Outliers*\n",
    "\n",
    "\n",
    "#### 3. Feature Engineering\n",
    "\n",
    "\n",
    "#### 4. Prediction (Multi-class Classification)\n",
    "- Import libraries\n",
    "- Data Preprocessing\n",
    "- Implement SVM Classifier\n",
    "- Implement Decision Tree Classifier\n",
    "- Implement Random Forest Classifier\n",
    "- Implement XGBoost Classifier\n",
    "- Compare The Models\n",
    "\n"
   ]
  },
  {
   "cell_type": "markdown",
   "metadata": {
    "id": "934v5Lm0ASCz"
   },
   "source": [
    "---\n",
    "---"
   ]
  },
  {
   "cell_type": "markdown",
   "metadata": {
    "id": "70sZDrv1ASCz"
   },
   "source": [
    "## 1. Exploratory Data Analysis"
   ]
  },
  {
   "cell_type": "markdown",
   "metadata": {
    "id": "6AZiiwrgri2o"
   },
   "source": [
    "### Import Libraries, Load Dataset, Exploring Data"
   ]
  },
  {
   "cell_type": "markdown",
   "metadata": {
    "id": "YhoTMDVLASCz"
   },
   "source": [
    "#### *i. Import Libraries*"
   ]
  },
  {
   "cell_type": "markdown",
   "metadata": {
    "id": "lKbc1uEQASCz"
   },
   "source": [
    "Besides Numpy and Pandas, you need to import the necessary modules for data visualization, data preprocessing, Model building and tuning.\n",
    "\n",
    "*Note: Check out the course materials.*"
   ]
  },
  {
   "cell_type": "code",
   "execution_count": 2,
   "metadata": {
    "id": "0ThMJSTCASCz"
   },
   "outputs": [],
   "source": [
    "import numpy as np\n",
    "import pandas as pd\n",
    "import matplotlib.pyplot as plt\n",
    "import seaborn as sns \n",
    "from scipy import stats\n",
    "from scipy.stats.mstats import winsorize\n",
    "\n",
    "import warnings\n",
    "warnings.filterwarnings('ignore')\n",
    "warnings.warn(\"this will not show\")\n",
    "\n",
    "%matplotlib inline\n",
    "# %matplotlib notebook\n",
    "\n",
    "plt.rcParams[\"figure.figsize\"] = (10,6)\n",
    "# plt.rcParams['figure.dpi'] = 100\n",
    "\n",
    "sns.set_style(\"whitegrid\")\n",
    "pd.set_option('display.float_format', lambda x: '%.3f' % x)\n",
    "\n",
    "pd.options.display.max_rows = 1000\n",
    "pd.options.display.max_columns = 150"
   ]
  },
  {
   "cell_type": "markdown",
   "metadata": {
    "id": "OUxd8117ASCz"
   },
   "source": [
    "#### *ii. Load Dataset*"
   ]
  },
  {
   "cell_type": "code",
   "execution_count": 3,
   "metadata": {
    "id": "nO4IbFeNASC0"
   },
   "outputs": [],
   "source": [
    "df = pd.read_csv('treetypes.csv')"
   ]
  },
  {
   "cell_type": "code",
   "execution_count": 4,
   "metadata": {},
   "outputs": [],
   "source": [
    "df2 = df.copy()"
   ]
  },
  {
   "cell_type": "markdown",
   "metadata": {
    "id": "y8W545bnASC0"
   },
   "source": [
    "#### *iii. Explore Data*\n",
    "- Focus on numerical and categorical data\n",
    "- Detect Number of Unique values of each column\n",
    "- Focus on Target Variable (Cover_Type)\n",
    " - Detect relationships and correlations between independent variables and target variable.\n",
    " - It may be nice to visualize the class frequencies of the target variable.\n",
    "- Detect relationships and correlations between independent variables. (You can prefer to keep only one of the highly correlated continuous variables.)\n",
    "- Consider dropping features that contain little data or that you think will not contribute to the model."
   ]
  },
  {
   "cell_type": "code",
   "execution_count": 5,
   "metadata": {
    "id": "BVE7_TsoASC0"
   },
   "outputs": [
    {
     "data": {
      "text/html": [
       "<div>\n",
       "<style scoped>\n",
       "    .dataframe tbody tr th:only-of-type {\n",
       "        vertical-align: middle;\n",
       "    }\n",
       "\n",
       "    .dataframe tbody tr th {\n",
       "        vertical-align: top;\n",
       "    }\n",
       "\n",
       "    .dataframe thead th {\n",
       "        text-align: right;\n",
       "    }\n",
       "</style>\n",
       "<table border=\"1\" class=\"dataframe\">\n",
       "  <thead>\n",
       "    <tr style=\"text-align: right;\">\n",
       "      <th></th>\n",
       "      <th>Elevation</th>\n",
       "      <th>Aspect</th>\n",
       "      <th>Slope</th>\n",
       "      <th>Horizontal_Distance_To_Hydrology</th>\n",
       "      <th>Vertical_Distance_To_Hydrology</th>\n",
       "      <th>Horizontal_Distance_To_Roadways</th>\n",
       "      <th>Hillshade_9am</th>\n",
       "      <th>Hillshade_Noon</th>\n",
       "      <th>Hillshade_3pm</th>\n",
       "      <th>Horizontal_Distance_To_Fire_Points</th>\n",
       "      <th>Wilderness_Area_1</th>\n",
       "      <th>Wilderness_Area_2</th>\n",
       "      <th>Wilderness_Area_3</th>\n",
       "      <th>Wilderness_Area_4</th>\n",
       "      <th>Soil_Type_1</th>\n",
       "      <th>Soil_Type_2</th>\n",
       "      <th>Soil_Type_3</th>\n",
       "      <th>Soil_Type_4</th>\n",
       "      <th>Soil_Type_5</th>\n",
       "      <th>Soil_Type_6</th>\n",
       "      <th>Soil_Type_7</th>\n",
       "      <th>Soil_Type_8</th>\n",
       "      <th>Soil_Type_9</th>\n",
       "      <th>Soil_Type_10</th>\n",
       "      <th>Soil_Type_11</th>\n",
       "      <th>Soil_Type_12</th>\n",
       "      <th>Soil_Type_13</th>\n",
       "      <th>Soil_Type_14</th>\n",
       "      <th>Soil_Type_15</th>\n",
       "      <th>Soil_Type_16</th>\n",
       "      <th>Soil_Type_17</th>\n",
       "      <th>Soil_Type_18</th>\n",
       "      <th>Soil_Type_19</th>\n",
       "      <th>Soil_Type_20</th>\n",
       "      <th>Soil_Type_21</th>\n",
       "      <th>Soil_Type_22</th>\n",
       "      <th>Soil_Type_23</th>\n",
       "      <th>Soil_Type_24</th>\n",
       "      <th>Soil_Type_25</th>\n",
       "      <th>Soil_Type_26</th>\n",
       "      <th>Soil_Type_27</th>\n",
       "      <th>Soil_Type_28</th>\n",
       "      <th>Soil_Type_29</th>\n",
       "      <th>Soil_Type_30</th>\n",
       "      <th>Soil_Type_31</th>\n",
       "      <th>Soil_Type_32</th>\n",
       "      <th>Soil_Type_33</th>\n",
       "      <th>Soil_Type_34</th>\n",
       "      <th>Soil_Type_35</th>\n",
       "      <th>Soil_Type_36</th>\n",
       "      <th>Soil_Type_37</th>\n",
       "      <th>Soil_Type_38</th>\n",
       "      <th>Soil_Type_39</th>\n",
       "      <th>Soil_Type_40</th>\n",
       "      <th>Cover_Type</th>\n",
       "    </tr>\n",
       "  </thead>\n",
       "  <tbody>\n",
       "    <tr>\n",
       "      <th>0</th>\n",
       "      <td>2696</td>\n",
       "      <td>123</td>\n",
       "      <td>10</td>\n",
       "      <td>212</td>\n",
       "      <td>48</td>\n",
       "      <td>2245</td>\n",
       "      <td>237</td>\n",
       "      <td>231</td>\n",
       "      <td>123</td>\n",
       "      <td>2113</td>\n",
       "      <td>0</td>\n",
       "      <td>0</td>\n",
       "      <td>1</td>\n",
       "      <td>0</td>\n",
       "      <td>0</td>\n",
       "      <td>0</td>\n",
       "      <td>0</td>\n",
       "      <td>0</td>\n",
       "      <td>0</td>\n",
       "      <td>0</td>\n",
       "      <td>0</td>\n",
       "      <td>0</td>\n",
       "      <td>0</td>\n",
       "      <td>1</td>\n",
       "      <td>0</td>\n",
       "      <td>0</td>\n",
       "      <td>0</td>\n",
       "      <td>0</td>\n",
       "      <td>0</td>\n",
       "      <td>0</td>\n",
       "      <td>0</td>\n",
       "      <td>0</td>\n",
       "      <td>0</td>\n",
       "      <td>0</td>\n",
       "      <td>0</td>\n",
       "      <td>0</td>\n",
       "      <td>0</td>\n",
       "      <td>0</td>\n",
       "      <td>0</td>\n",
       "      <td>0</td>\n",
       "      <td>0</td>\n",
       "      <td>0</td>\n",
       "      <td>0</td>\n",
       "      <td>0</td>\n",
       "      <td>0</td>\n",
       "      <td>0</td>\n",
       "      <td>0</td>\n",
       "      <td>0</td>\n",
       "      <td>0</td>\n",
       "      <td>0</td>\n",
       "      <td>0</td>\n",
       "      <td>0</td>\n",
       "      <td>0</td>\n",
       "      <td>0</td>\n",
       "      <td>6</td>\n",
       "    </tr>\n",
       "    <tr>\n",
       "      <th>1</th>\n",
       "      <td>3269</td>\n",
       "      <td>110</td>\n",
       "      <td>19</td>\n",
       "      <td>134</td>\n",
       "      <td>40</td>\n",
       "      <td>3734</td>\n",
       "      <td>249</td>\n",
       "      <td>216</td>\n",
       "      <td>88</td>\n",
       "      <td>3960</td>\n",
       "      <td>1</td>\n",
       "      <td>0</td>\n",
       "      <td>0</td>\n",
       "      <td>0</td>\n",
       "      <td>0</td>\n",
       "      <td>0</td>\n",
       "      <td>0</td>\n",
       "      <td>0</td>\n",
       "      <td>0</td>\n",
       "      <td>0</td>\n",
       "      <td>0</td>\n",
       "      <td>0</td>\n",
       "      <td>0</td>\n",
       "      <td>0</td>\n",
       "      <td>0</td>\n",
       "      <td>0</td>\n",
       "      <td>0</td>\n",
       "      <td>0</td>\n",
       "      <td>0</td>\n",
       "      <td>0</td>\n",
       "      <td>0</td>\n",
       "      <td>0</td>\n",
       "      <td>0</td>\n",
       "      <td>0</td>\n",
       "      <td>0</td>\n",
       "      <td>0</td>\n",
       "      <td>0</td>\n",
       "      <td>0</td>\n",
       "      <td>0</td>\n",
       "      <td>0</td>\n",
       "      <td>0</td>\n",
       "      <td>0</td>\n",
       "      <td>0</td>\n",
       "      <td>0</td>\n",
       "      <td>0</td>\n",
       "      <td>0</td>\n",
       "      <td>0</td>\n",
       "      <td>0</td>\n",
       "      <td>0</td>\n",
       "      <td>0</td>\n",
       "      <td>0</td>\n",
       "      <td>1</td>\n",
       "      <td>0</td>\n",
       "      <td>0</td>\n",
       "      <td>1</td>\n",
       "    </tr>\n",
       "    <tr>\n",
       "      <th>2</th>\n",
       "      <td>3283</td>\n",
       "      <td>322</td>\n",
       "      <td>18</td>\n",
       "      <td>346</td>\n",
       "      <td>104</td>\n",
       "      <td>4369</td>\n",
       "      <td>170</td>\n",
       "      <td>217</td>\n",
       "      <td>185</td>\n",
       "      <td>1330</td>\n",
       "      <td>1</td>\n",
       "      <td>0</td>\n",
       "      <td>0</td>\n",
       "      <td>0</td>\n",
       "      <td>0</td>\n",
       "      <td>0</td>\n",
       "      <td>0</td>\n",
       "      <td>0</td>\n",
       "      <td>0</td>\n",
       "      <td>0</td>\n",
       "      <td>0</td>\n",
       "      <td>0</td>\n",
       "      <td>0</td>\n",
       "      <td>0</td>\n",
       "      <td>0</td>\n",
       "      <td>0</td>\n",
       "      <td>0</td>\n",
       "      <td>0</td>\n",
       "      <td>0</td>\n",
       "      <td>0</td>\n",
       "      <td>0</td>\n",
       "      <td>0</td>\n",
       "      <td>0</td>\n",
       "      <td>0</td>\n",
       "      <td>0</td>\n",
       "      <td>0</td>\n",
       "      <td>0</td>\n",
       "      <td>0</td>\n",
       "      <td>0</td>\n",
       "      <td>0</td>\n",
       "      <td>0</td>\n",
       "      <td>0</td>\n",
       "      <td>0</td>\n",
       "      <td>0</td>\n",
       "      <td>0</td>\n",
       "      <td>0</td>\n",
       "      <td>0</td>\n",
       "      <td>0</td>\n",
       "      <td>0</td>\n",
       "      <td>0</td>\n",
       "      <td>0</td>\n",
       "      <td>1</td>\n",
       "      <td>0</td>\n",
       "      <td>0</td>\n",
       "      <td>7</td>\n",
       "    </tr>\n",
       "    <tr>\n",
       "      <th>3</th>\n",
       "      <td>2847</td>\n",
       "      <td>89</td>\n",
       "      <td>31</td>\n",
       "      <td>270</td>\n",
       "      <td>175</td>\n",
       "      <td>1320</td>\n",
       "      <td>248</td>\n",
       "      <td>173</td>\n",
       "      <td>29</td>\n",
       "      <td>889</td>\n",
       "      <td>0</td>\n",
       "      <td>0</td>\n",
       "      <td>1</td>\n",
       "      <td>0</td>\n",
       "      <td>0</td>\n",
       "      <td>0</td>\n",
       "      <td>0</td>\n",
       "      <td>0</td>\n",
       "      <td>0</td>\n",
       "      <td>0</td>\n",
       "      <td>0</td>\n",
       "      <td>0</td>\n",
       "      <td>0</td>\n",
       "      <td>0</td>\n",
       "      <td>0</td>\n",
       "      <td>0</td>\n",
       "      <td>1</td>\n",
       "      <td>0</td>\n",
       "      <td>0</td>\n",
       "      <td>0</td>\n",
       "      <td>0</td>\n",
       "      <td>0</td>\n",
       "      <td>0</td>\n",
       "      <td>0</td>\n",
       "      <td>0</td>\n",
       "      <td>0</td>\n",
       "      <td>0</td>\n",
       "      <td>0</td>\n",
       "      <td>0</td>\n",
       "      <td>0</td>\n",
       "      <td>0</td>\n",
       "      <td>0</td>\n",
       "      <td>0</td>\n",
       "      <td>0</td>\n",
       "      <td>0</td>\n",
       "      <td>0</td>\n",
       "      <td>0</td>\n",
       "      <td>0</td>\n",
       "      <td>0</td>\n",
       "      <td>0</td>\n",
       "      <td>0</td>\n",
       "      <td>0</td>\n",
       "      <td>0</td>\n",
       "      <td>0</td>\n",
       "      <td>5</td>\n",
       "    </tr>\n",
       "    <tr>\n",
       "      <th>4</th>\n",
       "      <td>3248</td>\n",
       "      <td>93</td>\n",
       "      <td>12</td>\n",
       "      <td>507</td>\n",
       "      <td>118</td>\n",
       "      <td>570</td>\n",
       "      <td>239</td>\n",
       "      <td>221</td>\n",
       "      <td>110</td>\n",
       "      <td>945</td>\n",
       "      <td>0</td>\n",
       "      <td>0</td>\n",
       "      <td>1</td>\n",
       "      <td>0</td>\n",
       "      <td>0</td>\n",
       "      <td>0</td>\n",
       "      <td>0</td>\n",
       "      <td>0</td>\n",
       "      <td>0</td>\n",
       "      <td>0</td>\n",
       "      <td>0</td>\n",
       "      <td>0</td>\n",
       "      <td>0</td>\n",
       "      <td>0</td>\n",
       "      <td>0</td>\n",
       "      <td>0</td>\n",
       "      <td>0</td>\n",
       "      <td>0</td>\n",
       "      <td>0</td>\n",
       "      <td>0</td>\n",
       "      <td>0</td>\n",
       "      <td>0</td>\n",
       "      <td>0</td>\n",
       "      <td>0</td>\n",
       "      <td>0</td>\n",
       "      <td>0</td>\n",
       "      <td>0</td>\n",
       "      <td>0</td>\n",
       "      <td>0</td>\n",
       "      <td>0</td>\n",
       "      <td>0</td>\n",
       "      <td>0</td>\n",
       "      <td>0</td>\n",
       "      <td>0</td>\n",
       "      <td>1</td>\n",
       "      <td>0</td>\n",
       "      <td>0</td>\n",
       "      <td>0</td>\n",
       "      <td>0</td>\n",
       "      <td>0</td>\n",
       "      <td>0</td>\n",
       "      <td>0</td>\n",
       "      <td>0</td>\n",
       "      <td>0</td>\n",
       "      <td>7</td>\n",
       "    </tr>\n",
       "  </tbody>\n",
       "</table>\n",
       "</div>"
      ],
      "text/plain": [
       "   Elevation  Aspect  Slope  Horizontal_Distance_To_Hydrology  \\\n",
       "0       2696     123     10                               212   \n",
       "1       3269     110     19                               134   \n",
       "2       3283     322     18                               346   \n",
       "3       2847      89     31                               270   \n",
       "4       3248      93     12                               507   \n",
       "\n",
       "   Vertical_Distance_To_Hydrology  Horizontal_Distance_To_Roadways  \\\n",
       "0                              48                             2245   \n",
       "1                              40                             3734   \n",
       "2                             104                             4369   \n",
       "3                             175                             1320   \n",
       "4                             118                              570   \n",
       "\n",
       "   Hillshade_9am  Hillshade_Noon  Hillshade_3pm  \\\n",
       "0            237             231            123   \n",
       "1            249             216             88   \n",
       "2            170             217            185   \n",
       "3            248             173             29   \n",
       "4            239             221            110   \n",
       "\n",
       "   Horizontal_Distance_To_Fire_Points  Wilderness_Area_1  Wilderness_Area_2  \\\n",
       "0                                2113                  0                  0   \n",
       "1                                3960                  1                  0   \n",
       "2                                1330                  1                  0   \n",
       "3                                 889                  0                  0   \n",
       "4                                 945                  0                  0   \n",
       "\n",
       "   Wilderness_Area_3  Wilderness_Area_4  Soil_Type_1  Soil_Type_2  \\\n",
       "0                  1                  0            0            0   \n",
       "1                  0                  0            0            0   \n",
       "2                  0                  0            0            0   \n",
       "3                  1                  0            0            0   \n",
       "4                  1                  0            0            0   \n",
       "\n",
       "   Soil_Type_3  Soil_Type_4  Soil_Type_5  Soil_Type_6  Soil_Type_7  \\\n",
       "0            0            0            0            0            0   \n",
       "1            0            0            0            0            0   \n",
       "2            0            0            0            0            0   \n",
       "3            0            0            0            0            0   \n",
       "4            0            0            0            0            0   \n",
       "\n",
       "   Soil_Type_8  Soil_Type_9  Soil_Type_10  Soil_Type_11  Soil_Type_12  \\\n",
       "0            0            0             1             0             0   \n",
       "1            0            0             0             0             0   \n",
       "2            0            0             0             0             0   \n",
       "3            0            0             0             0             0   \n",
       "4            0            0             0             0             0   \n",
       "\n",
       "   Soil_Type_13  Soil_Type_14  Soil_Type_15  Soil_Type_16  Soil_Type_17  \\\n",
       "0             0             0             0             0             0   \n",
       "1             0             0             0             0             0   \n",
       "2             0             0             0             0             0   \n",
       "3             1             0             0             0             0   \n",
       "4             0             0             0             0             0   \n",
       "\n",
       "   Soil_Type_18  Soil_Type_19  Soil_Type_20  Soil_Type_21  Soil_Type_22  \\\n",
       "0             0             0             0             0             0   \n",
       "1             0             0             0             0             0   \n",
       "2             0             0             0             0             0   \n",
       "3             0             0             0             0             0   \n",
       "4             0             0             0             0             0   \n",
       "\n",
       "   Soil_Type_23  Soil_Type_24  Soil_Type_25  Soil_Type_26  Soil_Type_27  \\\n",
       "0             0             0             0             0             0   \n",
       "1             0             0             0             0             0   \n",
       "2             0             0             0             0             0   \n",
       "3             0             0             0             0             0   \n",
       "4             0             0             0             0             0   \n",
       "\n",
       "   Soil_Type_28  Soil_Type_29  Soil_Type_30  Soil_Type_31  Soil_Type_32  \\\n",
       "0             0             0             0             0             0   \n",
       "1             0             0             0             0             0   \n",
       "2             0             0             0             0             0   \n",
       "3             0             0             0             0             0   \n",
       "4             0             0             0             1             0   \n",
       "\n",
       "   Soil_Type_33  Soil_Type_34  Soil_Type_35  Soil_Type_36  Soil_Type_37  \\\n",
       "0             0             0             0             0             0   \n",
       "1             0             0             0             0             0   \n",
       "2             0             0             0             0             0   \n",
       "3             0             0             0             0             0   \n",
       "4             0             0             0             0             0   \n",
       "\n",
       "   Soil_Type_38  Soil_Type_39  Soil_Type_40  Cover_Type  \n",
       "0             0             0             0           6  \n",
       "1             1             0             0           1  \n",
       "2             1             0             0           7  \n",
       "3             0             0             0           5  \n",
       "4             0             0             0           7  "
      ]
     },
     "execution_count": 5,
     "metadata": {},
     "output_type": "execute_result"
    }
   ],
   "source": [
    "df.head()"
   ]
  },
  {
   "cell_type": "code",
   "execution_count": 6,
   "metadata": {},
   "outputs": [
    {
     "data": {
      "text/plain": [
       "(250000, 55)"
      ]
     },
     "execution_count": 6,
     "metadata": {},
     "output_type": "execute_result"
    }
   ],
   "source": [
    "df.shape"
   ]
  },
  {
   "cell_type": "code",
   "execution_count": 7,
   "metadata": {},
   "outputs": [
    {
     "name": "stdout",
     "output_type": "stream",
     "text": [
      "<class 'pandas.core.frame.DataFrame'>\n",
      "RangeIndex: 250000 entries, 0 to 249999\n",
      "Data columns (total 55 columns):\n",
      " #   Column                              Non-Null Count   Dtype\n",
      "---  ------                              --------------   -----\n",
      " 0   Elevation                           250000 non-null  int64\n",
      " 1   Aspect                              250000 non-null  int64\n",
      " 2   Slope                               250000 non-null  int64\n",
      " 3   Horizontal_Distance_To_Hydrology    250000 non-null  int64\n",
      " 4   Vertical_Distance_To_Hydrology      250000 non-null  int64\n",
      " 5   Horizontal_Distance_To_Roadways     250000 non-null  int64\n",
      " 6   Hillshade_9am                       250000 non-null  int64\n",
      " 7   Hillshade_Noon                      250000 non-null  int64\n",
      " 8   Hillshade_3pm                       250000 non-null  int64\n",
      " 9   Horizontal_Distance_To_Fire_Points  250000 non-null  int64\n",
      " 10  Wilderness_Area_1                   250000 non-null  int64\n",
      " 11  Wilderness_Area_2                   250000 non-null  int64\n",
      " 12  Wilderness_Area_3                   250000 non-null  int64\n",
      " 13  Wilderness_Area_4                   250000 non-null  int64\n",
      " 14  Soil_Type_1                         250000 non-null  int64\n",
      " 15  Soil_Type_2                         250000 non-null  int64\n",
      " 16  Soil_Type_3                         250000 non-null  int64\n",
      " 17  Soil_Type_4                         250000 non-null  int64\n",
      " 18  Soil_Type_5                         250000 non-null  int64\n",
      " 19  Soil_Type_6                         250000 non-null  int64\n",
      " 20  Soil_Type_7                         250000 non-null  int64\n",
      " 21  Soil_Type_8                         250000 non-null  int64\n",
      " 22  Soil_Type_9                         250000 non-null  int64\n",
      " 23  Soil_Type_10                        250000 non-null  int64\n",
      " 24  Soil_Type_11                        250000 non-null  int64\n",
      " 25  Soil_Type_12                        250000 non-null  int64\n",
      " 26  Soil_Type_13                        250000 non-null  int64\n",
      " 27  Soil_Type_14                        250000 non-null  int64\n",
      " 28  Soil_Type_15                        250000 non-null  int64\n",
      " 29  Soil_Type_16                        250000 non-null  int64\n",
      " 30  Soil_Type_17                        250000 non-null  int64\n",
      " 31  Soil_Type_18                        250000 non-null  int64\n",
      " 32  Soil_Type_19                        250000 non-null  int64\n",
      " 33  Soil_Type_20                        250000 non-null  int64\n",
      " 34  Soil_Type_21                        250000 non-null  int64\n",
      " 35  Soil_Type_22                        250000 non-null  int64\n",
      " 36  Soil_Type_23                        250000 non-null  int64\n",
      " 37  Soil_Type_24                        250000 non-null  int64\n",
      " 38  Soil_Type_25                        250000 non-null  int64\n",
      " 39  Soil_Type_26                        250000 non-null  int64\n",
      " 40  Soil_Type_27                        250000 non-null  int64\n",
      " 41  Soil_Type_28                        250000 non-null  int64\n",
      " 42  Soil_Type_29                        250000 non-null  int64\n",
      " 43  Soil_Type_30                        250000 non-null  int64\n",
      " 44  Soil_Type_31                        250000 non-null  int64\n",
      " 45  Soil_Type_32                        250000 non-null  int64\n",
      " 46  Soil_Type_33                        250000 non-null  int64\n",
      " 47  Soil_Type_34                        250000 non-null  int64\n",
      " 48  Soil_Type_35                        250000 non-null  int64\n",
      " 49  Soil_Type_36                        250000 non-null  int64\n",
      " 50  Soil_Type_37                        250000 non-null  int64\n",
      " 51  Soil_Type_38                        250000 non-null  int64\n",
      " 52  Soil_Type_39                        250000 non-null  int64\n",
      " 53  Soil_Type_40                        250000 non-null  int64\n",
      " 54  Cover_Type                          250000 non-null  int64\n",
      "dtypes: int64(55)\n",
      "memory usage: 104.9 MB\n"
     ]
    }
   ],
   "source": [
    "df.info()"
   ]
  },
  {
   "cell_type": "code",
   "execution_count": 8,
   "metadata": {},
   "outputs": [
    {
     "data": {
      "text/html": [
       "<div>\n",
       "<style scoped>\n",
       "    .dataframe tbody tr th:only-of-type {\n",
       "        vertical-align: middle;\n",
       "    }\n",
       "\n",
       "    .dataframe tbody tr th {\n",
       "        vertical-align: top;\n",
       "    }\n",
       "\n",
       "    .dataframe thead th {\n",
       "        text-align: right;\n",
       "    }\n",
       "</style>\n",
       "<table border=\"1\" class=\"dataframe\">\n",
       "  <thead>\n",
       "    <tr style=\"text-align: right;\">\n",
       "      <th></th>\n",
       "      <th>count</th>\n",
       "      <th>mean</th>\n",
       "      <th>std</th>\n",
       "      <th>min</th>\n",
       "      <th>25%</th>\n",
       "      <th>50%</th>\n",
       "      <th>75%</th>\n",
       "      <th>max</th>\n",
       "    </tr>\n",
       "  </thead>\n",
       "  <tbody>\n",
       "    <tr>\n",
       "      <th>Elevation</th>\n",
       "      <td>250000.000</td>\n",
       "      <td>2748.505</td>\n",
       "      <td>418.301</td>\n",
       "      <td>1859.000</td>\n",
       "      <td>2375.000</td>\n",
       "      <td>2753.000</td>\n",
       "      <td>3108.000</td>\n",
       "      <td>3857.000</td>\n",
       "    </tr>\n",
       "    <tr>\n",
       "      <th>Aspect</th>\n",
       "      <td>250000.000</td>\n",
       "      <td>156.212</td>\n",
       "      <td>109.653</td>\n",
       "      <td>0.000</td>\n",
       "      <td>65.000</td>\n",
       "      <td>125.000</td>\n",
       "      <td>260.000</td>\n",
       "      <td>360.000</td>\n",
       "    </tr>\n",
       "    <tr>\n",
       "      <th>Slope</th>\n",
       "      <td>250000.000</td>\n",
       "      <td>16.331</td>\n",
       "      <td>8.317</td>\n",
       "      <td>0.000</td>\n",
       "      <td>10.000</td>\n",
       "      <td>15.000</td>\n",
       "      <td>22.000</td>\n",
       "      <td>65.000</td>\n",
       "    </tr>\n",
       "    <tr>\n",
       "      <th>Horizontal_Distance_To_Hydrology</th>\n",
       "      <td>250000.000</td>\n",
       "      <td>228.094</td>\n",
       "      <td>209.630</td>\n",
       "      <td>0.000</td>\n",
       "      <td>66.000</td>\n",
       "      <td>180.000</td>\n",
       "      <td>330.000</td>\n",
       "      <td>1390.000</td>\n",
       "    </tr>\n",
       "    <tr>\n",
       "      <th>Vertical_Distance_To_Hydrology</th>\n",
       "      <td>250000.000</td>\n",
       "      <td>50.898</td>\n",
       "      <td>61.007</td>\n",
       "      <td>-163.000</td>\n",
       "      <td>5.000</td>\n",
       "      <td>32.000</td>\n",
       "      <td>79.000</td>\n",
       "      <td>598.000</td>\n",
       "    </tr>\n",
       "    <tr>\n",
       "      <th>Horizontal_Distance_To_Roadways</th>\n",
       "      <td>250000.000</td>\n",
       "      <td>1719.967</td>\n",
       "      <td>1330.818</td>\n",
       "      <td>0.000</td>\n",
       "      <td>756.000</td>\n",
       "      <td>1318.000</td>\n",
       "      <td>2294.000</td>\n",
       "      <td>7112.000</td>\n",
       "    </tr>\n",
       "    <tr>\n",
       "      <th>Hillshade_9am</th>\n",
       "      <td>250000.000</td>\n",
       "      <td>212.370</td>\n",
       "      <td>30.655</td>\n",
       "      <td>0.000</td>\n",
       "      <td>195.000</td>\n",
       "      <td>220.000</td>\n",
       "      <td>235.000</td>\n",
       "      <td>254.000</td>\n",
       "    </tr>\n",
       "    <tr>\n",
       "      <th>Hillshade_Noon</th>\n",
       "      <td>250000.000</td>\n",
       "      <td>218.511</td>\n",
       "      <td>22.681</td>\n",
       "      <td>0.000</td>\n",
       "      <td>206.000</td>\n",
       "      <td>222.000</td>\n",
       "      <td>235.000</td>\n",
       "      <td>254.000</td>\n",
       "    </tr>\n",
       "    <tr>\n",
       "      <th>Hillshade_3pm</th>\n",
       "      <td>250000.000</td>\n",
       "      <td>134.503</td>\n",
       "      <td>46.034</td>\n",
       "      <td>0.000</td>\n",
       "      <td>106.000</td>\n",
       "      <td>137.000</td>\n",
       "      <td>167.000</td>\n",
       "      <td>252.000</td>\n",
       "    </tr>\n",
       "    <tr>\n",
       "      <th>Horizontal_Distance_To_Fire_Points</th>\n",
       "      <td>250000.000</td>\n",
       "      <td>1521.757</td>\n",
       "      <td>1107.378</td>\n",
       "      <td>0.000</td>\n",
       "      <td>734.000</td>\n",
       "      <td>1273.000</td>\n",
       "      <td>1998.000</td>\n",
       "      <td>7150.000</td>\n",
       "    </tr>\n",
       "    <tr>\n",
       "      <th>Wilderness_Area_1</th>\n",
       "      <td>250000.000</td>\n",
       "      <td>0.238</td>\n",
       "      <td>0.426</td>\n",
       "      <td>0.000</td>\n",
       "      <td>0.000</td>\n",
       "      <td>0.000</td>\n",
       "      <td>0.000</td>\n",
       "      <td>1.000</td>\n",
       "    </tr>\n",
       "    <tr>\n",
       "      <th>Wilderness_Area_2</th>\n",
       "      <td>250000.000</td>\n",
       "      <td>0.033</td>\n",
       "      <td>0.180</td>\n",
       "      <td>0.000</td>\n",
       "      <td>0.000</td>\n",
       "      <td>0.000</td>\n",
       "      <td>0.000</td>\n",
       "      <td>1.000</td>\n",
       "    </tr>\n",
       "    <tr>\n",
       "      <th>Wilderness_Area_3</th>\n",
       "      <td>250000.000</td>\n",
       "      <td>0.418</td>\n",
       "      <td>0.493</td>\n",
       "      <td>0.000</td>\n",
       "      <td>0.000</td>\n",
       "      <td>0.000</td>\n",
       "      <td>1.000</td>\n",
       "      <td>1.000</td>\n",
       "    </tr>\n",
       "    <tr>\n",
       "      <th>Wilderness_Area_4</th>\n",
       "      <td>250000.000</td>\n",
       "      <td>0.309</td>\n",
       "      <td>0.462</td>\n",
       "      <td>0.000</td>\n",
       "      <td>0.000</td>\n",
       "      <td>0.000</td>\n",
       "      <td>1.000</td>\n",
       "      <td>1.000</td>\n",
       "    </tr>\n",
       "    <tr>\n",
       "      <th>Soil_Type_1</th>\n",
       "      <td>250000.000</td>\n",
       "      <td>0.018</td>\n",
       "      <td>0.134</td>\n",
       "      <td>0.000</td>\n",
       "      <td>0.000</td>\n",
       "      <td>0.000</td>\n",
       "      <td>0.000</td>\n",
       "      <td>1.000</td>\n",
       "    </tr>\n",
       "    <tr>\n",
       "      <th>Soil_Type_2</th>\n",
       "      <td>250000.000</td>\n",
       "      <td>0.036</td>\n",
       "      <td>0.186</td>\n",
       "      <td>0.000</td>\n",
       "      <td>0.000</td>\n",
       "      <td>0.000</td>\n",
       "      <td>0.000</td>\n",
       "      <td>1.000</td>\n",
       "    </tr>\n",
       "    <tr>\n",
       "      <th>Soil_Type_3</th>\n",
       "      <td>250000.000</td>\n",
       "      <td>0.058</td>\n",
       "      <td>0.234</td>\n",
       "      <td>0.000</td>\n",
       "      <td>0.000</td>\n",
       "      <td>0.000</td>\n",
       "      <td>0.000</td>\n",
       "      <td>1.000</td>\n",
       "    </tr>\n",
       "    <tr>\n",
       "      <th>Soil_Type_4</th>\n",
       "      <td>250000.000</td>\n",
       "      <td>0.047</td>\n",
       "      <td>0.211</td>\n",
       "      <td>0.000</td>\n",
       "      <td>0.000</td>\n",
       "      <td>0.000</td>\n",
       "      <td>0.000</td>\n",
       "      <td>1.000</td>\n",
       "    </tr>\n",
       "    <tr>\n",
       "      <th>Soil_Type_5</th>\n",
       "      <td>250000.000</td>\n",
       "      <td>0.009</td>\n",
       "      <td>0.095</td>\n",
       "      <td>0.000</td>\n",
       "      <td>0.000</td>\n",
       "      <td>0.000</td>\n",
       "      <td>0.000</td>\n",
       "      <td>1.000</td>\n",
       "    </tr>\n",
       "    <tr>\n",
       "      <th>Soil_Type_6</th>\n",
       "      <td>250000.000</td>\n",
       "      <td>0.037</td>\n",
       "      <td>0.190</td>\n",
       "      <td>0.000</td>\n",
       "      <td>0.000</td>\n",
       "      <td>0.000</td>\n",
       "      <td>0.000</td>\n",
       "      <td>1.000</td>\n",
       "    </tr>\n",
       "    <tr>\n",
       "      <th>Soil_Type_7</th>\n",
       "      <td>250000.000</td>\n",
       "      <td>0.000</td>\n",
       "      <td>0.008</td>\n",
       "      <td>0.000</td>\n",
       "      <td>0.000</td>\n",
       "      <td>0.000</td>\n",
       "      <td>0.000</td>\n",
       "      <td>1.000</td>\n",
       "    </tr>\n",
       "    <tr>\n",
       "      <th>Soil_Type_8</th>\n",
       "      <td>250000.000</td>\n",
       "      <td>0.000</td>\n",
       "      <td>0.010</td>\n",
       "      <td>0.000</td>\n",
       "      <td>0.000</td>\n",
       "      <td>0.000</td>\n",
       "      <td>0.000</td>\n",
       "      <td>1.000</td>\n",
       "    </tr>\n",
       "    <tr>\n",
       "      <th>Soil_Type_9</th>\n",
       "      <td>250000.000</td>\n",
       "      <td>0.001</td>\n",
       "      <td>0.025</td>\n",
       "      <td>0.000</td>\n",
       "      <td>0.000</td>\n",
       "      <td>0.000</td>\n",
       "      <td>0.000</td>\n",
       "      <td>1.000</td>\n",
       "    </tr>\n",
       "    <tr>\n",
       "      <th>Soil_Type_10</th>\n",
       "      <td>250000.000</td>\n",
       "      <td>0.126</td>\n",
       "      <td>0.332</td>\n",
       "      <td>0.000</td>\n",
       "      <td>0.000</td>\n",
       "      <td>0.000</td>\n",
       "      <td>0.000</td>\n",
       "      <td>1.000</td>\n",
       "    </tr>\n",
       "    <tr>\n",
       "      <th>Soil_Type_11</th>\n",
       "      <td>250000.000</td>\n",
       "      <td>0.024</td>\n",
       "      <td>0.152</td>\n",
       "      <td>0.000</td>\n",
       "      <td>0.000</td>\n",
       "      <td>0.000</td>\n",
       "      <td>0.000</td>\n",
       "      <td>1.000</td>\n",
       "    </tr>\n",
       "    <tr>\n",
       "      <th>Soil_Type_12</th>\n",
       "      <td>250000.000</td>\n",
       "      <td>0.016</td>\n",
       "      <td>0.124</td>\n",
       "      <td>0.000</td>\n",
       "      <td>0.000</td>\n",
       "      <td>0.000</td>\n",
       "      <td>0.000</td>\n",
       "      <td>1.000</td>\n",
       "    </tr>\n",
       "    <tr>\n",
       "      <th>Soil_Type_13</th>\n",
       "      <td>250000.000</td>\n",
       "      <td>0.032</td>\n",
       "      <td>0.176</td>\n",
       "      <td>0.000</td>\n",
       "      <td>0.000</td>\n",
       "      <td>0.000</td>\n",
       "      <td>0.000</td>\n",
       "      <td>1.000</td>\n",
       "    </tr>\n",
       "    <tr>\n",
       "      <th>Soil_Type_14</th>\n",
       "      <td>250000.000</td>\n",
       "      <td>0.006</td>\n",
       "      <td>0.079</td>\n",
       "      <td>0.000</td>\n",
       "      <td>0.000</td>\n",
       "      <td>0.000</td>\n",
       "      <td>0.000</td>\n",
       "      <td>1.000</td>\n",
       "    </tr>\n",
       "    <tr>\n",
       "      <th>Soil_Type_15</th>\n",
       "      <td>250000.000</td>\n",
       "      <td>0.000</td>\n",
       "      <td>0.002</td>\n",
       "      <td>0.000</td>\n",
       "      <td>0.000</td>\n",
       "      <td>0.000</td>\n",
       "      <td>0.000</td>\n",
       "      <td>1.000</td>\n",
       "    </tr>\n",
       "    <tr>\n",
       "      <th>Soil_Type_16</th>\n",
       "      <td>250000.000</td>\n",
       "      <td>0.005</td>\n",
       "      <td>0.068</td>\n",
       "      <td>0.000</td>\n",
       "      <td>0.000</td>\n",
       "      <td>0.000</td>\n",
       "      <td>0.000</td>\n",
       "      <td>1.000</td>\n",
       "    </tr>\n",
       "    <tr>\n",
       "      <th>Soil_Type_17</th>\n",
       "      <td>250000.000</td>\n",
       "      <td>0.031</td>\n",
       "      <td>0.172</td>\n",
       "      <td>0.000</td>\n",
       "      <td>0.000</td>\n",
       "      <td>0.000</td>\n",
       "      <td>0.000</td>\n",
       "      <td>1.000</td>\n",
       "    </tr>\n",
       "    <tr>\n",
       "      <th>Soil_Type_18</th>\n",
       "      <td>250000.000</td>\n",
       "      <td>0.004</td>\n",
       "      <td>0.059</td>\n",
       "      <td>0.000</td>\n",
       "      <td>0.000</td>\n",
       "      <td>0.000</td>\n",
       "      <td>0.000</td>\n",
       "      <td>1.000</td>\n",
       "    </tr>\n",
       "    <tr>\n",
       "      <th>Soil_Type_19</th>\n",
       "      <td>250000.000</td>\n",
       "      <td>0.003</td>\n",
       "      <td>0.053</td>\n",
       "      <td>0.000</td>\n",
       "      <td>0.000</td>\n",
       "      <td>0.000</td>\n",
       "      <td>0.000</td>\n",
       "      <td>1.000</td>\n",
       "    </tr>\n",
       "    <tr>\n",
       "      <th>Soil_Type_20</th>\n",
       "      <td>250000.000</td>\n",
       "      <td>0.008</td>\n",
       "      <td>0.087</td>\n",
       "      <td>0.000</td>\n",
       "      <td>0.000</td>\n",
       "      <td>0.000</td>\n",
       "      <td>0.000</td>\n",
       "      <td>1.000</td>\n",
       "    </tr>\n",
       "    <tr>\n",
       "      <th>Soil_Type_21</th>\n",
       "      <td>250000.000</td>\n",
       "      <td>0.001</td>\n",
       "      <td>0.025</td>\n",
       "      <td>0.000</td>\n",
       "      <td>0.000</td>\n",
       "      <td>0.000</td>\n",
       "      <td>0.000</td>\n",
       "      <td>1.000</td>\n",
       "    </tr>\n",
       "    <tr>\n",
       "      <th>Soil_Type_22</th>\n",
       "      <td>250000.000</td>\n",
       "      <td>0.022</td>\n",
       "      <td>0.147</td>\n",
       "      <td>0.000</td>\n",
       "      <td>0.000</td>\n",
       "      <td>0.000</td>\n",
       "      <td>0.000</td>\n",
       "      <td>1.000</td>\n",
       "    </tr>\n",
       "    <tr>\n",
       "      <th>Soil_Type_23</th>\n",
       "      <td>250000.000</td>\n",
       "      <td>0.048</td>\n",
       "      <td>0.213</td>\n",
       "      <td>0.000</td>\n",
       "      <td>0.000</td>\n",
       "      <td>0.000</td>\n",
       "      <td>0.000</td>\n",
       "      <td>1.000</td>\n",
       "    </tr>\n",
       "    <tr>\n",
       "      <th>Soil_Type_24</th>\n",
       "      <td>250000.000</td>\n",
       "      <td>0.015</td>\n",
       "      <td>0.123</td>\n",
       "      <td>0.000</td>\n",
       "      <td>0.000</td>\n",
       "      <td>0.000</td>\n",
       "      <td>0.000</td>\n",
       "      <td>1.000</td>\n",
       "    </tr>\n",
       "    <tr>\n",
       "      <th>Soil_Type_25</th>\n",
       "      <td>250000.000</td>\n",
       "      <td>0.000</td>\n",
       "      <td>0.015</td>\n",
       "      <td>0.000</td>\n",
       "      <td>0.000</td>\n",
       "      <td>0.000</td>\n",
       "      <td>0.000</td>\n",
       "      <td>1.000</td>\n",
       "    </tr>\n",
       "    <tr>\n",
       "      <th>Soil_Type_26</th>\n",
       "      <td>250000.000</td>\n",
       "      <td>0.003</td>\n",
       "      <td>0.056</td>\n",
       "      <td>0.000</td>\n",
       "      <td>0.000</td>\n",
       "      <td>0.000</td>\n",
       "      <td>0.000</td>\n",
       "      <td>1.000</td>\n",
       "    </tr>\n",
       "    <tr>\n",
       "      <th>Soil_Type_27</th>\n",
       "      <td>250000.000</td>\n",
       "      <td>0.001</td>\n",
       "      <td>0.029</td>\n",
       "      <td>0.000</td>\n",
       "      <td>0.000</td>\n",
       "      <td>0.000</td>\n",
       "      <td>0.000</td>\n",
       "      <td>1.000</td>\n",
       "    </tr>\n",
       "    <tr>\n",
       "      <th>Soil_Type_28</th>\n",
       "      <td>250000.000</td>\n",
       "      <td>0.001</td>\n",
       "      <td>0.024</td>\n",
       "      <td>0.000</td>\n",
       "      <td>0.000</td>\n",
       "      <td>0.000</td>\n",
       "      <td>0.000</td>\n",
       "      <td>1.000</td>\n",
       "    </tr>\n",
       "    <tr>\n",
       "      <th>Soil_Type_29</th>\n",
       "      <td>250000.000</td>\n",
       "      <td>0.085</td>\n",
       "      <td>0.278</td>\n",
       "      <td>0.000</td>\n",
       "      <td>0.000</td>\n",
       "      <td>0.000</td>\n",
       "      <td>0.000</td>\n",
       "      <td>1.000</td>\n",
       "    </tr>\n",
       "    <tr>\n",
       "      <th>Soil_Type_30</th>\n",
       "      <td>250000.000</td>\n",
       "      <td>0.047</td>\n",
       "      <td>0.212</td>\n",
       "      <td>0.000</td>\n",
       "      <td>0.000</td>\n",
       "      <td>0.000</td>\n",
       "      <td>0.000</td>\n",
       "      <td>1.000</td>\n",
       "    </tr>\n",
       "    <tr>\n",
       "      <th>Soil_Type_31</th>\n",
       "      <td>250000.000</td>\n",
       "      <td>0.020</td>\n",
       "      <td>0.140</td>\n",
       "      <td>0.000</td>\n",
       "      <td>0.000</td>\n",
       "      <td>0.000</td>\n",
       "      <td>0.000</td>\n",
       "      <td>1.000</td>\n",
       "    </tr>\n",
       "    <tr>\n",
       "      <th>Soil_Type_32</th>\n",
       "      <td>250000.000</td>\n",
       "      <td>0.042</td>\n",
       "      <td>0.200</td>\n",
       "      <td>0.000</td>\n",
       "      <td>0.000</td>\n",
       "      <td>0.000</td>\n",
       "      <td>0.000</td>\n",
       "      <td>1.000</td>\n",
       "    </tr>\n",
       "    <tr>\n",
       "      <th>Soil_Type_33</th>\n",
       "      <td>250000.000</td>\n",
       "      <td>0.040</td>\n",
       "      <td>0.196</td>\n",
       "      <td>0.000</td>\n",
       "      <td>0.000</td>\n",
       "      <td>0.000</td>\n",
       "      <td>0.000</td>\n",
       "      <td>1.000</td>\n",
       "    </tr>\n",
       "    <tr>\n",
       "      <th>Soil_Type_34</th>\n",
       "      <td>250000.000</td>\n",
       "      <td>0.002</td>\n",
       "      <td>0.039</td>\n",
       "      <td>0.000</td>\n",
       "      <td>0.000</td>\n",
       "      <td>0.000</td>\n",
       "      <td>0.000</td>\n",
       "      <td>1.000</td>\n",
       "    </tr>\n",
       "    <tr>\n",
       "      <th>Soil_Type_35</th>\n",
       "      <td>250000.000</td>\n",
       "      <td>0.006</td>\n",
       "      <td>0.080</td>\n",
       "      <td>0.000</td>\n",
       "      <td>0.000</td>\n",
       "      <td>0.000</td>\n",
       "      <td>0.000</td>\n",
       "      <td>1.000</td>\n",
       "    </tr>\n",
       "    <tr>\n",
       "      <th>Soil_Type_36</th>\n",
       "      <td>250000.000</td>\n",
       "      <td>0.000</td>\n",
       "      <td>0.020</td>\n",
       "      <td>0.000</td>\n",
       "      <td>0.000</td>\n",
       "      <td>0.000</td>\n",
       "      <td>0.000</td>\n",
       "      <td>1.000</td>\n",
       "    </tr>\n",
       "    <tr>\n",
       "      <th>Soil_Type_37</th>\n",
       "      <td>250000.000</td>\n",
       "      <td>0.002</td>\n",
       "      <td>0.043</td>\n",
       "      <td>0.000</td>\n",
       "      <td>0.000</td>\n",
       "      <td>0.000</td>\n",
       "      <td>0.000</td>\n",
       "      <td>1.000</td>\n",
       "    </tr>\n",
       "    <tr>\n",
       "      <th>Soil_Type_38</th>\n",
       "      <td>250000.000</td>\n",
       "      <td>0.046</td>\n",
       "      <td>0.210</td>\n",
       "      <td>0.000</td>\n",
       "      <td>0.000</td>\n",
       "      <td>0.000</td>\n",
       "      <td>0.000</td>\n",
       "      <td>1.000</td>\n",
       "    </tr>\n",
       "    <tr>\n",
       "      <th>Soil_Type_39</th>\n",
       "      <td>250000.000</td>\n",
       "      <td>0.041</td>\n",
       "      <td>0.199</td>\n",
       "      <td>0.000</td>\n",
       "      <td>0.000</td>\n",
       "      <td>0.000</td>\n",
       "      <td>0.000</td>\n",
       "      <td>1.000</td>\n",
       "    </tr>\n",
       "    <tr>\n",
       "      <th>Soil_Type_40</th>\n",
       "      <td>250000.000</td>\n",
       "      <td>0.027</td>\n",
       "      <td>0.162</td>\n",
       "      <td>0.000</td>\n",
       "      <td>0.000</td>\n",
       "      <td>0.000</td>\n",
       "      <td>0.000</td>\n",
       "      <td>1.000</td>\n",
       "    </tr>\n",
       "    <tr>\n",
       "      <th>Cover_Type</th>\n",
       "      <td>250000.000</td>\n",
       "      <td>4.000</td>\n",
       "      <td>2.001</td>\n",
       "      <td>1.000</td>\n",
       "      <td>2.000</td>\n",
       "      <td>4.000</td>\n",
       "      <td>6.000</td>\n",
       "      <td>7.000</td>\n",
       "    </tr>\n",
       "  </tbody>\n",
       "</table>\n",
       "</div>"
      ],
      "text/plain": [
       "                                        count     mean      std      min  \\\n",
       "Elevation                          250000.000 2748.505  418.301 1859.000   \n",
       "Aspect                             250000.000  156.212  109.653    0.000   \n",
       "Slope                              250000.000   16.331    8.317    0.000   \n",
       "Horizontal_Distance_To_Hydrology   250000.000  228.094  209.630    0.000   \n",
       "Vertical_Distance_To_Hydrology     250000.000   50.898   61.007 -163.000   \n",
       "Horizontal_Distance_To_Roadways    250000.000 1719.967 1330.818    0.000   \n",
       "Hillshade_9am                      250000.000  212.370   30.655    0.000   \n",
       "Hillshade_Noon                     250000.000  218.511   22.681    0.000   \n",
       "Hillshade_3pm                      250000.000  134.503   46.034    0.000   \n",
       "Horizontal_Distance_To_Fire_Points 250000.000 1521.757 1107.378    0.000   \n",
       "Wilderness_Area_1                  250000.000    0.238    0.426    0.000   \n",
       "Wilderness_Area_2                  250000.000    0.033    0.180    0.000   \n",
       "Wilderness_Area_3                  250000.000    0.418    0.493    0.000   \n",
       "Wilderness_Area_4                  250000.000    0.309    0.462    0.000   \n",
       "Soil_Type_1                        250000.000    0.018    0.134    0.000   \n",
       "Soil_Type_2                        250000.000    0.036    0.186    0.000   \n",
       "Soil_Type_3                        250000.000    0.058    0.234    0.000   \n",
       "Soil_Type_4                        250000.000    0.047    0.211    0.000   \n",
       "Soil_Type_5                        250000.000    0.009    0.095    0.000   \n",
       "Soil_Type_6                        250000.000    0.037    0.190    0.000   \n",
       "Soil_Type_7                        250000.000    0.000    0.008    0.000   \n",
       "Soil_Type_8                        250000.000    0.000    0.010    0.000   \n",
       "Soil_Type_9                        250000.000    0.001    0.025    0.000   \n",
       "Soil_Type_10                       250000.000    0.126    0.332    0.000   \n",
       "Soil_Type_11                       250000.000    0.024    0.152    0.000   \n",
       "Soil_Type_12                       250000.000    0.016    0.124    0.000   \n",
       "Soil_Type_13                       250000.000    0.032    0.176    0.000   \n",
       "Soil_Type_14                       250000.000    0.006    0.079    0.000   \n",
       "Soil_Type_15                       250000.000    0.000    0.002    0.000   \n",
       "Soil_Type_16                       250000.000    0.005    0.068    0.000   \n",
       "Soil_Type_17                       250000.000    0.031    0.172    0.000   \n",
       "Soil_Type_18                       250000.000    0.004    0.059    0.000   \n",
       "Soil_Type_19                       250000.000    0.003    0.053    0.000   \n",
       "Soil_Type_20                       250000.000    0.008    0.087    0.000   \n",
       "Soil_Type_21                       250000.000    0.001    0.025    0.000   \n",
       "Soil_Type_22                       250000.000    0.022    0.147    0.000   \n",
       "Soil_Type_23                       250000.000    0.048    0.213    0.000   \n",
       "Soil_Type_24                       250000.000    0.015    0.123    0.000   \n",
       "Soil_Type_25                       250000.000    0.000    0.015    0.000   \n",
       "Soil_Type_26                       250000.000    0.003    0.056    0.000   \n",
       "Soil_Type_27                       250000.000    0.001    0.029    0.000   \n",
       "Soil_Type_28                       250000.000    0.001    0.024    0.000   \n",
       "Soil_Type_29                       250000.000    0.085    0.278    0.000   \n",
       "Soil_Type_30                       250000.000    0.047    0.212    0.000   \n",
       "Soil_Type_31                       250000.000    0.020    0.140    0.000   \n",
       "Soil_Type_32                       250000.000    0.042    0.200    0.000   \n",
       "Soil_Type_33                       250000.000    0.040    0.196    0.000   \n",
       "Soil_Type_34                       250000.000    0.002    0.039    0.000   \n",
       "Soil_Type_35                       250000.000    0.006    0.080    0.000   \n",
       "Soil_Type_36                       250000.000    0.000    0.020    0.000   \n",
       "Soil_Type_37                       250000.000    0.002    0.043    0.000   \n",
       "Soil_Type_38                       250000.000    0.046    0.210    0.000   \n",
       "Soil_Type_39                       250000.000    0.041    0.199    0.000   \n",
       "Soil_Type_40                       250000.000    0.027    0.162    0.000   \n",
       "Cover_Type                         250000.000    4.000    2.001    1.000   \n",
       "\n",
       "                                        25%      50%      75%      max  \n",
       "Elevation                          2375.000 2753.000 3108.000 3857.000  \n",
       "Aspect                               65.000  125.000  260.000  360.000  \n",
       "Slope                                10.000   15.000   22.000   65.000  \n",
       "Horizontal_Distance_To_Hydrology     66.000  180.000  330.000 1390.000  \n",
       "Vertical_Distance_To_Hydrology        5.000   32.000   79.000  598.000  \n",
       "Horizontal_Distance_To_Roadways     756.000 1318.000 2294.000 7112.000  \n",
       "Hillshade_9am                       195.000  220.000  235.000  254.000  \n",
       "Hillshade_Noon                      206.000  222.000  235.000  254.000  \n",
       "Hillshade_3pm                       106.000  137.000  167.000  252.000  \n",
       "Horizontal_Distance_To_Fire_Points  734.000 1273.000 1998.000 7150.000  \n",
       "Wilderness_Area_1                     0.000    0.000    0.000    1.000  \n",
       "Wilderness_Area_2                     0.000    0.000    0.000    1.000  \n",
       "Wilderness_Area_3                     0.000    0.000    1.000    1.000  \n",
       "Wilderness_Area_4                     0.000    0.000    1.000    1.000  \n",
       "Soil_Type_1                           0.000    0.000    0.000    1.000  \n",
       "Soil_Type_2                           0.000    0.000    0.000    1.000  \n",
       "Soil_Type_3                           0.000    0.000    0.000    1.000  \n",
       "Soil_Type_4                           0.000    0.000    0.000    1.000  \n",
       "Soil_Type_5                           0.000    0.000    0.000    1.000  \n",
       "Soil_Type_6                           0.000    0.000    0.000    1.000  \n",
       "Soil_Type_7                           0.000    0.000    0.000    1.000  \n",
       "Soil_Type_8                           0.000    0.000    0.000    1.000  \n",
       "Soil_Type_9                           0.000    0.000    0.000    1.000  \n",
       "Soil_Type_10                          0.000    0.000    0.000    1.000  \n",
       "Soil_Type_11                          0.000    0.000    0.000    1.000  \n",
       "Soil_Type_12                          0.000    0.000    0.000    1.000  \n",
       "Soil_Type_13                          0.000    0.000    0.000    1.000  \n",
       "Soil_Type_14                          0.000    0.000    0.000    1.000  \n",
       "Soil_Type_15                          0.000    0.000    0.000    1.000  \n",
       "Soil_Type_16                          0.000    0.000    0.000    1.000  \n",
       "Soil_Type_17                          0.000    0.000    0.000    1.000  \n",
       "Soil_Type_18                          0.000    0.000    0.000    1.000  \n",
       "Soil_Type_19                          0.000    0.000    0.000    1.000  \n",
       "Soil_Type_20                          0.000    0.000    0.000    1.000  \n",
       "Soil_Type_21                          0.000    0.000    0.000    1.000  \n",
       "Soil_Type_22                          0.000    0.000    0.000    1.000  \n",
       "Soil_Type_23                          0.000    0.000    0.000    1.000  \n",
       "Soil_Type_24                          0.000    0.000    0.000    1.000  \n",
       "Soil_Type_25                          0.000    0.000    0.000    1.000  \n",
       "Soil_Type_26                          0.000    0.000    0.000    1.000  \n",
       "Soil_Type_27                          0.000    0.000    0.000    1.000  \n",
       "Soil_Type_28                          0.000    0.000    0.000    1.000  \n",
       "Soil_Type_29                          0.000    0.000    0.000    1.000  \n",
       "Soil_Type_30                          0.000    0.000    0.000    1.000  \n",
       "Soil_Type_31                          0.000    0.000    0.000    1.000  \n",
       "Soil_Type_32                          0.000    0.000    0.000    1.000  \n",
       "Soil_Type_33                          0.000    0.000    0.000    1.000  \n",
       "Soil_Type_34                          0.000    0.000    0.000    1.000  \n",
       "Soil_Type_35                          0.000    0.000    0.000    1.000  \n",
       "Soil_Type_36                          0.000    0.000    0.000    1.000  \n",
       "Soil_Type_37                          0.000    0.000    0.000    1.000  \n",
       "Soil_Type_38                          0.000    0.000    0.000    1.000  \n",
       "Soil_Type_39                          0.000    0.000    0.000    1.000  \n",
       "Soil_Type_40                          0.000    0.000    0.000    1.000  \n",
       "Cover_Type                            2.000    4.000    6.000    7.000  "
      ]
     },
     "execution_count": 8,
     "metadata": {},
     "output_type": "execute_result"
    }
   ],
   "source": [
    "df.describe().T"
   ]
  },
  {
   "cell_type": "code",
   "execution_count": 9,
   "metadata": {},
   "outputs": [
    {
     "data": {
      "text/plain": [
       "False"
      ]
     },
     "execution_count": 9,
     "metadata": {},
     "output_type": "execute_result"
    }
   ],
   "source": [
    "df.isnull().sum().any()"
   ]
  },
  {
   "cell_type": "markdown",
   "metadata": {},
   "source": [
    "#### Target Label"
   ]
  },
  {
   "cell_type": "code",
   "execution_count": 10,
   "metadata": {},
   "outputs": [
    {
     "data": {
      "text/plain": [
       "1    35836\n",
       "2    35780\n",
       "3    35391\n",
       "4    35529\n",
       "5    36079\n",
       "6    35695\n",
       "7    35690\n",
       "Name: Cover_Type, dtype: int64"
      ]
     },
     "execution_count": 10,
     "metadata": {},
     "output_type": "execute_result"
    }
   ],
   "source": [
    "df.Cover_Type.value_counts().sort_index()"
   ]
  },
  {
   "cell_type": "markdown",
   "metadata": {},
   "source": [
    "Target label is balanced."
   ]
  },
  {
   "cell_type": "code",
   "execution_count": 11,
   "metadata": {},
   "outputs": [
    {
     "data": {
      "image/png": "[encoded data removed]",
      "text/plain": [
       "<Figure size 720x432 with 1 Axes>"
      ]
     },
     "metadata": {},
     "output_type": "display_data"
    }
   ],
   "source": [
    "sns.countplot(df.Cover_Type);"
   ]
  },
  {
   "cell_type": "markdown",
   "metadata": {
    "id": "fQeP_Dhtri3v"
   },
   "source": [
    "***\n",
    "***"
   ]
  },
  {
   "cell_type": "markdown",
   "metadata": {
    "id": "kdwJqW45ASC0"
   },
   "source": [
    "## 2.  Data Cleaning"
   ]
  },
  {
   "cell_type": "markdown",
   "metadata": {
    "id": "h95eEjnEASC0"
   },
   "source": [
    "### Detect Missing Values and Outliers"
   ]
  },
  {
   "cell_type": "markdown",
   "metadata": {
    "id": "TNvbnTdnASC0"
   },
   "source": [
    "#### *i. Missing Value Detection*"
   ]
  },
  {
   "cell_type": "code",
   "execution_count": 12,
   "metadata": {
    "id": "VkLpnVcvASC0"
   },
   "outputs": [
    {
     "data": {
      "text/plain": [
       "False"
      ]
     },
     "execution_count": 12,
     "metadata": {},
     "output_type": "execute_result"
    }
   ],
   "source": [
    "df.isnull().sum().any()"
   ]
  },
  {
   "cell_type": "markdown",
   "metadata": {
    "id": "AdTLXhWeASC0"
   },
   "source": [
    "#### *ii. Outlier Detection*\n",
    "\n",
    "The columns which have continuous value should be examined in terms of [outliers](https://datascience.foundation/sciencewhitepaper/knowing-all-about-outliers-in-machine-learning) (Watch out for columns that look like continuous but not continuous!). Some algorithms are [sensitive to outliers](https://arsrinevetha.medium.com/ml-algorithms-sensitivity-towards-outliers-f3862a13c94d), but some algorithms can tolerate them. You can decide to outlier detection according to the algorithm you will use.\n",
    "- You can check the outliers shape of continous features with respect to the target (Cover_Type) classes.\n",
    "- You can check how many outliers are there of each continuous variables.\n",
    "- The columns which have continuous value should be examined in terms of outliers.\n",
    "- You can define a function to detect outliers in accordance with the ``zscore`` or ``IQR``."
   ]
  },
  {
   "cell_type": "code",
   "execution_count": 13,
   "metadata": {},
   "outputs": [],
   "source": [
    "def is_outlier(x, k):\n",
    "    upper = np.quantile(x, 0.75)\n",
    "    lower = np.quantile(x, 0.25)\n",
    "    iqr = upper - lower\n",
    "    a = upper + iqr * k\n",
    "    b = lower - iqr * k\n",
    "    if a > x.max():\n",
    "        a = x.max()\n",
    "    if b < x.min():\n",
    "        b = x.min()\n",
    "    print('-----',x.name,'-----')\n",
    "    print('Upper Limit: ', a, '\\n', 'Lower Limit: ', b, sep='')\n",
    "    print('Number of outliers in the lower bound:', len(df[x<b]))\n",
    "    print('Number of outliers in the upper bound:', len(df[x>a]))"
   ]
  },
  {
   "cell_type": "code",
   "execution_count": null,
   "metadata": {},
   "outputs": [],
   "source": [
    "# def remove_outlier(x, k, ind=0, df_new=None):\n",
    "#     global df\n",
    "#     if df_new is not None:\n",
    "#         df = df_new\n",
    "#     x = list(x)\n",
    "#     i = x[ind]\n",
    "#     upper = np.quantile(df[i], 0.75)\n",
    "#     lower = np.quantile(df[i], 0.25)\n",
    "#     iqr = upper - lower\n",
    "#     a = upper + iqr * k\n",
    "#     b = lower - iqr * k\n",
    "#     if a > df[i].max():\n",
    "#         a = df[i].max()\n",
    "#     if b < df[i].min():\n",
    "#         b = df[i].min()\n",
    "#     df_new = df.loc[(df[i] <= a) & (df[i] >= b)]\n",
    "#     ind += 1\n",
    "#     if ind != len(x):\n",
    "#         return remove_outlier(x, k, ind, df_new)\n",
    "#     return df_new\n",
    "\n",
    "# remove_outlier(df.columns[:10], 2.5)"
   ]
  },
  {
   "cell_type": "markdown",
   "metadata": {},
   "source": [
    "#### Elevation"
   ]
  },
  {
   "cell_type": "code",
   "execution_count": 14,
   "metadata": {},
   "outputs": [
    {
     "data": {
      "image/png": "[encoded data removed]",
      "text/plain": [
       "<Figure size 720x432 with 1 Axes>"
      ]
     },
     "metadata": {},
     "output_type": "display_data"
    }
   ],
   "source": [
    "sns.boxplot(df.Elevation);"
   ]
  },
  {
   "cell_type": "code",
   "execution_count": 15,
   "metadata": {},
   "outputs": [
    {
     "name": "stdout",
     "output_type": "stream",
     "text": [
      "----- Elevation -----\n",
      "Upper Limit: 3857\n",
      "Lower Limit: 1859\n",
      "Number of outliers in the lower bound: 0\n",
      "Number of outliers in the upper bound: 0\n"
     ]
    }
   ],
   "source": [
    "is_outlier(df.Elevation, 1.5)"
   ]
  },
  {
   "cell_type": "markdown",
   "metadata": {},
   "source": [
    "#### Aspect"
   ]
  },
  {
   "cell_type": "code",
   "execution_count": 16,
   "metadata": {},
   "outputs": [
    {
     "data": {
      "image/png": "[encoded data removed]",
      "text/plain": [
       "<Figure size 720x432 with 1 Axes>"
      ]
     },
     "metadata": {},
     "output_type": "display_data"
    }
   ],
   "source": [
    "sns.boxplot(df.Aspect);"
   ]
  },
  {
   "cell_type": "code",
   "execution_count": 17,
   "metadata": {},
   "outputs": [
    {
     "name": "stdout",
     "output_type": "stream",
     "text": [
      "----- Aspect -----\n",
      "Upper Limit: 360\n",
      "Lower Limit: 0\n",
      "Number of outliers in the lower bound: 0\n",
      "Number of outliers in the upper bound: 0\n"
     ]
    }
   ],
   "source": [
    "is_outlier(df.Aspect, 1.5)"
   ]
  },
  {
   "cell_type": "markdown",
   "metadata": {},
   "source": [
    "#### Slope"
   ]
  },
  {
   "cell_type": "code",
   "execution_count": 18,
   "metadata": {},
   "outputs": [
    {
     "data": {
      "image/png": "[encoded data removed]",
      "text/plain": [
       "<Figure size 720x432 with 1 Axes>"
      ]
     },
     "metadata": {},
     "output_type": "display_data"
    }
   ],
   "source": [
    "sns.boxplot(df.Slope);"
   ]
  },
  {
   "cell_type": "code",
   "execution_count": 19,
   "metadata": {},
   "outputs": [
    {
     "name": "stdout",
     "output_type": "stream",
     "text": [
      "----- Slope -----\n",
      "Upper Limit: 46.0\n",
      "Lower Limit: 0\n",
      "Number of outliers in the lower bound: 0\n",
      "Number of outliers in the upper bound: 132\n"
     ]
    }
   ],
   "source": [
    "is_outlier(df.Slope, 2)"
   ]
  },
  {
   "cell_type": "code",
   "execution_count": 20,
   "metadata": {},
   "outputs": [],
   "source": [
    "df = df[df.Slope <= 46]"
   ]
  },
  {
   "cell_type": "markdown",
   "metadata": {},
   "source": [
    "#### Horizontal_Distance_To_Hydrology"
   ]
  },
  {
   "cell_type": "code",
   "execution_count": 21,
   "metadata": {},
   "outputs": [
    {
     "data": {
      "image/png": "[encoded data removed]",
      "text/plain": [
       "<Figure size 720x432 with 1 Axes>"
      ]
     },
     "metadata": {},
     "output_type": "display_data"
    }
   ],
   "source": [
    "sns.boxplot(df['Horizontal_Distance_To_Hydrology']);"
   ]
  },
  {
   "cell_type": "code",
   "execution_count": 22,
   "metadata": {},
   "outputs": [
    {
     "name": "stdout",
     "output_type": "stream",
     "text": [
      "----- Horizontal_Distance_To_Hydrology -----\n",
      "Upper Limit: 1122.0\n",
      "Lower Limit: 0\n",
      "Number of outliers in the lower bound: 0\n",
      "Number of outliers in the upper bound: 732\n"
     ]
    }
   ],
   "source": [
    "is_outlier(df['Horizontal_Distance_To_Hydrology'], 3)"
   ]
  },
  {
   "cell_type": "code",
   "execution_count": 23,
   "metadata": {},
   "outputs": [],
   "source": [
    "# df = df[df['Horizontal_Distance_To_Hydrology'] <= 1122]"
   ]
  },
  {
   "cell_type": "markdown",
   "metadata": {},
   "source": [
    "#### Vertical_Distance_To_Hydrology"
   ]
  },
  {
   "cell_type": "code",
   "execution_count": 24,
   "metadata": {},
   "outputs": [
    {
     "data": {
      "image/png": "[encoded data removed]",
      "text/plain": [
       "<Figure size 720x432 with 1 Axes>"
      ]
     },
     "metadata": {},
     "output_type": "display_data"
    }
   ],
   "source": [
    "sns.boxplot(df['Vertical_Distance_To_Hydrology']);"
   ]
  },
  {
   "cell_type": "code",
   "execution_count": 25,
   "metadata": {},
   "outputs": [
    {
     "name": "stdout",
     "output_type": "stream",
     "text": [
      "----- Vertical_Distance_To_Hydrology -----\n",
      "Upper Limit: 301.0\n",
      "Lower Limit: -163\n",
      "Number of outliers in the lower bound: 0\n",
      "Number of outliers in the upper bound: 957\n"
     ]
    }
   ],
   "source": [
    "is_outlier(df['Vertical_Distance_To_Hydrology'], 3)"
   ]
  },
  {
   "cell_type": "code",
   "execution_count": 26,
   "metadata": {},
   "outputs": [],
   "source": [
    "# df = df[df['Vertical_Distance_To_Hydrology'] <= 301]"
   ]
  },
  {
   "cell_type": "code",
   "execution_count": 27,
   "metadata": {},
   "outputs": [],
   "source": [
    "df['distance_to_hydrology'] = (df['Horizontal_Distance_To_Hydrology'] ** 2 + df['Vertical_Distance_To_Hydrology'] ** 2) ** 0.5"
   ]
  },
  {
   "cell_type": "code",
   "execution_count": 28,
   "metadata": {},
   "outputs": [
    {
     "data": {
      "image/png": "[encoded data removed]",
      "text/plain": [
       "<Figure size 720x432 with 1 Axes>"
      ]
     },
     "metadata": {},
     "output_type": "display_data"
    }
   ],
   "source": [
    "sns.boxplot(df['distance_to_hydrology']);"
   ]
  },
  {
   "cell_type": "code",
   "execution_count": 29,
   "metadata": {},
   "outputs": [
    {
     "name": "stdout",
     "output_type": "stream",
     "text": [
      "----- distance_to_hydrology -----\n",
      "Upper Limit: 1168.5589588336518\n",
      "Lower Limit: 0.0\n",
      "Number of outliers in the lower bound: 0\n",
      "Number of outliers in the upper bound: 511\n"
     ]
    }
   ],
   "source": [
    "is_outlier(df['distance_to_hydrology'], 3)"
   ]
  },
  {
   "cell_type": "code",
   "execution_count": 30,
   "metadata": {},
   "outputs": [],
   "source": [
    "df = df[df['distance_to_hydrology'] < 1169]"
   ]
  },
  {
   "cell_type": "markdown",
   "metadata": {},
   "source": [
    "#### Horizontal_Distance_To_Roadways|"
   ]
  },
  {
   "cell_type": "code",
   "execution_count": 31,
   "metadata": {},
   "outputs": [
    {
     "data": {
      "image/png": "[encoded data removed]",
      "text/plain": [
       "<Figure size 720x432 with 1 Axes>"
      ]
     },
     "metadata": {},
     "output_type": "display_data"
    }
   ],
   "source": [
    "sns.boxplot(df['Horizontal_Distance_To_Roadways']);"
   ]
  },
  {
   "cell_type": "code",
   "execution_count": 32,
   "metadata": {},
   "outputs": [
    {
     "name": "stdout",
     "output_type": "stream",
     "text": [
      "----- Horizontal_Distance_To_Roadways -----\n",
      "Upper Limit: 6883.0\n",
      "Lower Limit: 0\n",
      "Number of outliers in the lower bound: 0\n",
      "Number of outliers in the upper bound: 21\n"
     ]
    }
   ],
   "source": [
    "is_outlier(df['Horizontal_Distance_To_Roadways'], 3)"
   ]
  },
  {
   "cell_type": "code",
   "execution_count": 33,
   "metadata": {},
   "outputs": [],
   "source": [
    "# df = df[df['Horizontal_Distance_To_Roadways'] <= 66883]"
   ]
  },
  {
   "cell_type": "markdown",
   "metadata": {},
   "source": [
    "#### Horizontal_Distance_To_Fire_Points"
   ]
  },
  {
   "cell_type": "code",
   "execution_count": 34,
   "metadata": {},
   "outputs": [
    {
     "data": {
      "image/png": "[encoded data removed]",
      "text/plain": [
       "<Figure size 720x432 with 1 Axes>"
      ]
     },
     "metadata": {},
     "output_type": "display_data"
    }
   ],
   "source": [
    "sns.boxplot(df['Horizontal_Distance_To_Fire_Points']);"
   ]
  },
  {
   "cell_type": "code",
   "execution_count": 35,
   "metadata": {},
   "outputs": [
    {
     "name": "stdout",
     "output_type": "stream",
     "text": [
      "----- Horizontal_Distance_To_Fire_Points -----\n",
      "Upper Limit: 5780.0\n",
      "Lower Limit: 0\n",
      "Number of outliers in the lower bound: 0\n",
      "Number of outliers in the upper bound: 2417\n"
     ]
    }
   ],
   "source": [
    "is_outlier(df['Horizontal_Distance_To_Fire_Points'], 3)"
   ]
  },
  {
   "cell_type": "code",
   "execution_count": 36,
   "metadata": {},
   "outputs": [],
   "source": [
    "# df = df[df['Horizontal_Distance_To_Fire_Points'] <= 5780 ]"
   ]
  },
  {
   "cell_type": "code",
   "execution_count": 37,
   "metadata": {},
   "outputs": [],
   "source": [
    "df['distance_to_city'] = (df['Horizontal_Distance_To_Roadways'] + df['Horizontal_Distance_To_Fire_Points']) / 2"
   ]
  },
  {
   "cell_type": "code",
   "execution_count": 38,
   "metadata": {},
   "outputs": [
    {
     "data": {
      "image/png": "[encoded data removed]",
      "text/plain": [
       "<Figure size 720x432 with 1 Axes>"
      ]
     },
     "metadata": {},
     "output_type": "display_data"
    }
   ],
   "source": [
    "sns.boxplot(df['distance_to_city']);"
   ]
  },
  {
   "cell_type": "code",
   "execution_count": 39,
   "metadata": {},
   "outputs": [
    {
     "name": "stdout",
     "output_type": "stream",
     "text": [
      "----- distance_to_city -----\n",
      "Upper Limit: 5824.5\n",
      "Lower Limit: 21.0\n",
      "Number of outliers in the lower bound: 0\n",
      "Number of outliers in the upper bound: 219\n"
     ]
    }
   ],
   "source": [
    "is_outlier(df['distance_to_city'], 3)"
   ]
  },
  {
   "cell_type": "code",
   "execution_count": 40,
   "metadata": {},
   "outputs": [],
   "source": [
    "df = df[df['distance_to_city'] < 5825]"
   ]
  },
  {
   "cell_type": "markdown",
   "metadata": {},
   "source": [
    "#### Hillshade_9am"
   ]
  },
  {
   "cell_type": "code",
   "execution_count": 41,
   "metadata": {},
   "outputs": [
    {
     "data": {
      "image/png": "[encoded data removed]",
      "text/plain": [
       "<Figure size 720x432 with 1 Axes>"
      ]
     },
     "metadata": {},
     "output_type": "display_data"
    }
   ],
   "source": [
    "sns.boxplot(df['Hillshade_9am']);"
   ]
  },
  {
   "cell_type": "code",
   "execution_count": 42,
   "metadata": {},
   "outputs": [
    {
     "name": "stdout",
     "output_type": "stream",
     "text": [
      "----- Hillshade_9am -----\n",
      "Upper Limit: 254\n",
      "Lower Limit: 95.0\n",
      "Number of outliers in the lower bound: 383\n",
      "Number of outliers in the upper bound: 0\n"
     ]
    }
   ],
   "source": [
    "is_outlier(df['Hillshade_9am'], 2.5)"
   ]
  },
  {
   "cell_type": "code",
   "execution_count": 43,
   "metadata": {},
   "outputs": [],
   "source": [
    "df = df[df['Hillshade_9am'] >= 95]"
   ]
  },
  {
   "cell_type": "markdown",
   "metadata": {},
   "source": [
    "#### Hillshade_Noon"
   ]
  },
  {
   "cell_type": "code",
   "execution_count": 44,
   "metadata": {},
   "outputs": [
    {
     "data": {
      "image/png": "[encoded data removed]",
      "text/plain": [
       "<Figure size 720x432 with 1 Axes>"
      ]
     },
     "metadata": {},
     "output_type": "display_data"
    }
   ],
   "source": [
    "sns.boxplot(df['Hillshade_Noon']);"
   ]
  },
  {
   "cell_type": "code",
   "execution_count": 45,
   "metadata": {},
   "outputs": [
    {
     "name": "stdout",
     "output_type": "stream",
     "text": [
      "----- Hillshade_Noon -----\n",
      "Upper Limit: 254\n",
      "Lower Limit: 133.5\n",
      "Number of outliers in the lower bound: 469\n",
      "Number of outliers in the upper bound: 0\n"
     ]
    }
   ],
   "source": [
    "is_outlier(df['Hillshade_Noon'], 2.5)"
   ]
  },
  {
   "cell_type": "code",
   "execution_count": 46,
   "metadata": {},
   "outputs": [],
   "source": [
    "df = df[df['Hillshade_Noon'] >= 133.5 ]"
   ]
  },
  {
   "cell_type": "markdown",
   "metadata": {},
   "source": [
    "#### Hillshade_3pm"
   ]
  },
  {
   "cell_type": "code",
   "execution_count": 47,
   "metadata": {},
   "outputs": [
    {
     "data": {
      "image/png": "[encoded data removed]",
      "text/plain": [
       "<Figure size 720x432 with 1 Axes>"
      ]
     },
     "metadata": {},
     "output_type": "display_data"
    }
   ],
   "source": [
    "sns.boxplot(df['Hillshade_3pm']);"
   ]
  },
  {
   "cell_type": "code",
   "execution_count": 48,
   "metadata": {},
   "outputs": [
    {
     "name": "stdout",
     "output_type": "stream",
     "text": [
      "----- Hillshade_3pm -----\n",
      "Upper Limit: 248\n",
      "Lower Limit: 0\n",
      "Number of outliers in the lower bound: 0\n",
      "Number of outliers in the upper bound: 0\n"
     ]
    }
   ],
   "source": [
    "is_outlier(df['Hillshade_3pm'], 2.5)"
   ]
  },
  {
   "cell_type": "markdown",
   "metadata": {
    "id": "ax0-S9b6ri3I"
   },
   "source": [
    "### Deal with Outliers"
   ]
  },
  {
   "cell_type": "markdown",
   "metadata": {
    "id": "XfVCLwHlASC0"
   },
   "source": [
    "#### *i. Drop Outliers*"
   ]
  },
  {
   "cell_type": "code",
   "execution_count": 49,
   "metadata": {
    "id": "FK9d2g38Olu9",
    "scrolled": false
   },
   "outputs": [],
   "source": [
    "# Just dropped above"
   ]
  },
  {
   "cell_type": "code",
   "execution_count": 50,
   "metadata": {},
   "outputs": [
    {
     "data": {
      "text/plain": [
       "(248287, 57)"
      ]
     },
     "execution_count": 50,
     "metadata": {},
     "output_type": "execute_result"
    }
   ],
   "source": [
    "df.shape"
   ]
  },
  {
   "cell_type": "code",
   "execution_count": 51,
   "metadata": {},
   "outputs": [],
   "source": [
    "df.drop(['Horizontal_Distance_To_Hydrology', 'Vertical_Distance_To_Hydrology', 'Horizontal_Distance_To_Roadways',\n",
    "        'Horizontal_Distance_To_Fire_Points'], axis=1, inplace=True)"
   ]
  },
  {
   "cell_type": "markdown",
   "metadata": {
    "id": "il9xamPwzEUv"
   },
   "source": [
    "### Now, let's take a closer look at correlation of continuous columns."
   ]
  },
  {
   "cell_type": "code",
   "execution_count": 52,
   "metadata": {},
   "outputs": [
    {
     "data": {
      "text/plain": [
       "Index(['Elevation', 'Aspect', 'Slope', 'Hillshade_9am', 'Hillshade_Noon',\n",
       "       'Hillshade_3pm', 'Wilderness_Area_1', 'Wilderness_Area_2',\n",
       "       'Wilderness_Area_3', 'Wilderness_Area_4', 'Soil_Type_1', 'Soil_Type_2',\n",
       "       'Soil_Type_3', 'Soil_Type_4', 'Soil_Type_5', 'Soil_Type_6',\n",
       "       'Soil_Type_7', 'Soil_Type_8', 'Soil_Type_9', 'Soil_Type_10',\n",
       "       'Soil_Type_11', 'Soil_Type_12', 'Soil_Type_13', 'Soil_Type_14',\n",
       "       'Soil_Type_15', 'Soil_Type_16', 'Soil_Type_17', 'Soil_Type_18',\n",
       "       'Soil_Type_19', 'Soil_Type_20', 'Soil_Type_21', 'Soil_Type_22',\n",
       "       'Soil_Type_23', 'Soil_Type_24', 'Soil_Type_25', 'Soil_Type_26',\n",
       "       'Soil_Type_27', 'Soil_Type_28', 'Soil_Type_29', 'Soil_Type_30',\n",
       "       'Soil_Type_31', 'Soil_Type_32', 'Soil_Type_33', 'Soil_Type_34',\n",
       "       'Soil_Type_35', 'Soil_Type_36', 'Soil_Type_37', 'Soil_Type_38',\n",
       "       'Soil_Type_39', 'Soil_Type_40', 'Cover_Type', 'distance_to_hydrology',\n",
       "       'distance_to_city'],\n",
       "      dtype='object')"
      ]
     },
     "execution_count": 52,
     "metadata": {},
     "output_type": "execute_result"
    }
   ],
   "source": [
    "df.columns"
   ]
  },
  {
   "cell_type": "code",
   "execution_count": 53,
   "metadata": {
    "id": "WjDFWFcgASC0"
   },
   "outputs": [
    {
     "data": {
      "text/html": [
       "<div>\n",
       "<style scoped>\n",
       "    .dataframe tbody tr th:only-of-type {\n",
       "        vertical-align: middle;\n",
       "    }\n",
       "\n",
       "    .dataframe tbody tr th {\n",
       "        vertical-align: top;\n",
       "    }\n",
       "\n",
       "    .dataframe thead th {\n",
       "        text-align: right;\n",
       "    }\n",
       "</style>\n",
       "<table border=\"1\" class=\"dataframe\">\n",
       "  <thead>\n",
       "    <tr style=\"text-align: right;\">\n",
       "      <th></th>\n",
       "      <th>Elevation</th>\n",
       "      <th>Aspect</th>\n",
       "      <th>Slope</th>\n",
       "      <th>distance_to_hydrology</th>\n",
       "      <th>distance_to_city</th>\n",
       "      <th>Hillshade_9am</th>\n",
       "      <th>Hillshade_Noon</th>\n",
       "      <th>Hillshade_3pm</th>\n",
       "      <th>Cover_Type</th>\n",
       "    </tr>\n",
       "  </thead>\n",
       "  <tbody>\n",
       "    <tr>\n",
       "      <th>Elevation</th>\n",
       "      <td>1.000</td>\n",
       "      <td>-0.022</td>\n",
       "      <td>-0.322</td>\n",
       "      <td>0.401</td>\n",
       "      <td>0.608</td>\n",
       "      <td>0.106</td>\n",
       "      <td>0.226</td>\n",
       "      <td>0.088</td>\n",
       "      <td>0.009</td>\n",
       "    </tr>\n",
       "    <tr>\n",
       "      <th>Aspect</th>\n",
       "      <td>-0.022</td>\n",
       "      <td>1.000</td>\n",
       "      <td>0.038</td>\n",
       "      <td>0.038</td>\n",
       "      <td>-0.014</td>\n",
       "      <td>-0.608</td>\n",
       "      <td>0.325</td>\n",
       "      <td>0.639</td>\n",
       "      <td>0.006</td>\n",
       "    </tr>\n",
       "    <tr>\n",
       "      <th>Slope</th>\n",
       "      <td>-0.322</td>\n",
       "      <td>0.038</td>\n",
       "      <td>1.000</td>\n",
       "      <td>-0.033</td>\n",
       "      <td>-0.305</td>\n",
       "      <td>-0.181</td>\n",
       "      <td>-0.598</td>\n",
       "      <td>-0.328</td>\n",
       "      <td>0.077</td>\n",
       "    </tr>\n",
       "    <tr>\n",
       "      <th>distance_to_hydrology</th>\n",
       "      <td>0.401</td>\n",
       "      <td>0.038</td>\n",
       "      <td>-0.033</td>\n",
       "      <td>1.000</td>\n",
       "      <td>0.178</td>\n",
       "      <td>-0.029</td>\n",
       "      <td>0.067</td>\n",
       "      <td>0.066</td>\n",
       "      <td>0.006</td>\n",
       "    </tr>\n",
       "    <tr>\n",
       "      <th>distance_to_city</th>\n",
       "      <td>0.608</td>\n",
       "      <td>-0.014</td>\n",
       "      <td>-0.305</td>\n",
       "      <td>0.178</td>\n",
       "      <td>1.000</td>\n",
       "      <td>0.057</td>\n",
       "      <td>0.214</td>\n",
       "      <td>0.117</td>\n",
       "      <td>-0.117</td>\n",
       "    </tr>\n",
       "    <tr>\n",
       "      <th>Hillshade_9am</th>\n",
       "      <td>0.106</td>\n",
       "      <td>-0.608</td>\n",
       "      <td>-0.181</td>\n",
       "      <td>-0.029</td>\n",
       "      <td>0.057</td>\n",
       "      <td>1.000</td>\n",
       "      <td>-0.032</td>\n",
       "      <td>-0.790</td>\n",
       "      <td>-0.021</td>\n",
       "    </tr>\n",
       "    <tr>\n",
       "      <th>Hillshade_Noon</th>\n",
       "      <td>0.226</td>\n",
       "      <td>0.325</td>\n",
       "      <td>-0.598</td>\n",
       "      <td>0.067</td>\n",
       "      <td>0.214</td>\n",
       "      <td>-0.032</td>\n",
       "      <td>1.000</td>\n",
       "      <td>0.616</td>\n",
       "      <td>-0.108</td>\n",
       "    </tr>\n",
       "    <tr>\n",
       "      <th>Hillshade_3pm</th>\n",
       "      <td>0.088</td>\n",
       "      <td>0.639</td>\n",
       "      <td>-0.328</td>\n",
       "      <td>0.066</td>\n",
       "      <td>0.117</td>\n",
       "      <td>-0.790</td>\n",
       "      <td>0.616</td>\n",
       "      <td>1.000</td>\n",
       "      <td>-0.053</td>\n",
       "    </tr>\n",
       "    <tr>\n",
       "      <th>Cover_Type</th>\n",
       "      <td>0.009</td>\n",
       "      <td>0.006</td>\n",
       "      <td>0.077</td>\n",
       "      <td>0.006</td>\n",
       "      <td>-0.117</td>\n",
       "      <td>-0.021</td>\n",
       "      <td>-0.108</td>\n",
       "      <td>-0.053</td>\n",
       "      <td>1.000</td>\n",
       "    </tr>\n",
       "  </tbody>\n",
       "</table>\n",
       "</div>"
      ],
      "text/plain": [
       "                       Elevation  Aspect  Slope  distance_to_hydrology  \\\n",
       "Elevation                  1.000  -0.022 -0.322                  0.401   \n",
       "Aspect                    -0.022   1.000  0.038                  0.038   \n",
       "Slope                     -0.322   0.038  1.000                 -0.033   \n",
       "distance_to_hydrology      0.401   0.038 -0.033                  1.000   \n",
       "distance_to_city           0.608  -0.014 -0.305                  0.178   \n",
       "Hillshade_9am              0.106  -0.608 -0.181                 -0.029   \n",
       "Hillshade_Noon             0.226   0.325 -0.598                  0.067   \n",
       "Hillshade_3pm              0.088   0.639 -0.328                  0.066   \n",
       "Cover_Type                 0.009   0.006  0.077                  0.006   \n",
       "\n",
       "                       distance_to_city  Hillshade_9am  Hillshade_Noon  \\\n",
       "Elevation                         0.608          0.106           0.226   \n",
       "Aspect                           -0.014         -0.608           0.325   \n",
       "Slope                            -0.305         -0.181          -0.598   \n",
       "distance_to_hydrology             0.178         -0.029           0.067   \n",
       "distance_to_city                  1.000          0.057           0.214   \n",
       "Hillshade_9am                     0.057          1.000          -0.032   \n",
       "Hillshade_Noon                    0.214         -0.032           1.000   \n",
       "Hillshade_3pm                     0.117         -0.790           0.616   \n",
       "Cover_Type                       -0.117         -0.021          -0.108   \n",
       "\n",
       "                       Hillshade_3pm  Cover_Type  \n",
       "Elevation                      0.088       0.009  \n",
       "Aspect                         0.639       0.006  \n",
       "Slope                         -0.328       0.077  \n",
       "distance_to_hydrology          0.066       0.006  \n",
       "distance_to_city               0.117      -0.117  \n",
       "Hillshade_9am                 -0.790      -0.021  \n",
       "Hillshade_Noon                 0.616      -0.108  \n",
       "Hillshade_3pm                  1.000      -0.053  \n",
       "Cover_Type                    -0.053       1.000  "
      ]
     },
     "execution_count": 53,
     "metadata": {},
     "output_type": "execute_result"
    }
   ],
   "source": [
    "df[['Elevation', 'Aspect', 'Slope','distance_to_hydrology', 'distance_to_city','Hillshade_9am', 'Hillshade_Noon',\n",
    "   'Hillshade_3pm', 'Cover_Type']].corr()"
   ]
  },
  {
   "cell_type": "code",
   "execution_count": 54,
   "metadata": {},
   "outputs": [
    {
     "data": {
      "image/png": "[encoded data removed]",
      "text/plain": [
       "<Figure size 1080x720 with 2 Axes>"
      ]
     },
     "metadata": {},
     "output_type": "display_data"
    }
   ],
   "source": [
    "plt.figure(figsize=(15,10))\n",
    "sns.heatmap(df[['Elevation', 'Aspect', 'Slope','distance_to_hydrology', 'distance_to_city','Hillshade_9am', \n",
    "               'Hillshade_Noon','Hillshade_3pm', 'Cover_Type']].corr(), annot=True, cmap='RdBu');"
   ]
  },
  {
   "cell_type": "code",
   "execution_count": 55,
   "metadata": {},
   "outputs": [
    {
     "data": {
      "image/png": "[encoded data removed]",
      "text/plain": [
       "<Figure size 1080x720 with 2 Axes>"
      ]
     },
     "metadata": {},
     "output_type": "display_data"
    }
   ],
   "source": [
    "plt.figure(figsize=(15,10))\n",
    "sns.heatmap(df[['Wilderness_Area_1', 'Wilderness_Area_2','Wilderness_Area_3', 'Wilderness_Area_4',\n",
    "                'Cover_Type']].corr(), annot=True, cmap='RdBu');"
   ]
  },
  {
   "cell_type": "markdown",
   "metadata": {
    "id": "UzffSKptri3v"
   },
   "source": [
    "## 3. Feature Engineering"
   ]
  },
  {
   "cell_type": "markdown",
   "metadata": {
    "id": "yP5LibfOASC0"
   },
   "source": [
    "### My Plan of Feature Extraction\n",
    "- First, I decided to produce&transform a new column with ``Horizontal_Distance_To_Hydrology`` and ``Vertical_Distance_To_Hydrology`` columns. New column will contain the values of **Hypotenuse** of ``horizantal`` and ``vertical`` distances.\n",
    "\n",
    "- As second, we can produce&transform an additional column which contains **average** of Horizantal Distances to Hydrology and Roadways.\n",
    "\n",
    "- Third, I decided to transform a new column which contains **average** of `Elevation` and ``Vertical_Distance_To_Hydrology`` columns. So that, there is no need to have ``Horizontal_Distance_To_Hydrology`` and ``Vertical_Distance_To_Hydrology`` columns, because I have new columns which represent more value than them. I decide to drop these columns.\n",
    "\n",
    "- Note that, after seeing the result of the models, there may be a possibility of making minor changes to the features in the modeling phase."
   ]
  },
  {
   "cell_type": "code",
   "execution_count": 56,
   "metadata": {
    "cell_style": "center",
    "id": "82ImPSoIOlu-"
   },
   "outputs": [],
   "source": [
    "# Made some feature engineering above."
   ]
  },
  {
   "cell_type": "markdown",
   "metadata": {
    "id": "45zRLFdDASC0"
   },
   "source": [
    "***\n",
    "***"
   ]
  },
  {
   "cell_type": "markdown",
   "metadata": {
    "id": "Ylwp86BnIbfD"
   },
   "source": [
    "## 4. Prediction (Multi-class Classification)"
   ]
  },
  {
   "cell_type": "markdown",
   "metadata": {
    "id": "-hmyNTpmASC0"
   },
   "source": [
    "If you have done, use your data set resulting from Feature Engineering task. If you haven't done Feature Engineering, use the latest version of your data set.\n",
    "In this section, you have two main tasks that apply to each algorithm:\n",
    "1. Model Building and Prediction\n",
    "\n",
    " - SVM (Use ``LinearSVC`` model from``sklearn.svm`` module)\n",
    " - Decision Tree (Use ``DecisionTreeClassifier`` model from ``sklearn.tree`` module)\n",
    " - Random Forest (Use ``RandomForestClassifier`` model from ``sklearn.ensemble`` module) \n",
    " - XGBoost (Use ``XGBClassifier`` model from``xgboost`` module)\n",
    "\n",
    "2. Visualizing the Result\n",
    "\n",
    "- Use [yellowbrick](https://www.scikit-yb.org/en/latest/), [seaborn](https://seaborn.pydata.org/tutorial/regression.html) or [matplotlib](https://matplotlib.org/) modules to visualize the model results.\n",
    "\n",
    "- Show three plots for the results:\n",
    " - Class Prediction Error Bar Plot\n",
    " - Confusion Matrix\n",
    " - Classification Report"
   ]
  },
  {
   "cell_type": "markdown",
   "metadata": {
    "id": "5bKNukyEASC0"
   },
   "source": [
    "### 1. Import Libraries"
   ]
  },
  {
   "cell_type": "code",
   "execution_count": 112,
   "metadata": {
    "id": "44t5jjukASC0"
   },
   "outputs": [],
   "source": [
    "from sklearn.model_selection import train_test_split\n",
    "from sklearn.preprocessing import StandardScaler, MinMaxScaler\n",
    "\n",
    "from sklearn.svm import LinearSVC\n",
    "from sklearn.metrics import classification_report,confusion_matrix,plot_confusion_matrix\n",
    "\n",
    "from sklearn.tree import DecisionTreeClassifier\n",
    "\n",
    "from sklearn.pipeline import Pipeline\n",
    "from sklearn.model_selection import cross_validate, cross_val_score\n",
    "from sklearn.metrics import accuracy_score, f1_score, recall_score, precision_score\n",
    "from sklearn.metrics import make_scorer\n",
    "from sklearn.model_selection import GridSearchCV"
   ]
  },
  {
   "cell_type": "code",
   "execution_count": 67,
   "metadata": {},
   "outputs": [],
   "source": [
    "def eval_metric(model, X_train, y_train, X_test, y_test):\n",
    "    y_train_pred = model.predict(X_train)\n",
    "    y_pred = model.predict(X_test)\n",
    "    \n",
    "    print(\"Test_Set\")\n",
    "    print(confusion_matrix(y_test, y_pred))\n",
    "    print(classification_report(y_test, y_pred))\n",
    "    print()\n",
    "    print(\"Train_Set\")\n",
    "    print(confusion_matrix(y_train, y_train_pred))\n",
    "    print(classification_report(y_train, y_train_pred))"
   ]
  },
  {
   "cell_type": "markdown",
   "metadata": {
    "id": "c-HeuK9FIbfJ"
   },
   "source": [
    "### 2. Data Preprocessing"
   ]
  },
  {
   "cell_type": "markdown",
   "metadata": {
    "id": "W22WncJ9ASC0"
   },
   "source": [
    "- Drop target variable\n",
    "- Train-Test Split\n",
    "\n",
    "*Note: You can use the train and test data generated here for all algorithms.*"
   ]
  },
  {
   "cell_type": "code",
   "execution_count": 68,
   "metadata": {},
   "outputs": [],
   "source": [
    "X=df.drop([\"Cover_Type\"], axis=1)\n",
    "y=df[\"Cover_Type\"]"
   ]
  },
  {
   "cell_type": "code",
   "execution_count": 69,
   "metadata": {},
   "outputs": [],
   "source": [
    "X_train, X_test, y_train, y_test = train_test_split(X, y, test_size=0.20, stratify=y, random_state=42)"
   ]
  },
  {
   "cell_type": "markdown",
   "metadata": {
    "id": "rOisMsLIASC0"
   },
   "source": [
    "### 3. Implement Support Vector Machines\n",
    "- Import the modul \n",
    "- Fit the model \n",
    "- Predict the test set\n",
    "- Visualize and evaluate the result (use yellowbrick module)\n",
    "\n",
    "*Note: You probably won't get a successful result. You may need to make some changes to the model or data. This may be a topic worth investigating, you decide.*"
   ]
  },
  {
   "cell_type": "code",
   "execution_count": 70,
   "metadata": {},
   "outputs": [],
   "source": [
    "operations = [(\"scaler\", MinMaxScaler()), (\"SVC\", LinearSVC(random_state=42))]\n",
    "pipe_model = Pipeline(steps=operations)"
   ]
  },
  {
   "cell_type": "code",
   "execution_count": 71,
   "metadata": {
    "cell_style": "split",
    "id": "OMc5EJsiASC0"
   },
   "outputs": [
    {
     "name": "stdout",
     "output_type": "stream",
     "text": [
      "Test_Set\n",
      "[[4702 1043   10    0  440   77  865]\n",
      " [1807 3430  155    4 1326  327   47]\n",
      " [   0   23 3463 1043  432 2016    0]\n",
      " [   0    0  336 6510    0  260    0]\n",
      " [ 257 1143  563    0 4822  410    0]\n",
      " [   0  253 1113  869  783 4103    0]\n",
      " [ 743    0   26    0   24    0 6233]]\n",
      "              precision    recall  f1-score   support\n",
      "\n",
      "           1       0.63      0.66      0.64      7137\n",
      "           2       0.58      0.48      0.53      7096\n",
      "           3       0.61      0.50      0.55      6977\n",
      "           4       0.77      0.92      0.84      7106\n",
      "           5       0.62      0.67      0.64      7195\n",
      "           6       0.57      0.58      0.57      7121\n",
      "           7       0.87      0.89      0.88      7026\n",
      "\n",
      "    accuracy                           0.67     49658\n",
      "   macro avg       0.66      0.67      0.66     49658\n",
      "weighted avg       0.66      0.67      0.66     49658\n",
      "\n",
      "\n",
      "Train_Set\n",
      "[[18650  4231    24     0  1734   295  3614]\n",
      " [ 7166 13714   646    15  5372  1297   174]\n",
      " [    0    97 13708  4119  1798  8188     0]\n",
      " [    0     0  1436 25881     0  1106     0]\n",
      " [ 1006  4390  2214     0 19671  1496     0]\n",
      " [    1  1068  4489  3336  3200 16391     0]\n",
      " [ 3016     5   104     0   108     0 24869]]\n",
      "              precision    recall  f1-score   support\n",
      "\n",
      "           1       0.63      0.65      0.64     28548\n",
      "           2       0.58      0.48      0.53     28384\n",
      "           3       0.61      0.49      0.54     27910\n",
      "           4       0.78      0.91      0.84     28423\n",
      "           5       0.62      0.68      0.65     28777\n",
      "           6       0.57      0.58      0.57     28485\n",
      "           7       0.87      0.88      0.88     28102\n",
      "\n",
      "    accuracy                           0.67    198629\n",
      "   macro avg       0.66      0.67      0.66    198629\n",
      "weighted avg       0.66      0.67      0.66    198629\n",
      "\n"
     ]
    }
   ],
   "source": [
    "pipe_model.fit(X_train, y_train)\n",
    "eval_metric(pipe_model, X_train, y_train, X_test, y_test)"
   ]
  },
  {
   "cell_type": "markdown",
   "metadata": {},
   "source": [
    "##### Cross Validation"
   ]
  },
  {
   "cell_type": "code",
   "execution_count": 79,
   "metadata": {},
   "outputs": [
    {
     "data": {
      "text/html": [
       "<div>\n",
       "<style scoped>\n",
       "    .dataframe tbody tr th:only-of-type {\n",
       "        vertical-align: middle;\n",
       "    }\n",
       "\n",
       "    .dataframe tbody tr th {\n",
       "        vertical-align: top;\n",
       "    }\n",
       "\n",
       "    .dataframe thead th {\n",
       "        text-align: right;\n",
       "    }\n",
       "</style>\n",
       "<table border=\"1\" class=\"dataframe\">\n",
       "  <thead>\n",
       "    <tr style=\"text-align: right;\">\n",
       "      <th></th>\n",
       "      <th>fit_time</th>\n",
       "      <th>score_time</th>\n",
       "      <th>test_accuracy</th>\n",
       "      <th>test_precision_micro</th>\n",
       "      <th>test_recall_micro</th>\n",
       "      <th>test_f1_micro</th>\n",
       "    </tr>\n",
       "  </thead>\n",
       "  <tbody>\n",
       "    <tr>\n",
       "      <th>1</th>\n",
       "      <td>20.598</td>\n",
       "      <td>0.076</td>\n",
       "      <td>0.672</td>\n",
       "      <td>0.672</td>\n",
       "      <td>0.672</td>\n",
       "      <td>0.672</td>\n",
       "    </tr>\n",
       "    <tr>\n",
       "      <th>2</th>\n",
       "      <td>19.935</td>\n",
       "      <td>0.077</td>\n",
       "      <td>0.667</td>\n",
       "      <td>0.667</td>\n",
       "      <td>0.667</td>\n",
       "      <td>0.667</td>\n",
       "    </tr>\n",
       "    <tr>\n",
       "      <th>3</th>\n",
       "      <td>19.285</td>\n",
       "      <td>0.078</td>\n",
       "      <td>0.669</td>\n",
       "      <td>0.669</td>\n",
       "      <td>0.669</td>\n",
       "      <td>0.669</td>\n",
       "    </tr>\n",
       "    <tr>\n",
       "      <th>4</th>\n",
       "      <td>19.620</td>\n",
       "      <td>0.077</td>\n",
       "      <td>0.668</td>\n",
       "      <td>0.668</td>\n",
       "      <td>0.668</td>\n",
       "      <td>0.668</td>\n",
       "    </tr>\n",
       "    <tr>\n",
       "      <th>5</th>\n",
       "      <td>19.363</td>\n",
       "      <td>0.084</td>\n",
       "      <td>0.666</td>\n",
       "      <td>0.666</td>\n",
       "      <td>0.666</td>\n",
       "      <td>0.666</td>\n",
       "    </tr>\n",
       "  </tbody>\n",
       "</table>\n",
       "</div>"
      ],
      "text/plain": [
       "   fit_time  score_time  test_accuracy  test_precision_micro  \\\n",
       "1    20.598       0.076          0.672                 0.672   \n",
       "2    19.935       0.077          0.667                 0.667   \n",
       "3    19.285       0.078          0.669                 0.669   \n",
       "4    19.620       0.077          0.668                 0.668   \n",
       "5    19.363       0.084          0.666                 0.666   \n",
       "\n",
       "   test_recall_micro  test_f1_micro  \n",
       "1              0.672          0.672  \n",
       "2              0.667          0.667  \n",
       "3              0.669          0.669  \n",
       "4              0.668          0.668  \n",
       "5              0.666          0.666  "
      ]
     },
     "execution_count": 79,
     "metadata": {},
     "output_type": "execute_result"
    }
   ],
   "source": [
    "operations = [(\"scaler\", MinMaxScaler()), (\"SVC\", LinearSVC(random_state=42))]\n",
    "pipe_model = Pipeline(steps=operations)\n",
    "\n",
    "scores = cross_validate(pipe_model, X_train, y_train, scoring = [\"accuracy\", \"precision_micro\", \"recall_micro\", \n",
    "                                                                 \"f1_micro\"], cv = 5)\n",
    "df_scores = pd.DataFrame(scores, index = range(1, 6))\n",
    "df_scores"
   ]
  },
  {
   "cell_type": "code",
   "execution_count": 80,
   "metadata": {},
   "outputs": [
    {
     "data": {
      "text/plain": [
       "test_accuracy          0.668\n",
       "test_precision_micro   0.668\n",
       "test_recall_micro      0.668\n",
       "test_f1_micro          0.668\n",
       "dtype: float64"
      ]
     },
     "execution_count": 80,
     "metadata": {},
     "output_type": "execute_result"
    }
   ],
   "source": [
    "df_scores.mean()[2:]"
   ]
  },
  {
   "cell_type": "code",
   "execution_count": 82,
   "metadata": {},
   "outputs": [
    {
     "data": {
      "text/plain": [
       "{'memory': None,\n",
       " 'steps': [('scaler', MinMaxScaler()), ('SVC', LinearSVC(random_state=42))],\n",
       " 'verbose': False,\n",
       " 'scaler': MinMaxScaler(),\n",
       " 'SVC': LinearSVC(random_state=42),\n",
       " 'scaler__clip': False,\n",
       " 'scaler__copy': True,\n",
       " 'scaler__feature_range': (0, 1),\n",
       " 'SVC__C': 1.0,\n",
       " 'SVC__class_weight': None,\n",
       " 'SVC__dual': True,\n",
       " 'SVC__fit_intercept': True,\n",
       " 'SVC__intercept_scaling': 1,\n",
       " 'SVC__loss': 'squared_hinge',\n",
       " 'SVC__max_iter': 1000,\n",
       " 'SVC__multi_class': 'ovr',\n",
       " 'SVC__penalty': 'l2',\n",
       " 'SVC__random_state': 42,\n",
       " 'SVC__tol': 0.0001,\n",
       " 'SVC__verbose': 0}"
      ]
     },
     "execution_count": 82,
     "metadata": {},
     "output_type": "execute_result"
    }
   ],
   "source": [
    "pipe_model.get_params()"
   ]
  },
  {
   "cell_type": "markdown",
   "metadata": {},
   "source": [
    "##### Finding the Best Parameters with GridSearchCV"
   ]
  },
  {
   "cell_type": "code",
   "execution_count": 86,
   "metadata": {},
   "outputs": [],
   "source": [
    "param_grid = {'SVC__C': [0.01, 0.1, 1],\n",
    "              'SVC__penalty': ['l1', 'l2'],\n",
    "             'SVC__class_weight': [None, 'balanced']}"
   ]
  },
  {
   "cell_type": "code",
   "execution_count": 87,
   "metadata": {},
   "outputs": [],
   "source": [
    "operations = [(\"scaler\", MinMaxScaler()), (\"SVC\", LinearSVC(random_state=42))]\n",
    "pipe_model = Pipeline(steps=operations)\n",
    "\n",
    "svm_model_grid = GridSearchCV(pipe_model, param_grid, scoring=\"accuracy\", cv=5)"
   ]
  },
  {
   "cell_type": "code",
   "execution_count": 88,
   "metadata": {},
   "outputs": [
    {
     "data": {
      "text/plain": [
       "GridSearchCV(cv=5,\n",
       "             estimator=Pipeline(steps=[('scaler', MinMaxScaler()),\n",
       "                                       ('SVC', LinearSVC(random_state=42))]),\n",
       "             param_grid={'SVC__C': [0.01, 0.1, 1],\n",
       "                         'SVC__class_weight': [None, 'balanced'],\n",
       "                         'SVC__penalty': ['l1', 'l2']},\n",
       "             scoring='accuracy')"
      ]
     },
     "execution_count": 88,
     "metadata": {},
     "output_type": "execute_result"
    }
   ],
   "source": [
    "svm_model_grid.fit(X_train, y_train)"
   ]
  },
  {
   "cell_type": "code",
   "execution_count": 139,
   "metadata": {},
   "outputs": [
    {
     "data": {
      "text/plain": [
       "{'SVC__C': 1, 'SVC__class_weight': 'balanced', 'SVC__penalty': 'l2'}"
      ]
     },
     "execution_count": 139,
     "metadata": {},
     "output_type": "execute_result"
    }
   ],
   "source": [
    "svm_model_grid.best_params_"
   ]
  },
  {
   "cell_type": "code",
   "execution_count": 90,
   "metadata": {},
   "outputs": [
    {
     "data": {
      "text/plain": [
       "11"
      ]
     },
     "execution_count": 90,
     "metadata": {},
     "output_type": "execute_result"
    }
   ],
   "source": [
    "svm_model_grid.best_index_"
   ]
  },
  {
   "cell_type": "code",
   "execution_count": 91,
   "metadata": {},
   "outputs": [
    {
     "data": {
      "text/plain": [
       "0.6684421576661046"
      ]
     },
     "execution_count": 91,
     "metadata": {},
     "output_type": "execute_result"
    }
   ],
   "source": [
    "svm_model_grid.best_score_"
   ]
  },
  {
   "cell_type": "code",
   "execution_count": 92,
   "metadata": {},
   "outputs": [
    {
     "name": "stdout",
     "output_type": "stream",
     "text": [
      "Test_Set\n",
      "[[4695 1052   10    0  436   77  867]\n",
      " [1803 3447  157    4 1311  326   48]\n",
      " [   0   23 3492 1032  432 1998    0]\n",
      " [   0    0  347 6501    0  258    0]\n",
      " [ 263 1159  566    0 4798  409    0]\n",
      " [   0  254 1134  866  781 4086    0]\n",
      " [ 740    0   26    0   24    0 6236]]\n",
      "              precision    recall  f1-score   support\n",
      "\n",
      "           1       0.63      0.66      0.64      7137\n",
      "           2       0.58      0.49      0.53      7096\n",
      "           3       0.61      0.50      0.55      6977\n",
      "           4       0.77      0.91      0.84      7106\n",
      "           5       0.62      0.67      0.64      7195\n",
      "           6       0.57      0.57      0.57      7121\n",
      "           7       0.87      0.89      0.88      7026\n",
      "\n",
      "    accuracy                           0.67     49658\n",
      "   macro avg       0.66      0.67      0.66     49658\n",
      "weighted avg       0.66      0.67      0.66     49658\n",
      "\n",
      "\n",
      "Train_Set\n",
      "[[18608  4279    24     0  1711   294  3632]\n",
      " [ 7135 13761   655    15  5354  1289   175]\n",
      " [    0    96 13861  4086  1794  8073     0]\n",
      " [    0     0  1476 25848     0  1099     0]\n",
      " [ 1017  4448  2240     0 19579  1493     0]\n",
      " [    1  1072  4586  3326  3176 16324     0]\n",
      " [ 3007     5   104     0   107     0 24879]]\n",
      "              precision    recall  f1-score   support\n",
      "\n",
      "           1       0.63      0.65      0.64     28548\n",
      "           2       0.58      0.48      0.53     28384\n",
      "           3       0.60      0.50      0.55     27910\n",
      "           4       0.78      0.91      0.84     28423\n",
      "           5       0.62      0.68      0.65     28777\n",
      "           6       0.57      0.57      0.57     28485\n",
      "           7       0.87      0.89      0.88     28102\n",
      "\n",
      "    accuracy                           0.67    198629\n",
      "   macro avg       0.66      0.67      0.66    198629\n",
      "weighted avg       0.66      0.67      0.66    198629\n",
      "\n"
     ]
    }
   ],
   "source": [
    "eval_metric(svm_model_grid, X_train, y_train, X_test, y_test)"
   ]
  },
  {
   "cell_type": "code",
   "execution_count": 93,
   "metadata": {},
   "outputs": [
    {
     "data": {
      "text/plain": [
       "test_accuracy          0.668\n",
       "test_precision_micro   0.668\n",
       "test_recall_micro      0.668\n",
       "test_f1_micro          0.668\n",
       "dtype: float64"
      ]
     },
     "execution_count": 93,
     "metadata": {},
     "output_type": "execute_result"
    }
   ],
   "source": [
    "operations = [(\"scaler\", MinMaxScaler()), (\"SVC\", LinearSVC(C=1, class_weight=\"balanced\", penalty='l2', \n",
    "                                                            random_state=42))]\n",
    "model = Pipeline(steps=operations)\n",
    "\n",
    "scores = cross_validate(model, X_train, y_train, scoring = [\"accuracy\", \"precision_micro\", \"recall_micro\", \n",
    "                                                                 \"f1_micro\"], cv = 5)\n",
    "df_scores_svc = pd.DataFrame(scores, index = range(1, 6))\n",
    "df_scores_svc.mean()[2:]"
   ]
  },
  {
   "cell_type": "code",
   "execution_count": 151,
   "metadata": {},
   "outputs": [],
   "source": [
    "y_pred_svm = svm_model_grid.predict(X_test)\n",
    "my_dict = {'Actual': y_test, 'Pred': y_pred_svm, 'Residual': y_test-y_pred_svm}\n",
    "compare_svm = pd.DataFrame(my_dict)"
   ]
  },
  {
   "cell_type": "code",
   "execution_count": 152,
   "metadata": {},
   "outputs": [
    {
     "data": {
      "text/html": [
       "<div>\n",
       "<style scoped>\n",
       "    .dataframe tbody tr th:only-of-type {\n",
       "        vertical-align: middle;\n",
       "    }\n",
       "\n",
       "    .dataframe tbody tr th {\n",
       "        vertical-align: top;\n",
       "    }\n",
       "\n",
       "    .dataframe thead th {\n",
       "        text-align: right;\n",
       "    }\n",
       "</style>\n",
       "<table border=\"1\" class=\"dataframe\">\n",
       "  <thead>\n",
       "    <tr style=\"text-align: right;\">\n",
       "      <th></th>\n",
       "      <th>Actual</th>\n",
       "      <th>Pred</th>\n",
       "      <th>Residual</th>\n",
       "    </tr>\n",
       "  </thead>\n",
       "  <tbody>\n",
       "    <tr>\n",
       "      <th>8932</th>\n",
       "      <td>7</td>\n",
       "      <td>7</td>\n",
       "      <td>0</td>\n",
       "    </tr>\n",
       "    <tr>\n",
       "      <th>81486</th>\n",
       "      <td>3</td>\n",
       "      <td>4</td>\n",
       "      <td>-1</td>\n",
       "    </tr>\n",
       "    <tr>\n",
       "      <th>17416</th>\n",
       "      <td>6</td>\n",
       "      <td>4</td>\n",
       "      <td>2</td>\n",
       "    </tr>\n",
       "    <tr>\n",
       "      <th>190736</th>\n",
       "      <td>6</td>\n",
       "      <td>6</td>\n",
       "      <td>0</td>\n",
       "    </tr>\n",
       "    <tr>\n",
       "      <th>57155</th>\n",
       "      <td>1</td>\n",
       "      <td>1</td>\n",
       "      <td>0</td>\n",
       "    </tr>\n",
       "    <tr>\n",
       "      <th>208230</th>\n",
       "      <td>2</td>\n",
       "      <td>1</td>\n",
       "      <td>1</td>\n",
       "    </tr>\n",
       "    <tr>\n",
       "      <th>200871</th>\n",
       "      <td>2</td>\n",
       "      <td>2</td>\n",
       "      <td>0</td>\n",
       "    </tr>\n",
       "    <tr>\n",
       "      <th>187604</th>\n",
       "      <td>5</td>\n",
       "      <td>5</td>\n",
       "      <td>0</td>\n",
       "    </tr>\n",
       "    <tr>\n",
       "      <th>150064</th>\n",
       "      <td>5</td>\n",
       "      <td>5</td>\n",
       "      <td>0</td>\n",
       "    </tr>\n",
       "    <tr>\n",
       "      <th>225122</th>\n",
       "      <td>1</td>\n",
       "      <td>1</td>\n",
       "      <td>0</td>\n",
       "    </tr>\n",
       "    <tr>\n",
       "      <th>11383</th>\n",
       "      <td>4</td>\n",
       "      <td>4</td>\n",
       "      <td>0</td>\n",
       "    </tr>\n",
       "    <tr>\n",
       "      <th>237626</th>\n",
       "      <td>7</td>\n",
       "      <td>7</td>\n",
       "      <td>0</td>\n",
       "    </tr>\n",
       "    <tr>\n",
       "      <th>12965</th>\n",
       "      <td>2</td>\n",
       "      <td>2</td>\n",
       "      <td>0</td>\n",
       "    </tr>\n",
       "    <tr>\n",
       "      <th>147856</th>\n",
       "      <td>5</td>\n",
       "      <td>5</td>\n",
       "      <td>0</td>\n",
       "    </tr>\n",
       "    <tr>\n",
       "      <th>236478</th>\n",
       "      <td>1</td>\n",
       "      <td>7</td>\n",
       "      <td>-6</td>\n",
       "    </tr>\n",
       "    <tr>\n",
       "      <th>67129</th>\n",
       "      <td>4</td>\n",
       "      <td>4</td>\n",
       "      <td>0</td>\n",
       "    </tr>\n",
       "    <tr>\n",
       "      <th>76820</th>\n",
       "      <td>1</td>\n",
       "      <td>1</td>\n",
       "      <td>0</td>\n",
       "    </tr>\n",
       "    <tr>\n",
       "      <th>227011</th>\n",
       "      <td>4</td>\n",
       "      <td>4</td>\n",
       "      <td>0</td>\n",
       "    </tr>\n",
       "    <tr>\n",
       "      <th>18928</th>\n",
       "      <td>5</td>\n",
       "      <td>2</td>\n",
       "      <td>3</td>\n",
       "    </tr>\n",
       "    <tr>\n",
       "      <th>167727</th>\n",
       "      <td>2</td>\n",
       "      <td>2</td>\n",
       "      <td>0</td>\n",
       "    </tr>\n",
       "  </tbody>\n",
       "</table>\n",
       "</div>"
      ],
      "text/plain": [
       "        Actual  Pred  Residual\n",
       "8932         7     7         0\n",
       "81486        3     4        -1\n",
       "17416        6     4         2\n",
       "190736       6     6         0\n",
       "57155        1     1         0\n",
       "208230       2     1         1\n",
       "200871       2     2         0\n",
       "187604       5     5         0\n",
       "150064       5     5         0\n",
       "225122       1     1         0\n",
       "11383        4     4         0\n",
       "237626       7     7         0\n",
       "12965        2     2         0\n",
       "147856       5     5         0\n",
       "236478       1     7        -6\n",
       "67129        4     4         0\n",
       "76820        1     1         0\n",
       "227011       4     4         0\n",
       "18928        5     2         3\n",
       "167727       2     2         0"
      ]
     },
     "execution_count": 152,
     "metadata": {},
     "output_type": "execute_result"
    }
   ],
   "source": [
    "comp_sample_svm = compare_svm.sample(20)\n",
    "comp_sample_svm"
   ]
  },
  {
   "cell_type": "code",
   "execution_count": 153,
   "metadata": {},
   "outputs": [
    {
     "data": {
      "image/png": "[encoded data removed]",
      "text/plain": [
       "<Figure size 1080x648 with 1 Axes>"
      ]
     },
     "metadata": {},
     "output_type": "display_data"
    }
   ],
   "source": [
    "comp_sample_svm.plot(kind='bar',figsize=(15,9))\n",
    "plt.show()"
   ]
  },
  {
   "cell_type": "code",
   "execution_count": 179,
   "metadata": {},
   "outputs": [
    {
     "data": {
      "image/png": "[encoded data removed]",
      "text/plain": [
       "<Figure size 576x396 with 1 Axes>"
      ]
     },
     "metadata": {},
     "output_type": "display_data"
    }
   ],
   "source": [
    "from yellowbrick.classifier import ClassPredictionError\n",
    "\n",
    "visualizer = ClassPredictionError(svm_model_grid)\n",
    "\n",
    "# Fit the training data to the visualizer\n",
    "visualizer.fit(X_train, y_train)\n",
    "\n",
    "# Evaluate the model on the test data\n",
    "visualizer.score(X_test, y_test)\n",
    "\n",
    "# Draw visualization\n",
    "visualizer.poof();"
   ]
  },
  {
   "cell_type": "code",
   "execution_count": 94,
   "metadata": {},
   "outputs": [],
   "source": [
    "scaler = MinMaxScaler()\n",
    "X_train_scaled = scaler.fit_transform(X_train)\n",
    "X_test_scaled = scaler.transform(X_test)"
   ]
  },
  {
   "cell_type": "code",
   "execution_count": 95,
   "metadata": {},
   "outputs": [
    {
     "data": {
      "image/png": "[encoded data removed]",
      "text/plain": [
       "<Figure size 576x396 with 1 Axes>"
      ]
     },
     "metadata": {},
     "output_type": "display_data"
    }
   ],
   "source": [
    "from yellowbrick.classifier import ROCAUC\n",
    "\n",
    "model = svm_model_grid\n",
    "visualizer = ROCAUC(model)\n",
    "\n",
    "visualizer.fit(X_train_scaled, y_train)        # Fit the training data to the visualizer\n",
    "visualizer.score(X_test_scaled, y_test)        # Evaluate the model on the test data\n",
    "visualizer.show(); "
   ]
  },
  {
   "cell_type": "code",
   "execution_count": 97,
   "metadata": {},
   "outputs": [
    {
     "data": {
      "text/html": [
       "<div>\n",
       "<style scoped>\n",
       "    .dataframe tbody tr th:only-of-type {\n",
       "        vertical-align: middle;\n",
       "    }\n",
       "\n",
       "    .dataframe tbody tr th {\n",
       "        vertical-align: top;\n",
       "    }\n",
       "\n",
       "    .dataframe thead th {\n",
       "        text-align: right;\n",
       "    }\n",
       "</style>\n",
       "<table border=\"1\" class=\"dataframe\">\n",
       "  <thead>\n",
       "    <tr style=\"text-align: right;\">\n",
       "      <th></th>\n",
       "      <th>fit_time</th>\n",
       "      <th>score_time</th>\n",
       "      <th>test_accuracy</th>\n",
       "      <th>test_precision_micro</th>\n",
       "      <th>test_recall_micro</th>\n",
       "      <th>test_f1_micro</th>\n",
       "    </tr>\n",
       "  </thead>\n",
       "  <tbody>\n",
       "    <tr>\n",
       "      <th>1</th>\n",
       "      <td>22.795</td>\n",
       "      <td>0.080</td>\n",
       "      <td>0.672</td>\n",
       "      <td>0.672</td>\n",
       "      <td>0.672</td>\n",
       "      <td>0.672</td>\n",
       "    </tr>\n",
       "    <tr>\n",
       "      <th>2</th>\n",
       "      <td>22.139</td>\n",
       "      <td>0.080</td>\n",
       "      <td>0.667</td>\n",
       "      <td>0.667</td>\n",
       "      <td>0.667</td>\n",
       "      <td>0.667</td>\n",
       "    </tr>\n",
       "    <tr>\n",
       "      <th>3</th>\n",
       "      <td>19.685</td>\n",
       "      <td>0.079</td>\n",
       "      <td>0.669</td>\n",
       "      <td>0.669</td>\n",
       "      <td>0.669</td>\n",
       "      <td>0.669</td>\n",
       "    </tr>\n",
       "    <tr>\n",
       "      <th>4</th>\n",
       "      <td>22.025</td>\n",
       "      <td>0.097</td>\n",
       "      <td>0.668</td>\n",
       "      <td>0.668</td>\n",
       "      <td>0.668</td>\n",
       "      <td>0.668</td>\n",
       "    </tr>\n",
       "    <tr>\n",
       "      <th>5</th>\n",
       "      <td>19.897</td>\n",
       "      <td>0.079</td>\n",
       "      <td>0.666</td>\n",
       "      <td>0.666</td>\n",
       "      <td>0.666</td>\n",
       "      <td>0.666</td>\n",
       "    </tr>\n",
       "  </tbody>\n",
       "</table>\n",
       "</div>"
      ],
      "text/plain": [
       "   fit_time  score_time  test_accuracy  test_precision_micro  \\\n",
       "1    22.795       0.080          0.672                 0.672   \n",
       "2    22.139       0.080          0.667                 0.667   \n",
       "3    19.685       0.079          0.669                 0.669   \n",
       "4    22.025       0.097          0.668                 0.668   \n",
       "5    19.897       0.079          0.666                 0.666   \n",
       "\n",
       "   test_recall_micro  test_f1_micro  \n",
       "1              0.672          0.672  \n",
       "2              0.667          0.667  \n",
       "3              0.669          0.669  \n",
       "4              0.668          0.668  \n",
       "5              0.666          0.666  "
      ]
     },
     "execution_count": 97,
     "metadata": {},
     "output_type": "execute_result"
    }
   ],
   "source": [
    "df_scores_svc"
   ]
  },
  {
   "cell_type": "markdown",
   "metadata": {
    "id": "s2bAc81fASC0"
   },
   "source": [
    "### 4. Implement Decision Tree Classifier\n",
    "- Import the modul \n",
    "- Fit the model \n",
    "- Predict the test set\n",
    "- Visualize and evaluate the result (use yellowbrick module)"
   ]
  },
  {
   "cell_type": "code",
   "execution_count": 123,
   "metadata": {},
   "outputs": [],
   "source": [
    "DT_model = DecisionTreeClassifier(random_state=101)"
   ]
  },
  {
   "cell_type": "code",
   "execution_count": 124,
   "metadata": {},
   "outputs": [
    {
     "data": {
      "text/plain": [
       "DecisionTreeClassifier(random_state=101)"
      ]
     },
     "execution_count": 124,
     "metadata": {},
     "output_type": "execute_result"
    }
   ],
   "source": [
    "DT_model.fit(X_train,y_train)"
   ]
  },
  {
   "cell_type": "code",
   "execution_count": 125,
   "metadata": {},
   "outputs": [],
   "source": [
    "y_pred_tree = DT_model.predict(X_test)"
   ]
  },
  {
   "cell_type": "code",
   "execution_count": 126,
   "metadata": {},
   "outputs": [
    {
     "name": "stdout",
     "output_type": "stream",
     "text": [
      "Test_Set\n",
      "[[5854 1077    2    0   42    7  155]\n",
      " [1094 5602  100    0  185   95   20]\n",
      " [   1   51 6500   92   20  313    0]\n",
      " [   0    0   53 7013    0   40    0]\n",
      " [  27   98    7    0 7058    5    0]\n",
      " [   5   40  336   40   17 6683    0]\n",
      " [ 116   11    0    0    0    0 6899]]\n",
      "              precision    recall  f1-score   support\n",
      "\n",
      "           1       0.82      0.82      0.82      7137\n",
      "           2       0.81      0.79      0.80      7096\n",
      "           3       0.93      0.93      0.93      6977\n",
      "           4       0.98      0.99      0.98      7106\n",
      "           5       0.96      0.98      0.97      7195\n",
      "           6       0.94      0.94      0.94      7121\n",
      "           7       0.98      0.98      0.98      7026\n",
      "\n",
      "    accuracy                           0.92     49658\n",
      "   macro avg       0.92      0.92      0.92     49658\n",
      "weighted avg       0.92      0.92      0.92     49658\n",
      "\n",
      "\n",
      "Train_Set\n",
      "[[28548     0     0     0     0     0     0]\n",
      " [    0 28384     0     0     0     0     0]\n",
      " [    0     0 27910     0     0     0     0]\n",
      " [    0     0     0 28423     0     0     0]\n",
      " [    0     0     0     0 28777     0     0]\n",
      " [    0     0     0     0     0 28485     0]\n",
      " [    0     0     0     0     0     0 28102]]\n",
      "              precision    recall  f1-score   support\n",
      "\n",
      "           1       1.00      1.00      1.00     28548\n",
      "           2       1.00      1.00      1.00     28384\n",
      "           3       1.00      1.00      1.00     27910\n",
      "           4       1.00      1.00      1.00     28423\n",
      "           5       1.00      1.00      1.00     28777\n",
      "           6       1.00      1.00      1.00     28485\n",
      "           7       1.00      1.00      1.00     28102\n",
      "\n",
      "    accuracy                           1.00    198629\n",
      "   macro avg       1.00      1.00      1.00    198629\n",
      "weighted avg       1.00      1.00      1.00    198629\n",
      "\n"
     ]
    }
   ],
   "source": [
    "eval_metric(DT_model, X_train, y_train, X_test, y_test)"
   ]
  },
  {
   "cell_type": "markdown",
   "metadata": {},
   "source": [
    "##### Cross Validation"
   ]
  },
  {
   "cell_type": "code",
   "execution_count": 128,
   "metadata": {},
   "outputs": [
    {
     "data": {
      "text/html": [
       "<div>\n",
       "<style scoped>\n",
       "    .dataframe tbody tr th:only-of-type {\n",
       "        vertical-align: middle;\n",
       "    }\n",
       "\n",
       "    .dataframe tbody tr th {\n",
       "        vertical-align: top;\n",
       "    }\n",
       "\n",
       "    .dataframe thead th {\n",
       "        text-align: right;\n",
       "    }\n",
       "</style>\n",
       "<table border=\"1\" class=\"dataframe\">\n",
       "  <thead>\n",
       "    <tr style=\"text-align: right;\">\n",
       "      <th></th>\n",
       "      <th>fit_time</th>\n",
       "      <th>score_time</th>\n",
       "      <th>test_accuracy</th>\n",
       "      <th>test_precision_micro</th>\n",
       "      <th>test_recall_micro</th>\n",
       "      <th>test_f1_micro</th>\n",
       "    </tr>\n",
       "  </thead>\n",
       "  <tbody>\n",
       "    <tr>\n",
       "      <th>1</th>\n",
       "      <td>2.597</td>\n",
       "      <td>0.045</td>\n",
       "      <td>0.918</td>\n",
       "      <td>0.918</td>\n",
       "      <td>0.918</td>\n",
       "      <td>0.918</td>\n",
       "    </tr>\n",
       "    <tr>\n",
       "      <th>2</th>\n",
       "      <td>2.518</td>\n",
       "      <td>0.038</td>\n",
       "      <td>0.917</td>\n",
       "      <td>0.917</td>\n",
       "      <td>0.917</td>\n",
       "      <td>0.917</td>\n",
       "    </tr>\n",
       "    <tr>\n",
       "      <th>3</th>\n",
       "      <td>2.532</td>\n",
       "      <td>0.039</td>\n",
       "      <td>0.914</td>\n",
       "      <td>0.914</td>\n",
       "      <td>0.914</td>\n",
       "      <td>0.914</td>\n",
       "    </tr>\n",
       "    <tr>\n",
       "      <th>4</th>\n",
       "      <td>2.501</td>\n",
       "      <td>0.040</td>\n",
       "      <td>0.916</td>\n",
       "      <td>0.916</td>\n",
       "      <td>0.916</td>\n",
       "      <td>0.916</td>\n",
       "    </tr>\n",
       "    <tr>\n",
       "      <th>5</th>\n",
       "      <td>2.492</td>\n",
       "      <td>0.038</td>\n",
       "      <td>0.914</td>\n",
       "      <td>0.914</td>\n",
       "      <td>0.914</td>\n",
       "      <td>0.914</td>\n",
       "    </tr>\n",
       "    <tr>\n",
       "      <th>6</th>\n",
       "      <td>2.505</td>\n",
       "      <td>0.038</td>\n",
       "      <td>0.916</td>\n",
       "      <td>0.916</td>\n",
       "      <td>0.916</td>\n",
       "      <td>0.916</td>\n",
       "    </tr>\n",
       "    <tr>\n",
       "      <th>7</th>\n",
       "      <td>2.505</td>\n",
       "      <td>0.038</td>\n",
       "      <td>0.914</td>\n",
       "      <td>0.914</td>\n",
       "      <td>0.914</td>\n",
       "      <td>0.914</td>\n",
       "    </tr>\n",
       "    <tr>\n",
       "      <th>8</th>\n",
       "      <td>2.474</td>\n",
       "      <td>0.039</td>\n",
       "      <td>0.915</td>\n",
       "      <td>0.915</td>\n",
       "      <td>0.915</td>\n",
       "      <td>0.915</td>\n",
       "    </tr>\n",
       "    <tr>\n",
       "      <th>9</th>\n",
       "      <td>2.486</td>\n",
       "      <td>0.038</td>\n",
       "      <td>0.913</td>\n",
       "      <td>0.913</td>\n",
       "      <td>0.913</td>\n",
       "      <td>0.913</td>\n",
       "    </tr>\n",
       "    <tr>\n",
       "      <th>10</th>\n",
       "      <td>2.501</td>\n",
       "      <td>0.038</td>\n",
       "      <td>0.912</td>\n",
       "      <td>0.912</td>\n",
       "      <td>0.912</td>\n",
       "      <td>0.912</td>\n",
       "    </tr>\n",
       "  </tbody>\n",
       "</table>\n",
       "</div>"
      ],
      "text/plain": [
       "    fit_time  score_time  test_accuracy  test_precision_micro  \\\n",
       "1      2.597       0.045          0.918                 0.918   \n",
       "2      2.518       0.038          0.917                 0.917   \n",
       "3      2.532       0.039          0.914                 0.914   \n",
       "4      2.501       0.040          0.916                 0.916   \n",
       "5      2.492       0.038          0.914                 0.914   \n",
       "6      2.505       0.038          0.916                 0.916   \n",
       "7      2.505       0.038          0.914                 0.914   \n",
       "8      2.474       0.039          0.915                 0.915   \n",
       "9      2.486       0.038          0.913                 0.913   \n",
       "10     2.501       0.038          0.912                 0.912   \n",
       "\n",
       "    test_recall_micro  test_f1_micro  \n",
       "1               0.918          0.918  \n",
       "2               0.917          0.917  \n",
       "3               0.914          0.914  \n",
       "4               0.916          0.916  \n",
       "5               0.914          0.914  \n",
       "6               0.916          0.916  \n",
       "7               0.914          0.914  \n",
       "8               0.915          0.915  \n",
       "9               0.913          0.913  \n",
       "10              0.912          0.912  "
      ]
     },
     "execution_count": 128,
     "metadata": {},
     "output_type": "execute_result"
    }
   ],
   "source": [
    "model = DecisionTreeClassifier(max_depth=None, random_state=101)\n",
    "\n",
    "scores = cross_validate(model, X_train, y_train, scoring = [\"accuracy\", \"precision_micro\", \"recall_micro\", \n",
    "                                                            \"f1_micro\"], cv = 10)\n",
    "df_scores = pd.DataFrame(scores, index = range(1, 11))\n",
    "df_scores"
   ]
  },
  {
   "cell_type": "code",
   "execution_count": 129,
   "metadata": {},
   "outputs": [
    {
     "data": {
      "text/plain": [
       "test_accuracy          0.915\n",
       "test_precision_micro   0.915\n",
       "test_recall_micro      0.915\n",
       "test_f1_micro          0.915\n",
       "dtype: float64"
      ]
     },
     "execution_count": 129,
     "metadata": {},
     "output_type": "execute_result"
    }
   ],
   "source": [
    "df_scores.mean()[2:]"
   ]
  },
  {
   "cell_type": "markdown",
   "metadata": {},
   "source": [
    "##### Finding the Best Parameters with GridSearchCV"
   ]
  },
  {
   "cell_type": "code",
   "execution_count": 130,
   "metadata": {},
   "outputs": [],
   "source": [
    "model = DecisionTreeClassifier(random_state=101)\n",
    "param_grid = {\"splitter\":[\"best\",\"random\"],\n",
    "              \"max_features\":[None,\"auto\",\"log2\",2,3,4],\n",
    "              \"max_depth\": [None, 2,3,4,5]}"
   ]
  },
  {
   "cell_type": "code",
   "execution_count": 131,
   "metadata": {},
   "outputs": [],
   "source": [
    "dt_model_grid = GridSearchCV(estimator=model,\n",
    "                          param_grid=param_grid,\n",
    "                          scoring='f1_micro',\n",
    "                          cv=5,\n",
    "                          n_jobs = -1)"
   ]
  },
  {
   "cell_type": "code",
   "execution_count": 132,
   "metadata": {},
   "outputs": [
    {
     "data": {
      "text/plain": [
       "GridSearchCV(cv=5, estimator=DecisionTreeClassifier(random_state=101),\n",
       "             n_jobs=-1,\n",
       "             param_grid={'max_depth': [None, 2, 3, 4, 5],\n",
       "                         'max_features': [None, 'auto', 'log2', 2, 3, 4],\n",
       "                         'splitter': ['best', 'random']},\n",
       "             scoring='f1_micro')"
      ]
     },
     "execution_count": 132,
     "metadata": {},
     "output_type": "execute_result"
    }
   ],
   "source": [
    "dt_model_grid.fit(X_train, y_train)"
   ]
  },
  {
   "cell_type": "code",
   "execution_count": 133,
   "metadata": {},
   "outputs": [
    {
     "data": {
      "text/plain": [
       "{'max_depth': None, 'max_features': None, 'splitter': 'best'}"
      ]
     },
     "execution_count": 133,
     "metadata": {},
     "output_type": "execute_result"
    }
   ],
   "source": [
    "dt_model_grid.best_params_"
   ]
  },
  {
   "cell_type": "code",
   "execution_count": 134,
   "metadata": {},
   "outputs": [
    {
     "name": "stdout",
     "output_type": "stream",
     "text": [
      "Test_Set\n",
      "[[5854 1077    2    0   42    7  155]\n",
      " [1094 5602  100    0  185   95   20]\n",
      " [   1   51 6500   92   20  313    0]\n",
      " [   0    0   53 7013    0   40    0]\n",
      " [  27   98    7    0 7058    5    0]\n",
      " [   5   40  336   40   17 6683    0]\n",
      " [ 116   11    0    0    0    0 6899]]\n",
      "              precision    recall  f1-score   support\n",
      "\n",
      "           1       0.82      0.82      0.82      7137\n",
      "           2       0.81      0.79      0.80      7096\n",
      "           3       0.93      0.93      0.93      6977\n",
      "           4       0.98      0.99      0.98      7106\n",
      "           5       0.96      0.98      0.97      7195\n",
      "           6       0.94      0.94      0.94      7121\n",
      "           7       0.98      0.98      0.98      7026\n",
      "\n",
      "    accuracy                           0.92     49658\n",
      "   macro avg       0.92      0.92      0.92     49658\n",
      "weighted avg       0.92      0.92      0.92     49658\n",
      "\n",
      "\n",
      "Train_Set\n",
      "[[28548     0     0     0     0     0     0]\n",
      " [    0 28384     0     0     0     0     0]\n",
      " [    0     0 27910     0     0     0     0]\n",
      " [    0     0     0 28423     0     0     0]\n",
      " [    0     0     0     0 28777     0     0]\n",
      " [    0     0     0     0     0 28485     0]\n",
      " [    0     0     0     0     0     0 28102]]\n",
      "              precision    recall  f1-score   support\n",
      "\n",
      "           1       1.00      1.00      1.00     28548\n",
      "           2       1.00      1.00      1.00     28384\n",
      "           3       1.00      1.00      1.00     27910\n",
      "           4       1.00      1.00      1.00     28423\n",
      "           5       1.00      1.00      1.00     28777\n",
      "           6       1.00      1.00      1.00     28485\n",
      "           7       1.00      1.00      1.00     28102\n",
      "\n",
      "    accuracy                           1.00    198629\n",
      "   macro avg       1.00      1.00      1.00    198629\n",
      "weighted avg       1.00      1.00      1.00    198629\n",
      "\n"
     ]
    }
   ],
   "source": [
    "eval_metric(dt_model_grid, X_train, y_train, X_test, y_test)"
   ]
  },
  {
   "cell_type": "code",
   "execution_count": 136,
   "metadata": {},
   "outputs": [
    {
     "data": {
      "text/html": [
       "<div>\n",
       "<style scoped>\n",
       "    .dataframe tbody tr th:only-of-type {\n",
       "        vertical-align: middle;\n",
       "    }\n",
       "\n",
       "    .dataframe tbody tr th {\n",
       "        vertical-align: top;\n",
       "    }\n",
       "\n",
       "    .dataframe thead th {\n",
       "        text-align: right;\n",
       "    }\n",
       "</style>\n",
       "<table border=\"1\" class=\"dataframe\">\n",
       "  <thead>\n",
       "    <tr style=\"text-align: right;\">\n",
       "      <th></th>\n",
       "      <th>fit_time</th>\n",
       "      <th>score_time</th>\n",
       "      <th>test_accuracy</th>\n",
       "      <th>test_precision_micro</th>\n",
       "      <th>test_recall_micro</th>\n",
       "      <th>test_f1_micro</th>\n",
       "    </tr>\n",
       "  </thead>\n",
       "  <tbody>\n",
       "    <tr>\n",
       "      <th>1</th>\n",
       "      <td>2.675</td>\n",
       "      <td>0.044</td>\n",
       "      <td>0.918</td>\n",
       "      <td>0.918</td>\n",
       "      <td>0.918</td>\n",
       "      <td>0.918</td>\n",
       "    </tr>\n",
       "    <tr>\n",
       "      <th>2</th>\n",
       "      <td>2.630</td>\n",
       "      <td>0.041</td>\n",
       "      <td>0.917</td>\n",
       "      <td>0.917</td>\n",
       "      <td>0.917</td>\n",
       "      <td>0.917</td>\n",
       "    </tr>\n",
       "    <tr>\n",
       "      <th>3</th>\n",
       "      <td>2.512</td>\n",
       "      <td>0.038</td>\n",
       "      <td>0.914</td>\n",
       "      <td>0.914</td>\n",
       "      <td>0.914</td>\n",
       "      <td>0.914</td>\n",
       "    </tr>\n",
       "    <tr>\n",
       "      <th>4</th>\n",
       "      <td>2.503</td>\n",
       "      <td>0.040</td>\n",
       "      <td>0.916</td>\n",
       "      <td>0.916</td>\n",
       "      <td>0.916</td>\n",
       "      <td>0.916</td>\n",
       "    </tr>\n",
       "    <tr>\n",
       "      <th>5</th>\n",
       "      <td>2.610</td>\n",
       "      <td>0.050</td>\n",
       "      <td>0.914</td>\n",
       "      <td>0.914</td>\n",
       "      <td>0.914</td>\n",
       "      <td>0.914</td>\n",
       "    </tr>\n",
       "    <tr>\n",
       "      <th>6</th>\n",
       "      <td>3.065</td>\n",
       "      <td>0.041</td>\n",
       "      <td>0.916</td>\n",
       "      <td>0.916</td>\n",
       "      <td>0.916</td>\n",
       "      <td>0.916</td>\n",
       "    </tr>\n",
       "    <tr>\n",
       "      <th>7</th>\n",
       "      <td>2.552</td>\n",
       "      <td>0.039</td>\n",
       "      <td>0.914</td>\n",
       "      <td>0.914</td>\n",
       "      <td>0.914</td>\n",
       "      <td>0.914</td>\n",
       "    </tr>\n",
       "    <tr>\n",
       "      <th>8</th>\n",
       "      <td>2.934</td>\n",
       "      <td>0.043</td>\n",
       "      <td>0.915</td>\n",
       "      <td>0.915</td>\n",
       "      <td>0.915</td>\n",
       "      <td>0.915</td>\n",
       "    </tr>\n",
       "    <tr>\n",
       "      <th>9</th>\n",
       "      <td>2.760</td>\n",
       "      <td>0.038</td>\n",
       "      <td>0.913</td>\n",
       "      <td>0.913</td>\n",
       "      <td>0.913</td>\n",
       "      <td>0.913</td>\n",
       "    </tr>\n",
       "    <tr>\n",
       "      <th>10</th>\n",
       "      <td>2.619</td>\n",
       "      <td>0.043</td>\n",
       "      <td>0.912</td>\n",
       "      <td>0.912</td>\n",
       "      <td>0.912</td>\n",
       "      <td>0.912</td>\n",
       "    </tr>\n",
       "  </tbody>\n",
       "</table>\n",
       "</div>"
      ],
      "text/plain": [
       "    fit_time  score_time  test_accuracy  test_precision_micro  \\\n",
       "1      2.675       0.044          0.918                 0.918   \n",
       "2      2.630       0.041          0.917                 0.917   \n",
       "3      2.512       0.038          0.914                 0.914   \n",
       "4      2.503       0.040          0.916                 0.916   \n",
       "5      2.610       0.050          0.914                 0.914   \n",
       "6      3.065       0.041          0.916                 0.916   \n",
       "7      2.552       0.039          0.914                 0.914   \n",
       "8      2.934       0.043          0.915                 0.915   \n",
       "9      2.760       0.038          0.913                 0.913   \n",
       "10     2.619       0.043          0.912                 0.912   \n",
       "\n",
       "    test_recall_micro  test_f1_micro  \n",
       "1               0.918          0.918  \n",
       "2               0.917          0.917  \n",
       "3               0.914          0.914  \n",
       "4               0.916          0.916  \n",
       "5               0.914          0.914  \n",
       "6               0.916          0.916  \n",
       "7               0.914          0.914  \n",
       "8               0.915          0.915  \n",
       "9               0.913          0.913  \n",
       "10              0.912          0.912  "
      ]
     },
     "execution_count": 136,
     "metadata": {},
     "output_type": "execute_result"
    }
   ],
   "source": [
    "model = DecisionTreeClassifier(max_depth=None, max_features=None, splitter='best', random_state=101)\n",
    "\n",
    "scores = cross_validate(model, X_train, y_train, scoring = [\"accuracy\", \"precision_micro\", \"recall_micro\", \n",
    "                                                            \"f1_micro\"], cv = 10)\n",
    "df_scores_tree = pd.DataFrame(scores, index = range(1, 11))\n",
    "df_scores_tree"
   ]
  },
  {
   "cell_type": "code",
   "execution_count": 137,
   "metadata": {},
   "outputs": [
    {
     "data": {
      "text/plain": [
       "test_accuracy          0.915\n",
       "test_precision_micro   0.915\n",
       "test_recall_micro      0.915\n",
       "test_f1_micro          0.915\n",
       "dtype: float64"
      ]
     },
     "execution_count": 137,
     "metadata": {},
     "output_type": "execute_result"
    }
   ],
   "source": [
    "df_scores_tree.mean()[2:]"
   ]
  },
  {
   "cell_type": "code",
   "execution_count": 145,
   "metadata": {},
   "outputs": [],
   "source": [
    "y_pred_tree = dt_model_grid.predict(X_test)\n",
    "my_dict = {'Actual': y_test, 'Pred': y_pred_tree, 'Residual': y_test-y_pred_tree}\n",
    "compare_tree = pd.DataFrame(my_dict)"
   ]
  },
  {
   "cell_type": "code",
   "execution_count": 146,
   "metadata": {},
   "outputs": [
    {
     "data": {
      "text/html": [
       "<div>\n",
       "<style scoped>\n",
       "    .dataframe tbody tr th:only-of-type {\n",
       "        vertical-align: middle;\n",
       "    }\n",
       "\n",
       "    .dataframe tbody tr th {\n",
       "        vertical-align: top;\n",
       "    }\n",
       "\n",
       "    .dataframe thead th {\n",
       "        text-align: right;\n",
       "    }\n",
       "</style>\n",
       "<table border=\"1\" class=\"dataframe\">\n",
       "  <thead>\n",
       "    <tr style=\"text-align: right;\">\n",
       "      <th></th>\n",
       "      <th>Actual</th>\n",
       "      <th>Pred</th>\n",
       "      <th>Residual</th>\n",
       "    </tr>\n",
       "  </thead>\n",
       "  <tbody>\n",
       "    <tr>\n",
       "      <th>17416</th>\n",
       "      <td>6</td>\n",
       "      <td>4</td>\n",
       "      <td>2</td>\n",
       "    </tr>\n",
       "    <tr>\n",
       "      <th>53082</th>\n",
       "      <td>1</td>\n",
       "      <td>1</td>\n",
       "      <td>0</td>\n",
       "    </tr>\n",
       "    <tr>\n",
       "      <th>211116</th>\n",
       "      <td>5</td>\n",
       "      <td>5</td>\n",
       "      <td>0</td>\n",
       "    </tr>\n",
       "    <tr>\n",
       "      <th>202765</th>\n",
       "      <td>3</td>\n",
       "      <td>3</td>\n",
       "      <td>0</td>\n",
       "    </tr>\n",
       "    <tr>\n",
       "      <th>199976</th>\n",
       "      <td>6</td>\n",
       "      <td>6</td>\n",
       "      <td>0</td>\n",
       "    </tr>\n",
       "    <tr>\n",
       "      <th>153951</th>\n",
       "      <td>4</td>\n",
       "      <td>4</td>\n",
       "      <td>0</td>\n",
       "    </tr>\n",
       "    <tr>\n",
       "      <th>171794</th>\n",
       "      <td>1</td>\n",
       "      <td>2</td>\n",
       "      <td>-1</td>\n",
       "    </tr>\n",
       "    <tr>\n",
       "      <th>207298</th>\n",
       "      <td>6</td>\n",
       "      <td>6</td>\n",
       "      <td>0</td>\n",
       "    </tr>\n",
       "    <tr>\n",
       "      <th>223454</th>\n",
       "      <td>3</td>\n",
       "      <td>3</td>\n",
       "      <td>0</td>\n",
       "    </tr>\n",
       "    <tr>\n",
       "      <th>149967</th>\n",
       "      <td>3</td>\n",
       "      <td>3</td>\n",
       "      <td>0</td>\n",
       "    </tr>\n",
       "    <tr>\n",
       "      <th>137113</th>\n",
       "      <td>1</td>\n",
       "      <td>2</td>\n",
       "      <td>-1</td>\n",
       "    </tr>\n",
       "    <tr>\n",
       "      <th>48339</th>\n",
       "      <td>4</td>\n",
       "      <td>4</td>\n",
       "      <td>0</td>\n",
       "    </tr>\n",
       "    <tr>\n",
       "      <th>36427</th>\n",
       "      <td>5</td>\n",
       "      <td>5</td>\n",
       "      <td>0</td>\n",
       "    </tr>\n",
       "    <tr>\n",
       "      <th>64467</th>\n",
       "      <td>1</td>\n",
       "      <td>2</td>\n",
       "      <td>-1</td>\n",
       "    </tr>\n",
       "    <tr>\n",
       "      <th>218531</th>\n",
       "      <td>3</td>\n",
       "      <td>3</td>\n",
       "      <td>0</td>\n",
       "    </tr>\n",
       "    <tr>\n",
       "      <th>216426</th>\n",
       "      <td>5</td>\n",
       "      <td>5</td>\n",
       "      <td>0</td>\n",
       "    </tr>\n",
       "    <tr>\n",
       "      <th>235089</th>\n",
       "      <td>1</td>\n",
       "      <td>1</td>\n",
       "      <td>0</td>\n",
       "    </tr>\n",
       "    <tr>\n",
       "      <th>165530</th>\n",
       "      <td>2</td>\n",
       "      <td>2</td>\n",
       "      <td>0</td>\n",
       "    </tr>\n",
       "    <tr>\n",
       "      <th>179361</th>\n",
       "      <td>2</td>\n",
       "      <td>2</td>\n",
       "      <td>0</td>\n",
       "    </tr>\n",
       "    <tr>\n",
       "      <th>15214</th>\n",
       "      <td>2</td>\n",
       "      <td>2</td>\n",
       "      <td>0</td>\n",
       "    </tr>\n",
       "  </tbody>\n",
       "</table>\n",
       "</div>"
      ],
      "text/plain": [
       "        Actual  Pred  Residual\n",
       "17416        6     4         2\n",
       "53082        1     1         0\n",
       "211116       5     5         0\n",
       "202765       3     3         0\n",
       "199976       6     6         0\n",
       "153951       4     4         0\n",
       "171794       1     2        -1\n",
       "207298       6     6         0\n",
       "223454       3     3         0\n",
       "149967       3     3         0\n",
       "137113       1     2        -1\n",
       "48339        4     4         0\n",
       "36427        5     5         0\n",
       "64467        1     2        -1\n",
       "218531       3     3         0\n",
       "216426       5     5         0\n",
       "235089       1     1         0\n",
       "165530       2     2         0\n",
       "179361       2     2         0\n",
       "15214        2     2         0"
      ]
     },
     "execution_count": 146,
     "metadata": {},
     "output_type": "execute_result"
    }
   ],
   "source": [
    "comp_sample_tree = compare_tree.sample(20)\n",
    "comp_sample_tree"
   ]
  },
  {
   "cell_type": "code",
   "execution_count": 147,
   "metadata": {},
   "outputs": [
    {
     "data": {
      "image/png": "[encoded data removed]",
      "text/plain": [
       "<Figure size 1080x648 with 1 Axes>"
      ]
     },
     "metadata": {},
     "output_type": "display_data"
    }
   ],
   "source": [
    "comp_sample_tree.plot(kind='bar',figsize=(15,9))\n",
    "plt.show()"
   ]
  },
  {
   "cell_type": "code",
   "execution_count": 138,
   "metadata": {},
   "outputs": [
    {
     "data": {
      "image/png": "[encoded data removed]",
      "text/plain": [
       "<Figure size 576x396 with 1 Axes>"
      ]
     },
     "metadata": {},
     "output_type": "display_data"
    }
   ],
   "source": [
    "from yellowbrick.classifier import ClassPredictionError\n",
    "\n",
    "visualizer = ClassPredictionError(dt_model_grid)\n",
    "\n",
    "# Fit the training data to the visualizer\n",
    "visualizer.fit(X_train, y_train)\n",
    "\n",
    "# Evaluate the model on the test data\n",
    "visualizer.score(X_test, y_test)\n",
    "\n",
    "# Draw visualization\n",
    "visualizer.poof();"
   ]
  },
  {
   "cell_type": "code",
   "execution_count": 159,
   "metadata": {},
   "outputs": [
    {
     "data": {
      "image/png": "[encoded data removed]",
      "text/plain": [
       "<Figure size 576x396 with 1 Axes>"
      ]
     },
     "metadata": {},
     "output_type": "display_data"
    }
   ],
   "source": [
    "from yellowbrick.classifier import ROCAUC\n",
    "\n",
    "dt_model = DecisionTreeClassifier(max_depth=None, max_features=None, splitter='best', random_state=101)\n",
    "visualizer = ROCAUC(dt_model)\n",
    "\n",
    "visualizer.fit(X_train, y_train)       \n",
    "visualizer.score(X_test, y_test)       \n",
    "visualizer.show(); "
   ]
  },
  {
   "cell_type": "code",
   "execution_count": 154,
   "metadata": {},
   "outputs": [
    {
     "data": {
      "text/html": [
       "<div>\n",
       "<style scoped>\n",
       "    .dataframe tbody tr th:only-of-type {\n",
       "        vertical-align: middle;\n",
       "    }\n",
       "\n",
       "    .dataframe tbody tr th {\n",
       "        vertical-align: top;\n",
       "    }\n",
       "\n",
       "    .dataframe thead th {\n",
       "        text-align: right;\n",
       "    }\n",
       "</style>\n",
       "<table border=\"1\" class=\"dataframe\">\n",
       "  <thead>\n",
       "    <tr style=\"text-align: right;\">\n",
       "      <th></th>\n",
       "      <th>fit_time</th>\n",
       "      <th>score_time</th>\n",
       "      <th>test_accuracy</th>\n",
       "      <th>test_precision_micro</th>\n",
       "      <th>test_recall_micro</th>\n",
       "      <th>test_f1_micro</th>\n",
       "    </tr>\n",
       "  </thead>\n",
       "  <tbody>\n",
       "    <tr>\n",
       "      <th>1</th>\n",
       "      <td>2.675</td>\n",
       "      <td>0.044</td>\n",
       "      <td>0.918</td>\n",
       "      <td>0.918</td>\n",
       "      <td>0.918</td>\n",
       "      <td>0.918</td>\n",
       "    </tr>\n",
       "    <tr>\n",
       "      <th>2</th>\n",
       "      <td>2.630</td>\n",
       "      <td>0.041</td>\n",
       "      <td>0.917</td>\n",
       "      <td>0.917</td>\n",
       "      <td>0.917</td>\n",
       "      <td>0.917</td>\n",
       "    </tr>\n",
       "    <tr>\n",
       "      <th>3</th>\n",
       "      <td>2.512</td>\n",
       "      <td>0.038</td>\n",
       "      <td>0.914</td>\n",
       "      <td>0.914</td>\n",
       "      <td>0.914</td>\n",
       "      <td>0.914</td>\n",
       "    </tr>\n",
       "    <tr>\n",
       "      <th>4</th>\n",
       "      <td>2.503</td>\n",
       "      <td>0.040</td>\n",
       "      <td>0.916</td>\n",
       "      <td>0.916</td>\n",
       "      <td>0.916</td>\n",
       "      <td>0.916</td>\n",
       "    </tr>\n",
       "    <tr>\n",
       "      <th>5</th>\n",
       "      <td>2.610</td>\n",
       "      <td>0.050</td>\n",
       "      <td>0.914</td>\n",
       "      <td>0.914</td>\n",
       "      <td>0.914</td>\n",
       "      <td>0.914</td>\n",
       "    </tr>\n",
       "    <tr>\n",
       "      <th>6</th>\n",
       "      <td>3.065</td>\n",
       "      <td>0.041</td>\n",
       "      <td>0.916</td>\n",
       "      <td>0.916</td>\n",
       "      <td>0.916</td>\n",
       "      <td>0.916</td>\n",
       "    </tr>\n",
       "    <tr>\n",
       "      <th>7</th>\n",
       "      <td>2.552</td>\n",
       "      <td>0.039</td>\n",
       "      <td>0.914</td>\n",
       "      <td>0.914</td>\n",
       "      <td>0.914</td>\n",
       "      <td>0.914</td>\n",
       "    </tr>\n",
       "    <tr>\n",
       "      <th>8</th>\n",
       "      <td>2.934</td>\n",
       "      <td>0.043</td>\n",
       "      <td>0.915</td>\n",
       "      <td>0.915</td>\n",
       "      <td>0.915</td>\n",
       "      <td>0.915</td>\n",
       "    </tr>\n",
       "    <tr>\n",
       "      <th>9</th>\n",
       "      <td>2.760</td>\n",
       "      <td>0.038</td>\n",
       "      <td>0.913</td>\n",
       "      <td>0.913</td>\n",
       "      <td>0.913</td>\n",
       "      <td>0.913</td>\n",
       "    </tr>\n",
       "    <tr>\n",
       "      <th>10</th>\n",
       "      <td>2.619</td>\n",
       "      <td>0.043</td>\n",
       "      <td>0.912</td>\n",
       "      <td>0.912</td>\n",
       "      <td>0.912</td>\n",
       "      <td>0.912</td>\n",
       "    </tr>\n",
       "  </tbody>\n",
       "</table>\n",
       "</div>"
      ],
      "text/plain": [
       "    fit_time  score_time  test_accuracy  test_precision_micro  \\\n",
       "1      2.675       0.044          0.918                 0.918   \n",
       "2      2.630       0.041          0.917                 0.917   \n",
       "3      2.512       0.038          0.914                 0.914   \n",
       "4      2.503       0.040          0.916                 0.916   \n",
       "5      2.610       0.050          0.914                 0.914   \n",
       "6      3.065       0.041          0.916                 0.916   \n",
       "7      2.552       0.039          0.914                 0.914   \n",
       "8      2.934       0.043          0.915                 0.915   \n",
       "9      2.760       0.038          0.913                 0.913   \n",
       "10     2.619       0.043          0.912                 0.912   \n",
       "\n",
       "    test_recall_micro  test_f1_micro  \n",
       "1               0.918          0.918  \n",
       "2               0.917          0.917  \n",
       "3               0.914          0.914  \n",
       "4               0.916          0.916  \n",
       "5               0.914          0.914  \n",
       "6               0.916          0.916  \n",
       "7               0.914          0.914  \n",
       "8               0.915          0.915  \n",
       "9               0.913          0.913  \n",
       "10              0.912          0.912  "
      ]
     },
     "execution_count": 154,
     "metadata": {},
     "output_type": "execute_result"
    }
   ],
   "source": [
    "df_scores_tree"
   ]
  },
  {
   "cell_type": "markdown",
   "metadata": {
    "id": "8-Hv3OSrASC0"
   },
   "source": [
    "### 5. Implement Random Forest Classifier\n",
    "- Import the modul \n",
    "- Fit the model \n",
    "- Predict the test set\n",
    "- Visualize and evaluate the result (use yellowbrick module)"
   ]
  },
  {
   "cell_type": "code",
   "execution_count": 156,
   "metadata": {},
   "outputs": [],
   "source": [
    "from sklearn.ensemble import RandomForestClassifier"
   ]
  },
  {
   "cell_type": "code",
   "execution_count": 157,
   "metadata": {},
   "outputs": [
    {
     "name": "stdout",
     "output_type": "stream",
     "text": [
      "Test_Set\n",
      "[[6186  765    4    0   40   11  131]\n",
      " [ 793 5915   96    1  163  112   16]\n",
      " [   0   11 6556   88   12  310    0]\n",
      " [   0    0    7 7093    0    6    0]\n",
      " [   0   39   13    0 7138    5    0]\n",
      " [   0    5  146   41    7 6922    0]\n",
      " [  50    2    0    0    0    0 6974]]\n",
      "              precision    recall  f1-score   support\n",
      "\n",
      "           1       0.88      0.87      0.87      7137\n",
      "           2       0.88      0.83      0.86      7096\n",
      "           3       0.96      0.94      0.95      6977\n",
      "           4       0.98      1.00      0.99      7106\n",
      "           5       0.97      0.99      0.98      7195\n",
      "           6       0.94      0.97      0.96      7121\n",
      "           7       0.98      0.99      0.99      7026\n",
      "\n",
      "    accuracy                           0.94     49658\n",
      "   macro avg       0.94      0.94      0.94     49658\n",
      "weighted avg       0.94      0.94      0.94     49658\n",
      "\n",
      "\n",
      "Train_Set\n",
      "[[28548     0     0     0     0     0     0]\n",
      " [    0 28384     0     0     0     0     0]\n",
      " [    0     0 27910     0     0     0     0]\n",
      " [    0     0     0 28423     0     0     0]\n",
      " [    0     0     0     0 28777     0     0]\n",
      " [    0     0     0     0     0 28485     0]\n",
      " [    0     0     0     0     0     0 28102]]\n",
      "              precision    recall  f1-score   support\n",
      "\n",
      "           1       1.00      1.00      1.00     28548\n",
      "           2       1.00      1.00      1.00     28384\n",
      "           3       1.00      1.00      1.00     27910\n",
      "           4       1.00      1.00      1.00     28423\n",
      "           5       1.00      1.00      1.00     28777\n",
      "           6       1.00      1.00      1.00     28485\n",
      "           7       1.00      1.00      1.00     28102\n",
      "\n",
      "    accuracy                           1.00    198629\n",
      "   macro avg       1.00      1.00      1.00    198629\n",
      "weighted avg       1.00      1.00      1.00    198629\n",
      "\n"
     ]
    }
   ],
   "source": [
    "rf_model = RandomForestClassifier(random_state=101)\n",
    "rf_model.fit(X_train,y_train)\n",
    "eval_metric(rf_model, X_train, y_train, X_test, y_test)"
   ]
  },
  {
   "cell_type": "markdown",
   "metadata": {},
   "source": [
    "##### Cross Validation"
   ]
  },
  {
   "cell_type": "code",
   "execution_count": 163,
   "metadata": {},
   "outputs": [
    {
     "data": {
      "text/html": [
       "<div>\n",
       "<style scoped>\n",
       "    .dataframe tbody tr th:only-of-type {\n",
       "        vertical-align: middle;\n",
       "    }\n",
       "\n",
       "    .dataframe tbody tr th {\n",
       "        vertical-align: top;\n",
       "    }\n",
       "\n",
       "    .dataframe thead th {\n",
       "        text-align: right;\n",
       "    }\n",
       "</style>\n",
       "<table border=\"1\" class=\"dataframe\">\n",
       "  <thead>\n",
       "    <tr style=\"text-align: right;\">\n",
       "      <th></th>\n",
       "      <th>fit_time</th>\n",
       "      <th>score_time</th>\n",
       "      <th>test_accuracy</th>\n",
       "      <th>test_precision_micro</th>\n",
       "      <th>test_recall_micro</th>\n",
       "      <th>test_f1_micro</th>\n",
       "    </tr>\n",
       "  </thead>\n",
       "  <tbody>\n",
       "    <tr>\n",
       "      <th>1</th>\n",
       "      <td>36.444</td>\n",
       "      <td>1.745</td>\n",
       "      <td>0.936</td>\n",
       "      <td>0.936</td>\n",
       "      <td>0.936</td>\n",
       "      <td>0.936</td>\n",
       "    </tr>\n",
       "    <tr>\n",
       "      <th>2</th>\n",
       "      <td>37.487</td>\n",
       "      <td>1.820</td>\n",
       "      <td>0.937</td>\n",
       "      <td>0.937</td>\n",
       "      <td>0.937</td>\n",
       "      <td>0.937</td>\n",
       "    </tr>\n",
       "    <tr>\n",
       "      <th>3</th>\n",
       "      <td>34.562</td>\n",
       "      <td>1.462</td>\n",
       "      <td>0.936</td>\n",
       "      <td>0.936</td>\n",
       "      <td>0.936</td>\n",
       "      <td>0.936</td>\n",
       "    </tr>\n",
       "    <tr>\n",
       "      <th>4</th>\n",
       "      <td>32.600</td>\n",
       "      <td>1.626</td>\n",
       "      <td>0.936</td>\n",
       "      <td>0.936</td>\n",
       "      <td>0.936</td>\n",
       "      <td>0.936</td>\n",
       "    </tr>\n",
       "    <tr>\n",
       "      <th>5</th>\n",
       "      <td>35.370</td>\n",
       "      <td>1.820</td>\n",
       "      <td>0.935</td>\n",
       "      <td>0.935</td>\n",
       "      <td>0.935</td>\n",
       "      <td>0.935</td>\n",
       "    </tr>\n",
       "  </tbody>\n",
       "</table>\n",
       "</div>"
      ],
      "text/plain": [
       "   fit_time  score_time  test_accuracy  test_precision_micro  \\\n",
       "1    36.444       1.745          0.936                 0.936   \n",
       "2    37.487       1.820          0.937                 0.937   \n",
       "3    34.562       1.462          0.936                 0.936   \n",
       "4    32.600       1.626          0.936                 0.936   \n",
       "5    35.370       1.820          0.935                 0.935   \n",
       "\n",
       "   test_recall_micro  test_f1_micro  \n",
       "1              0.936          0.936  \n",
       "2              0.937          0.937  \n",
       "3              0.936          0.936  \n",
       "4              0.936          0.936  \n",
       "5              0.935          0.935  "
      ]
     },
     "execution_count": 163,
     "metadata": {},
     "output_type": "execute_result"
    }
   ],
   "source": [
    "model = RandomForestClassifier(random_state=101)\n",
    "\n",
    "scores = cross_validate(model, X_train, y_train, scoring = [\"accuracy\", \"precision_micro\", \"recall_micro\", \n",
    "                                                            \"f1_micro\"], cv = 5)\n",
    "df_scores = pd.DataFrame(scores, index = range(1, 6))\n",
    "df_scores"
   ]
  },
  {
   "cell_type": "code",
   "execution_count": 164,
   "metadata": {},
   "outputs": [
    {
     "data": {
      "text/plain": [
       "test_accuracy          0.936\n",
       "test_precision_micro   0.936\n",
       "test_recall_micro      0.936\n",
       "test_f1_micro          0.936\n",
       "dtype: float64"
      ]
     },
     "execution_count": 164,
     "metadata": {},
     "output_type": "execute_result"
    }
   ],
   "source": [
    "df_scores.mean()[2:]"
   ]
  },
  {
   "cell_type": "markdown",
   "metadata": {},
   "source": [
    "##### Finding the Best Parameters with GridSearchCV"
   ]
  },
  {
   "cell_type": "code",
   "execution_count": null,
   "metadata": {},
   "outputs": [],
   "source": [
    "# These parameters are very limited. This is because the model takes too long to complete."
   ]
  },
  {
   "cell_type": "code",
   "execution_count": 169,
   "metadata": {},
   "outputs": [],
   "source": [
    "param_grid = {'n_estimators':[64, 100, 128],\n",
    "             'max_features':[2, \"auto\"],\n",
    "             'max_depth':[None, 3, 5]}"
   ]
  },
  {
   "cell_type": "code",
   "execution_count": 170,
   "metadata": {},
   "outputs": [],
   "source": [
    "model = RandomForestClassifier(class_weight = \"balanced\", random_state=101)\n",
    "rf_model_grid = GridSearchCV(model, param_grid, scoring = \"f1_micro\", n_jobs = -1).fit(X_train, y_train)\n",
    "# I didn't add cv into the model due to time restrictions"
   ]
  },
  {
   "cell_type": "code",
   "execution_count": 171,
   "metadata": {},
   "outputs": [
    {
     "data": {
      "text/plain": [
       "{'max_depth': None, 'max_features': 'auto', 'n_estimators': 128}"
      ]
     },
     "execution_count": 171,
     "metadata": {},
     "output_type": "execute_result"
    }
   ],
   "source": [
    "rf_model_grid.best_params_"
   ]
  },
  {
   "cell_type": "code",
   "execution_count": 172,
   "metadata": {},
   "outputs": [
    {
     "name": "stdout",
     "output_type": "stream",
     "text": [
      "Test_Set\n",
      "[[6194  752    3    0   35   14  139]\n",
      " [ 790 5914   97    0  172  108   15]\n",
      " [   0   11 6553   86   10  317    0]\n",
      " [   0    0    6 7093    0    7    0]\n",
      " [   0   42   12    0 7139    2    0]\n",
      " [   0    6  152   45    8 6910    0]\n",
      " [  45    3    0    0    0    0 6978]]\n",
      "              precision    recall  f1-score   support\n",
      "\n",
      "           1       0.88      0.87      0.87      7137\n",
      "           2       0.88      0.83      0.86      7096\n",
      "           3       0.96      0.94      0.95      6977\n",
      "           4       0.98      1.00      0.99      7106\n",
      "           5       0.97      0.99      0.98      7195\n",
      "           6       0.94      0.97      0.95      7121\n",
      "           7       0.98      0.99      0.99      7026\n",
      "\n",
      "    accuracy                           0.94     49658\n",
      "   macro avg       0.94      0.94      0.94     49658\n",
      "weighted avg       0.94      0.94      0.94     49658\n",
      "\n",
      "\n",
      "Train_Set\n",
      "[[28548     0     0     0     0     0     0]\n",
      " [    0 28384     0     0     0     0     0]\n",
      " [    0     0 27910     0     0     0     0]\n",
      " [    0     0     0 28423     0     0     0]\n",
      " [    0     0     0     0 28777     0     0]\n",
      " [    0     0     0     0     0 28485     0]\n",
      " [    0     0     0     0     0     0 28102]]\n",
      "              precision    recall  f1-score   support\n",
      "\n",
      "           1       1.00      1.00      1.00     28548\n",
      "           2       1.00      1.00      1.00     28384\n",
      "           3       1.00      1.00      1.00     27910\n",
      "           4       1.00      1.00      1.00     28423\n",
      "           5       1.00      1.00      1.00     28777\n",
      "           6       1.00      1.00      1.00     28485\n",
      "           7       1.00      1.00      1.00     28102\n",
      "\n",
      "    accuracy                           1.00    198629\n",
      "   macro avg       1.00      1.00      1.00    198629\n",
      "weighted avg       1.00      1.00      1.00    198629\n",
      "\n"
     ]
    }
   ],
   "source": [
    "eval_metric(rf_model_grid, X_train, y_train, X_test, y_test)"
   ]
  },
  {
   "cell_type": "code",
   "execution_count": 173,
   "metadata": {},
   "outputs": [
    {
     "data": {
      "text/html": [
       "<div>\n",
       "<style scoped>\n",
       "    .dataframe tbody tr th:only-of-type {\n",
       "        vertical-align: middle;\n",
       "    }\n",
       "\n",
       "    .dataframe tbody tr th {\n",
       "        vertical-align: top;\n",
       "    }\n",
       "\n",
       "    .dataframe thead th {\n",
       "        text-align: right;\n",
       "    }\n",
       "</style>\n",
       "<table border=\"1\" class=\"dataframe\">\n",
       "  <thead>\n",
       "    <tr style=\"text-align: right;\">\n",
       "      <th></th>\n",
       "      <th>fit_time</th>\n",
       "      <th>score_time</th>\n",
       "      <th>test_accuracy</th>\n",
       "      <th>test_precision_micro</th>\n",
       "      <th>test_recall_micro</th>\n",
       "      <th>test_f1_micro</th>\n",
       "    </tr>\n",
       "  </thead>\n",
       "  <tbody>\n",
       "    <tr>\n",
       "      <th>1</th>\n",
       "      <td>41.388</td>\n",
       "      <td>1.901</td>\n",
       "      <td>0.937</td>\n",
       "      <td>0.937</td>\n",
       "      <td>0.937</td>\n",
       "      <td>0.937</td>\n",
       "    </tr>\n",
       "    <tr>\n",
       "      <th>2</th>\n",
       "      <td>41.542</td>\n",
       "      <td>1.909</td>\n",
       "      <td>0.938</td>\n",
       "      <td>0.938</td>\n",
       "      <td>0.938</td>\n",
       "      <td>0.938</td>\n",
       "    </tr>\n",
       "    <tr>\n",
       "      <th>3</th>\n",
       "      <td>45.689</td>\n",
       "      <td>2.198</td>\n",
       "      <td>0.935</td>\n",
       "      <td>0.935</td>\n",
       "      <td>0.935</td>\n",
       "      <td>0.935</td>\n",
       "    </tr>\n",
       "    <tr>\n",
       "      <th>4</th>\n",
       "      <td>46.279</td>\n",
       "      <td>2.032</td>\n",
       "      <td>0.937</td>\n",
       "      <td>0.937</td>\n",
       "      <td>0.937</td>\n",
       "      <td>0.937</td>\n",
       "    </tr>\n",
       "    <tr>\n",
       "      <th>5</th>\n",
       "      <td>46.583</td>\n",
       "      <td>2.214</td>\n",
       "      <td>0.936</td>\n",
       "      <td>0.936</td>\n",
       "      <td>0.936</td>\n",
       "      <td>0.936</td>\n",
       "    </tr>\n",
       "  </tbody>\n",
       "</table>\n",
       "</div>"
      ],
      "text/plain": [
       "   fit_time  score_time  test_accuracy  test_precision_micro  \\\n",
       "1    41.388       1.901          0.937                 0.937   \n",
       "2    41.542       1.909          0.938                 0.938   \n",
       "3    45.689       2.198          0.935                 0.935   \n",
       "4    46.279       2.032          0.937                 0.937   \n",
       "5    46.583       2.214          0.936                 0.936   \n",
       "\n",
       "   test_recall_micro  test_f1_micro  \n",
       "1              0.937          0.937  \n",
       "2              0.938          0.938  \n",
       "3              0.935          0.935  \n",
       "4              0.937          0.937  \n",
       "5              0.936          0.936  "
      ]
     },
     "execution_count": 173,
     "metadata": {},
     "output_type": "execute_result"
    }
   ],
   "source": [
    "model = RandomForestClassifier(class_weight = \"balanced\", n_estimators=128, random_state=101)\n",
    "\n",
    "scores = cross_validate(model, X_train, y_train, scoring = [\"accuracy\", \"precision_micro\", \"recall_micro\", \n",
    "                                                            \"f1_micro\"], cv = 5)\n",
    "df_scores_rf = pd.DataFrame(scores, index = range(1, 6))\n",
    "df_scores_rf"
   ]
  },
  {
   "cell_type": "code",
   "execution_count": 174,
   "metadata": {},
   "outputs": [
    {
     "data": {
      "text/plain": [
       "test_accuracy          0.936\n",
       "test_precision_micro   0.936\n",
       "test_recall_micro      0.936\n",
       "test_f1_micro          0.936\n",
       "dtype: float64"
      ]
     },
     "execution_count": 174,
     "metadata": {},
     "output_type": "execute_result"
    }
   ],
   "source": [
    "df_scores_rf.mean()[2:]"
   ]
  },
  {
   "cell_type": "code",
   "execution_count": 175,
   "metadata": {},
   "outputs": [],
   "source": [
    "y_pred_rf = rf_model_grid.predict(X_test)\n",
    "my_dict = {'Actual': y_test, 'Pred': y_pred_rf, 'Residual': y_test-y_pred_rf}\n",
    "compare_rf = pd.DataFrame(my_dict)"
   ]
  },
  {
   "cell_type": "code",
   "execution_count": 176,
   "metadata": {},
   "outputs": [
    {
     "data": {
      "text/html": [
       "<div>\n",
       "<style scoped>\n",
       "    .dataframe tbody tr th:only-of-type {\n",
       "        vertical-align: middle;\n",
       "    }\n",
       "\n",
       "    .dataframe tbody tr th {\n",
       "        vertical-align: top;\n",
       "    }\n",
       "\n",
       "    .dataframe thead th {\n",
       "        text-align: right;\n",
       "    }\n",
       "</style>\n",
       "<table border=\"1\" class=\"dataframe\">\n",
       "  <thead>\n",
       "    <tr style=\"text-align: right;\">\n",
       "      <th></th>\n",
       "      <th>Actual</th>\n",
       "      <th>Pred</th>\n",
       "      <th>Residual</th>\n",
       "    </tr>\n",
       "  </thead>\n",
       "  <tbody>\n",
       "    <tr>\n",
       "      <th>1070</th>\n",
       "      <td>2</td>\n",
       "      <td>2</td>\n",
       "      <td>0</td>\n",
       "    </tr>\n",
       "    <tr>\n",
       "      <th>151794</th>\n",
       "      <td>4</td>\n",
       "      <td>4</td>\n",
       "      <td>0</td>\n",
       "    </tr>\n",
       "    <tr>\n",
       "      <th>155350</th>\n",
       "      <td>6</td>\n",
       "      <td>6</td>\n",
       "      <td>0</td>\n",
       "    </tr>\n",
       "    <tr>\n",
       "      <th>60095</th>\n",
       "      <td>3</td>\n",
       "      <td>3</td>\n",
       "      <td>0</td>\n",
       "    </tr>\n",
       "    <tr>\n",
       "      <th>193057</th>\n",
       "      <td>3</td>\n",
       "      <td>3</td>\n",
       "      <td>0</td>\n",
       "    </tr>\n",
       "    <tr>\n",
       "      <th>110057</th>\n",
       "      <td>4</td>\n",
       "      <td>4</td>\n",
       "      <td>0</td>\n",
       "    </tr>\n",
       "    <tr>\n",
       "      <th>225018</th>\n",
       "      <td>1</td>\n",
       "      <td>2</td>\n",
       "      <td>-1</td>\n",
       "    </tr>\n",
       "    <tr>\n",
       "      <th>62778</th>\n",
       "      <td>4</td>\n",
       "      <td>4</td>\n",
       "      <td>0</td>\n",
       "    </tr>\n",
       "    <tr>\n",
       "      <th>27324</th>\n",
       "      <td>5</td>\n",
       "      <td>5</td>\n",
       "      <td>0</td>\n",
       "    </tr>\n",
       "    <tr>\n",
       "      <th>9803</th>\n",
       "      <td>6</td>\n",
       "      <td>6</td>\n",
       "      <td>0</td>\n",
       "    </tr>\n",
       "    <tr>\n",
       "      <th>148941</th>\n",
       "      <td>2</td>\n",
       "      <td>2</td>\n",
       "      <td>0</td>\n",
       "    </tr>\n",
       "    <tr>\n",
       "      <th>182085</th>\n",
       "      <td>3</td>\n",
       "      <td>3</td>\n",
       "      <td>0</td>\n",
       "    </tr>\n",
       "    <tr>\n",
       "      <th>5125</th>\n",
       "      <td>4</td>\n",
       "      <td>4</td>\n",
       "      <td>0</td>\n",
       "    </tr>\n",
       "    <tr>\n",
       "      <th>113866</th>\n",
       "      <td>2</td>\n",
       "      <td>2</td>\n",
       "      <td>0</td>\n",
       "    </tr>\n",
       "    <tr>\n",
       "      <th>208245</th>\n",
       "      <td>5</td>\n",
       "      <td>5</td>\n",
       "      <td>0</td>\n",
       "    </tr>\n",
       "    <tr>\n",
       "      <th>101417</th>\n",
       "      <td>3</td>\n",
       "      <td>3</td>\n",
       "      <td>0</td>\n",
       "    </tr>\n",
       "    <tr>\n",
       "      <th>148840</th>\n",
       "      <td>2</td>\n",
       "      <td>2</td>\n",
       "      <td>0</td>\n",
       "    </tr>\n",
       "    <tr>\n",
       "      <th>137144</th>\n",
       "      <td>6</td>\n",
       "      <td>6</td>\n",
       "      <td>0</td>\n",
       "    </tr>\n",
       "    <tr>\n",
       "      <th>179206</th>\n",
       "      <td>1</td>\n",
       "      <td>1</td>\n",
       "      <td>0</td>\n",
       "    </tr>\n",
       "    <tr>\n",
       "      <th>152665</th>\n",
       "      <td>2</td>\n",
       "      <td>2</td>\n",
       "      <td>0</td>\n",
       "    </tr>\n",
       "  </tbody>\n",
       "</table>\n",
       "</div>"
      ],
      "text/plain": [
       "        Actual  Pred  Residual\n",
       "1070         2     2         0\n",
       "151794       4     4         0\n",
       "155350       6     6         0\n",
       "60095        3     3         0\n",
       "193057       3     3         0\n",
       "110057       4     4         0\n",
       "225018       1     2        -1\n",
       "62778        4     4         0\n",
       "27324        5     5         0\n",
       "9803         6     6         0\n",
       "148941       2     2         0\n",
       "182085       3     3         0\n",
       "5125         4     4         0\n",
       "113866       2     2         0\n",
       "208245       5     5         0\n",
       "101417       3     3         0\n",
       "148840       2     2         0\n",
       "137144       6     6         0\n",
       "179206       1     1         0\n",
       "152665       2     2         0"
      ]
     },
     "execution_count": 176,
     "metadata": {},
     "output_type": "execute_result"
    }
   ],
   "source": [
    "comp_sample_rf = compare_rf.sample(20)\n",
    "comp_sample_rf"
   ]
  },
  {
   "cell_type": "code",
   "execution_count": 177,
   "metadata": {},
   "outputs": [
    {
     "data": {
      "image/png": "[encoded data removed]",
      "text/plain": [
       "<Figure size 1080x648 with 1 Axes>"
      ]
     },
     "metadata": {},
     "output_type": "display_data"
    }
   ],
   "source": [
    "comp_sample_rf.plot(kind='bar',figsize=(15,9))\n",
    "plt.show()"
   ]
  },
  {
   "cell_type": "code",
   "execution_count": 178,
   "metadata": {},
   "outputs": [
    {
     "data": {
      "image/png": "[encoded data removed]",
      "text/plain": [
       "<Figure size 576x396 with 1 Axes>"
      ]
     },
     "metadata": {},
     "output_type": "display_data"
    }
   ],
   "source": [
    "visualizer = ClassPredictionError(rf_model_grid)\n",
    "\n",
    "# Fit the training data to the visualizer\n",
    "visualizer.fit(X_train, y_train)\n",
    "\n",
    "# Evaluate the model on the test data\n",
    "visualizer.score(X_test, y_test)\n",
    "\n",
    "# Draw visualization\n",
    "visualizer.poof();"
   ]
  },
  {
   "cell_type": "code",
   "execution_count": 180,
   "metadata": {},
   "outputs": [
    {
     "data": {
      "image/png": "[encoded data removed]",
      "text/plain": [
       "<Figure size 576x396 with 1 Axes>"
      ]
     },
     "metadata": {},
     "output_type": "display_data"
    }
   ],
   "source": [
    "from yellowbrick.classifier import ROCAUC\n",
    "\n",
    "rf_model = RandomForestClassifier(class_weight = \"balanced\", n_estimators=128, random_state=101)\n",
    "visualizer = ROCAUC(rf_model)\n",
    "\n",
    "visualizer.fit(X_train, y_train)       \n",
    "visualizer.score(X_test, y_test)       \n",
    "visualizer.show(); "
   ]
  },
  {
   "cell_type": "code",
   "execution_count": 181,
   "metadata": {},
   "outputs": [
    {
     "data": {
      "text/html": [
       "<div>\n",
       "<style scoped>\n",
       "    .dataframe tbody tr th:only-of-type {\n",
       "        vertical-align: middle;\n",
       "    }\n",
       "\n",
       "    .dataframe tbody tr th {\n",
       "        vertical-align: top;\n",
       "    }\n",
       "\n",
       "    .dataframe thead th {\n",
       "        text-align: right;\n",
       "    }\n",
       "</style>\n",
       "<table border=\"1\" class=\"dataframe\">\n",
       "  <thead>\n",
       "    <tr style=\"text-align: right;\">\n",
       "      <th></th>\n",
       "      <th>fit_time</th>\n",
       "      <th>score_time</th>\n",
       "      <th>test_accuracy</th>\n",
       "      <th>test_precision_micro</th>\n",
       "      <th>test_recall_micro</th>\n",
       "      <th>test_f1_micro</th>\n",
       "    </tr>\n",
       "  </thead>\n",
       "  <tbody>\n",
       "    <tr>\n",
       "      <th>1</th>\n",
       "      <td>41.388</td>\n",
       "      <td>1.901</td>\n",
       "      <td>0.937</td>\n",
       "      <td>0.937</td>\n",
       "      <td>0.937</td>\n",
       "      <td>0.937</td>\n",
       "    </tr>\n",
       "    <tr>\n",
       "      <th>2</th>\n",
       "      <td>41.542</td>\n",
       "      <td>1.909</td>\n",
       "      <td>0.938</td>\n",
       "      <td>0.938</td>\n",
       "      <td>0.938</td>\n",
       "      <td>0.938</td>\n",
       "    </tr>\n",
       "    <tr>\n",
       "      <th>3</th>\n",
       "      <td>45.689</td>\n",
       "      <td>2.198</td>\n",
       "      <td>0.935</td>\n",
       "      <td>0.935</td>\n",
       "      <td>0.935</td>\n",
       "      <td>0.935</td>\n",
       "    </tr>\n",
       "    <tr>\n",
       "      <th>4</th>\n",
       "      <td>46.279</td>\n",
       "      <td>2.032</td>\n",
       "      <td>0.937</td>\n",
       "      <td>0.937</td>\n",
       "      <td>0.937</td>\n",
       "      <td>0.937</td>\n",
       "    </tr>\n",
       "    <tr>\n",
       "      <th>5</th>\n",
       "      <td>46.583</td>\n",
       "      <td>2.214</td>\n",
       "      <td>0.936</td>\n",
       "      <td>0.936</td>\n",
       "      <td>0.936</td>\n",
       "      <td>0.936</td>\n",
       "    </tr>\n",
       "  </tbody>\n",
       "</table>\n",
       "</div>"
      ],
      "text/plain": [
       "   fit_time  score_time  test_accuracy  test_precision_micro  \\\n",
       "1    41.388       1.901          0.937                 0.937   \n",
       "2    41.542       1.909          0.938                 0.938   \n",
       "3    45.689       2.198          0.935                 0.935   \n",
       "4    46.279       2.032          0.937                 0.937   \n",
       "5    46.583       2.214          0.936                 0.936   \n",
       "\n",
       "   test_recall_micro  test_f1_micro  \n",
       "1              0.937          0.937  \n",
       "2              0.938          0.938  \n",
       "3              0.935          0.935  \n",
       "4              0.937          0.937  \n",
       "5              0.936          0.936  "
      ]
     },
     "execution_count": 181,
     "metadata": {},
     "output_type": "execute_result"
    }
   ],
   "source": [
    "df_scores_rf"
   ]
  },
  {
   "cell_type": "code",
   "execution_count": 204,
   "metadata": {},
   "outputs": [],
   "source": [
    "svc_res = pd.DataFrame(df_scores_svc.mean()[2:], columns=['SVC'])\n",
    "tree_res = pd.DataFrame(df_scores_tree.mean()[2:], columns=['Decision Tree'])\n",
    "rf_res = pd.DataFrame(df_scores_rf.mean()[2:], columns=['Random Forest'])"
   ]
  },
  {
   "cell_type": "code",
   "execution_count": 223,
   "metadata": {},
   "outputs": [
    {
     "data": {
      "text/html": [
       "<div>\n",
       "<style scoped>\n",
       "    .dataframe tbody tr th:only-of-type {\n",
       "        vertical-align: middle;\n",
       "    }\n",
       "\n",
       "    .dataframe tbody tr th {\n",
       "        vertical-align: top;\n",
       "    }\n",
       "\n",
       "    .dataframe thead th {\n",
       "        text-align: right;\n",
       "    }\n",
       "</style>\n",
       "<table border=\"1\" class=\"dataframe\">\n",
       "  <thead>\n",
       "    <tr style=\"text-align: right;\">\n",
       "      <th></th>\n",
       "      <th>SVC</th>\n",
       "      <th>Decision Tree</th>\n",
       "      <th>Random Forest</th>\n",
       "    </tr>\n",
       "  </thead>\n",
       "  <tbody>\n",
       "    <tr>\n",
       "      <th>test_accuracy</th>\n",
       "      <td>0.668</td>\n",
       "      <td>0.915</td>\n",
       "      <td>0.936</td>\n",
       "    </tr>\n",
       "    <tr>\n",
       "      <th>test_precision_micro</th>\n",
       "      <td>0.668</td>\n",
       "      <td>0.915</td>\n",
       "      <td>0.936</td>\n",
       "    </tr>\n",
       "    <tr>\n",
       "      <th>test_recall_micro</th>\n",
       "      <td>0.668</td>\n",
       "      <td>0.915</td>\n",
       "      <td>0.936</td>\n",
       "    </tr>\n",
       "    <tr>\n",
       "      <th>test_f1_micro</th>\n",
       "      <td>0.668</td>\n",
       "      <td>0.915</td>\n",
       "      <td>0.936</td>\n",
       "    </tr>\n",
       "  </tbody>\n",
       "</table>\n",
       "</div>"
      ],
      "text/plain": [
       "                       SVC  Decision Tree  Random Forest\n",
       "test_accuracy        0.668          0.915          0.936\n",
       "test_precision_micro 0.668          0.915          0.936\n",
       "test_recall_micro    0.668          0.915          0.936\n",
       "test_f1_micro        0.668          0.915          0.936"
      ]
     },
     "execution_count": 223,
     "metadata": {},
     "output_type": "execute_result"
    }
   ],
   "source": [
    "pd.merge(svc_res.iloc[:,0], tree_res.iloc[:,0], left_index=True, right_index=True).merge(rf_res.iloc[:,0],\n",
    "                                                                    left_index=True, right_index=True)"
   ]
  },
  {
   "cell_type": "markdown",
   "metadata": {
    "id": "eI7Zd8TLIbfK"
   },
   "source": [
    "### Implement XGBoost Classifier\n",
    "- Import the modul \n",
    "- Fit the model \n",
    "- Predict the test set\n",
    "- Visualize and evaluate the result (use yellowbrick module)"
   ]
  },
  {
   "cell_type": "code",
   "execution_count": null,
   "metadata": {
    "cell_style": "split",
    "id": "ZER2XJrrASC0"
   },
   "outputs": [],
   "source": []
  },
  {
   "cell_type": "markdown",
   "metadata": {
    "id": "67xA-4xdASC0"
   },
   "source": [
    "### Compare The Models\n",
    "\n",
    "So far, you have created a multi-classifier model with 4 different algorithms and made predictions. You can observe the performance of the models together with a barplot of your choice.\n",
    "\n",
    "- Which algorithm did you achieve the highest prediction performance with? \n",
    "- What could be the factors that cause this? What are the principles of the most successful algorithm and its differences from other algorithms? \n",
    "\n",
    "In contrast;\n",
    "\n",
    "- Which algorithm did you achieve the lowest prediction performance with? \n",
    "- What could be the factors that cause this? What are the principles of the most successful algorithm and its differences from other algorithms? \n",
    "\n",
    "The answers you will look for to these questions will increase your gains from Machine Learning course."
   ]
  },
  {
   "cell_type": "markdown",
   "metadata": {
    "id": "9F79Rr6OzEVM"
   },
   "source": [
    "# Accuracy Comparison"
   ]
  },
  {
   "cell_type": "markdown",
   "metadata": {
    "id": "Gx90UY0cOlvB"
   },
   "source": []
  },
  {
   "cell_type": "markdown",
   "metadata": {
    "id": "jOJwsa3RzEVN"
   },
   "source": [
    "# F1 Score Comparison"
   ]
  },
  {
   "cell_type": "markdown",
   "metadata": {
    "id": "V9GMPY0yOlvB"
   },
   "source": []
  },
  {
   "cell_type": "markdown",
   "metadata": {
    "id": "e6wYrrIuASC0"
   },
   "source": [
    "___\n",
    "\n",
    "<p style=\"text-align: center;\"><img src=\"https://docs.google.com/uc?id=1lY0Uj5R04yMY3-ZppPWxqCr5pvBLYPnV\" class=\"img-fluid\" alt=\"CLRSWY\"></p>\n",
    "\n",
    "___"
   ]
  }
 ],
 "metadata": {
  "colab": {
   "collapsed_sections": [],
   "name": "Tree_Types_Prediction_Classification_student.ipynb",
   "provenance": []
  },
  "hide_input": false,
  "kernelspec": {
   "display_name": "Python 3 (ipykernel)",
   "language": "python",
   "name": "python3"
  },
  "language_info": {
   "codemirror_mode": {
    "name": "ipython",
    "version": 3
   },
   "file_extension": ".py",
   "mimetype": "text/x-python",
   "name": "python",
   "nbconvert_exporter": "python",
   "pygments_lexer": "ipython3",
   "version": "3.9.7"
  },
  "toc": {
   "base_numbering": 1,
   "nav_menu": {},
   "number_sections": true,
   "sideBar": true,
   "skip_h1_title": false,
   "title_cell": "Table of Contents",
   "title_sidebar": "Contents",
   "toc_cell": false,
   "toc_position": {},
   "toc_section_display": true,
   "toc_window_display": false
  },
  "varInspector": {
   "cols": {
    "lenName": 16,
    "lenType": 16,
    "lenVar": 40
   },
   "kernels_config": {
    "python": {
     "delete_cmd_postfix": "",
     "delete_cmd_prefix": "del ",
     "library": "var_list.py",
     "varRefreshCmd": "print(var_dic_list())"
    },
    "r": {
     "delete_cmd_postfix": ") ",
     "delete_cmd_prefix": "rm(",
     "library": "var_list.r",
     "varRefreshCmd": "cat(var_dic_list()) "
    }
   },
   "oldHeight": 326.85,
   "position": {
    "height": "40px",
    "left": "1233.2px",
    "right": "20px",
    "top": "120px",
    "width": "250px"
   },
   "types_to_exclude": [
    "module",
    "function",
    "builtin_function_or_method",
    "instance",
    "_Feature"
   ],
   "varInspector_section_display": "none",
   "window_display": false
  }
 },
 "nbformat": 4,
 "nbformat_minor": 1
}
